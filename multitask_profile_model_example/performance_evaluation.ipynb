{
 "cells": [
  {
   "cell_type": "markdown",
   "metadata": {},
   "source": [
    "## Evaluating single- and multi-task profile model in PyTorch with Katie's data loading\n",
    "\n",
    "**Author:** Alex Tseng (amtseng@stanford.edu) -- Modified by Katie Spivakovsky\n",
    "\n",
    "This notebook trains models on all permutations of SPI1 and GATA2 tasks as train, val, and test data. Pre-trained models' metrics can be loaded in if you don't want to spent 30 minutes re-training everything :) All of the data in the performance_metrics folder is already on the Google spreadsheet here: https://docs.google.com/spreadsheets/d/1BXC8yY809Zoo6NIPjypzYnx0Rv2m0Gq8Ni-azA7H0M4/edit?usp=sharing\n",
    "\n",
    "TODO:\n",
    "For thoroughness, I *should* include a \"no reverse complement\" option in statuses creation - but this is minor since usually we use rev-comp augmentation."
   ]
  },
  {
   "cell_type": "code",
   "execution_count": null,
   "metadata": {},
   "outputs": [],
   "source": [
    "# modify this for your own machine\n",
    "%env CUDA_VISIBLE_DEVICES = 1\n",
    "%config Completer.use_jedi = False\n",
    "\n",
    "import pandas as pd\n",
    "from all_functions import *"
   ]
  },
  {
   "cell_type": "code",
   "execution_count": null,
   "metadata": {},
   "outputs": [],
   "source": [
    "# load in metrics from pre-trained models (rather than re-running all the training to get the metrics)\n",
    "# modify this for your directories\n",
    "single_task_metrics = pd.read_csv('/home/katie/bp_repo/multitask_profile_model_example/performance_metrics/single_task_metrics.csv')\n",
    "multi_task_metrics = pd.read_csv('/home/katie/bp_repo/multitask_profile_model_example/performance_metrics/multi_task_metrics.csv')"
   ]
  },
  {
   "cell_type": "code",
   "execution_count": null,
   "metadata": {
    "tags": []
   },
   "outputs": [],
   "source": [
    "## single-task evaluation \n",
    "# you can run this (takes some time) or you can just look at the metrics that\n",
    "# I already calculated (loaded in the previous cell, or found in the Google spreadsheet) \n",
    "\n",
    "# initialize metrics DataFrame\n",
    "# if you change to fewer/more epochs, you'll need to update the row_names\n",
    "row_names = ['Train task', 'Valid task', 'Test task',\n",
    "            'Train epoch 1 loss', 'Valid epoch 1 loss','Train epoch 2 loss',\n",
    "            'Valid epoch 2 loss','Train epoch 3 loss','Valid epoch 3 loss',\n",
    "            'Train epoch 4 loss','Valid epoch 4 loss','Train epoch 5 loss',\n",
    "            'Valid epoch 5 loss','Train epoch 6 loss','Valid epoch 6 loss',\n",
    "            'Train epoch 7 loss','Valid epoch 7 loss','Train epoch 8 loss',\n",
    "            'Valid epoch 8 loss','Train epoch 9 loss','Valid epoch 9 loss',\n",
    "            'Train epoch 10 loss','Valid epoch 10 loss',\n",
    "            'Test profile NLL','Test profile cross entropy','Test profile JSD',\n",
    "            'Test profile Pearson','Test profile Spearman','Test profile MSE',\n",
    "            'Test count Pearson','Test count Spearman','Test count MSE']\n",
    "\n",
    "metrics = pd.DataFrame(data=row_names,columns=['Metrics'])\n",
    "\n",
    "train_tasks = [ ['SPI1'], ['GATA2'] ]\n",
    "val_tasks = [ ['SPI1'], ['GATA2'] ]\n",
    "test_tasks = [ ['SPI1'], ['GATA2'] ]\n",
    "\n",
    "num_permutations = len(train_tasks) * len(val_tasks) * len(test_tasks)\n",
    "\n",
    "for train_task in train_tasks:\n",
    "    for val_task in val_tasks:\n",
    "        for test_task in test_tasks:\n",
    "            combined_loss_and_metrics = evaluate(train_task, val_task, test_task, 1)\n",
    "            metrics.insert( 1, str(num_permutations), combined_loss_and_metrics )\n",
    "            num_permutations -= 1\n",
    "            \n",
    "metrics.set_index('Metrics',inplace=True)\n",
    "\n",
    "# save as csv! to load it in, can use pd.read_csv(path)\n",
    "# metrics.to_csv('/home/katie/bp_repo/multitask_profile_model_example/performance_metrics/single_task_metrics.csv')"
   ]
  },
  {
   "cell_type": "code",
   "execution_count": null,
   "metadata": {
    "tags": []
   },
   "outputs": [],
   "source": [
    "## multi-task evaluation\n",
    "# you can run this (takes some time) or you can just look at the metrics that\n",
    "# I already calculated (loaded in the previous cell, or found in the Google spreadsheet) \n",
    "\n",
    "# initialize metrics DataFrame\n",
    "row_names = ['Train task', 'Valid task', 'Test task',\n",
    "            'Train epoch 1 loss', 'Valid epoch 1 loss','Train epoch 2 loss',\n",
    "            'Valid epoch 2 loss','Train epoch 3 loss','Valid epoch 3 loss',\n",
    "            'Train epoch 4 loss','Valid epoch 4 loss','Train epoch 5 loss',\n",
    "            'Valid epoch 5 loss','Train epoch 6 loss','Valid epoch 6 loss',\n",
    "            'Train epoch 7 loss','Valid epoch 7 loss','Train epoch 8 loss',\n",
    "            'Valid epoch 8 loss','Train epoch 9 loss','Valid epoch 9 loss',\n",
    "            'Train epoch 10 loss','Valid epoch 10 loss',\n",
    "            'Test profile NLL','Test profile cross entropy','Test profile JSD',\n",
    "            'Test profile Pearson','Test profile Spearman','Test profile MSE',\n",
    "            'Test count Pearson','Test count Spearman','Test count MSE']\n",
    "\n",
    "metrics = pd.DataFrame(data=row_names,columns=['Metrics'])\n",
    "\n",
    "# the \"SPI1_copy\" and \"GATA2_copy\" tasks are there for a control - you train a\n",
    "# multi-task model but the data is redundant, so you should get metrics similar\n",
    "# to the single-task version\n",
    "train_tasks = [ ['SPI1', 'SPI1_copy'], ['GATA2', 'GATA2_copy'], ['SPI1','GATA2'] ]\n",
    "val_tasks = [ ['SPI1', 'SPI1_copy'], ['GATA2', 'GATA2_copy'], ['SPI1','GATA2'] ]\n",
    "test_tasks = [['SPI1', 'GATA2']]\n",
    "\n",
    "num_permutations = len(train_tasks) * len(val_tasks) * len(test_tasks)\n",
    "\n",
    "for train_task in train_tasks:\n",
    "    for val_task in val_tasks:\n",
    "        for test_task in test_tasks:\n",
    "            combined_loss_and_metrics = evaluate(train_task, val_task, test_task, 2)\n",
    "            metrics.insert( 1, str(num_permutations), combined_loss_and_metrics )\n",
    "            num_permutations -= 1\n",
    "            \n",
    "metrics.set_index('Metrics',inplace=True)\n",
    "\n",
    "# save as csv! to load it in, can use pd.read_csv(path)\n",
    "# metrics.to_csv('/home/katie/bp_repo/multitask_profile_model_example/performance_metrics/multi_task_metrics.csv')"
   ]
  },
  {
   "cell_type": "code",
   "execution_count": null,
   "metadata": {},
   "outputs": [],
   "source": []
  }
 ],
 "metadata": {
  "kernelspec": {
   "display_name": "Python 3",
   "language": "python",
   "name": "python3"
  },
  "language_info": {
   "codemirror_mode": {
    "name": "ipython",
    "version": 3
   },
   "file_extension": ".py",
   "mimetype": "text/x-python",
   "name": "python",
   "nbconvert_exporter": "python",
   "pygments_lexer": "ipython3",
   "version": "3.9.5"
  }
 },
 "nbformat": 4,
 "nbformat_minor": 4
}
