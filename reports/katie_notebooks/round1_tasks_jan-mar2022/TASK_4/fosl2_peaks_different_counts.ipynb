{
 "cells": [
  {
   "cell_type": "markdown",
   "id": "0a8f542a-37d2-4c99-91ce-0daa11c4129f",
   "metadata": {},
   "source": [
    "# 4. Compare the peaks where ChIP-seq and CUT&RUN share peaks, but have significantly different total counts"
   ]
  },
  {
   "cell_type": "code",
   "execution_count": 54,
   "id": "0305fa91-92f0-4c7f-8669-491f9f7852e7",
   "metadata": {},
   "outputs": [
    {
     "name": "stderr",
     "output_type": "stream",
     "text": [
      "/tmp/ipykernel_12788/1013105652.py:14: TqdmDeprecationWarning: This function will be removed in tqdm==5.0.0\n",
      "Please use `tqdm.notebook.tqdm` instead of `tqdm.tqdm_notebook`\n",
      "  tqdm.tqdm_notebook()\n"
     ]
    },
    {
     "data": {
      "application/vnd.jupyter.widget-view+json": {
       "model_id": "240563833481470d9fd5148d1aa9d18a",
       "version_major": 2,
       "version_minor": 0
      },
      "text/plain": [
       "0it [00:00, ?it/s]"
      ]
     },
     "metadata": {},
     "output_type": "display_data"
    }
   ],
   "source": [
    "import os\n",
    "os.chdir('/home/katie/bp_repo/reports/')\n",
    "\n",
    "from util import import_shap_scores, import_peak_table, import_profiles, import_tfmodisco_results\n",
    "from util import trim_motif_by_ic\n",
    "from util import figure_to_vdom_image\n",
    "import h5py\n",
    "import numpy as np\n",
    "import pandas as pd\n",
    "import matplotlib.pyplot as plt\n",
    "import matplotlib.font_manager as font_manager\n",
    "from IPython.display import display\n",
    "import tqdm\n",
    "tqdm.tqdm_notebook()\n",
    "\n",
    "plt.rcParams[\"figure.dpi\"] = 130"
   ]
  },
  {
   "cell_type": "markdown",
   "id": "90d2d546-3016-41c5-ab4a-eca024cbb6fa",
   "metadata": {},
   "source": [
    "## Preliminaries"
   ]
  },
  {
   "cell_type": "markdown",
   "id": "2f18d766-7e03-4b8f-ad27-34a58b9a7bcb",
   "metadata": {},
   "source": [
    "1) Find ChIP-seq peaks that overlap CUT&RUN peaks, and vice versa\n",
    "\n",
    "2) Load in true total counts arrays"
   ]
  },
  {
   "cell_type": "code",
   "execution_count": 3,
   "id": "31fab7ec-4ee2-4f48-8b73-cd8d59baa9e8",
   "metadata": {},
   "outputs": [
    {
     "data": {
      "application/vnd.jupyter.widget-view+json": {
       "model_id": "8484331d7ed641c2aa0138bf8ea1c1fc",
       "version_major": 2,
       "version_minor": 0
      },
      "text/plain": [
       "Importing predictions:   0%|          | 0/67 [00:00<?, ?it/s]"
      ]
     },
     "metadata": {},
     "output_type": "display_data"
    },
    {
     "data": {
      "application/vnd.jupyter.widget-view+json": {
       "model_id": "51274b8e2e3a43f3b91ba8ca1d019ac1",
       "version_major": 2,
       "version_minor": 0
      },
      "text/plain": [
       "Importing predictions:   0%|          | 0/92 [00:00<?, ?it/s]"
      ]
     },
     "metadata": {},
     "output_type": "display_data"
    }
   ],
   "source": [
    "# THE COORDS FOR THE SHAP AND PREDS HDF5s ARE THE  * S A M E *  YES I CHECKED!\n",
    "\n",
    "# Import the set of all profiles and their coordinates - SAME FOR COUNTS HEAD AS FOR PROFILE HEAD, D U H !!!!\n",
    "# EXACTLY SAME AS IMPORTING THE ORIGINAL HDF5 FROM PIPELINE_OUTPUTS   YES I CHECKED\n",
    "true_profs_chip, pred_profs_chip, all_pred_coords_chip = import_profiles('/home/katie/bp_repo/pipeline_outputs/fosl2_chipseq_feb7/preds')\n",
    "true_profs_cut, pred_profs_cut, all_pred_coords_cut = import_profiles('/home/katie/bp_repo/pipeline_outputs/fosl2_cutnrun_feb7/preds')\n",
    "\n",
    "# load in shared peaks\n",
    "chip_peaks_shared_cut = import_peak_table(['/home/katie/bp_repo/reports/katie_notebooks/assay_peaks_overlap/FOSL2_unique_chip_with_any_cutnrun_overlap'])\n",
    "cut_peaks_shared_chip = import_peak_table(['/home/katie/bp_repo/reports/katie_notebooks/assay_peaks_overlap/FOSL2_unique_cutnrun_with_any_chip_overlap'])\n",
    "\n",
    "# redo peak name in chipseq to get rid of \"Peak_\" and to reindex name (peak) column to 0-indexed\n",
    "chip_peaks_shared_cut.name = chip_peaks_shared_cut.name.replace('Peak_','', regex=True).astype(int)\n",
    "chip_peaks_shared_cut.name -= 1\n",
    "\n"
   ]
  },
  {
   "cell_type": "markdown",
   "id": "09733673-b1c5-4388-a451-051d068de946",
   "metadata": {},
   "source": [
    "3. Drop duplicates so each row corresponds to each peak of the peak table (+ issues with chrM and chrY that I need to account for). *also get the indices of the shared peaks*\n",
    "\n",
    "4. Index true counts to the shared peaks"
   ]
  },
  {
   "cell_type": "code",
   "execution_count": 6,
   "id": "e0ee3db7-285b-4ce3-81e4-c750861b9cbd",
   "metadata": {},
   "outputs": [],
   "source": [
    "# create dataframes with unique coords (drop duplicates)\n",
    "all_pred_coords_chip_df = pd.DataFrame(all_pred_coords_chip, columns=['chrom','peak_start','peak_end']).drop_duplicates()  # lacks chrX\n",
    "all_pred_coords_cut_df = pd.DataFrame(all_pred_coords_cut, columns=['chrom','peak_start','peak_end']).drop_duplicates() # lacks chrM \n",
    "\n"
   ]
  },
  {
   "cell_type": "code",
   "execution_count": 9,
   "id": "67b11bf5-5ed3-4605-9969-98d3d9f400e0",
   "metadata": {},
   "outputs": [],
   "source": [
    "# boolean array of duplicated values, for indexing later\n",
    "chip_dups = pd.DataFrame(all_pred_coords_chip, columns=['chrom','peak_start','peak_end']).duplicated()\n",
    "cut_dups = pd.DataFrame(all_pred_coords_cut, columns=['chrom','peak_start','peak_end']).duplicated()"
   ]
  },
  {
   "cell_type": "code",
   "execution_count": 10,
   "id": "5502a835-9417-437f-8547-eee9a9316132",
   "metadata": {},
   "outputs": [],
   "source": [
    "# load in true counts\n",
    "true_counts_chip = np.array(h5py.File('/home/katie/bp_repo/pipeline_outputs/fosl2_chipseq_feb7/preds', 'r')['predictions']['true_counts'])\n",
    "true_counts_cut = np.array(h5py.File('/home/katie/bp_repo/pipeline_outputs/fosl2_cutnrun_feb7/preds', 'r')['predictions']['true_counts'])\n",
    "\n",
    "# index true counts according to unique rows (from cell above)\n",
    "true_counts_chip = true_counts_chip[~chip_dups]\n",
    "true_counts_cut = true_counts_cut[~cut_dups]"
   ]
  },
  {
   "cell_type": "code",
   "execution_count": 11,
   "id": "42496a59-6126-4647-916a-a48da6cc8866",
   "metadata": {},
   "outputs": [],
   "source": [
    "chip_peaks = import_peak_table(['/home/katie/bp_repo/research/data/chip-seq/FOSL2/FOSL2.bed'])\n",
    "cut_peaks = import_peak_table(['/home/katie/bp_repo/research/data/cutnrun/FOSL2/FOSL2.bed'])\n",
    "\n",
    "# redo peak name in chipseq to get rid of \"Peak_\" and to reindex name (peak) column to 0-indexed\n",
    "chip_peaks.name = chip_peaks.name.replace('Peak_','', regex=True).astype(int)\n",
    "chip_peaks.name -= 1"
   ]
  },
  {
   "cell_type": "code",
   "execution_count": 13,
   "id": "e573c08c-d5c3-4348-a531-2aab23b8451b",
   "metadata": {},
   "outputs": [
    {
     "data": {
      "text/html": [
       "<div>\n",
       "<style scoped>\n",
       "    .dataframe tbody tr th:only-of-type {\n",
       "        vertical-align: middle;\n",
       "    }\n",
       "\n",
       "    .dataframe tbody tr th {\n",
       "        vertical-align: top;\n",
       "    }\n",
       "\n",
       "    .dataframe thead th {\n",
       "        text-align: right;\n",
       "    }\n",
       "</style>\n",
       "<table border=\"1\" class=\"dataframe\">\n",
       "  <thead>\n",
       "    <tr style=\"text-align: right;\">\n",
       "      <th></th>\n",
       "      <th>chrom</th>\n",
       "      <th>peak_start</th>\n",
       "      <th>peak_end</th>\n",
       "      <th>name</th>\n",
       "      <th>score</th>\n",
       "      <th>strand</th>\n",
       "      <th>signal</th>\n",
       "      <th>pval</th>\n",
       "      <th>qval</th>\n",
       "      <th>summit_offset</th>\n",
       "      <th>...</th>\n",
       "      <th>i1</th>\n",
       "      <th>i2</th>\n",
       "      <th>i3</th>\n",
       "      <th>i4</th>\n",
       "      <th>i5</th>\n",
       "      <th>i6</th>\n",
       "      <th>i7</th>\n",
       "      <th>i8</th>\n",
       "      <th>i9</th>\n",
       "      <th>summit</th>\n",
       "    </tr>\n",
       "  </thead>\n",
       "  <tbody>\n",
       "    <tr>\n",
       "      <th>0</th>\n",
       "      <td>chr3</td>\n",
       "      <td>93470365</td>\n",
       "      <td>93470785</td>\n",
       "      <td>.</td>\n",
       "      <td>1000</td>\n",
       "      <td>.</td>\n",
       "      <td>27.74848</td>\n",
       "      <td>3258.70117</td>\n",
       "      <td>3249.21973</td>\n",
       "      <td>240</td>\n",
       "      <td>...</td>\n",
       "      <td>5.00</td>\n",
       "      <td>93470366</td>\n",
       "      <td>93470785</td>\n",
       "      <td>1896.62085</td>\n",
       "      <td>239</td>\n",
       "      <td>93470366</td>\n",
       "      <td>93470785</td>\n",
       "      <td>1367.65308</td>\n",
       "      <td>239</td>\n",
       "      <td>93470605</td>\n",
       "    </tr>\n",
       "    <tr>\n",
       "      <th>1</th>\n",
       "      <td>chr19</td>\n",
       "      <td>38683390</td>\n",
       "      <td>38684747</td>\n",
       "      <td>.</td>\n",
       "      <td>1000</td>\n",
       "      <td>.</td>\n",
       "      <td>9.74137</td>\n",
       "      <td>912.50061</td>\n",
       "      <td>905.49048</td>\n",
       "      <td>678</td>\n",
       "      <td>...</td>\n",
       "      <td>5.00</td>\n",
       "      <td>38683387</td>\n",
       "      <td>38684740</td>\n",
       "      <td>449.35483</td>\n",
       "      <td>679</td>\n",
       "      <td>38683418</td>\n",
       "      <td>38684730</td>\n",
       "      <td>468.06458</td>\n",
       "      <td>636</td>\n",
       "      <td>38684068</td>\n",
       "    </tr>\n",
       "    <tr>\n",
       "      <th>2</th>\n",
       "      <td>chr10</td>\n",
       "      <td>3095062</td>\n",
       "      <td>3096140</td>\n",
       "      <td>.</td>\n",
       "      <td>1000</td>\n",
       "      <td>.</td>\n",
       "      <td>16.90691</td>\n",
       "      <td>841.41528</td>\n",
       "      <td>834.54559</td>\n",
       "      <td>657</td>\n",
       "      <td>...</td>\n",
       "      <td>5.00</td>\n",
       "      <td>3095151</td>\n",
       "      <td>3096141</td>\n",
       "      <td>440.94794</td>\n",
       "      <td>568</td>\n",
       "      <td>3094990</td>\n",
       "      <td>3096116</td>\n",
       "      <td>402.67105</td>\n",
       "      <td>729</td>\n",
       "      <td>3095719</td>\n",
       "    </tr>\n",
       "    <tr>\n",
       "      <th>3</th>\n",
       "      <td>chr2</td>\n",
       "      <td>28583755</td>\n",
       "      <td>28585173</td>\n",
       "      <td>.</td>\n",
       "      <td>1000</td>\n",
       "      <td>.</td>\n",
       "      <td>23.60403</td>\n",
       "      <td>792.79114</td>\n",
       "      <td>786.05792</td>\n",
       "      <td>549</td>\n",
       "      <td>...</td>\n",
       "      <td>5.00</td>\n",
       "      <td>28583760</td>\n",
       "      <td>28585166</td>\n",
       "      <td>403.49573</td>\n",
       "      <td>548</td>\n",
       "      <td>28583755</td>\n",
       "      <td>28585183</td>\n",
       "      <td>391.65137</td>\n",
       "      <td>548</td>\n",
       "      <td>28584304</td>\n",
       "    </tr>\n",
       "    <tr>\n",
       "      <th>4</th>\n",
       "      <td>chrM</td>\n",
       "      <td>22</td>\n",
       "      <td>4162</td>\n",
       "      <td>.</td>\n",
       "      <td>1000</td>\n",
       "      <td>.</td>\n",
       "      <td>4.19948</td>\n",
       "      <td>812.82208</td>\n",
       "      <td>806.00909</td>\n",
       "      <td>3888</td>\n",
       "      <td>...</td>\n",
       "      <td>5.00</td>\n",
       "      <td>22</td>\n",
       "      <td>4171</td>\n",
       "      <td>444.56094</td>\n",
       "      <td>3888</td>\n",
       "      <td>1280</td>\n",
       "      <td>4119</td>\n",
       "      <td>371.92319</td>\n",
       "      <td>2634</td>\n",
       "      <td>3910</td>\n",
       "    </tr>\n",
       "    <tr>\n",
       "      <th>...</th>\n",
       "      <td>...</td>\n",
       "      <td>...</td>\n",
       "      <td>...</td>\n",
       "      <td>...</td>\n",
       "      <td>...</td>\n",
       "      <td>...</td>\n",
       "      <td>...</td>\n",
       "      <td>...</td>\n",
       "      <td>...</td>\n",
       "      <td>...</td>\n",
       "      <td>...</td>\n",
       "      <td>...</td>\n",
       "      <td>...</td>\n",
       "      <td>...</td>\n",
       "      <td>...</td>\n",
       "      <td>...</td>\n",
       "      <td>...</td>\n",
       "      <td>...</td>\n",
       "      <td>...</td>\n",
       "      <td>...</td>\n",
       "      <td>...</td>\n",
       "    </tr>\n",
       "    <tr>\n",
       "      <th>45592</th>\n",
       "      <td>chrX</td>\n",
       "      <td>16838069</td>\n",
       "      <td>16838577</td>\n",
       "      <td>.</td>\n",
       "      <td>546</td>\n",
       "      <td>.</td>\n",
       "      <td>3.46276</td>\n",
       "      <td>4.34507</td>\n",
       "      <td>2.18770</td>\n",
       "      <td>230</td>\n",
       "      <td>...</td>\n",
       "      <td>1.32</td>\n",
       "      <td>16838070</td>\n",
       "      <td>16838577</td>\n",
       "      <td>2.82668</td>\n",
       "      <td>127</td>\n",
       "      <td>16838069</td>\n",
       "      <td>16838486</td>\n",
       "      <td>4.77976</td>\n",
       "      <td>234</td>\n",
       "      <td>16838299</td>\n",
       "    </tr>\n",
       "    <tr>\n",
       "      <th>45593</th>\n",
       "      <td>chr1</td>\n",
       "      <td>218347734</td>\n",
       "      <td>218348587</td>\n",
       "      <td>.</td>\n",
       "      <td>546</td>\n",
       "      <td>.</td>\n",
       "      <td>3.12710</td>\n",
       "      <td>6.56924</td>\n",
       "      <td>4.21969</td>\n",
       "      <td>494</td>\n",
       "      <td>...</td>\n",
       "      <td>1.32</td>\n",
       "      <td>218347550</td>\n",
       "      <td>218348587</td>\n",
       "      <td>2.82282</td>\n",
       "      <td>696</td>\n",
       "      <td>218347964</td>\n",
       "      <td>218349145</td>\n",
       "      <td>5.03415</td>\n",
       "      <td>236</td>\n",
       "      <td>218348228</td>\n",
       "    </tr>\n",
       "    <tr>\n",
       "      <th>45594</th>\n",
       "      <td>chr6</td>\n",
       "      <td>25005798</td>\n",
       "      <td>25006648</td>\n",
       "      <td>.</td>\n",
       "      <td>545</td>\n",
       "      <td>.</td>\n",
       "      <td>3.12796</td>\n",
       "      <td>3.41861</td>\n",
       "      <td>1.38861</td>\n",
       "      <td>697</td>\n",
       "      <td>...</td>\n",
       "      <td>1.31</td>\n",
       "      <td>25005798</td>\n",
       "      <td>25006648</td>\n",
       "      <td>2.81789</td>\n",
       "      <td>651</td>\n",
       "      <td>25005632</td>\n",
       "      <td>25006576</td>\n",
       "      <td>5.34707</td>\n",
       "      <td>388</td>\n",
       "      <td>25006495</td>\n",
       "    </tr>\n",
       "    <tr>\n",
       "      <th>45595</th>\n",
       "      <td>chr8</td>\n",
       "      <td>25639470</td>\n",
       "      <td>25640183</td>\n",
       "      <td>.</td>\n",
       "      <td>541</td>\n",
       "      <td>.</td>\n",
       "      <td>3.72821</td>\n",
       "      <td>4.43080</td>\n",
       "      <td>2.24517</td>\n",
       "      <td>249</td>\n",
       "      <td>...</td>\n",
       "      <td>1.31</td>\n",
       "      <td>25639307</td>\n",
       "      <td>25641096</td>\n",
       "      <td>2.81789</td>\n",
       "      <td>1571</td>\n",
       "      <td>25639470</td>\n",
       "      <td>25640286</td>\n",
       "      <td>5.41348</td>\n",
       "      <td>249</td>\n",
       "      <td>25639719</td>\n",
       "    </tr>\n",
       "    <tr>\n",
       "      <th>45596</th>\n",
       "      <td>chr8</td>\n",
       "      <td>132606859</td>\n",
       "      <td>132607677</td>\n",
       "      <td>.</td>\n",
       "      <td>545</td>\n",
       "      <td>.</td>\n",
       "      <td>4.26082</td>\n",
       "      <td>5.39631</td>\n",
       "      <td>3.12774</td>\n",
       "      <td>279</td>\n",
       "      <td>...</td>\n",
       "      <td>1.31</td>\n",
       "      <td>132606859</td>\n",
       "      <td>132607677</td>\n",
       "      <td>2.81789</td>\n",
       "      <td>278</td>\n",
       "      <td>132606830</td>\n",
       "      <td>132607947</td>\n",
       "      <td>4.98882</td>\n",
       "      <td>169</td>\n",
       "      <td>132607138</td>\n",
       "    </tr>\n",
       "  </tbody>\n",
       "</table>\n",
       "<p>45597 rows × 21 columns</p>\n",
       "</div>"
      ],
      "text/plain": [
       "       chrom  peak_start   peak_end name  score strand    signal        pval  \\\n",
       "0       chr3    93470365   93470785    .   1000      .  27.74848  3258.70117   \n",
       "1      chr19    38683390   38684747    .   1000      .   9.74137   912.50061   \n",
       "2      chr10     3095062    3096140    .   1000      .  16.90691   841.41528   \n",
       "3       chr2    28583755   28585173    .   1000      .  23.60403   792.79114   \n",
       "4       chrM          22       4162    .   1000      .   4.19948   812.82208   \n",
       "...      ...         ...        ...  ...    ...    ...       ...         ...   \n",
       "45592   chrX    16838069   16838577    .    546      .   3.46276     4.34507   \n",
       "45593   chr1   218347734  218348587    .    546      .   3.12710     6.56924   \n",
       "45594   chr6    25005798   25006648    .    545      .   3.12796     3.41861   \n",
       "45595   chr8    25639470   25640183    .    541      .   3.72821     4.43080   \n",
       "45596   chr8   132606859  132607677    .    545      .   4.26082     5.39631   \n",
       "\n",
       "             qval  summit_offset  ...    i1         i2         i3          i4  \\\n",
       "0      3249.21973            240  ...  5.00   93470366   93470785  1896.62085   \n",
       "1       905.49048            678  ...  5.00   38683387   38684740   449.35483   \n",
       "2       834.54559            657  ...  5.00    3095151    3096141   440.94794   \n",
       "3       786.05792            549  ...  5.00   28583760   28585166   403.49573   \n",
       "4       806.00909           3888  ...  5.00         22       4171   444.56094   \n",
       "...           ...            ...  ...   ...        ...        ...         ...   \n",
       "45592     2.18770            230  ...  1.32   16838070   16838577     2.82668   \n",
       "45593     4.21969            494  ...  1.32  218347550  218348587     2.82282   \n",
       "45594     1.38861            697  ...  1.31   25005798   25006648     2.81789   \n",
       "45595     2.24517            249  ...  1.31   25639307   25641096     2.81789   \n",
       "45596     3.12774            279  ...  1.31  132606859  132607677     2.81789   \n",
       "\n",
       "         i5         i6         i7          i8    i9     summit  \n",
       "0       239   93470366   93470785  1367.65308   239   93470605  \n",
       "1       679   38683418   38684730   468.06458   636   38684068  \n",
       "2       568    3094990    3096116   402.67105   729    3095719  \n",
       "3       548   28583755   28585183   391.65137   548   28584304  \n",
       "4      3888       1280       4119   371.92319  2634       3910  \n",
       "...     ...        ...        ...         ...   ...        ...  \n",
       "45592   127   16838069   16838486     4.77976   234   16838299  \n",
       "45593   696  218347964  218349145     5.03415   236  218348228  \n",
       "45594   651   25005632   25006576     5.34707   388   25006495  \n",
       "45595  1571   25639470   25640286     5.41348   249   25639719  \n",
       "45596   278  132606830  132607947     4.98882   169  132607138  \n",
       "\n",
       "[45597 rows x 21 columns]"
      ]
     },
     "execution_count": 13,
     "metadata": {},
     "output_type": "execute_result"
    }
   ],
   "source": [
    "cut_peaks"
   ]
  },
  {
   "cell_type": "code",
   "execution_count": 14,
   "id": "854f95ad-0193-46ec-a1a0-24a2a16e8314",
   "metadata": {},
   "outputs": [],
   "source": [
    "# find indexes where original peak files contain chrM or chrY\n",
    "chip_chrY_inds = chip_peaks.loc[chip_peaks.chrom == 'chrY'].index   # get rid of peak_ before index. use name column bc it's 1-indexed\n",
    "cut_chrM_inds = cut_peaks.loc[cut_peaks.chrom == 'chrM'].index"
   ]
  },
  {
   "cell_type": "code",
   "execution_count": 16,
   "id": "c56f4402-9b39-49f3-b915-cd03a1fb956f",
   "metadata": {},
   "outputs": [],
   "source": [
    "true_counts_chip_padded = true_counts_chip\n",
    "for ind in chip_chrY_inds:\n",
    "    true_counts_chip_padded = np.insert(true_counts_chip_padded, ind, np.array([0, 0]).reshape((1,2)), axis=0)\n",
    "    \n",
    "true_counts_cut_padded = true_counts_cut\n",
    "for ind in cut_chrM_inds:\n",
    "    true_counts_cut_padded = np.insert(true_counts_cut_padded, ind, np.array([0, 0]).reshape((1,2)), axis=0)"
   ]
  },
  {
   "cell_type": "code",
   "execution_count": 20,
   "id": "95aa6361-ebd7-41f5-a2a7-3a5bfb27387b",
   "metadata": {},
   "outputs": [],
   "source": [
    "# all_pred_coords_chip_padded = np.array(all_pred_coords_chip_df)\n",
    "# for ind in chip_chrY_inds:\n",
    "#     all_pred_coords_chip_padded = np.insert(all_pred_coords_chip_padded, ind, np.array([0, 0, 0]).reshape((1,3)), axis=0)\n",
    "    \n",
    "# all_pred_coords_cut_padded = np.array(all_pred_coords_cut_df)\n",
    "# for ind in cut_chrM_inds:\n",
    "#     all_pred_coords_cut_padded = np.insert(all_pred_coords_cut_padded, ind, np.array([0, 0, 0]).reshape((1,3)), axis=0)"
   ]
  },
  {
   "cell_type": "code",
   "execution_count": 21,
   "id": "76319e90-873f-43ad-8983-6cc0954f8624",
   "metadata": {
    "tags": []
   },
   "outputs": [],
   "source": [
    "# index everything to the shared peaks\n",
    "# these contain no chrM or chrY\n",
    "\n",
    "shared_true_counts_chip = true_counts_chip_padded[chip_peaks_shared_cut.name]   # len 30822\n",
    "shared_true_counts_cut = true_counts_cut_padded[cut_peaks_shared_chip.name]     # len 29980\n",
    "\n",
    "# shared_pred_coords_chip_df = pd.DataFrame(all_pred_coords_chip_padded).iloc[chip_peaks_shared_cut.name,:] # len 30822\n",
    "# shared_pred_coords_cut_df = pd.DataFrame(all_pred_coords_cut_padded).iloc[cut_peaks_shared_chip.name,:]   # len 29980"
   ]
  },
  {
   "cell_type": "markdown",
   "id": "f3302698-9a76-4c62-b0ae-6a47bd5cf2df",
   "metadata": {},
   "source": [
    "5. Calculate 80th percentile counts. *sum across strands, so by “significantly different total counts” we mean compared to the average FOR THAT ASSAY’S PEAKS as opposed to relative to another assay*"
   ]
  },
  {
   "cell_type": "code",
   "execution_count": 34,
   "id": "9e1d0f96-5ba5-4c7e-b5a3-a1d28fd6aac4",
   "metadata": {},
   "outputs": [],
   "source": [
    "# sum along strand\n",
    "summed_true_counts_chip = np.sum(shared_true_counts_chip, axis=2).reshape(-1)\n",
    "summed_true_counts_cut = np.sum(shared_true_counts_cut, axis=2).reshape(-1)\n",
    "\n",
    "# compute 80th percentile summed number of counts\n",
    "chip_counts_80perc = np.quantile(summed_true_counts_chip, 0.8)  # 329.0\n",
    "cut_counts_80perc = np.quantile(summed_true_counts_cut, 0.8)    # 393.0"
   ]
  },
  {
   "cell_type": "code",
   "execution_count": 33,
   "id": "0ebd8adb-3e7f-4123-b8ac-c8e8bd00e393",
   "metadata": {
    "collapsed": true,
    "jupyter": {
     "outputs_hidden": true
    },
    "tags": []
   },
   "outputs": [
    {
     "data": {
      "image/png": "[encoded data removed]",
      "text/plain": [
       "<Figure size 780x520 with 1 Axes>"
      ]
     },
     "metadata": {
      "needs_background": "light"
     },
     "output_type": "display_data"
    }
   ],
   "source": [
    "# quick plot of cutoffs\n",
    "\n",
    "labels = ['CUT&RUN','ChIP-seq']\n",
    "ctcf = [513.0, 255.0]  # from the ctcf notebook\n",
    "fosl2 = [cut_counts_80perc, chip_counts_80perc]\n",
    "\n",
    "x = np.arange(len(labels))  # the label locations\n",
    "width = 0.35  # the width of the bars\n",
    "\n",
    "fig, ax = plt.subplots()\n",
    "rects1 = ax.bar(x - width/2, ctcf, width, label='CTCF')\n",
    "rects2 = ax.bar(x + width/2, fosl2, width, label='FOSL2')\n",
    "\n",
    "# Add some text for labels, title and custom x-axis tick labels, etc.\n",
    "ax.set_ylabel('Number of counts for 80th percentile cutoff')\n",
    "ax.set_title('80th percentile for true counts (summed across strand)\\nin SHARED PEAKS')\n",
    "ax.set_xticks(x, labels)\n",
    "ax.legend()\n",
    "\n",
    "ax.bar_label(rects1, padding=0)\n",
    "ax.bar_label(rects2, padding=0)\n",
    "\n",
    "fig.tight_layout()\n",
    "\n",
    "plt.show()"
   ]
  },
  {
   "cell_type": "markdown",
   "id": "f4484244-8d11-4ff1-b54f-07c57ef1dd64",
   "metadata": {},
   "source": [
    "6. Once I have my ChIP-seq peaks and CUT&RUN peaks, subset the count motif hits to these peaks"
   ]
  },
  {
   "cell_type": "code",
   "execution_count": 35,
   "id": "1ba49d68-b08f-453f-bcff-6a51a950e274",
   "metadata": {},
   "outputs": [],
   "source": [
    "chip_hits = import_peak_table(['/home/katie/bp_repo/reports/tfm_hits/FOSL2/chipseq_jan23_COUNTS_HEAD/tfm_matches.bed']) # 105829 hits\n",
    "cut_hits = import_peak_table(['/home/katie/bp_repo/reports/tfm_hits/FOSL2/cutnrun_jan9_COUNTS_HEAD/tfm_matches.bed'])   # 86572 hits"
   ]
  },
  {
   "cell_type": "code",
   "execution_count": 45,
   "id": "8ef9cb7b-4dfe-40ed-b3e3-fe6c4cc17174",
   "metadata": {},
   "outputs": [],
   "source": [
    "chip_peaks_shared_cut_80perc = chip_peaks_shared_cut.loc[summed_true_counts_chip > chip_counts_80perc]\n",
    "cut_peaks_shared_chip_80perc = cut_peaks_shared_chip.loc[summed_true_counts_cut > cut_counts_80perc]"
   ]
  },
  {
   "cell_type": "code",
   "execution_count": 52,
   "id": "094f7b49-3632-4fb1-bb33-f0078dbf592b",
   "metadata": {},
   "outputs": [],
   "source": [
    "# hits subsetted to peaks that are 1) shared between both assays and 2) have 80th percentile (or more) true counts\n",
    "shared_chip_hits = chip_hits.loc[chip_hits.strand.isin(chip_peaks_shared_cut_80perc.name.unique())]  # 14450 = 20.2% of all chip hits\n",
    "shared_cut_hits = cut_hits.loc[cut_hits.strand.isin(cut_peaks_shared_chip_80perc.name.unique())] # 15806   15.2% of all cut hits\n",
    "\n"
   ]
  },
  {
   "cell_type": "code",
   "execution_count": 36,
   "id": "1c2829d5-a8c3-4399-bb44-42ce2ec38796",
   "metadata": {},
   "outputs": [],
   "source": [
    "# hits subsetted to peaks that are 1) shared between both assays and 2) have 80th percentile (or more) true counts\n",
    "shared_chip_hits = chip_hits.loc[chip_hits.strand.isin(chip_peaks_shared_cut.name.unique())]  # 59705 = 83.5%\n",
    "shared_cut_hits = cut_hits.loc[cut_hits.strand.isin(cut_peaks_shared_chip.name.unique())]     # 64820  62.4%"
   ]
  },
  {
   "cell_type": "code",
   "execution_count": 55,
   "id": "5bdc8a74-6fef-4735-9942-f0f64dda3cd1",
   "metadata": {},
   "outputs": [],
   "source": [
    "# hits subsetted to peaks that are shared between both assays NO COUNTS SUBSETTING\n",
    "shared_chip_hits_ALLCOUNTS = chip_hits.loc[chip_hits.strand.isin(chip_peaks_shared_cut.name.unique())]  # 59705 = 83.5%\n",
    "shared_cut_hits_ALLCOUNTS = cut_hits.loc[cut_hits.strand.isin(cut_peaks_shared_chip.name.unique())] # 64820  62.4%\n"
   ]
  },
  {
   "cell_type": "markdown",
   "id": "85b482b2-82e3-481c-9181-54d373607672",
   "metadata": {},
   "source": [
    "## a) For the motifs in the count head, are there different motif hit distributions in these peaks?"
   ]
  },
  {
   "cell_type": "markdown",
   "id": "b6562090-8db8-4fca-8732-b2c8951fbd7d",
   "metadata": {},
   "source": [
    "7. Plot motif hit distributions in the subsetted peaks AND in the total pool of peaks"
   ]
  },
  {
   "cell_type": "code",
   "execution_count": 59,
   "id": "8a349b24-4289-4e8a-8b85-71c7e71a53f7",
   "metadata": {},
   "outputs": [
    {
     "data": {
      "image/png": "[encoded data removed]",
      "text/plain": [
       "<Figure size 780x520 with 1 Axes>"
      ]
     },
     "metadata": {
      "needs_background": "light"
     },
     "output_type": "display_data"
    }
   ],
   "source": [
    "labels = ['CUT&RUN','ChIP-seq']\n",
    "all_peaks = [len(cut_hits), len(chip_hits)]\n",
    "shared_peaks_ALLCOUNTS = [len(shared_cut_hits_ALLCOUNTS), len(shared_chip_hits_ALLCOUNTS)]\n",
    "shared_peaks = [len(shared_cut_hits), len(shared_chip_hits)]\n",
    "\n",
    "x = np.arange(len(labels))  # the label locations\n",
    "width = 0.25  # the width of the bars\n",
    "\n",
    "fig, ax = plt.subplots()\n",
    "rects1 = ax.bar(x - width, all_peaks, width, label='All peaks')\n",
    "rects2 = ax.bar(x, shared_peaks_ALLCOUNTS, width, label='All shared peaks')\n",
    "rects3 = ax.bar(x + width, shared_peaks, width, label='Shared peaks w/ high counts')\n",
    "\n",
    "# Add some text for labels, title and custom x-axis tick labels, etc.\n",
    "ax.set_ylabel('Number of hits in given set of peaks')\n",
    "ax.set_title('FOSL2 motif hits in all vs. shared peaks')\n",
    "ax.set_xticks(x, labels)\n",
    "ax.legend(prop={'size':7})\n",
    "\n",
    "ax.bar_label(rects1, padding=0)\n",
    "ax.bar_label(rects2, padding=0)\n",
    "ax.bar_label(rects3, padding=0)\n",
    "\n",
    "fig.tight_layout()\n",
    "\n",
    "plt.show()"
   ]
  },
  {
   "cell_type": "markdown",
   "id": "4308ba12-6717-4260-bd48-bb43be1bf143",
   "metadata": {},
   "source": [
    "## b) Is there a correlation with other genomic features?\n",
    "\n",
    "\n",
    "NONE OF THE COMMENTED COUNTS HAVE BEEN UPDATED SO IGNORE THEM BELOWWWW"
   ]
  },
  {
   "cell_type": "markdown",
   "id": "cf9d95c2-2957-43b8-87b9-a14c931dbd41",
   "metadata": {},
   "source": [
    "8. Using bedtools intersect -u, intersect the motifs in the subsetted peaks with various genomic features’ BED files"
   ]
  },
  {
   "cell_type": "code",
   "execution_count": 60,
   "id": "a9aa57f2-d713-40a9-be51-0ed259b9c771",
   "metadata": {},
   "outputs": [],
   "source": [
    "shared_cut_hits.to_csv('/home/katie/bp_repo/reports/katie_notebooks/TASK_4/shared_cut_hits.tsv', sep='\\t', index=False)\n",
    "shared_chip_hits.to_csv('/home/katie/bp_repo/reports/katie_notebooks/TASK_4/shared_chip_hits.tsv', sep='\\t', index=False)"
   ]
  },
  {
   "cell_type": "markdown",
   "id": "c8ecb041-eeba-4ab2-9a3f-54c3ed662061",
   "metadata": {},
   "source": [
    "### DNase-seq"
   ]
  },
  {
   "cell_type": "code",
   "execution_count": 65,
   "id": "294eb71c-9bf9-4130-a52c-ab8a63136b92",
   "metadata": {},
   "outputs": [],
   "source": [
    "# this only needs to be run once and saved then opened in the future as TSVs\n",
    "# os.system('bedtools intersect -u -a /home/katie/bp_repo/reports/katie_notebooks/TASK_4/FOSL2/shared_cut_hits.tsv -b /home/katie/bp_repo/research/data/other-assays/A549/DNase-peaks/ENCFF128ZVL.bed.gz > /home/katie/bp_repo/reports/katie_notebooks/TASK_4/FOSL2/cutnrun_shared_motif_hits_dnase_overlap')\n",
    "# os.system('bedtools intersect -u -a /home/katie/bp_repo/reports/katie_notebooks/TASK_4/FOSL2/shared_chip_hits.tsv -b /home/katie/bp_repo/research/data/other-assays/A549/DNase-peaks/ENCFF128ZVL.bed.gz > /home/katie/bp_repo/reports/katie_notebooks/TASK_4/FOSL2/chipseq_shared_motif_hits_dnase_overlap')\n",
    "\n",
    "cutnrun_shared_dnase_overlap = pd.read_csv('/home/katie/bp_repo/reports/katie_notebooks/TASK_4/FOSL2/cutnrun_shared_motif_hits_dnase_overlap',  # 97,042 overlaps\n",
    "                                sep='\\t', header=None)\n",
    "chipseq_shared_dnase_overlap = pd.read_csv('/home/katie/bp_repo/reports/katie_notebooks/TASK_4/FOSL2/chipseq_shared_motif_hits_dnase_overlap',  # 55,528 overlaps\n",
    "                                sep='\\t', header=None)"
   ]
  },
  {
   "cell_type": "markdown",
   "id": "c677e5b0-233c-4c9f-a561-42eea09e6521",
   "metadata": {},
   "source": [
    "### ATAC-seq"
   ]
  },
  {
   "cell_type": "code",
   "execution_count": 66,
   "id": "4c495e77-3b8c-4728-b539-4f37663756da",
   "metadata": {},
   "outputs": [],
   "source": [
    "# this only needs to be run once and saved then opened in the future as TSVs\n",
    "# os.system('bedtools intersect -u -a /home/katie/bp_repo/reports/katie_notebooks/TASK_4/FOSL2/shared_cut_hits.tsv -b /home/katie/bp_repo/research/data/other-assays/A549/ATAC-peaks/ENCFF899OMR.bed.gz > /home/katie/bp_repo/reports/katie_notebooks/TASK_4/FOSL2/cutnrun_shared_motif_hits_atac_overlap')\n",
    "# os.system('bedtools intersect -u -a /home/katie/bp_repo/reports/katie_notebooks/TASK_4/FOSL2/shared_chip_hits.tsv -b /home/katie/bp_repo/research/data/other-assays/A549/ATAC-peaks/ENCFF899OMR.bed.gz > /home/katie/bp_repo/reports/katie_notebooks/TASK_4/FOSL2/chipseq_shared_motif_hits_atac_overlap')\n",
    "\n",
    "cutnrun_shared_atac_overlap = pd.read_csv('/home/katie/bp_repo/reports/katie_notebooks/TASK_4/FOSL2/cutnrun_shared_motif_hits_atac_overlap',  # 97,042 overlaps\n",
    "                                sep='\\t', header=None)\n",
    "chipseq_shared_atac_overlap = pd.read_csv('/home/katie/bp_repo/reports/katie_notebooks/TASK_4/FOSL2/chipseq_shared_motif_hits_atac_overlap',  # 55,528 overlaps\n",
    "                                sep='\\t', header=None)"
   ]
  },
  {
   "cell_type": "markdown",
   "id": "a7d36ea7-9f94-4de8-8f2e-4b75407f754a",
   "metadata": {},
   "source": [
    "### acetylation"
   ]
  },
  {
   "cell_type": "code",
   "execution_count": 67,
   "id": "fe8f97ab-df36-44c1-8e5c-e016226abf45",
   "metadata": {},
   "outputs": [],
   "source": [
    "# this only needs to be run once and saved then opened in the future as TSVs\n",
    "# os.system('bedtools intersect -u -a /home/katie/bp_repo/reports/katie_notebooks/TASK_4/FOSL2/shared_cut_hits.tsv -b /home/katie/bp_repo/research/data/other-assays/A549/H3K27ac-histone-marks/ENCFF747IZX.bed.gz > /home/katie/bp_repo/reports/katie_notebooks/TASK_4/FOSL2/cutnrun_shared_motif_hits_ac_overlap')\n",
    "# os.system('bedtools intersect -u -a /home/katie/bp_repo/reports/katie_notebooks/TASK_4/FOSL2/shared_chip_hits.tsv -b /home/katie/bp_repo/research/data/other-assays/A549/H3K27ac-histone-marks/ENCFF747IZX.bed.gz > /home/katie/bp_repo/reports/katie_notebooks/TASK_4/FOSL2/chipseq_shared_motif_hits_ac_overlap')\n",
    "\n",
    "cutnrun_shared_ac_overlap = pd.read_csv('/home/katie/bp_repo/reports/katie_notebooks/TASK_4/FOSL2/cutnrun_shared_motif_hits_ac_overlap',  # 97,042 overlaps\n",
    "                                sep='\\t', header=None)\n",
    "chipseq_shared_ac_overlap = pd.read_csv('/home/katie/bp_repo/reports/katie_notebooks/TASK_4/FOSL2/chipseq_shared_motif_hits_ac_overlap',  # 55,528 overlaps\n",
    "                                sep='\\t', header=None)"
   ]
  },
  {
   "cell_type": "markdown",
   "id": "f86cc4db-a51b-4b91-9fe9-02330607d547",
   "metadata": {
    "tags": []
   },
   "source": [
    "### trimethylation"
   ]
  },
  {
   "cell_type": "code",
   "execution_count": 68,
   "id": "004b7516-9d0d-426b-a895-43ff9cdd2d34",
   "metadata": {},
   "outputs": [],
   "source": [
    "# this only needs to be run once and saved then opened in the future as TSVs\n",
    "# os.system('bedtools intersect -u -a /home/katie/bp_repo/reports/katie_notebooks/TASK_4/FOSL2/shared_cut_hits.tsv -b /home/katie/bp_repo/research/data/other-assays/A549/H3K4me3-histone-marks/ENCFF535EYL.bed.gz > /home/katie/bp_repo/reports/katie_notebooks/TASK_4/FOSL2/cutnrun_shared_motif_hits_me3_overlap')\n",
    "# os.system('bedtools intersect -u -a /home/katie/bp_repo/reports/katie_notebooks/TASK_4/FOSL2/shared_chip_hits.tsv -b /home/katie/bp_repo/research/data/other-assays/A549/H3K4me3-histone-marks/ENCFF535EYL.bed.gz > /home/katie/bp_repo/reports/katie_notebooks/TASK_4/FOSL2/chipseq_shared_motif_hits_me3_overlap')\n",
    "\n",
    "cutnrun_shared_me3_overlap = pd.read_csv('/home/katie/bp_repo/reports/katie_notebooks/TASK_4/FOSL2/cutnrun_shared_motif_hits_me3_overlap',  # 97,042 overlaps\n",
    "                                sep='\\t', header=None)\n",
    "chipseq_shared_me3_overlap = pd.read_csv('/home/katie/bp_repo/reports/katie_notebooks/TASK_4/FOSL2/chipseq_shared_motif_hits_me3_overlap',  # 55,528 overlaps\n",
    "                                sep='\\t', header=None)"
   ]
  },
  {
   "cell_type": "markdown",
   "id": "bcb1d3ab-b31c-4ae7-be4b-6fa8cbc9f98a",
   "metadata": {},
   "source": [
    "9. Also intersect the motifs in ALL peaks with various genomic features’ BED files"
   ]
  },
  {
   "cell_type": "markdown",
   "id": "f0756397-4fba-4882-8b8c-db77e6faff8c",
   "metadata": {},
   "source": [
    "### DNase-seq"
   ]
  },
  {
   "cell_type": "code",
   "execution_count": 69,
   "id": "a083dc77-67b3-474a-9006-92bdd60eb7dc",
   "metadata": {},
   "outputs": [],
   "source": [
    "# this only needs to be run once and saved then opened in the future as TSVs\n",
    "# os.system('bedtools intersect -u -a /home/katie/bp_repo/reports/tfm_hits/FOSL2/cutnrun_jan9_COUNTS_HEAD/tfm_matches.bed -b /home/katie/bp_repo/research/data/other-assays/A549/DNase-peaks/ENCFF128ZVL.bed.gz > /home/katie/bp_repo/reports/katie_notebooks/TASK_4/FOSL2/cutnrun_all_motif_hits_dnase_overlap')\n",
    "# os.system('bedtools intersect -u -a /home/katie/bp_repo/reports/tfm_hits/FOSL2/chipseq_jan23_COUNTS_HEAD/tfm_matches.bed -b /home/katie/bp_repo/research/data/other-assays/A549/DNase-peaks/ENCFF128ZVL.bed.gz > /home/katie/bp_repo/reports/katie_notebooks/TASK_4/FOSL2/chipseq_all_motif_hits_dnase_overlap')\n",
    "\n",
    "cutnrun_all_dnase_overlap = pd.read_csv('/home/katie/bp_repo/reports/katie_notebooks/TASK_4/FOSL2/cutnrun_all_motif_hits_dnase_overlap',  # 97,042 overlaps\n",
    "                                sep='\\t', header=None)\n",
    "chipseq_all_dnase_overlap = pd.read_csv('/home/katie/bp_repo/reports/katie_notebooks/TASK_4/FOSL2/chipseq_all_motif_hits_dnase_overlap',  # 55,528 overlaps\n",
    "                                sep='\\t', header=None)"
   ]
  },
  {
   "cell_type": "markdown",
   "id": "6be57c9b-2392-42a4-bf76-a643c36d851c",
   "metadata": {},
   "source": [
    "### ATAC-seq"
   ]
  },
  {
   "cell_type": "code",
   "execution_count": 70,
   "id": "0b5b16b9-b4da-40e3-b6c8-5304132abc5c",
   "metadata": {},
   "outputs": [],
   "source": [
    "# this only needs to be run once and saved then opened in the future as TSVs\n",
    "# os.system('bedtools intersect -u -a /home/katie/bp_repo/reports/tfm_hits/FOSL2/cutnrun_jan9_COUNTS_HEAD/tfm_matches.bed -b /home/katie/bp_repo/research/data/other-assays/A549/ATAC-peaks/ENCFF899OMR.bed.gz > /home/katie/bp_repo/reports/katie_notebooks/TASK_4/FOSL2/cutnrun_all_motif_hits_atac_overlap')\n",
    "# os.system('bedtools intersect -u -a /home/katie/bp_repo/reports/tfm_hits/FOSL2/chipseq_jan23_COUNTS_HEAD/tfm_matches.bed -b /home/katie/bp_repo/research/data/other-assays/A549/ATAC-peaks/ENCFF899OMR.bed.gz > /home/katie/bp_repo/reports/katie_notebooks/TASK_4/FOSL2/chipseq_all_motif_hits_atac_overlap')\n",
    "\n",
    "cutnrun_all_atac_overlap = pd.read_csv('/home/katie/bp_repo/reports/katie_notebooks/TASK_4/FOSL2/cutnrun_all_motif_hits_atac_overlap',  # 97,042 overlaps\n",
    "                                sep='\\t', header=None)\n",
    "chipseq_all_atac_overlap = pd.read_csv('/home/katie/bp_repo/reports/katie_notebooks/TASK_4/FOSL2/chipseq_all_motif_hits_atac_overlap',  # 55,528 overlaps\n",
    "                                sep='\\t', header=None)"
   ]
  },
  {
   "cell_type": "markdown",
   "id": "6ac6b80e-a7e1-4970-9b71-a3a553c52f64",
   "metadata": {},
   "source": [
    "### acetylation"
   ]
  },
  {
   "cell_type": "code",
   "execution_count": 71,
   "id": "0d83db48-5f61-44fe-9444-f2e334894fce",
   "metadata": {},
   "outputs": [],
   "source": [
    "# this only needs to be run once and saved then opened in the future as TSVs\n",
    "# os.system('bedtools intersect -u -a /home/katie/bp_repo/reports/tfm_hits/FOSL2/cutnrun_jan9_COUNTS_HEAD/tfm_matches.bed -b /home/katie/bp_repo/research/data/other-assays/A549/H3K27ac-histone-marks/ENCFF747IZX.bed.gz > /home/katie/bp_repo/reports/katie_notebooks/TASK_4/FOSL2/cutnrun_all_motif_hits_ac_overlap')\n",
    "# os.system('bedtools intersect -u -a /home/katie/bp_repo/reports/tfm_hits/FOSL2/chipseq_jan23_COUNTS_HEAD/tfm_matches.bed -b /home/katie/bp_repo/research/data/other-assays/A549/H3K27ac-histone-marks/ENCFF747IZX.bed.gz > /home/katie/bp_repo/reports/katie_notebooks/TASK_4/FOSL2/chipseq_all_motif_hits_ac_overlap')\n",
    "\n",
    "cutnrun_all_ac_overlap = pd.read_csv('/home/katie/bp_repo/reports/katie_notebooks/TASK_4/FOSL2/cutnrun_all_motif_hits_ac_overlap',  # 97,042 overlaps\n",
    "                                sep='\\t', header=None)\n",
    "chipseq_all_ac_overlap = pd.read_csv('/home/katie/bp_repo/reports/katie_notebooks/TASK_4/FOSL2/chipseq_all_motif_hits_ac_overlap',  # 55,528 overlaps\n",
    "                                sep='\\t', header=None)"
   ]
  },
  {
   "cell_type": "markdown",
   "id": "dd75b9f6-be25-41f4-80c1-41a9bcc974b1",
   "metadata": {},
   "source": [
    "### trimethylation"
   ]
  },
  {
   "cell_type": "code",
   "execution_count": 72,
   "id": "ad540a69-f722-414e-bdbb-73f75373ad4b",
   "metadata": {},
   "outputs": [],
   "source": [
    "# this only needs to be run once and saved then opened in the future as TSVs\n",
    "# os.system('bedtools intersect -u -a /home/katie/bp_repo/reports/tfm_hits/FOSL2/cutnrun_jan9_COUNTS_HEAD/tfm_matches.bed -b /home/katie/bp_repo/research/data/other-assays/A549/H3K4me3-histone-marks/ENCFF535EYL.bed.gz > /home/katie/bp_repo/reports/katie_notebooks/TASK_4/FOSL2/cutnrun_all_motif_hits_me3_overlap')\n",
    "# os.system('bedtools intersect -u -a /home/katie/bp_repo/reports/tfm_hits/FOSL2/chipseq_jan23_COUNTS_HEAD/tfm_matches.bed -b /home/katie/bp_repo/research/data/other-assays/A549/H3K4me3-histone-marks/ENCFF535EYL.bed.gz > /home/katie/bp_repo/reports/katie_notebooks/TASK_4/FOSL2/chipseq_all_motif_hits_me3_overlap')\n",
    "\n",
    "cutnrun_all_me3_overlap = pd.read_csv('/home/katie/bp_repo/reports/katie_notebooks/TASK_4/FOSL2/cutnrun_all_motif_hits_me3_overlap',  # 97,042 overlaps\n",
    "                                sep='\\t', header=None)\n",
    "chipseq_all_me3_overlap = pd.read_csv('/home/katie/bp_repo/reports/katie_notebooks/TASK_4/FOSL2/chipseq_all_motif_hits_me3_overlap',  # 55,528 overlaps\n",
    "                                sep='\\t', header=None)"
   ]
  },
  {
   "cell_type": "markdown",
   "id": "1dd4eef6-eef2-48c6-ba95-a8dcc432c27c",
   "metadata": {},
   "source": [
    "## PLOTTING\n",
    "\n",
    "10. Plot the results of 8 and 9"
   ]
  },
  {
   "cell_type": "code",
   "execution_count": 77,
   "id": "343360d8-4476-420b-ac0c-3c3bd7febb1a",
   "metadata": {},
   "outputs": [
    {
     "data": {
      "image/png": "[encoded data removed]",
      "text/plain": [
       "<Figure size 780x520 with 1 Axes>"
      ]
     },
     "metadata": {
      "needs_background": "light"
     },
     "output_type": "display_data"
    }
   ],
   "source": [
    "# order: ( % of shared CUT&RUN motif hits overlapping assay, with assay order DNASE; ATAC; ac; me, \n",
    "#          % of shared chipseq motif hits overlapping assay, with assay order DNASE; ATAC; ac; me)\n",
    "cutnrun_stats = (len(cutnrun_shared_dnase_overlap) / len(shared_cut_hits),\n",
    "                 len(cutnrun_shared_atac_overlap) / len(shared_cut_hits),\n",
    "                 len(cutnrun_shared_ac_overlap) / len(shared_cut_hits),\n",
    "                 len(cutnrun_shared_me3_overlap) / len(shared_cut_hits))\n",
    "chipseq_stats = (len(chipseq_shared_dnase_overlap) / len(shared_chip_hits),\n",
    "              len(chipseq_shared_atac_overlap) / len(shared_chip_hits),\n",
    "              len(chipseq_shared_ac_overlap) / len(shared_chip_hits),\n",
    "              len(chipseq_shared_me3_overlap) / len(shared_chip_hits))\n",
    "\n",
    "cutnrun_stats = [round(stat, 2) for stat in cutnrun_stats]\n",
    "chipseq_stats = [round(stat, 2) for stat in chipseq_stats]\n",
    "\n",
    "ind = np.arange(len(cutnrun_stats))  # the x locations for the groups\n",
    "width = 0.35  # the width of the bars\n",
    "\n",
    "fig, ax = plt.subplots(dpi=130)\n",
    "rects1 = ax.bar(ind - width/2, cutnrun_stats, width, \n",
    "                label='CUT&RUN peaks\\nwith high counts\\noverlapping ChIP-seq')\n",
    "rects2 = ax.bar(ind + width/2, chipseq_stats, width,\n",
    "                label='ChIP-seq peaks\\nwith high counts\\noverlapping CUT&RUN')\n",
    "\n",
    "# Add some text for labels, title and custom x-axis tick labels, etc.\n",
    "ax.set_ylabel('% of motif hits from given peak\\nsubset that overlap feature', fontsize=13)\n",
    "ax.set_title('FOSL2 shared count head motif hits (high total\\ncounts) overlapping genomic features')\n",
    "ax.set_xticks(ind)\n",
    "ax.set_xticklabels(('DNase-seq', 'ATAC-seq', 'H3K27ac', 'H3K4me3'), rotation=45, fontsize=13)\n",
    "ax.legend(loc='upper right', prop={'size':6.3})\n",
    "\n",
    "def autolabel(rects, xpos='center'):\n",
    "    \"\"\"\n",
    "    Attach a text label above each bar in *rects*, displaying its height.\n",
    "\n",
    "    *xpos* indicates which side to place the text w.r.t. the center of\n",
    "    the bar. It can be one of the following {'center', 'right', 'left'}.\n",
    "    \"\"\"\n",
    "\n",
    "    ha = {'center': 'center', 'right': 'left', 'left': 'right'}\n",
    "    offset = {'center': 0, 'right': 1, 'left': -1}\n",
    "\n",
    "    for rect in rects:\n",
    "        height = rect.get_height()\n",
    "        ax.annotate('{}'.format(height),\n",
    "                    xy=(rect.get_x() + rect.get_width() / 2, height),\n",
    "                    xytext=(offset[xpos]*3, -0.5),  # use -0.5 point offset\n",
    "                    textcoords=\"offset points\",  # in both directions\n",
    "                    ha=ha[xpos], va='bottom')\n",
    "\n",
    "\n",
    "autolabel(rects1, \"center\")\n",
    "autolabel(rects2, \"center\")\n",
    "\n",
    "plt.show()"
   ]
  },
  {
   "cell_type": "code",
   "execution_count": null,
   "id": "e89a37ed-2fd5-4592-8d4c-83b189657a3a",
   "metadata": {},
   "outputs": [],
   "source": []
  }
 ],
 "metadata": {
  "kernelspec": {
   "display_name": "Python 3 (ipykernel)",
   "language": "python",
   "name": "python3"
  },
  "language_info": {
   "codemirror_mode": {
    "name": "ipython",
    "version": 3
   },
   "file_extension": ".py",
   "mimetype": "text/x-python",
   "name": "python",
   "nbconvert_exporter": "python",
   "pygments_lexer": "ipython3",
   "version": "3.9.7"
  }
 },
 "nbformat": 4,
 "nbformat_minor": 5
}
