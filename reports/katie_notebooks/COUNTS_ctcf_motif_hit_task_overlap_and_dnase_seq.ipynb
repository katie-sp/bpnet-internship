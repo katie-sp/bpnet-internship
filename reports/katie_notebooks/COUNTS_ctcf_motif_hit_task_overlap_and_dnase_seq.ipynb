{
 "cells": [
  {
   "cell_type": "markdown",
   "metadata": {},
   "source": [
    "### Link to results\n",
    "[Proportion of peaks with hits](#peaks-with-hits)\n",
    "\n",
    "[Examples of motif hits](#example-hits)\n",
    "\n",
    "[Homotypic density of motifs in peaks](#density)\n",
    "\n",
    "[Co-occurrence of motifs in peaks](#co-occurrence)\n",
    "\n",
    "[Distance between co-occurring motifs](#distance)"
   ]
  },
  {
   "cell_type": "code",
   "execution_count": 1,
   "metadata": {},
   "outputs": [
    {
     "name": "stderr",
     "output_type": "stream",
     "text": [
      "/tmp/ipykernel_277733/3902103791.py:21: TqdmDeprecationWarning: This function will be removed in tqdm==5.0.0\n",
      "Please use `tqdm.notebook.tqdm` instead of `tqdm.tqdm_notebook`\n",
      "  tqdm.tqdm_notebook()\n"
     ]
    },
    {
     "data": {
      "application/vnd.jupyter.widget-view+json": {
       "model_id": "0bc1b662ad1f4c4eb476ee01fbb69cee",
       "version_major": 2,
       "version_minor": 0
      },
      "text/plain": [
       "0it [00:00, ?it/s]"
      ]
     },
     "metadata": {},
     "output_type": "display_data"
    },
    {
     "data": {
      "text/plain": [
       "<tqdm.notebook.tqdm_notebook at 0x7fce90549b20>"
      ]
     },
     "execution_count": 1,
     "metadata": {},
     "output_type": "execute_result"
    }
   ],
   "source": [
    "import os\n",
    "os.chdir('/home/katie/bp_repo/reports/')\n",
    "\n",
    "from tfmodisco_hit_scoring import import_tfmodisco_hits\n",
    "from util import import_shap_scores, import_peak_table\n",
    "from util import trim_motif_by_ic\n",
    "from util import figure_to_vdom_image\n",
    "import viz_sequence\n",
    "import h5py\n",
    "import numpy as np\n",
    "import pandas as pd\n",
    "import pomegranate\n",
    "import sklearn.cluster\n",
    "import scipy.cluster.hierarchy\n",
    "import scipy.stats\n",
    "import matplotlib.pyplot as plt\n",
    "import matplotlib.font_manager as font_manager\n",
    "import vdom.helpers as vdomh\n",
    "from IPython.display import display\n",
    "import tqdm\n",
    "tqdm.tqdm_notebook()"
   ]
  },
  {
   "cell_type": "code",
   "execution_count": 2,
   "metadata": {},
   "outputs": [],
   "source": [
    "# Plotting defaults\n",
    "plot_params = {\n",
    "    \"figure.titlesize\": 22,\n",
    "    \"axes.titlesize\": 22,\n",
    "    \"axes.labelsize\": 20,\n",
    "    \"legend.fontsize\": 18,\n",
    "    \"xtick.labelsize\": 16,\n",
    "    \"ytick.labelsize\": 16,\n",
    "    \"font.weight\": \"bold\"\n",
    "}\n",
    "plt.rcParams.update(plot_params)"
   ]
  },
  {
   "cell_type": "markdown",
   "metadata": {},
   "source": [
    "### Define constants and paths"
   ]
  },
  {
   "cell_type": "code",
   "execution_count": 4,
   "metadata": {},
   "outputs": [
    {
     "name": "stdout",
     "output_type": "stream",
     "text": [
      "TF-MoDISco results path: /home/katie/bp_repo/pipeline_outputs/ctcf_cutnrun_120_150_jan9_COUNTS_HEAD/tfmodisco_results_CTCF_120\n",
      "DeepSHAP scores path: /home/katie/bp_repo/pipeline_outputs/ctcf_cutnrun_120_150_jan9_COUNTS_HEAD/shap_scores_CTCF_120\n",
      "Peaks path: /home/katie/bp_repo/research/data/cutnrun/CTCF/CTCF.bed\n",
      "Motif hits path: /home/katie/bp_repo/reports/tfm_hits/CTCF/cutnrun_maxfl120_jan9_COUNTS_HEAD/tfm_matches.bed\n",
      "TF-MoDISco results path: /home/katie/bp_repo/pipeline_outputs/ctcf_cutnrun_120_150_jan9_COUNTS_HEAD/tfmodisco_results_CTCF_150\n",
      "DeepSHAP scores path: /home/katie/bp_repo/pipeline_outputs/ctcf_cutnrun_120_150_jan9_COUNTS_HEAD/shap_scores_CTCF_150\n",
      "Peaks path: /home/katie/bp_repo/research/data/cutnrun/CTCF/CTCF.bed\n",
      "Motif hits path: /home/katie/bp_repo/reports/tfm_hits/CTCF/cutnrun_minfl150_jan9_COUNTS_HEAD/tfm_matches.bed\n"
     ]
    }
   ],
   "source": [
    "# CTCF cutnrun maxfl120 & minfl150\n",
    "\n",
    "# Define parameters/fetch arguments\n",
    "tfm_results_path_max = \"/home/katie/bp_repo/pipeline_outputs/ctcf_cutnrun_120_150_jan9_COUNTS_HEAD/tfmodisco_results_CTCF_120\"\n",
    "shap_scores_path_max = \"/home/katie/bp_repo/pipeline_outputs/ctcf_cutnrun_120_150_jan9_COUNTS_HEAD/shap_scores_CTCF_120\"\n",
    "peak_bed_paths = [\"/home/katie/bp_repo/research/data/cutnrun/CTCF/CTCF.bed\"]\n",
    "motif_hits_path_max = \"/home/katie/bp_repo/reports/tfm_hits/CTCF/cutnrun_maxfl120_jan9_COUNTS_HEAD/tfm_matches.bed\"\n",
    "\n",
    "print(\"TF-MoDISco results path: %s\" % tfm_results_path_max)\n",
    "print(\"DeepSHAP scores path: %s\" % shap_scores_path_max)\n",
    "print(\"Peaks path: %s\" % peak_bed_paths[0])\n",
    "print(\"Motif hits path: %s\" % motif_hits_path_max)\n",
    "\n",
    "tfm_results_path_min = \"/home/katie/bp_repo/pipeline_outputs/ctcf_cutnrun_120_150_jan9_COUNTS_HEAD/tfmodisco_results_CTCF_150\"\n",
    "shap_scores_path_min = \"/home/katie/bp_repo/pipeline_outputs/ctcf_cutnrun_120_150_jan9_COUNTS_HEAD/shap_scores_CTCF_150\"\n",
    "peak_bed_paths = [\"/home/katie/bp_repo/research/data/cutnrun/CTCF/CTCF.bed\"]\n",
    "motif_hits_path_min = \"/home/katie/bp_repo/reports/tfm_hits/CTCF/cutnrun_minfl150_jan9_COUNTS_HEAD/tfm_matches.bed\"\n",
    "\n",
    "print(\"TF-MoDISco results path: %s\" % tfm_results_path_min)\n",
    "print(\"DeepSHAP scores path: %s\" % shap_scores_path_min)\n",
    "print(\"Peaks path: %s\" % peak_bed_paths[0])\n",
    "print(\"Motif hits path: %s\" % motif_hits_path_min)"
   ]
  },
  {
   "cell_type": "code",
   "execution_count": 5,
   "metadata": {},
   "outputs": [],
   "source": [
    "# Constants\n",
    "input_length = 2114\n",
    "hyp_score_key = \"hyp_scores\"\n",
    "motif_tfm_sim_perc_cutoff = 0.05  # For TF-MoDISco hits\n",
    "motif_tfm_imp_perc_cutoff = 0.05  # For TF-MoDISco hits\n",
    "\n",
    "seed = 20210412"
   ]
  },
  {
   "cell_type": "markdown",
   "metadata": {},
   "source": [
    "### Helper functions\n",
    "For plotting and organizing things"
   ]
  },
  {
   "cell_type": "code",
   "execution_count": 6,
   "metadata": {},
   "outputs": [],
   "source": [
    "def import_tfmodisco_motifs(tfm_results_path, trim=True, only_pos=True):\n",
    "    \"\"\"\n",
    "    Imports the PFMs to into a dictionary, mapping `(x, y)` to the PFM,\n",
    "    where `x` is the metacluster index and `y` is the pattern index.\n",
    "    Arguments:\n",
    "        `tfm_results_path`: path to HDF5 containing TF-MoDISco results\n",
    "        `out_dir`: where to save motifs\n",
    "        `trim`: if True, trim the motif flanks based on information content\n",
    "        `only_pos`: if True, only return motifs with positive contributions\n",
    "    Returns the dictionary of PFMs.\n",
    "    \"\"\" \n",
    "    pfms = {}\n",
    "    with h5py.File(tfm_results_path, \"r\") as f:\n",
    "        metaclusters = f[\"metacluster_idx_to_submetacluster_results\"]\n",
    "        num_metaclusters = len(metaclusters.keys())\n",
    "        for metacluster_i, metacluster_key in enumerate(metaclusters.keys()):\n",
    "            metacluster = metaclusters[metacluster_key]\n",
    "            if \"patterns\" not in metacluster[\"seqlets_to_patterns_result\"]:\n",
    "                continue\n",
    "            patterns = metacluster[\"seqlets_to_patterns_result\"][\"patterns\"]\n",
    "            num_patterns = len(patterns[\"all_pattern_names\"][:])\n",
    "            for pattern_i, pattern_name in enumerate(patterns[\"all_pattern_names\"][:]):\n",
    "                pattern_name = pattern_name.decode()\n",
    "                pattern = patterns[pattern_name]\n",
    "                pfm = pattern[\"sequence\"][\"fwd\"][:]\n",
    "                cwm = pattern[\"task0_contrib_scores\"][\"fwd\"][:]\n",
    "                \n",
    "                # Check that the contribution scores are overall positive\n",
    "                if only_pos and np.sum(cwm) < 0:\n",
    "                    continue\n",
    "                    \n",
    "                if trim:\n",
    "                    pfm = trim_motif_by_ic(pfm, pfm)\n",
    "                    \n",
    "                pfms[\"%d_%d\" % (metacluster_i,pattern_i)] = pfm\n",
    "    return pfms"
   ]
  },
  {
   "cell_type": "code",
   "execution_count": 7,
   "metadata": {},
   "outputs": [],
   "source": [
    "def import_motif_hits(motif_hits_path):\n",
    "    \"\"\"\n",
    "    Imports the motif hits, which is the output of TF-MoDISco hit scanning.\n",
    "    \"\"\"\n",
    "    with open(motif_hits_path, \"r\") as f:\n",
    "        cols = next(f).split(\"\\t\")\n",
    "    assert len(cols) == 16\n",
    "\n",
    "    hit_table = import_tfmodisco_hits(motif_hits_path)\n",
    "\n",
    "    # Sort by aggregate similarity and drop duplicates (by strand)\n",
    "    hit_table = hit_table.sort_values(\"agg_sim\")\n",
    "    hit_table = hit_table.drop_duplicates([\"chrom\", \"start\", \"end\", \"peak_index\"], keep=\"last\")\n",
    "    return hit_table"
   ]
  },
  {
   "cell_type": "code",
   "execution_count": 8,
   "metadata": {},
   "outputs": [],
   "source": [
    "def estimate_mode(x_values, bins=200, levels=1):\n",
    "    \"\"\"\n",
    "    Estimates the mode of the distribution using `levels`\n",
    "    iterations of histograms.\n",
    "    \"\"\"\n",
    "    hist, edges = np.histogram(x_values, bins=bins)\n",
    "    bin_mode = np.argmax(hist)\n",
    "    left_edge, right_edge = edges[bin_mode], edges[bin_mode + 1]\n",
    "    if levels <= 1:\n",
    "        return (left_edge + right_edge) / 2\n",
    "    else:\n",
    "        return estimate_mode(\n",
    "            x_values[(x_values >= left_edge) & (x_values < right_edge)],\n",
    "            bins=bins,\n",
    "            levels=(levels - 1)\n",
    "        )"
   ]
  },
  {
   "cell_type": "code",
   "execution_count": 9,
   "metadata": {},
   "outputs": [],
   "source": [
    "def fit_tight_exponential_dist(x_values, mode=0, percentiles=np.arange(0.05, 1, 0.05)):\n",
    "    \"\"\"\n",
    "    Given an array of x-values and a set of percentiles of the distribution,\n",
    "    computes the set of lambda values for an exponential distribution if the\n",
    "    distribution were fit to each percentile of the x-values. Returns an array\n",
    "    of lambda values parallel to `percentiles`. The exponential distribution\n",
    "    is assumed to have the given mean/mode, and all data less than this mode\n",
    "    is tossed out when doing this computation.\n",
    "    \"\"\"\n",
    "    assert np.min(percentiles) >= 0 and np.max(percentiles) <= 1\n",
    "    x_values = x_values[x_values >= mode]\n",
    "    per_x_vals = np.percentile(x_values, percentiles * 100)\n",
    "    return -np.log(1 - percentiles) / (per_x_vals - mode)"
   ]
  },
  {
   "cell_type": "code",
   "execution_count": 10,
   "metadata": {},
   "outputs": [],
   "source": [
    "def exponential_pdf(x_values, lamb):\n",
    "    return lamb * np.exp(-lamb * x_values)\n",
    "def exponential_cdf(x_values, lamb):\n",
    "    return 1 - np.exp(-lamb * x_values)"
   ]
  },
  {
   "cell_type": "code",
   "execution_count": 11,
   "metadata": {},
   "outputs": [],
   "source": [
    "def filter_tfm_peak_hits(\n",
    "    hit_table, sim_score_column=\"agg_sim\", imp_score_column=\"imp_frac_score\",\n",
    "    sim_perc_cutoff=0.05, imp_perc_cutoff=0.05\n",
    "):\n",
    "    \"\"\"\n",
    "    Filters the table of peak hits by the score defined by\n",
    "    `score_column` by filtering out low-percentile hits in terms of both\n",
    "    similarity to the cluster, and importance score.\n",
    "    For the similarity score, a mixed model is fit to the distribution of\n",
    "    simiarities, and the low percentiles of the exponential component (the\n",
    "    null) are cut off. For the importance score filter, a Gaussian null\n",
    "    is fit to the part of the score distribution to the left of the mode\n",
    "    (mirroring it around the mode), and then applying the percentile\n",
    "    cut-off. Returns a reduced hit table of the same format, and a figure\n",
    "    of the similarity distribution and the importance distribution.\n",
    "    \"\"\"\n",
    "    # Similarity filtering\n",
    "    \n",
    "    sim_scores = hit_table[sim_score_column].values\n",
    "    sim_scores_finite = sim_scores[np.isfinite(sim_scores)]\n",
    "    \n",
    "    sim_mode = estimate_mode(sim_scores_finite)\n",
    "    sim_scores_below_mode = sim_scores_finite[sim_scores_finite <= sim_mode]\n",
    "    sim_scores_symmetric = np.concatenate([sim_scores_below_mode, (2 * sim_mode) - sim_scores_below_mode])\n",
    "\n",
    "    sim_null_model = pomegranate.NormalDistribution.from_samples(sim_scores_symmetric)\n",
    "    sim_null_model.fit(sim_scores_symmetric)\n",
    "\n",
    "    sim_x = np.linspace(np.min(sim_scores_symmetric), np.max(sim_scores_symmetric), 200)\n",
    "    sim_pdf = sim_null_model.probability(sim_x)\n",
    "    \n",
    "    sim_score_fig, ax = plt.subplots(figsize=(20, 6))\n",
    "    ax.hist(sim_scores_finite, bins=500, density=True, alpha=0.3, label=\"Similarity scores\")\n",
    "    ax.hist(sim_scores_symmetric, bins=500, density=True, alpha=0.3, label=\"Null component\")\n",
    "    ax.plot(sim_x, sim_pdf, label=\"Fitted null model\")\n",
    "    mean, std = sim_null_model.parameters\n",
    "    sim_thresh = scipy.stats.norm.ppf(sim_perc_cutoff, mean, std)\n",
    "    ax.axvline(sim_thresh)\n",
    "    plt.legend()\n",
    "    plt.show()\n",
    "    \n",
    "    # Importance score filtering\n",
    "    \n",
    "    imp_scores = hit_table[imp_score_column].values\n",
    "    imp_scores_finite = imp_scores[np.isfinite(imp_scores)]\n",
    "\n",
    "    imp_mode = estimate_mode(imp_scores_finite)\n",
    "    imp_scores_below_mode = imp_scores_finite[imp_scores_finite <= imp_mode]\n",
    "    imp_scores_symmetric = np.concatenate([imp_scores_below_mode, (2 * imp_mode) - imp_scores_below_mode])\n",
    "\n",
    "    imp_null_model = pomegranate.NormalDistribution.from_samples(imp_scores_symmetric)\n",
    "    imp_null_model.fit(imp_scores_symmetric)\n",
    "\n",
    "    imp_x = np.linspace(np.min(imp_scores_symmetric), np.max(imp_scores_symmetric), 200)\n",
    "    imp_pdf = imp_null_model.probability(imp_x)\n",
    "    \n",
    "    imp_score_fig, ax = plt.subplots(figsize=(20, 6))\n",
    "    ax.hist(imp_scores_finite, bins=500, density=True, alpha=0.3, label=\"Importance scores\")\n",
    "    ax.hist(imp_scores_symmetric, bins=500, density=True, alpha=0.3, label=\"Null component\")\n",
    "    ax.plot(imp_x, imp_pdf, label=\"Fitted null model\")\n",
    "    mean, std = imp_null_model.parameters\n",
    "    imp_thresh = scipy.stats.norm.ppf(imp_perc_cutoff, mean, std)\n",
    "    ax.axvline(imp_thresh)\n",
    "    plt.legend()\n",
    "    plt.show()\n",
    "\n",
    "    return hit_table.loc[\n",
    "        (hit_table[sim_score_column] >= sim_thresh) & (hit_table[imp_score_column] >= imp_thresh)\n",
    "    ].reset_index(drop=True), (sim_score_fig, imp_score_fig)"
   ]
  },
  {
   "cell_type": "code",
   "execution_count": 12,
   "metadata": {},
   "outputs": [],
   "source": [
    "def get_peak_hits(peak_table, hit_table):\n",
    "    \"\"\"\n",
    "    For each peak, extracts the set of motif hits that fall in that peak.\n",
    "    Returns a list mapping peak index to a subtable of `hit_table`. The index\n",
    "    of the list is the index of the peak table.\n",
    "    \"\"\"\n",
    "    peak_hits = [pd.DataFrame(columns=list(hit_table))] * len(peak_table)\n",
    "    for peak_index, matches in tqdm.notebook.tqdm(hit_table.groupby(\"peak_index\")):\n",
    "        # Check that all of the matches are indeed overlapping the peak\n",
    "        peak_row = peak_table.iloc[peak_index]\n",
    "        chrom, start, end = peak_row[\"chrom\"], peak_row[\"peak_start\"], peak_row[\"peak_end\"]\n",
    "        assert np.all(matches[\"chrom\"] == chrom)\n",
    "        assert np.all((matches[\"start\"] < end) & (start < matches[\"end\"]))\n",
    "        \n",
    "        peak_hits[peak_index] = matches\n",
    "    return peak_hits"
   ]
  },
  {
   "cell_type": "code",
   "execution_count": 13,
   "metadata": {},
   "outputs": [],
   "source": [
    "def get_peak_motif_counts(peak_hits, motif_keys):\n",
    "    \"\"\"\n",
    "    From the peak hits (as returned by `get_peak_hits`), computes a count\n",
    "    array of size N x M, where N is the number of peaks and M is the number of\n",
    "    motifs. Each entry represents the number of times a motif appears in a peak.\n",
    "    `motif_keys` is a list of motif keys as they appear in `peak_hits`; the\n",
    "    order of the motifs M matches this list.\n",
    "    \"\"\"\n",
    "    motif_inds = {motif_keys[i] : i for i in range(len(motif_keys))}\n",
    "    counts = np.zeros((len(peak_hits), len(motif_keys)), dtype=int)\n",
    "    for i in tqdm.notebook.trange(len(peak_hits)):\n",
    "        hits = peak_hits[i]\n",
    "        for key, num in zip(*np.unique(hits[\"key\"], return_counts=True)):\n",
    "            counts[i][motif_inds[key]] = num\n",
    "    return counts"
   ]
  },
  {
   "cell_type": "code",
   "execution_count": 14,
   "metadata": {},
   "outputs": [],
   "source": [
    "def cluster_matrix_indices(matrix, num_clusters):\n",
    "    \"\"\"\n",
    "    Clusters matrix using k-means. Always clusters on the first\n",
    "    axis. Returns the indices needed to optimally order the matrix\n",
    "    by clusters.\n",
    "    \"\"\"\n",
    "    if len(matrix) == 1:\n",
    "        # Don't cluster at all\n",
    "        return np.array([0])\n",
    "\n",
    "    num_clusters = min(num_clusters, len(matrix))\n",
    "    \n",
    "    # Perform k-means clustering\n",
    "    kmeans = sklearn.cluster.MiniBatchKMeans(n_clusters=num_clusters)\n",
    "    cluster_assignments = kmeans.fit_predict(matrix)\n",
    "\n",
    "    # Perform hierarchical clustering on the cluster centers to determine optimal ordering\n",
    "    kmeans_centers = kmeans.cluster_centers_\n",
    "    cluster_order = scipy.cluster.hierarchy.leaves_list(\n",
    "        scipy.cluster.hierarchy.optimal_leaf_ordering(\n",
    "            scipy.cluster.hierarchy.linkage(kmeans_centers, method=\"centroid\"), kmeans_centers\n",
    "        )\n",
    "    )\n",
    "\n",
    "    # Order the peaks so that the cluster assignments follow the optimal ordering\n",
    "    cluster_inds = []\n",
    "    for cluster_id in cluster_order:\n",
    "        cluster_inds.append(np.where(cluster_assignments == cluster_id)[0])\n",
    "    cluster_inds = np.concatenate(cluster_inds)\n",
    "    return cluster_inds"
   ]
  },
  {
   "cell_type": "markdown",
   "metadata": {},
   "source": [
    "### Import hit results"
   ]
  },
  {
   "cell_type": "code",
   "execution_count": 15,
   "metadata": {},
   "outputs": [],
   "source": [
    "# Import the PFMs\n",
    "pfms_max = import_tfmodisco_motifs(tfm_results_path_max)\n",
    "motif_keys_max = list(pfms_max.keys())\n",
    "\n",
    "pfms_min = import_tfmodisco_motifs(tfm_results_path_min)\n",
    "motif_keys_min = list(pfms_min.keys())"
   ]
  },
  {
   "cell_type": "code",
   "execution_count": 16,
   "metadata": {},
   "outputs": [],
   "source": [
    "# Import peaks\n",
    "peak_table = import_peak_table(peak_bed_paths)\n",
    "\n",
    "# Expand to input length\n",
    "peak_table[\"peak_start\"] = \\\n",
    "    (peak_table[\"peak_start\"] + peak_table[\"summit_offset\"]) - (input_length // 2)\n",
    "peak_table[\"peak_end\"] = peak_table[\"peak_start\"] + input_length"
   ]
  },
  {
   "cell_type": "code",
   "execution_count": 17,
   "metadata": {
    "collapsed": true,
    "jupyter": {
     "outputs_hidden": true
    },
    "tags": []
   },
   "outputs": [
    {
     "name": "stderr",
     "output_type": "stream",
     "text": [
      "\n",
      "Importing SHAP scores:   0%|                            | 0/217 [00:00<?, ?it/s]\u001b[A\n",
      "Importing SHAP scores:   1%|▏                   | 2/217 [00:00<00:12, 16.65it/s]\u001b[A\n",
      "Importing SHAP scores:   2%|▎                   | 4/217 [00:00<00:12, 17.64it/s]\u001b[A\n",
      "Importing SHAP scores:   3%|▌                   | 6/217 [00:00<00:11, 18.01it/s]\u001b[A\n",
      "Importing SHAP scores:   4%|▋                   | 8/217 [00:00<00:11, 18.14it/s]\u001b[A\n",
      "Importing SHAP scores:   5%|▉                  | 10/217 [00:00<00:11, 18.22it/s]\u001b[A\n",
      "Importing SHAP scores:   6%|█                  | 12/217 [00:00<00:11, 18.31it/s]\u001b[A\n",
      "Importing SHAP scores:   6%|█▏                 | 14/217 [00:00<00:11, 18.34it/s]\u001b[A\n",
      "Importing SHAP scores:   7%|█▍                 | 16/217 [00:00<00:10, 18.34it/s]\u001b[A\n",
      "Importing SHAP scores:   8%|█▌                 | 18/217 [00:00<00:10, 18.37it/s]\u001b[A\n",
      "Importing SHAP scores:   9%|█▊                 | 20/217 [00:01<00:10, 18.39it/s]\u001b[A\n",
      "Importing SHAP scores:  10%|█▉                 | 22/217 [00:01<00:10, 18.40it/s]\u001b[A\n",
      "Importing SHAP scores:  11%|██                 | 24/217 [00:01<00:10, 18.41it/s]\u001b[A\n",
      "Importing SHAP scores:  12%|██▎                | 26/217 [00:01<00:10, 18.40it/s]\u001b[A\n",
      "Importing SHAP scores:  13%|██▍                | 28/217 [00:01<00:10, 18.42it/s]\u001b[A\n",
      "Importing SHAP scores:  14%|██▋                | 30/217 [00:01<00:10, 18.43it/s]\u001b[A\n",
      "Importing SHAP scores:  15%|██▊                | 32/217 [00:01<00:10, 18.41it/s]\u001b[A\n",
      "Importing SHAP scores:  16%|██▉                | 34/217 [00:01<00:09, 18.39it/s]\u001b[A\n",
      "Importing SHAP scores:  17%|███▏               | 36/217 [00:01<00:09, 18.43it/s]\u001b[A\n",
      "Importing SHAP scores:  18%|███▎               | 38/217 [00:02<00:09, 18.42it/s]\u001b[A\n",
      "Importing SHAP scores:  18%|███▌               | 40/217 [00:02<00:09, 18.41it/s]\u001b[A\n",
      "Importing SHAP scores:  19%|███▋               | 42/217 [00:02<00:09, 18.41it/s]\u001b[A\n",
      "Importing SHAP scores:  20%|███▊               | 44/217 [00:02<00:09, 18.42it/s]\u001b[A\n",
      "Importing SHAP scores:  21%|████               | 46/217 [00:02<00:09, 18.42it/s]\u001b[A\n",
      "Importing SHAP scores:  22%|████▏              | 48/217 [00:02<00:09, 18.42it/s]\u001b[A\n",
      "Importing SHAP scores:  23%|████▍              | 50/217 [00:02<00:09, 18.39it/s]\u001b[A\n",
      "Importing SHAP scores:  24%|████▌              | 52/217 [00:02<00:08, 18.43it/s]\u001b[A\n",
      "Importing SHAP scores:  25%|████▋              | 54/217 [00:02<00:08, 18.43it/s]\u001b[A\n",
      "Importing SHAP scores:  26%|████▉              | 56/217 [00:03<00:08, 18.43it/s]\u001b[A\n",
      "Importing SHAP scores:  27%|█████              | 58/217 [00:03<00:08, 18.40it/s]\u001b[A\n",
      "Importing SHAP scores:  28%|█████▎             | 60/217 [00:03<00:08, 18.44it/s]\u001b[A\n",
      "Importing SHAP scores:  29%|█████▍             | 62/217 [00:03<00:08, 18.42it/s]\u001b[A\n",
      "Importing SHAP scores:  29%|█████▌             | 64/217 [00:03<00:08, 18.42it/s]\u001b[A\n",
      "Importing SHAP scores:  30%|█████▊             | 66/217 [00:03<00:08, 18.42it/s]\u001b[A\n",
      "Importing SHAP scores:  31%|█████▉             | 68/217 [00:03<00:08, 18.44it/s]\u001b[A\n",
      "Importing SHAP scores:  32%|██████▏            | 70/217 [00:03<00:07, 18.43it/s]\u001b[A\n",
      "Importing SHAP scores:  33%|██████▎            | 72/217 [00:03<00:07, 18.43it/s]\u001b[A\n",
      "Importing SHAP scores:  34%|██████▍            | 74/217 [00:04<00:07, 18.41it/s]\u001b[A\n",
      "Importing SHAP scores:  35%|██████▋            | 76/217 [00:04<00:07, 18.44it/s]\u001b[A\n",
      "Importing SHAP scores:  36%|██████▊            | 78/217 [00:04<00:07, 18.46it/s]\u001b[A\n",
      "Importing SHAP scores:  37%|███████            | 80/217 [00:04<00:07, 18.45it/s]\u001b[A\n",
      "Importing SHAP scores:  38%|███████▏           | 82/217 [00:04<00:07, 18.43it/s]\u001b[A\n",
      "Importing SHAP scores:  39%|███████▎           | 84/217 [00:04<00:07, 18.46it/s]\u001b[A\n",
      "Importing SHAP scores:  40%|███████▌           | 86/217 [00:04<00:07, 18.44it/s]\u001b[A\n",
      "Importing SHAP scores:  41%|███████▋           | 88/217 [00:04<00:06, 18.43it/s]\u001b[A\n",
      "Importing SHAP scores:  41%|███████▉           | 90/217 [00:04<00:06, 18.44it/s]\u001b[A\n",
      "Importing SHAP scores:  42%|████████           | 92/217 [00:05<00:06, 18.44it/s]\u001b[A\n",
      "Importing SHAP scores:  43%|████████▏          | 94/217 [00:05<00:06, 18.44it/s]\u001b[A\n",
      "Importing SHAP scores:  44%|████████▍          | 96/217 [00:05<00:06, 18.43it/s]\u001b[A\n",
      "Importing SHAP scores:  45%|████████▌          | 98/217 [00:05<00:06, 18.42it/s]\u001b[A\n",
      "Importing SHAP scores:  46%|████████▎         | 100/217 [00:05<00:06, 18.44it/s]\u001b[A\n",
      "Importing SHAP scores:  47%|████████▍         | 102/217 [00:05<00:06, 18.46it/s]\u001b[A\n",
      "Importing SHAP scores:  48%|████████▋         | 104/217 [00:05<00:06, 18.42it/s]\u001b[A\n",
      "Importing SHAP scores:  49%|████████▊         | 106/217 [00:05<00:06, 18.41it/s]\u001b[A\n",
      "Importing SHAP scores:  50%|████████▉         | 108/217 [00:05<00:05, 18.45it/s]\u001b[A\n",
      "Importing SHAP scores:  51%|█████████         | 110/217 [00:05<00:05, 18.44it/s]\u001b[A\n",
      "Importing SHAP scores:  52%|█████████▎        | 112/217 [00:06<00:05, 18.43it/s]\u001b[A\n",
      "Importing SHAP scores:  53%|█████████▍        | 114/217 [00:06<00:05, 18.41it/s]\u001b[A\n",
      "Importing SHAP scores:  53%|█████████▌        | 116/217 [00:06<00:05, 18.43it/s]\u001b[A\n",
      "Importing SHAP scores:  54%|█████████▊        | 118/217 [00:06<00:05, 18.44it/s]\u001b[A\n",
      "Importing SHAP scores:  55%|█████████▉        | 120/217 [00:06<00:05, 18.43it/s]\u001b[A\n",
      "Importing SHAP scores:  56%|██████████        | 122/217 [00:06<00:05, 18.43it/s]\u001b[A\n",
      "Importing SHAP scores:  57%|██████████▎       | 124/217 [00:06<00:05, 18.44it/s]\u001b[A\n",
      "Importing SHAP scores:  58%|██████████▍       | 126/217 [00:06<00:04, 18.46it/s]\u001b[A\n",
      "Importing SHAP scores:  59%|██████████▌       | 128/217 [00:06<00:04, 18.43it/s]\u001b[A\n",
      "Importing SHAP scores:  60%|██████████▊       | 130/217 [00:07<00:04, 18.44it/s]\u001b[A\n",
      "Importing SHAP scores:  61%|██████████▉       | 132/217 [00:07<00:04, 18.46it/s]\u001b[A\n",
      "Importing SHAP scores:  62%|███████████       | 134/217 [00:07<00:04, 18.46it/s]\u001b[A\n",
      "Importing SHAP scores:  63%|███████████▎      | 136/217 [00:07<00:04, 18.44it/s]\u001b[A\n",
      "Importing SHAP scores:  64%|███████████▍      | 138/217 [00:07<00:04, 18.44it/s]\u001b[A\n",
      "Importing SHAP scores:  65%|███████████▌      | 140/217 [00:07<00:04, 18.44it/s]\u001b[A\n",
      "Importing SHAP scores:  65%|███████████▊      | 142/217 [00:07<00:04, 18.45it/s]\u001b[A\n",
      "Importing SHAP scores:  66%|███████████▉      | 144/217 [00:07<00:03, 18.43it/s]\u001b[A\n",
      "Importing SHAP scores:  67%|████████████      | 146/217 [00:07<00:03, 18.42it/s]\u001b[A\n",
      "Importing SHAP scores:  68%|████████████▎     | 148/217 [00:08<00:03, 18.44it/s]\u001b[A\n",
      "Importing SHAP scores:  69%|████████████▍     | 150/217 [00:08<00:03, 18.45it/s]\u001b[A\n",
      "Importing SHAP scores:  70%|████████████▌     | 152/217 [00:08<00:03, 18.43it/s]\u001b[A\n",
      "Importing SHAP scores:  71%|████████████▊     | 154/217 [00:08<00:03, 18.42it/s]\u001b[A\n",
      "Importing SHAP scores:  72%|████████████▉     | 156/217 [00:08<00:03, 18.45it/s]\u001b[A\n",
      "Importing SHAP scores:  73%|█████████████     | 158/217 [00:08<00:03, 18.44it/s]\u001b[A\n",
      "Importing SHAP scores:  74%|█████████████▎    | 160/217 [00:08<00:03, 18.42it/s]\u001b[A\n",
      "Importing SHAP scores:  75%|█████████████▍    | 162/217 [00:08<00:02, 18.41it/s]\u001b[A\n",
      "Importing SHAP scores:  76%|█████████████▌    | 164/217 [00:08<00:02, 18.43it/s]\u001b[A\n",
      "Importing SHAP scores:  76%|█████████████▊    | 166/217 [00:09<00:02, 18.42it/s]\u001b[A\n",
      "Importing SHAP scores:  77%|█████████████▉    | 168/217 [00:09<00:02, 18.43it/s]\u001b[A\n",
      "Importing SHAP scores:  78%|██████████████    | 170/217 [00:09<00:02, 18.41it/s]\u001b[A\n",
      "Importing SHAP scores:  79%|██████████████▎   | 172/217 [00:09<00:02, 18.46it/s]\u001b[A\n",
      "Importing SHAP scores:  80%|██████████████▍   | 174/217 [00:09<00:02, 18.50it/s]\u001b[A\n",
      "Importing SHAP scores:  81%|██████████████▌   | 176/217 [00:09<00:02, 18.47it/s]\u001b[A\n",
      "Importing SHAP scores:  82%|██████████████▊   | 178/217 [00:09<00:02, 18.45it/s]\u001b[A\n",
      "Importing SHAP scores:  83%|██████████████▉   | 180/217 [00:09<00:02, 18.46it/s]\u001b[A\n",
      "Importing SHAP scores:  84%|███████████████   | 182/217 [00:09<00:01, 18.44it/s]\u001b[A\n",
      "Importing SHAP scores:  85%|███████████████▎  | 184/217 [00:09<00:01, 18.44it/s]\u001b[A\n",
      "Importing SHAP scores:  86%|███████████████▍  | 186/217 [00:10<00:01, 18.43it/s]\u001b[A\n",
      "Importing SHAP scores:  87%|███████████████▌  | 188/217 [00:10<00:01, 18.45it/s]\u001b[A\n",
      "Importing SHAP scores:  88%|███████████████▊  | 190/217 [00:10<00:01, 18.45it/s]\u001b[A\n",
      "Importing SHAP scores:  88%|███████████████▉  | 192/217 [00:10<00:01, 18.44it/s]\u001b[A\n",
      "Importing SHAP scores:  89%|████████████████  | 194/217 [00:10<00:01, 18.42it/s]\u001b[A\n",
      "Importing SHAP scores:  90%|████████████████▎ | 196/217 [00:10<00:01, 18.46it/s]\u001b[A\n",
      "Importing SHAP scores:  91%|████████████████▍ | 198/217 [00:10<00:01, 18.44it/s]\u001b[A\n",
      "Importing SHAP scores:  92%|████████████████▌ | 200/217 [00:10<00:00, 18.43it/s]\u001b[A\n",
      "Importing SHAP scores:  93%|████████████████▊ | 202/217 [00:10<00:00, 18.42it/s]\u001b[A\n",
      "Importing SHAP scores:  94%|████████████████▉ | 204/217 [00:11<00:00, 18.45it/s]\u001b[A\n",
      "Importing SHAP scores:  95%|█████████████████ | 206/217 [00:11<00:00, 18.44it/s]\u001b[A\n",
      "Importing SHAP scores:  96%|█████████████████▎| 208/217 [00:11<00:00, 18.44it/s]\u001b[A\n",
      "Importing SHAP scores:  97%|█████████████████▍| 210/217 [00:11<00:00, 18.43it/s]\u001b[A\n",
      "Importing SHAP scores:  98%|█████████████████▌| 212/217 [00:11<00:00, 18.46it/s]\u001b[A\n",
      "Importing SHAP scores:  99%|█████████████████▊| 214/217 [00:11<00:00, 18.46it/s]\u001b[A\n",
      "Importing SHAP scores: 100%|██████████████████| 217/217 [00:11<00:00, 18.42it/s]\u001b[A\n",
      "\n",
      "Importing SHAP scores:   0%|                            | 0/217 [00:00<?, ?it/s]\u001b[A\n",
      "Importing SHAP scores:   1%|▏                   | 2/217 [00:00<00:11, 18.37it/s]\u001b[A\n",
      "Importing SHAP scores:   2%|▎                   | 4/217 [00:00<00:11, 18.43it/s]\u001b[A\n",
      "Importing SHAP scores:   3%|▌                   | 6/217 [00:00<00:11, 18.43it/s]\u001b[A\n",
      "Importing SHAP scores:   4%|▋                   | 8/217 [00:00<00:11, 18.43it/s]\u001b[A\n",
      "Importing SHAP scores:   5%|▉                  | 10/217 [00:00<00:11, 18.42it/s]\u001b[A\n",
      "Importing SHAP scores:   6%|█                  | 12/217 [00:00<00:11, 18.46it/s]\u001b[A\n",
      "Importing SHAP scores:   6%|█▏                 | 14/217 [00:00<00:10, 18.46it/s]\u001b[A\n",
      "Importing SHAP scores:   7%|█▍                 | 16/217 [00:00<00:10, 18.45it/s]\u001b[A\n",
      "Importing SHAP scores:   8%|█▌                 | 18/217 [00:00<00:10, 18.44it/s]\u001b[A\n",
      "Importing SHAP scores:   9%|█▊                 | 20/217 [00:01<00:10, 18.46it/s]\u001b[A\n",
      "Importing SHAP scores:  10%|█▉                 | 22/217 [00:01<00:10, 18.44it/s]\u001b[A\n",
      "Importing SHAP scores:  11%|██                 | 24/217 [00:01<00:10, 18.45it/s]\u001b[A\n",
      "Importing SHAP scores:  12%|██▎                | 26/217 [00:01<00:10, 18.43it/s]\u001b[A\n",
      "Importing SHAP scores:  13%|██▍                | 28/217 [00:01<00:10, 18.45it/s]\u001b[A\n",
      "Importing SHAP scores:  14%|██▋                | 30/217 [00:01<00:10, 18.46it/s]\u001b[A\n",
      "Importing SHAP scores:  15%|██▊                | 32/217 [00:01<00:10, 18.44it/s]\u001b[A\n",
      "Importing SHAP scores:  16%|██▉                | 34/217 [00:01<00:09, 18.43it/s]\u001b[A\n",
      "Importing SHAP scores:  17%|███▏               | 36/217 [00:01<00:09, 18.47it/s]\u001b[A\n",
      "Importing SHAP scores:  18%|███▎               | 38/217 [00:02<00:09, 18.46it/s]\u001b[A\n",
      "Importing SHAP scores:  18%|███▌               | 40/217 [00:02<00:09, 18.44it/s]\u001b[A\n",
      "Importing SHAP scores:  19%|███▋               | 42/217 [00:02<00:09, 18.45it/s]\u001b[A\n",
      "Importing SHAP scores:  20%|███▊               | 44/217 [00:02<00:09, 18.44it/s]\u001b[A\n",
      "Importing SHAP scores:  21%|████               | 46/217 [00:02<00:09, 18.45it/s]\u001b[A\n",
      "Importing SHAP scores:  22%|████▏              | 48/217 [00:02<00:09, 18.43it/s]\u001b[A\n",
      "Importing SHAP scores:  23%|████▍              | 50/217 [00:02<00:09, 18.43it/s]\u001b[A\n",
      "Importing SHAP scores:  24%|████▌              | 52/217 [00:02<00:08, 18.45it/s]\u001b[A\n",
      "Importing SHAP scores:  25%|████▋              | 54/217 [00:02<00:08, 18.47it/s]\u001b[A\n",
      "Importing SHAP scores:  26%|████▉              | 56/217 [00:03<00:08, 18.44it/s]\u001b[A\n",
      "Importing SHAP scores:  27%|█████              | 58/217 [00:03<00:08, 18.44it/s]\u001b[A\n",
      "Importing SHAP scores:  28%|█████▎             | 60/217 [00:03<00:08, 18.45it/s]\u001b[A\n",
      "Importing SHAP scores:  29%|█████▍             | 62/217 [00:03<00:08, 18.45it/s]\u001b[A\n",
      "Importing SHAP scores:  29%|█████▌             | 64/217 [00:03<00:08, 18.42it/s]\u001b[A\n",
      "Importing SHAP scores:  30%|█████▊             | 66/217 [00:03<00:08, 18.44it/s]\u001b[A\n",
      "Importing SHAP scores:  31%|█████▉             | 68/217 [00:03<00:08, 18.45it/s]\u001b[A\n",
      "Importing SHAP scores:  32%|██████▏            | 70/217 [00:03<00:07, 18.45it/s]\u001b[A\n",
      "Importing SHAP scores:  33%|██████▎            | 72/217 [00:03<00:07, 18.43it/s]\u001b[A\n",
      "Importing SHAP scores:  34%|██████▍            | 74/217 [00:04<00:07, 18.43it/s]\u001b[A\n",
      "Importing SHAP scores:  35%|██████▋            | 76/217 [00:04<00:07, 18.46it/s]\u001b[A\n",
      "Importing SHAP scores:  36%|██████▊            | 78/217 [00:04<00:07, 18.46it/s]\u001b[A\n",
      "Importing SHAP scores:  37%|███████            | 80/217 [00:04<00:07, 18.44it/s]\u001b[A\n",
      "Importing SHAP scores:  38%|███████▏           | 82/217 [00:04<00:07, 18.43it/s]\u001b[A\n",
      "Importing SHAP scores:  39%|███████▎           | 84/217 [00:04<00:07, 18.46it/s]\u001b[A\n",
      "Importing SHAP scores:  40%|███████▌           | 86/217 [00:04<00:07, 18.46it/s]\u001b[A\n",
      "Importing SHAP scores:  41%|███████▋           | 88/217 [00:04<00:06, 18.44it/s]\u001b[A\n",
      "Importing SHAP scores:  41%|███████▉           | 90/217 [00:04<00:06, 18.46it/s]\u001b[A\n",
      "Importing SHAP scores:  42%|████████           | 92/217 [00:04<00:06, 18.46it/s]\u001b[A\n",
      "Importing SHAP scores:  43%|████████▏          | 94/217 [00:05<00:06, 18.45it/s]\u001b[A\n",
      "Importing SHAP scores:  44%|████████▍          | 96/217 [00:05<00:06, 18.45it/s]\u001b[A\n",
      "Importing SHAP scores:  45%|████████▌          | 98/217 [00:05<00:06, 18.43it/s]\u001b[A\n",
      "Importing SHAP scores:  46%|████████▎         | 100/217 [00:05<00:06, 18.45it/s]\u001b[A\n",
      "Importing SHAP scores:  47%|████████▍         | 102/217 [00:05<00:06, 18.46it/s]\u001b[A\n",
      "Importing SHAP scores:  48%|████████▋         | 104/217 [00:05<00:06, 18.45it/s]\u001b[A\n",
      "Importing SHAP scores:  49%|████████▊         | 106/217 [00:05<00:06, 18.45it/s]\u001b[A\n",
      "Importing SHAP scores:  50%|████████▉         | 108/217 [00:05<00:05, 18.48it/s]\u001b[A\n",
      "Importing SHAP scores:  51%|█████████         | 110/217 [00:05<00:05, 18.47it/s]\u001b[A\n",
      "Importing SHAP scores:  52%|█████████▎        | 112/217 [00:06<00:05, 18.47it/s]\u001b[A\n",
      "Importing SHAP scores:  53%|█████████▍        | 114/217 [00:06<00:05, 18.47it/s]\u001b[A\n",
      "Importing SHAP scores:  53%|█████████▌        | 116/217 [00:06<00:05, 18.49it/s]\u001b[A\n",
      "Importing SHAP scores:  54%|█████████▊        | 118/217 [00:06<00:05, 18.47it/s]\u001b[A\n",
      "Importing SHAP scores:  55%|█████████▉        | 120/217 [00:06<00:05, 18.47it/s]\u001b[A\n",
      "Importing SHAP scores:  56%|██████████        | 122/217 [00:06<00:05, 18.43it/s]\u001b[A\n",
      "Importing SHAP scores:  57%|██████████▎       | 124/217 [00:06<00:05, 18.48it/s]\u001b[A\n",
      "Importing SHAP scores:  58%|██████████▍       | 126/217 [00:06<00:04, 18.47it/s]\u001b[A\n",
      "Importing SHAP scores:  59%|██████████▌       | 128/217 [00:06<00:04, 18.47it/s]\u001b[A\n",
      "Importing SHAP scores:  60%|██████████▊       | 130/217 [00:07<00:04, 18.45it/s]\u001b[A\n",
      "Importing SHAP scores:  61%|██████████▉       | 132/217 [00:07<00:04, 18.48it/s]\u001b[A\n",
      "Importing SHAP scores:  62%|███████████       | 134/217 [00:07<00:04, 18.47it/s]\u001b[A\n",
      "Importing SHAP scores:  63%|███████████▎      | 136/217 [00:07<00:04, 18.47it/s]\u001b[A\n",
      "Importing SHAP scores:  64%|███████████▍      | 138/217 [00:07<00:04, 18.45it/s]\u001b[A\n",
      "Importing SHAP scores:  65%|███████████▌      | 140/217 [00:07<00:04, 18.47it/s]\u001b[A\n",
      "Importing SHAP scores:  65%|███████████▊      | 142/217 [00:07<00:04, 18.47it/s]\u001b[A\n",
      "Importing SHAP scores:  66%|███████████▉      | 144/217 [00:07<00:03, 18.47it/s]\u001b[A\n",
      "Importing SHAP scores:  67%|████████████      | 146/217 [00:07<00:03, 18.45it/s]\u001b[A\n",
      "Importing SHAP scores:  68%|████████████▎     | 148/217 [00:08<00:03, 18.48it/s]\u001b[A\n",
      "Importing SHAP scores:  69%|████████████▍     | 150/217 [00:08<00:03, 18.48it/s]\u001b[A\n",
      "Importing SHAP scores:  70%|████████████▌     | 152/217 [00:08<00:03, 18.46it/s]\u001b[A\n",
      "Importing SHAP scores:  71%|████████████▊     | 154/217 [00:08<00:03, 18.44it/s]\u001b[A\n",
      "Importing SHAP scores:  72%|████████████▉     | 156/217 [00:08<00:03, 18.47it/s]\u001b[A\n",
      "Importing SHAP scores:  73%|█████████████     | 158/217 [00:08<00:03, 18.46it/s]\u001b[A\n",
      "Importing SHAP scores:  74%|█████████████▎    | 160/217 [00:08<00:03, 18.46it/s]\u001b[A\n",
      "Importing SHAP scores:  75%|█████████████▍    | 162/217 [00:08<00:02, 18.45it/s]\u001b[A\n",
      "Importing SHAP scores:  76%|█████████████▌    | 164/217 [00:08<00:02, 18.46it/s]\u001b[A\n",
      "Importing SHAP scores:  76%|█████████████▊    | 166/217 [00:08<00:02, 18.46it/s]\u001b[A\n",
      "Importing SHAP scores:  77%|█████████████▉    | 168/217 [00:09<00:02, 18.46it/s]\u001b[A\n",
      "Importing SHAP scores:  78%|██████████████    | 170/217 [00:09<00:02, 18.45it/s]\u001b[A\n",
      "Importing SHAP scores:  79%|██████████████▎   | 172/217 [00:09<00:02, 18.46it/s]\u001b[A\n",
      "Importing SHAP scores:  80%|██████████████▍   | 174/217 [00:09<00:02, 18.47it/s]\u001b[A\n",
      "Importing SHAP scores:  81%|██████████████▌   | 176/217 [00:09<00:02, 18.45it/s]\u001b[A\n",
      "Importing SHAP scores:  82%|██████████████▊   | 178/217 [00:09<00:02, 18.45it/s]\u001b[A\n",
      "Importing SHAP scores:  83%|██████████████▉   | 180/217 [00:09<00:02, 18.48it/s]\u001b[A\n",
      "Importing SHAP scores:  84%|███████████████   | 182/217 [00:09<00:01, 18.47it/s]\u001b[A\n",
      "Importing SHAP scores:  85%|███████████████▎  | 184/217 [00:09<00:01, 18.46it/s]\u001b[A\n",
      "Importing SHAP scores:  86%|███████████████▍  | 186/217 [00:10<00:01, 18.45it/s]\u001b[A\n",
      "Importing SHAP scores:  87%|███████████████▌  | 188/217 [00:10<00:01, 18.45it/s]\u001b[A\n",
      "Importing SHAP scores:  88%|███████████████▊  | 190/217 [00:10<00:01, 18.47it/s]\u001b[A\n",
      "Importing SHAP scores:  88%|███████████████▉  | 192/217 [00:10<00:01, 18.45it/s]\u001b[A\n",
      "Importing SHAP scores:  89%|████████████████  | 194/217 [00:10<00:01, 18.44it/s]\u001b[A\n",
      "Importing SHAP scores:  90%|████████████████▎ | 196/217 [00:10<00:01, 18.45it/s]\u001b[A\n",
      "Importing SHAP scores:  91%|████████████████▍ | 198/217 [00:10<00:01, 18.48it/s]\u001b[A\n",
      "Importing SHAP scores:  92%|████████████████▌ | 200/217 [00:10<00:00, 18.44it/s]\u001b[A\n",
      "Importing SHAP scores:  93%|████████████████▊ | 202/217 [00:10<00:00, 18.45it/s]\u001b[A\n",
      "Importing SHAP scores:  94%|████████████████▉ | 204/217 [00:11<00:00, 18.46it/s]\u001b[A\n",
      "Importing SHAP scores:  95%|█████████████████ | 206/217 [00:11<00:00, 18.48it/s]\u001b[A\n",
      "Importing SHAP scores:  96%|█████████████████▎| 208/217 [00:11<00:00, 18.45it/s]\u001b[A\n",
      "Importing SHAP scores:  97%|█████████████████▍| 210/217 [00:11<00:00, 18.45it/s]\u001b[A\n",
      "Importing SHAP scores:  98%|█████████████████▌| 212/217 [00:11<00:00, 18.45it/s]\u001b[A\n",
      "Importing SHAP scores:  99%|█████████████████▊| 214/217 [00:11<00:00, 18.46it/s]\u001b[A\n",
      "Importing SHAP scores: 100%|██████████████████| 217/217 [00:11<00:00, 18.46it/s]\u001b[A\n"
     ]
    }
   ],
   "source": [
    "# Import DeepSHAP scores\n",
    "hyp_scores_max, act_scores_max, one_hot_seqs_max, shap_coords_max = import_shap_scores(\n",
    "    shap_scores_path_max, hyp_score_key, center_cut_size=None, remove_non_acgt=False\n",
    ")\n",
    "\n",
    "# Import DeepSHAP scores\n",
    "hyp_scores_min, act_scores_min, one_hot_seqs_min, shap_coords_min = import_shap_scores(\n",
    "    shap_scores_path_min, hyp_score_key, center_cut_size=None, remove_non_acgt=False\n",
    ")"
   ]
  },
  {
   "cell_type": "code",
   "execution_count": 18,
   "metadata": {},
   "outputs": [],
   "source": [
    "# Limit SHAP coordinates/scores to only those with matching peak coordinates\n",
    "shap_coords_table_max = pd.DataFrame(shap_coords_max, columns=[\"chrom\", \"start\", \"end\"])\n",
    "shap_coords_table_min = pd.DataFrame(shap_coords_min, columns=[\"chrom\", \"start\", \"end\"])\n",
    "peak_coords_table = peak_table[[\"chrom\", \"peak_start\", \"peak_end\"]]\n",
    "\n",
    "order_inds_max = peak_coords_table.merge(\n",
    "    shap_coords_table_max.reset_index(), how=\"left\", left_on=[\"chrom\", \"peak_start\", \"peak_end\"],\n",
    "    right_on=[\"chrom\", \"start\", \"end\"]\n",
    ")[\"index\"].values\n",
    "order_inds_max = np.nan_to_num(order_inds_max, nan=-1).astype(int)\n",
    "\n",
    "shap_coords_max = shap_coords_max[order_inds_max]\n",
    "hyp_scores_max = hyp_scores_max[order_inds_max]\n",
    "act_scores_max = act_scores_max[order_inds_max]\n",
    "one_hot_seqs_max = one_hot_seqs_max[order_inds_max]\n",
    "\n",
    "# Whenever a SHAP coord did not exist in the peak table, set to 0\n",
    "# This ensures that when we search for matches of DeepSHAP scores that don't\n",
    "# exist, we will find nothing\n",
    "shap_coords_max[order_inds_max < 0] = 0\n",
    "hyp_scores_max[order_inds_max < 0] = 0\n",
    "act_scores_max[order_inds_max < 0] = 0\n",
    "one_hot_seqs_max[order_inds_max < 0] = 0\n",
    "\n",
    "\n",
    "order_inds_min = peak_coords_table.merge(\n",
    "    shap_coords_table_min.reset_index(), how=\"left\", left_on=[\"chrom\", \"peak_start\", \"peak_end\"],\n",
    "    right_on=[\"chrom\", \"start\", \"end\"]\n",
    ")[\"index\"].values\n",
    "order_inds_min = np.nan_to_num(order_inds_min, nan=-1).astype(int)\n",
    "\n",
    "shap_coords_min = shap_coords_min[order_inds_min]\n",
    "hyp_scores_min = hyp_scores_min[order_inds_min]\n",
    "act_scores_min = act_scores_min[order_inds_min]\n",
    "one_hot_seqs_min = one_hot_seqs_min[order_inds_min]\n",
    "\n",
    "# Whenever a SHAP coord did not exist in the peak table, set to 0\n",
    "# This ensures that when we search for matches of DeepSHAP scores that don't\n",
    "# exist, we will find nothing\n",
    "shap_coords_min[order_inds_min < 0] = 0\n",
    "hyp_scores_min[order_inds_min < 0] = 0\n",
    "act_scores_min[order_inds_min < 0] = 0\n",
    "one_hot_seqs_min[order_inds_min < 0] = 0"
   ]
  },
  {
   "cell_type": "code",
   "execution_count": 19,
   "metadata": {},
   "outputs": [],
   "source": [
    "# Import motif hits results\n",
    "hit_table_max = import_motif_hits(motif_hits_path_max)\n",
    "hit_table_min = import_motif_hits(motif_hits_path_min)"
   ]
  },
  {
   "cell_type": "code",
   "execution_count": 20,
   "metadata": {
    "collapsed": true,
    "jupyter": {
     "outputs_hidden": true
    },
    "tags": []
   },
   "outputs": [
    {
     "data": {
      "image/png": "[encoded data removed]",
      "text/plain": [
       "<Figure size 1440x432 with 1 Axes>"
      ]
     },
     "metadata": {
      "needs_background": "light"
     },
     "output_type": "display_data"
    },
    {
     "data": {
      "image/png": "[encoded data removed]",
      "text/plain": [
       "<Figure size 1440x432 with 1 Axes>"
      ]
     },
     "metadata": {
      "needs_background": "light"
     },
     "output_type": "display_data"
    },
    {
     "data": {
      "image/png": "[encoded data removed]",
      "text/plain": [
       "<Figure size 1440x432 with 1 Axes>"
      ]
     },
     "metadata": {
      "needs_background": "light"
     },
     "output_type": "display_data"
    },
    {
     "data": {
      "image/png": "[encoded data removed]",
      "text/plain": [
       "<Figure size 1440x432 with 1 Axes>"
      ]
     },
     "metadata": {
      "needs_background": "light"
     },
     "output_type": "display_data"
    }
   ],
   "source": [
    "# Filter motif hit table\n",
    "hit_table_filtered_max, (sim_score_fig, imp_score_fig) = filter_tfm_peak_hits(\n",
    "    hit_table_max, sim_perc_cutoff=motif_tfm_sim_perc_cutoff, imp_perc_cutoff=motif_tfm_imp_perc_cutoff\n",
    ")\n",
    "\n",
    "hit_table_filtered_min, (sim_score_fig, imp_score_fig) = filter_tfm_peak_hits(\n",
    "    hit_table_min, sim_perc_cutoff=motif_tfm_sim_perc_cutoff, imp_perc_cutoff=motif_tfm_imp_perc_cutoff\n",
    ")"
   ]
  },
  {
   "cell_type": "code",
   "execution_count": 21,
   "metadata": {},
   "outputs": [],
   "source": [
    "assert not hit_table_filtered_max.empty, \"Filtered out all %d original hits\" % len(hit_table_max)\n",
    "assert not hit_table_filtered_min.empty, \"Filtered out all %d original hits\" % len(hit_table_min)"
   ]
  },
  {
   "cell_type": "code",
   "execution_count": 22,
   "metadata": {},
   "outputs": [
    {
     "data": {
      "application/vnd.jupyter.widget-view+json": {
       "model_id": "570c37d3bf29492393fe60d52bdc3602",
       "version_major": 2,
       "version_minor": 0
      },
      "text/plain": [
       "  0%|          | 0/41506 [00:00<?, ?it/s]"
      ]
     },
     "metadata": {},
     "output_type": "display_data"
    },
    {
     "data": {
      "application/vnd.jupyter.widget-view+json": {
       "model_id": "a5db131410544b32a2ae7fc0a3b2e7ac",
       "version_major": 2,
       "version_minor": 0
      },
      "text/plain": [
       "  0%|          | 0/40826 [00:00<?, ?it/s]"
      ]
     },
     "metadata": {},
     "output_type": "display_data"
    }
   ],
   "source": [
    "# Match peaks to motif hits\n",
    "peak_hits_max = get_peak_hits(peak_table, hit_table_filtered_max)\n",
    "peak_hits_min = get_peak_hits(peak_table, hit_table_filtered_min)"
   ]
  },
  {
   "cell_type": "markdown",
   "metadata": {},
   "source": [
    "## my code"
   ]
  },
  {
   "cell_type": "markdown",
   "metadata": {},
   "source": [
    "### For CTCF and FOSL2 CUT&RUN, we saw that the core motif (CCACCAGGGGG for CTCF; TGACTGA for FOSL2) had motif hits in a subset of peaks for the short-fragment-length task and the long-fragment-length task. Do these motif hits occur in disjoint peaks? Do they add up to represent all CUT&RUN peaks?"
   ]
  },
  {
   "cell_type": "code",
   "execution_count": 34,
   "metadata": {},
   "outputs": [
    {
     "data": {
      "text/plain": [
       "54233"
      ]
     },
     "execution_count": 34,
     "metadata": {},
     "output_type": "execute_result"
    }
   ],
   "source": [
    "len(peak_hits_max)  # 1 entry for each peak in peak_table\n",
    "# same len as peak_hits_min but very different contents"
   ]
  },
  {
   "cell_type": "code",
   "execution_count": 37,
   "metadata": {},
   "outputs": [
    {
     "data": {
      "text/html": [
       "<div>\n",
       "<style scoped>\n",
       "    .dataframe tbody tr th:only-of-type {\n",
       "        vertical-align: middle;\n",
       "    }\n",
       "\n",
       "    .dataframe tbody tr th {\n",
       "        vertical-align: top;\n",
       "    }\n",
       "\n",
       "    .dataframe thead th {\n",
       "        text-align: right;\n",
       "    }\n",
       "</style>\n",
       "<table border=\"1\" class=\"dataframe\">\n",
       "  <thead>\n",
       "    <tr style=\"text-align: right;\">\n",
       "      <th></th>\n",
       "      <th>chrom</th>\n",
       "      <th>start</th>\n",
       "      <th>end</th>\n",
       "      <th>key</th>\n",
       "      <th>strand</th>\n",
       "      <th>peak_index</th>\n",
       "      <th>imp_total_signed_score</th>\n",
       "      <th>imp_total_score</th>\n",
       "      <th>imp_frac_score</th>\n",
       "      <th>imp_ic_avg_score</th>\n",
       "      <th>agg_sim</th>\n",
       "      <th>mod_delta</th>\n",
       "      <th>mod_precision</th>\n",
       "      <th>mod_percentile</th>\n",
       "      <th>fann_perclasssum_perc</th>\n",
       "      <th>fann_perclassavg_perc</th>\n",
       "    </tr>\n",
       "  </thead>\n",
       "  <tbody>\n",
       "    <tr>\n",
       "      <th>27400</th>\n",
       "      <td>chr8</td>\n",
       "      <td>106763226</td>\n",
       "      <td>106763244</td>\n",
       "      <td>0_0</td>\n",
       "      <td>-</td>\n",
       "      <td>17020</td>\n",
       "      <td>0.086337</td>\n",
       "      <td>0.093889</td>\n",
       "      <td>0.278857</td>\n",
       "      <td>0.003992</td>\n",
       "      <td>0.179009</td>\n",
       "      <td>0.000288</td>\n",
       "      <td>1.0</td>\n",
       "      <td>0.737852</td>\n",
       "      <td>0.079284</td>\n",
       "      <td>0.079284</td>\n",
       "    </tr>\n",
       "    <tr>\n",
       "      <th>83080</th>\n",
       "      <td>chr8</td>\n",
       "      <td>106763228</td>\n",
       "      <td>106763246</td>\n",
       "      <td>0_0</td>\n",
       "      <td>+</td>\n",
       "      <td>17020</td>\n",
       "      <td>0.085449</td>\n",
       "      <td>0.094777</td>\n",
       "      <td>0.281494</td>\n",
       "      <td>0.006449</td>\n",
       "      <td>0.636667</td>\n",
       "      <td>0.000205</td>\n",
       "      <td>1.0</td>\n",
       "      <td>0.588235</td>\n",
       "      <td>0.947570</td>\n",
       "      <td>0.947570</td>\n",
       "    </tr>\n",
       "  </tbody>\n",
       "</table>\n",
       "</div>"
      ],
      "text/plain": [
       "      chrom      start        end  key strand  peak_index  \\\n",
       "27400  chr8  106763226  106763244  0_0      -       17020   \n",
       "83080  chr8  106763228  106763246  0_0      +       17020   \n",
       "\n",
       "       imp_total_signed_score  imp_total_score  imp_frac_score  \\\n",
       "27400                0.086337         0.093889        0.278857   \n",
       "83080                0.085449         0.094777        0.281494   \n",
       "\n",
       "       imp_ic_avg_score   agg_sim  mod_delta  mod_precision  mod_percentile  \\\n",
       "27400          0.003992  0.179009   0.000288            1.0        0.737852   \n",
       "83080          0.006449  0.636667   0.000205            1.0        0.588235   \n",
       "\n",
       "       fann_perclasssum_perc  fann_perclassavg_perc  \n",
       "27400               0.079284               0.079284  \n",
       "83080               0.947570               0.947570  "
      ]
     },
     "execution_count": 37,
     "metadata": {},
     "output_type": "execute_result"
    }
   ],
   "source": [
    "peak_hits_max[17020]  # list mapping peak index to a subtable of `hit_table`"
   ]
  },
  {
   "cell_type": "markdown",
   "metadata": {},
   "source": [
    "#### a) Calculate how many peaks have core motif hit and a motif hit in general from max and/or min tasks (just generally, how many peaks have some motif hit?) "
   ]
  },
  {
   "cell_type": "code",
   "execution_count": 38,
   "metadata": {},
   "outputs": [],
   "source": [
    "hit_table_filtered_max_0_0 = hit_table_filtered_max.loc[hit_table_filtered_max.key == '0_0',:]  # removes 178484 non-core motif hits\n",
    "hit_table_filtered_min_0_0 = hit_table_filtered_min.loc[hit_table_filtered_min.key == '0_0',:]  # removes 173204 non-core motif hits"
   ]
  },
  {
   "cell_type": "code",
   "execution_count": 39,
   "metadata": {},
   "outputs": [
    {
     "name": "stdout",
     "output_type": "stream",
     "text": [
      "Number of unique peaks from max task with >0 core motif hit: 41506\n",
      "Number of unique peaks from min task with >0 core motif hit: 39257\n",
      "Number of unique peaks from either task with >0 core motif hit: 41610\n",
      "Percent of peaks with >0 core motif hit from either task: 76.7%\n"
     ]
    }
   ],
   "source": [
    "# how many peaks have core motif hit from either task\n",
    "unique_peaks_max = set(hit_table_filtered_max_0_0.peak_index.unique())  # unique peaks with at least 1 core motif hit\n",
    "unique_peaks_min = set(hit_table_filtered_min_0_0.peak_index.unique())\n",
    "\n",
    "print(f'Number of unique peaks from max task with >0 core motif hit: {len(unique_peaks_max)}')\n",
    "print(f'Number of unique peaks from min task with >0 core motif hit: {len(unique_peaks_min)}')\n",
    "print(f'Number of unique peaks from either task with >0 core motif hit: {len(unique_peaks_max | unique_peaks_min)}')\n",
    "print(f'Percent of peaks with >0 core motif hit from either task: {round(len(unique_peaks_max | unique_peaks_min) / len(peak_hits_max) * 100, 1)}%')\n"
   ]
  },
  {
   "cell_type": "code",
   "execution_count": 40,
   "metadata": {},
   "outputs": [
    {
     "name": "stdout",
     "output_type": "stream",
     "text": [
      "Number of unique peaks from max task with >0 core motif hit: 41506\n",
      "Number of unique peaks from min task with >0 core motif hit: 40826\n",
      "Number of unique peaks from either task with >0 core motif hit: 41688\n",
      "Percent of peaks with >0 general motif hit from either task: 76.9%\n"
     ]
    }
   ],
   "source": [
    "# how many peaks have any general motif hit from either task\n",
    "ORIG_unique_peaks_max = set(hit_table_filtered_max.peak_index.unique())  # unique peaks with at least 1 general motif hit\n",
    "ORIG_unique_peaks_min = set(hit_table_filtered_min.peak_index.unique())\n",
    "\n",
    "print(f'Number of unique peaks from max task with >0 core motif hit: {len(ORIG_unique_peaks_max)}')\n",
    "print(f'Number of unique peaks from min task with >0 core motif hit: {len(ORIG_unique_peaks_min)}')\n",
    "print(f'Number of unique peaks from either task with >0 core motif hit: {len(ORIG_unique_peaks_max | ORIG_unique_peaks_min)}')\n",
    "print(f'Percent of peaks with >0 general motif hit from either task: {round(len(ORIG_unique_peaks_max | ORIG_unique_peaks_min) / len(peak_hits_max) * 100, 1)}%')\n"
   ]
  },
  {
   "cell_type": "markdown",
   "metadata": {},
   "source": [
    "#### b) Calculate how many peaks have core motif hit from JUST max task, from JUST min task, and from BOTH tasks"
   ]
  },
  {
   "cell_type": "code",
   "execution_count": 41,
   "metadata": {},
   "outputs": [
    {
     "name": "stdout",
     "output_type": "stream",
     "text": [
      "Number of unique peaks with >0 core motif hit from JUST MAX task: 2353\n",
      "Percent of unique peaks with >0 core motif hit from JUST MAX task: 4.3%\n"
     ]
    }
   ],
   "source": [
    "print(f'Number of unique peaks with >0 core motif hit from JUST MAX task: {len(unique_peaks_max.difference(unique_peaks_min))}')\n",
    "print(f'Percent of unique peaks with >0 core motif hit from JUST MAX task: {round(len(unique_peaks_max.difference(unique_peaks_min)) / len(peak_hits_max) * 100, 1)}%')\n"
   ]
  },
  {
   "cell_type": "code",
   "execution_count": 42,
   "metadata": {},
   "outputs": [
    {
     "name": "stdout",
     "output_type": "stream",
     "text": [
      "Number of unique peaks with >0 core motif hit from JUST MIN task: 104\n",
      "Percent of unique peaks with >0 core motif hit from JUST MIN task: 0.2%\n"
     ]
    }
   ],
   "source": [
    "print(f'Number of unique peaks with >0 core motif hit from JUST MIN task: {len(unique_peaks_min.difference(unique_peaks_max))}')\n",
    "print(f'Percent of unique peaks with >0 core motif hit from JUST MIN task: {round(len(unique_peaks_min.difference(unique_peaks_max)) / len(peak_hits_max) * 100, 1)}%')\n"
   ]
  },
  {
   "cell_type": "code",
   "execution_count": 43,
   "metadata": {},
   "outputs": [
    {
     "name": "stdout",
     "output_type": "stream",
     "text": [
      "Number of unique peaks with >0 core motif hit from BOTH TASKS: 39153\n",
      "Percent of unique peaks with >0 core motif hit from BOTH TASKS: 72.2%\n"
     ]
    }
   ],
   "source": [
    "print(f'Number of unique peaks with >0 core motif hit from BOTH TASKS: {len(unique_peaks_max & unique_peaks_min)}')\n",
    "print(f'Percent of unique peaks with >0 core motif hit from BOTH TASKS: {round(len(unique_peaks_max & unique_peaks_min) / len(peak_hits_max) * 100, 1)}%')\n"
   ]
  },
  {
   "cell_type": "code",
   "execution_count": 29,
   "metadata": {},
   "outputs": [],
   "source": [
    "## these percentages add up to 76.7%, as expected"
   ]
  },
  {
   "cell_type": "markdown",
   "metadata": {},
   "source": [
    "#### c) Calculate how many peaks have NO core motif hit from either task"
   ]
  },
  {
   "cell_type": "code",
   "execution_count": 44,
   "metadata": {},
   "outputs": [
    {
     "name": "stdout",
     "output_type": "stream",
     "text": [
      "Number of unique peaks with no core motif hit: 12623\n",
      "Percent of unique peaks with no core motif hit: 23.3%\n"
     ]
    }
   ],
   "source": [
    "print(f'Number of unique peaks with no core motif hit: {len(peak_hits_max) - len(unique_peaks_max | unique_peaks_min)}')\n",
    "print(f'Percent of unique peaks with no core motif hit: {round((len(peak_hits_max) - len(unique_peaks_max | unique_peaks_min)) / len(peak_hits_max) * 100, 1)}%')\n",
    "# yep sounds right\n"
   ]
  },
  {
   "cell_type": "code",
   "execution_count": 31,
   "metadata": {},
   "outputs": [
    {
     "name": "stdout",
     "output_type": "stream",
     "text": [
      "setty1: {1, 2, 3}\n",
      "setty2: {2, 4, 6}\n",
      "setty1 symmetric difference with setty2: {1, 3, 4, 6}\n",
      "setty1 difference with setty2: {1, 3}\n",
      "setty2 difference with setty1: {4, 6}\n",
      "setty1 intersection with setty2: {2}\n"
     ]
    }
   ],
   "source": [
    "# example for future reference\n",
    "setty1 = {1, 2, 3}\n",
    "setty2 = {2, 4, 6}\n",
    "print(f'setty1: {setty1}\\nsetty2: {setty2}')\n",
    "print(f'setty1 symmetric difference with setty2: {setty1.symmetric_difference(setty2)}')\n",
    "print(f'setty1 difference with setty2: {setty1.difference(setty2)}')\n",
    "print(f'setty2 difference with setty1: {setty2.difference(setty1)}')\n",
    "print(f'setty1 intersection with setty2: {setty1.intersection(setty2)}')"
   ]
  },
  {
   "cell_type": "markdown",
   "metadata": {},
   "source": [
    "### Do the motif hits from the short task tend to overlie DNase-seq peaks, whereas the long task motif hits tend to be outside DNase-seq peaks?"
   ]
  },
  {
   "cell_type": "code",
   "execution_count": 45,
   "metadata": {},
   "outputs": [],
   "source": [
    "dnase_peaks = import_peak_table(['/home/katie/bp_repo/research/data/ENCFF274YGF.bed'])"
   ]
  },
  {
   "cell_type": "code",
   "execution_count": 58,
   "metadata": {},
   "outputs": [],
   "source": [
    "import joblib\n",
    "def get_motif_hits_in_dnase_peaks(hit_table, dnase_peaks):\n",
    "    '''\n",
    "    USE THIS! From a table of motif hits, finds how many overlap a dnase peak.\n",
    "    \n",
    "    Input:\n",
    "    hit_table: pd dataframe of motif hits\n",
    "    dnase_peaks: pd dataframe of peaks\n",
    "    \n",
    "    Output:\n",
    "    (integer of how many motif hits overlap a dnase peak, float of percent of motif hits overlapping a dnase peak)\n",
    "    '''\n",
    "    num_hits_overlapping_dnase = 0\n",
    "    \n",
    "    #for index, hit in tqdm.tqdm_notebook(hit_table.iterrows()):\n",
    "    for index, hit in hit_table.iterrows():\n",
    "        conditions = (hit.chrom == dnase_peaks.chrom) & (hit.start >= dnase_peaks.peak_start) & (hit.end <= dnase_peaks.peak_end)\n",
    "        if len(dnase_peaks[conditions]) > 0:\n",
    "            num_hits_overlapping_dnase += 1 \n",
    "            \n",
    "    percent_hits_overlapping_dnase = num_hits_overlapping_dnase / len(hit_table)\n",
    "    return num_hits_overlapping_dnase, percent_hits_overlapping_dnase"
   ]
  },
  {
   "cell_type": "code",
   "execution_count": 59,
   "metadata": {
    "tags": []
   },
   "outputs": [],
   "source": [
    "hit_table_filtered_max_0_0_SPLIT = np.array_split(hit_table_filtered_max_0_0, 64)\n",
    "out_max = joblib.Parallel(n_jobs=64)(joblib.delayed(get_motif_hits_in_dnase_peaks)(hit_table, dnase_peaks) for \n",
    "                                 hit_table in hit_table_filtered_max_0_0_SPLIT)\n",
    "\n",
    "hit_table_filtered_min_0_0_SPLIT = np.array_split(hit_table_filtered_min_0_0, 64)\n",
    "out_min = joblib.Parallel(n_jobs=64)(joblib.delayed(get_motif_hits_in_dnase_peaks)(hit_table, dnase_peaks) for \n",
    "                                 hit_table in hit_table_filtered_min_0_0_SPLIT)\n",
    "\n",
    "num_overlaps_max_0_0, percent_overlaps_max_0_0 = sum(num_hits[0] for num_hits in out_max), sum(num_hits[0] for num_hits in out_max) / len(hit_table_filtered_max_0_0)\n",
    "num_overlaps_min_0_0, percent_overlaps_min_0_0 = sum(num_hits[0] for num_hits in out_min), sum(num_hits[0] for num_hits in out_min) / len(hit_table_filtered_min_0_0)"
   ]
  },
  {
   "cell_type": "code",
   "execution_count": 62,
   "metadata": {},
   "outputs": [
    {
     "data": {
      "text/plain": [
       "{'Number of motif hits from maxfl120 task with motif key 0_0 overlapping a DNase peak': 52186,\n",
       " 'Percent of motif hits from maxfl120 task with motif key 0_0 overlapping a DNase peak': 0.6208332341954365}"
      ]
     },
     "execution_count": 62,
     "metadata": {},
     "output_type": "execute_result"
    }
   ],
   "source": [
    "dicty = {'Number of motif hits from maxfl120 task with motif key 0_0 overlapping a DNase peak': num_overlaps_max_0_0,\n",
    "      'Percent of motif hits from maxfl120 task with motif key 0_0 overlapping a DNase peak': percent_overlaps_max_0_0}\n",
    "dicty"
   ]
  },
  {
   "cell_type": "code",
   "execution_count": 63,
   "metadata": {},
   "outputs": [],
   "source": [
    "import pickle\n",
    "pickle.dump(dicty, open('/home/katie/bp_repo/reports/dnase_motif_hits/ctcf_maxfl120_0_0_COUNTS_HEAD', 'wb'))"
   ]
  },
  {
   "cell_type": "code",
   "execution_count": null,
   "metadata": {},
   "outputs": [],
   "source": []
  }
 ],
 "metadata": {
  "kernelspec": {
   "display_name": "Python 3 (ipykernel)",
   "language": "python",
   "name": "python3"
  },
  "language_info": {
   "codemirror_mode": {
    "name": "ipython",
    "version": 3
   },
   "file_extension": ".py",
   "mimetype": "text/x-python",
   "name": "python",
   "nbconvert_exporter": "python",
   "pygments_lexer": "ipython3",
   "version": "3.9.7"
  }
 },
 "nbformat": 4,
 "nbformat_minor": 4
}
