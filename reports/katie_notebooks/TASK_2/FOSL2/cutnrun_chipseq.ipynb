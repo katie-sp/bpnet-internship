{
 "cells": [
  {
   "cell_type": "markdown",
   "metadata": {
    "tags": []
   },
   "source": [
    "# Compare the motifs (the CWMs and hCWMs) and motif instance calls between CUT&RUN and ChIP-seq\n",
    "## How do the motif instance calls differ? Compare the distribution of the motif instance calls and see if there's a difference that can be explained by:\n",
    "* Overlap with DNase-seq peaks\n",
    "* Overlap with ATAC-seq peaks\n",
    "* Correlation with ATAC-seq fragment lengths\n",
    "* Overlap with H3K27ac or H3K4me3 (histone marks)"
   ]
  },
  {
   "cell_type": "code",
   "execution_count": 1,
   "metadata": {},
   "outputs": [
    {
     "name": "stderr",
     "output_type": "stream",
     "text": [
      "/tmp/ipykernel_107051/1313173272.py:14: TqdmDeprecationWarning: This function will be removed in tqdm==5.0.0\n",
      "Please use `tqdm.notebook.tqdm` instead of `tqdm.tqdm_notebook`\n",
      "  tqdm.tqdm_notebook()\n"
     ]
    },
    {
     "data": {
      "application/vnd.jupyter.widget-view+json": {
       "model_id": "418f329e397c40b19f3b4bcac13d28d3",
       "version_major": 2,
       "version_minor": 0
      },
      "text/plain": [
       "0it [00:00, ?it/s]"
      ]
     },
     "metadata": {},
     "output_type": "display_data"
    }
   ],
   "source": [
    "import os\n",
    "os.chdir('/home/katie/bp_repo/reports/')\n",
    "\n",
    "from util import import_shap_scores, import_peak_table\n",
    "from util import trim_motif_by_ic\n",
    "from util import figure_to_vdom_image\n",
    "import h5py\n",
    "import numpy as np\n",
    "import pandas as pd\n",
    "import matplotlib.pyplot as plt\n",
    "import matplotlib.font_manager as font_manager\n",
    "from IPython.display import display\n",
    "import tqdm\n",
    "tqdm.tqdm_notebook()\n",
    "\n",
    "plt.rcParams['figure.dpi'] = 130"
   ]
  },
  {
   "cell_type": "code",
   "execution_count": 2,
   "metadata": {},
   "outputs": [],
   "source": [
    "# Plotting defaults\n",
    "plot_params = {\n",
    "    \"figure.titlesize\": 22,\n",
    "    \"axes.titlesize\": 22,\n",
    "    \"axes.labelsize\": 20,\n",
    "    \"legend.fontsize\": 18,\n",
    "    \"xtick.labelsize\": 16,\n",
    "    \"ytick.labelsize\": 16,\n",
    "    \"font.weight\": \"bold\"\n",
    "}\n",
    "plt.rcParams.update(plot_params)"
   ]
  },
  {
   "cell_type": "code",
   "execution_count": 4,
   "metadata": {},
   "outputs": [
    {
     "name": "stdout",
     "output_type": "stream",
     "text": [
      "CUT&RUN Motif hits path: ['/home/katie/bp_repo/reports/tfm_hits/FOSL2/fosl2_cutnrun_feb7/tfm_matches.bed']\n",
      "chipseq Motif hits path: ['/home/katie/bp_repo/reports/tfm_hits/FOSL2/fosl2_chipseq_feb7/tfm_matches.bed']\n"
     ]
    }
   ],
   "source": [
    "# FOSL2 cutnrun and chip-seq motif hits\n",
    "\n",
    "# Define parameters/fetch arguments\n",
    "motif_hits_path_cutnrun = ['/home/katie/bp_repo/reports/tfm_hits/FOSL2/fosl2_cutnrun_feb7/tfm_matches.bed']\n",
    "print(\"CUT&RUN Motif hits path: %s\" % motif_hits_path_cutnrun)\n",
    "\n",
    "motif_hits_path_chipseq = ['/home/katie/bp_repo/reports/tfm_hits/FOSL2/fosl2_chipseq_feb7/tfm_matches.bed']\n",
    "print(\"chipseq Motif hits path: %s\" % motif_hits_path_chipseq)"
   ]
  },
  {
   "cell_type": "code",
   "execution_count": 5,
   "metadata": {},
   "outputs": [
    {
     "name": "stdout",
     "output_type": "stream",
     "text": [
      "ATAC peaks path: /home/katie/bp_repo/research/data/other-assays/A549/ATAC-peaks/ENCFF899OMR.bed.gz\n",
      "DNASE peaks path: /home/katie/bp_repo/research/data/other-assays/A549/DNase-peaks/ENCFF128ZVL.bed.gz\n",
      "ac histone marks: /home/katie/bp_repo/research/data/other-assays/A549/H3K27ac-histone-marks/ENCFF747IZX.bed.gz\n",
      "me3 histone marks: /home/katie/bp_repo/research/data/other-assays/A549/H3K4me3-histone-marks/ENCFF535EYL.bed.gz\n"
     ]
    }
   ],
   "source": [
    "# Load in assay peaks\n",
    "assay_bed_paths = ['/home/katie/bp_repo/research/data/other-assays/A549/ATAC-peaks/ENCFF899OMR.bed.gz',\n",
    "                   '/home/katie/bp_repo/research/data/other-assays/A549/DNase-peaks/ENCFF128ZVL.bed.gz',\n",
    "                   '/home/katie/bp_repo/research/data/other-assays/A549/H3K27ac-histone-marks/ENCFF747IZX.bed.gz',\n",
    "                   '/home/katie/bp_repo/research/data/other-assays/A549/H3K4me3-histone-marks/ENCFF535EYL.bed.gz']\n",
    "print(\"ATAC peaks path: %s\" % assay_bed_paths[0])\n",
    "print(\"DNASE peaks path: %s\" % assay_bed_paths[1])\n",
    "print(\"ac histone marks: %s\" % assay_bed_paths[2])\n",
    "print(\"me3 histone marks: %s\" % assay_bed_paths[3])"
   ]
  },
  {
   "cell_type": "code",
   "execution_count": 6,
   "metadata": {},
   "outputs": [],
   "source": [
    "# Import motif hits\n",
    "hits_cutnrun = import_peak_table(motif_hits_path_cutnrun)          # 155,990 hits and peak lengths are 9\n",
    "hits_chipseq = import_peak_table(motif_hits_path_chipseq)          # 91,338 hits and peak lengths are 9, 19, or 25\n",
    "\n",
    "# Isolate to core motif\n",
    "core_hits_cutnrun = hits_cutnrun[hits_cutnrun.name == '0_0']           # 109,727 hits and peak lengths are 9 \n",
    "core_hits_chipseq = hits_chipseq[hits_chipseq.name == '0_0']           # 90,918 hits and peak lengths are 9 only\n",
    "\n",
    "# Import assay peaks\n",
    "atac_peak_table = import_peak_table([assay_bed_paths[0]])  # 278,564 peaks and TONS of peak lengths\n",
    "dnase_peak_table = import_peak_table([assay_bed_paths[1]]) # 143,283 peaks and TONS of peak lengths\n",
    "ac_peak_table = import_peak_table([assay_bed_paths[2]])    # 129,753 peaks and TONS of peak lengths\n",
    "me3_peak_table = import_peak_table([assay_bed_paths[3]])   # 27,884 peaks and TONS of peak lengths"
   ]
  },
  {
   "cell_type": "markdown",
   "metadata": {},
   "source": [
    "### DNase-seq overlap"
   ]
  },
  {
   "cell_type": "code",
   "execution_count": 16,
   "metadata": {
    "tags": []
   },
   "outputs": [],
   "source": [
    "# this only needs to be run once and saved then opened in the future as TSVs\n",
    "# os.system('bedtools intersect -u -a /home/katie/bp_repo/reports/tfm_hits/FOSL2/fosl2_cutnrun_feb7/tfm_matches.bed -b /home/katie/bp_repo/research/data/other-assays/A549/DNase-peaks/ENCFF128ZVL.bed.gz > /home/katie/bp_repo/reports/katie_notebooks/TASK_2/FOSL2/cutnrun_motif_hits_dnase_overlap')\n",
    "# os.system('bedtools intersect -u -a /home/katie/bp_repo/reports/tfm_hits/FOSL2/fosl2_chipseq_feb7/tfm_matches.bed -b /home/katie/bp_repo/research/data/other-assays/A549/DNase-peaks/ENCFF128ZVL.bed.gz > /home/katie/bp_repo/reports/katie_notebooks/TASK_2/FOSL2/chipseq_motif_hits_dnase_overlap')\n",
    "\n",
    "cutnrun_dnase_overlap = pd.read_csv('/home/katie/bp_repo/reports/katie_notebooks/TASK_2/FOSL2/cutnrun_motif_hits_dnase_overlap',  # 97,042 overlaps\n",
    "                                sep='\\t', header=None)\n",
    "chipseq_dnase_overlap = pd.read_csv('/home/katie/bp_repo/reports/katie_notebooks/TASK_2/FOSL2/chipseq_motif_hits_dnase_overlap',  # 55,528 overlaps\n",
    "                                sep='\\t', header=None)"
   ]
  },
  {
   "cell_type": "code",
   "execution_count": 17,
   "metadata": {},
   "outputs": [],
   "source": [
    "core_cutnrun_dnase_overlap = cutnrun_dnase_overlap[cutnrun_dnase_overlap.iloc[:,3] == '0_0']                # 68,363 core overlaps\n",
    "core_chipseq_dnase_overlap = chipseq_dnase_overlap[chipseq_dnase_overlap.iloc[:,3] == '0_0']                # 55,237 core overlaps"
   ]
  },
  {
   "cell_type": "code",
   "execution_count": 18,
   "metadata": {},
   "outputs": [
    {
     "data": {
      "text/plain": [
       "0.6230280605502748"
      ]
     },
     "execution_count": 18,
     "metadata": {},
     "output_type": "execute_result"
    }
   ],
   "source": [
    "len(core_cutnrun_dnase_overlap) / len(core_hits_cutnrun)  # % of cutnrun task hits overlapping >0 DNase peak ONLY FOR CORE MOTIF\n",
    "# and i did check, core_cutnrun_dnase_overlap is a SUBSET of the original df, core_hits_cutnrun (check using merge function)"
   ]
  },
  {
   "cell_type": "code",
   "execution_count": 19,
   "metadata": {},
   "outputs": [
    {
     "data": {
      "text/plain": [
       "0.6075474603488858"
      ]
     },
     "execution_count": 19,
     "metadata": {},
     "output_type": "execute_result"
    }
   ],
   "source": [
    "len(core_chipseq_dnase_overlap) / len(core_hits_chipseq)  # % of chipseq task hits overlapping >0 DNase peak ONLY FOR CORE MOTIF"
   ]
  },
  {
   "cell_type": "markdown",
   "metadata": {},
   "source": [
    "### ATAC-seq overlap"
   ]
  },
  {
   "cell_type": "code",
   "execution_count": 25,
   "metadata": {},
   "outputs": [],
   "source": [
    "# this only needs to be run once and saved then opened in the future as TSVs\n",
    "# os.system('bedtools intersect -u -a /home/katie/bp_repo/reports/tfm_hits/FOSL2/fosl2_cutnrun_feb7/tfm_matches.bed -b /home/katie/bp_repo/research/data/other-assays/A549/ATAC-peaks/ENCFF899OMR.bed.gz > /home/katie/bp_repo/reports/katie_notebooks/TASK_2/FOSL2/cutnrun_motif_hits_atac_overlap')\n",
    "# os.system('bedtools intersect -u -a /home/katie/bp_repo/reports/tfm_hits/FOSL2/fosl2_chipseq_feb7/tfm_matches.bed -b /home/katie/bp_repo/research/data/other-assays/A549/ATAC-peaks/ENCFF899OMR.bed.gz > /home/katie/bp_repo/reports/katie_notebooks/TASK_2/FOSL2/chipseq_motif_hits_atac_overlap')\n",
    "\n",
    "cutnrun_atac_overlap = pd.read_csv('/home/katie/bp_repo/reports/katie_notebooks/TASK_2/FOSL2/cutnrun_motif_hits_atac_overlap',  # 124,368 overlaps\n",
    "                                sep='\\t', header=None)\n",
    "chipseq_atac_overlap = pd.read_csv('/home/katie/bp_repo/reports/katie_notebooks/TASK_2/FOSL2/chipseq_motif_hits_atac_overlap',  # 76,135 overlaps\n",
    "                                sep='\\t', header=None)"
   ]
  },
  {
   "cell_type": "code",
   "execution_count": 28,
   "metadata": {},
   "outputs": [],
   "source": [
    "core_cutnrun_atac_overlap = cutnrun_atac_overlap[cutnrun_atac_overlap.iloc[:,3] == '0_0']                # 84,692 core overlaps\n",
    "core_chipseq_atac_overlap = chipseq_atac_overlap[chipseq_atac_overlap.iloc[:,3] == '0_0']                # 75,769 core overlaps"
   ]
  },
  {
   "cell_type": "code",
   "execution_count": 29,
   "metadata": {},
   "outputs": [
    {
     "data": {
      "text/plain": [
       "0.7718428463368178"
      ]
     },
     "execution_count": 29,
     "metadata": {},
     "output_type": "execute_result"
    }
   ],
   "source": [
    "len(core_cutnrun_atac_overlap) / len(core_hits_cutnrun)  # % of cutnrun task hits overlapping >0 DNase peak ONLY FOR CORE MOTIF"
   ]
  },
  {
   "cell_type": "code",
   "execution_count": 30,
   "metadata": {},
   "outputs": [
    {
     "data": {
      "text/plain": [
       "0.8333773290217559"
      ]
     },
     "execution_count": 30,
     "metadata": {},
     "output_type": "execute_result"
    }
   ],
   "source": [
    "len(core_chipseq_atac_overlap) / len(core_hits_chipseq)  # % of chipseq task hits overlatacg >0 DNase peak ONLY FOR CORE MOTIF"
   ]
  },
  {
   "cell_type": "markdown",
   "metadata": {},
   "source": [
    "#### ATAC-seq fragment length correlation"
   ]
  },
  {
   "cell_type": "code",
   "execution_count": null,
   "metadata": {},
   "outputs": [],
   "source": [
    "# TODO"
   ]
  },
  {
   "cell_type": "markdown",
   "metadata": {},
   "source": [
    "### H3K27ac overlap"
   ]
  },
  {
   "cell_type": "code",
   "execution_count": 34,
   "metadata": {},
   "outputs": [],
   "source": [
    "# this only needs to be run once and saved then opened in the future as TSVs\n",
    "# os.system('bedtools intersect -u -a /home/katie/bp_repo/reports/tfm_hits/FOSL2/fosl2_cutnrun_feb7/tfm_matches.bed -b /home/katie/bp_repo/research/data/other-assays/A549/H3K27ac-histone-marks/ENCFF747IZX.bed.gz > /home/katie/bp_repo/reports/katie_notebooks/TASK_2/FOSL2/cutnrun_motif_hits_h3k27ac_overlap')\n",
    "# os.system('bedtools intersect -u -a /home/katie/bp_repo/reports/tfm_hits/FOSL2/fosl2_chipseq_feb7/tfm_matches.bed -b /home/katie/bp_repo/research/data/other-assays/A549/H3K27ac-histone-marks/ENCFF747IZX.bed.gz > /home/katie/bp_repo/reports/katie_notebooks/TASK_2/FOSL2/chipseq_motif_hits_h3k27ac_overlap')\n",
    "\n",
    "cutnrun_ac_overlap = pd.read_csv('/home/katie/bp_repo/reports/katie_notebooks/TASK_2/FOSL2/cutnrun_motif_hits_h3k27ac_overlap',  # 94,209 overlaps\n",
    "                                sep='\\t', header=None)\n",
    "chipseq_ac_overlap = pd.read_csv('/home/katie/bp_repo/reports/katie_notebooks/TASK_2/FOSL2/chipseq_motif_hits_h3k27ac_overlap',  # 61,455 overlaps\n",
    "                                sep='\\t', header=None)"
   ]
  },
  {
   "cell_type": "code",
   "execution_count": 36,
   "metadata": {},
   "outputs": [],
   "source": [
    "core_cutnrun_ac_overlap = cutnrun_ac_overlap[cutnrun_ac_overlap.iloc[:,3] == '0_0']                # 62,135 core overlaps\n",
    "core_chipseq_ac_overlap = chipseq_ac_overlap[chipseq_ac_overlap.iloc[:,3] == '0_0']                # 61,172 core overlaps"
   ]
  },
  {
   "cell_type": "code",
   "execution_count": 38,
   "metadata": {},
   "outputs": [
    {
     "data": {
      "text/plain": [
       "0.5662690130961386"
      ]
     },
     "execution_count": 38,
     "metadata": {},
     "output_type": "execute_result"
    }
   ],
   "source": [
    "len(core_cutnrun_ac_overlap) / len(core_hits_cutnrun)  # % of cutnrun task hits overlapping >0 DNase peak ONLY FOR CORE MOTIF"
   ]
  },
  {
   "cell_type": "code",
   "execution_count": 39,
   "metadata": {},
   "outputs": [
    {
     "data": {
      "text/plain": [
       "0.6728260630458215"
      ]
     },
     "execution_count": 39,
     "metadata": {},
     "output_type": "execute_result"
    }
   ],
   "source": [
    "len(core_chipseq_ac_overlap) / len(core_hits_chipseq)  # % of chipseq task hits overlatacg >0 DNase peak ONLY FOR CORE MOTIF"
   ]
  },
  {
   "cell_type": "markdown",
   "metadata": {},
   "source": [
    "### H3K4me3 overlap"
   ]
  },
  {
   "cell_type": "code",
   "execution_count": 43,
   "metadata": {},
   "outputs": [],
   "source": [
    "# this only needs to be run once and saved then opened in the future as TSVs\n",
    "# os.system('bedtools intersect -u -a /home/katie/bp_repo/reports/tfm_hits/FOSL2/fosl2_cutnrun_feb7/tfm_matches.bed -b /home/katie/bp_repo/research/data/other-assays/A549/H3K4me3-histone-marks/ENCFF535EYL.bed.gz > /home/katie/bp_repo/reports/katie_notebooks/TASK_2/FOSL2/cutnrun_motif_hits_h3k4me3_overlap')\n",
    "# os.system('bedtools intersect -u -a /home/katie/bp_repo/reports/tfm_hits/FOSL2/fosl2_chipseq_feb7/tfm_matches.bed -b /home/katie/bp_repo/research/data/other-assays/A549/H3K4me3-histone-marks/ENCFF535EYL.bed.gz > /home/katie/bp_repo/reports/katie_notebooks/TASK_2/FOSL2/chipseq_motif_hits_h3k4me3_overlap')\n",
    "\n",
    "cutnrun_me_overlap = pd.read_csv('/home/katie/bp_repo/reports/katie_notebooks/TASK_2/FOSL2/cutnrun_motif_hits_h3k4me3_overlap',  # 26,132 overlaps\n",
    "                                sep='\\t', header=None)\n",
    "chipseq_me_overlap = pd.read_csv('/home/katie/bp_repo/reports/katie_notebooks/TASK_2/FOSL2/chipseq_motif_hits_h3k4me3_overlap',  # 9,776 overlaps\n",
    "                                sep='\\t', header=None)"
   ]
  },
  {
   "cell_type": "code",
   "execution_count": 47,
   "metadata": {},
   "outputs": [],
   "source": [
    "core_cutnrun_me_overlap = cutnrun_me_overlap[cutnrun_me_overlap.iloc[:,3] == '0_0']                # 11,635 core overlaps\n",
    "core_chipseq_me_overlap = chipseq_me_overlap[chipseq_me_overlap.iloc[:,3] == '0_0']                # 9,732 core overlaps"
   ]
  },
  {
   "cell_type": "code",
   "execution_count": 48,
   "metadata": {},
   "outputs": [
    {
     "data": {
      "text/plain": [
       "0.10603588907014681"
      ]
     },
     "execution_count": 48,
     "metadata": {},
     "output_type": "execute_result"
    }
   ],
   "source": [
    "len(core_cutnrun_me_overlap) / len(core_hits_cutnrun)  # % of cutnrun task hits overlapping >0 DNase peak ONLY FOR CORE MOTIF"
   ]
  },
  {
   "cell_type": "code",
   "execution_count": 49,
   "metadata": {},
   "outputs": [
    {
     "data": {
      "text/plain": [
       "0.10704150993202666"
      ]
     },
     "execution_count": 49,
     "metadata": {},
     "output_type": "execute_result"
    }
   ],
   "source": [
    "len(core_chipseq_me_overlap) / len(core_hits_chipseq)  # % of chipseq task hits overlatacg >0 DNase peak ONLY FOR CORE MOTIF"
   ]
  },
  {
   "cell_type": "markdown",
   "metadata": {
    "jp-MarkdownHeadingCollapsed": true,
    "tags": []
   },
   "source": [
    "## Graphing"
   ]
  },
  {
   "cell_type": "code",
   "execution_count": 113,
   "metadata": {
    "collapsed": true,
    "jupyter": {
     "outputs_hidden": true
    },
    "tags": []
   },
   "outputs": [
    {
     "data": {
      "image/png": "[encoded data removed]",
      "text/plain": [
       "<Figure size 1200x800 with 1 Axes>"
      ]
     },
     "metadata": {
      "needs_background": "light"
     },
     "output_type": "display_data"
    }
   ],
   "source": [
    "# order: ( % of CUT&RUN motif hits from ctcf, fosl2 with key 0_0 overlapping a dnase peak, \n",
    "#          % of chipseq motif hits from ctcf, fosl2 with key 0_0 overlapping a dnase peak)\n",
    "ctcf_stats = (53.4, 18.5)\n",
    "fosl2_stats = (52.7, 21.7)\n",
    "\n",
    "ind = np.arange(len(ctcf_stats))  # the x locations for the groups\n",
    "width = 0.35  # the width of the bars\n",
    "\n",
    "fig, ax = plt.subplots(dpi=200)\n",
    "rects1 = ax.bar(ind - width/2, ctcf_stats, width, \n",
    "                label='CUT&RUN')\n",
    "rects2 = ax.bar(ind + width/2, fosl2_stats, width,\n",
    "                label='chipseq')\n",
    "\n",
    "# Add some text for labels, title and custom x-axis tick labels, etc.\n",
    "ax.set_ylabel('% of core motif hits\\noverlapping DNase peaks', fontsize=13)\n",
    "ax.set_title('Core motif hits overlapping DNase peaks')\n",
    "ax.set_xticks(ind)\n",
    "ax.set_xticklabels(('CTCF', 'FOSL2'), rotation=45, fontsize=13)\n",
    "ax.legend(loc='upper right')\n",
    "\n",
    "def autolabel(rects, xpos='center'):\n",
    "    \"\"\"\n",
    "    Attach a text label above each bar in *rects*, displaying its height.\n",
    "\n",
    "    *xpos* indicates which side to place the text w.r.t. the center of\n",
    "    the bar. It can be one of the following {'center', 'right', 'left'}.\n",
    "    \"\"\"\n",
    "\n",
    "    ha = {'center': 'center', 'right': 'left', 'left': 'right'}\n",
    "    offset = {'center': 0, 'right': 1, 'left': -1}\n",
    "\n",
    "    for rect in rects:\n",
    "        height = rect.get_height()\n",
    "        ax.annotate('{}'.format(height),\n",
    "                    xy=(rect.get_x() + rect.get_width() / 2, height),\n",
    "                    xytext=(offset[xpos]*3, -0.5),  # use -0.5 point offset\n",
    "                    textcoords=\"offset points\",  # in both directions\n",
    "                    ha=ha[xpos], va='bottom')\n",
    "\n",
    "\n",
    "autolabel(rects1, \"center\")\n",
    "autolabel(rects2, \"center\")\n",
    "\n",
    "plt.show()"
   ]
  }
 ],
 "metadata": {
  "kernelspec": {
   "display_name": "Python 3 (ipykernel)",
   "language": "python",
   "name": "python3"
  },
  "language_info": {
   "codemirror_mode": {
    "name": "ipython",
    "version": 3
   },
   "file_extension": ".py",
   "mimetype": "text/x-python",
   "name": "python",
   "nbconvert_exporter": "python",
   "pygments_lexer": "ipython3",
   "version": "3.9.7"
  }
 },
 "nbformat": 4,
 "nbformat_minor": 4
}
