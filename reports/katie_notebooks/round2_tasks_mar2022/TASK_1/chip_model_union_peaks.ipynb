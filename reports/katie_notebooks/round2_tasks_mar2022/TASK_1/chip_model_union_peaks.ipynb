{
 "cells": [
  {
   "cell_type": "markdown",
   "id": "781c749c-4203-45b4-9f23-33ac8992eb01",
   "metadata": {},
   "source": [
    "# Use the CUT&RUN models and the ChIP-seq model to predict on the union of all peaks"
   ]
  },
  {
   "cell_type": "code",
   "execution_count": 1,
   "id": "c088d2cf-2074-4c12-9d14-87602f4d3a5d",
   "metadata": {},
   "outputs": [
    {
     "name": "stderr",
     "output_type": "stream",
     "text": [
      "/tmp/ipykernel_63286/3522789943.py:21: TqdmDeprecationWarning: This function will be removed in tqdm==5.0.0\n",
      "Please use `tqdm.notebook.tqdm` instead of `tqdm.tqdm_notebook`\n",
      "  tqdm.tqdm_notebook()\n"
     ]
    },
    {
     "data": {
      "application/vnd.jupyter.widget-view+json": {
       "model_id": "1d8eedbb87984bcd8aaffbe35c977eeb",
       "version_major": 2,
       "version_minor": 0
      },
      "text/plain": [
       "0it [00:00, ?it/s]"
      ]
     },
     "metadata": {},
     "output_type": "display_data"
    }
   ],
   "source": [
    "import os\n",
    "os.chdir('/home/katie/bp_repo/reports/')\n",
    "\n",
    "from util import import_shap_scores, import_peak_table, import_profiles, import_tfmodisco_results\n",
    "from util import trim_motif_by_ic\n",
    "from util import figure_to_vdom_image\n",
    "import h5py\n",
    "import numpy as np\n",
    "import pandas as pd\n",
    "import matplotlib.pyplot as plt\n",
    "import matplotlib.font_manager as font_manager\n",
    "from IPython.display import display\n",
    "import tqdm\n",
    "\n",
    "import sys\n",
    "sys.path.append('/home/katie/bp_repo/multitask_profile_model_SPI_GATA/')\n",
    "from plotting_helper import *\n",
    "from all_functions import *\n",
    "from profile_models import ModelLoader\n",
    "\n",
    "tqdm.tqdm_notebook()\n",
    "\n",
    "plt.rcParams[\"figure.dpi\"] = 130"
   ]
  },
  {
   "cell_type": "markdown",
   "id": "da81793e-ee08-483a-8bd8-83a5a51fef81",
   "metadata": {},
   "source": [
    "## Does the ChIP-seq model predict equally strong peaks on the CUT&RUN-unique peaks vs. ChIP-seq-unique peaks vs. shared peaks?"
   ]
  },
  {
   "cell_type": "markdown",
   "id": "38dced38-4278-42a0-8f64-8000b820bada",
   "metadata": {},
   "source": [
    "### Preliminary data generating/loading"
   ]
  },
  {
   "cell_type": "code",
   "execution_count": 8,
   "id": "c236b26d-a002-4225-80d8-a55488cbb664",
   "metadata": {},
   "outputs": [],
   "source": [
    "# using the CTCF ChIP-seq model!!\n",
    "# YOU HAVE TO DO DATALOADING SEPARATELY BECAUSE THE TASKS_PATH WILL GET UPDATED (or ig you could update tasks_path in between uses...)\n",
    "\n",
    "# Save predictions using model and BOTH assays' peaks\n",
    "\n",
    "# model = ModelLoader('/home/katie/bp_repo/pipeline_outputs/ctcf_chipseq_feb7/' + 'model.state_dict', controls=True, num_tasks=1).load_model()\n",
    "\n",
    "# chip_dataloader = DataLoader(tasks=['CTCF'], assay='chip-seq', controls=True, \n",
    "#                              tasks_path='/home/katie/bp_repo/research/data/chip-seq/', subset=['full'], \n",
    "#                              jitter=False, fake_controls=True).make_loaders()['full']\n",
    "\n",
    "# save_preds(chip_dataloader, model, \n",
    "# '/home/katie/bp_repo/reports/katie_notebooks/round2_tasks_mar2022/TASK_1/chip_model_chip_loader_fake_controls.preds')\n",
    "\n",
    "# cut_dataloader = DataLoader(tasks=['CTCF'], assay='cutnrun', controls=True, \n",
    "#                              tasks_path='/home/katie/bp_repo/research/data/cutnrun/', subset=['full'], \n",
    "#                             jitter=False, fake_controls=True).make_loaders()['full']\n",
    "\n",
    "# save_preds(cut_dataloader, model, \n",
    "# '/home/katie/bp_repo/reports/katie_notebooks/round2_tasks_mar2022/TASK_1/chip_model_cut_loader_fake_controls.preds')\n"
   ]
  },
  {
   "cell_type": "code",
   "execution_count": 2,
   "id": "63261981-e284-41c3-9f83-445f523efc6f",
   "metadata": {},
   "outputs": [],
   "source": [
    "# Generate/load new unique vs shared peaks files\n",
    "# i don't feel like using the old ones because those contain the chrY and chrM peaks which are hard to deal with\n",
    "\n",
    "# first, save the peaks files without the chrY and chrM peaks\n",
    "\n",
    "# # load in peaks\n",
    "# chip_peaks = import_peak_table(['/home/katie/bp_repo/research/data/chip-seq/CTCF/CTCF.bed'])\n",
    "# cut_peaks = import_peak_table(['/home/katie/bp_repo/research/data/cutnrun/CTCF/CTCF.bed'])\n",
    "\n",
    "# # get rid of chrY and chrM peaks\n",
    "# chip_peaks = chip_peaks.loc[chip_peaks.chrom != 'chrY']\n",
    "# cut_peaks = cut_peaks.loc[cut_peaks.chrom != 'chrM']\n",
    "\n",
    "# # clean the dataframe a little bit\n",
    "# chip_peaks.reset_index(inplace=True, drop=True)\n",
    "# cut_peaks.reset_index(inplace=True, drop=True)\n",
    "# chip_peaks.name = chip_peaks.index  # fix weird peak column\n",
    "# cut_peaks.name = cut_peaks.index # add peak column\n",
    "# cut_peaks.drop('i9', axis=1, inplace=True)  # remove the i9 column to bring the dataframe down to 20 columns, for import_peak_table()\n",
    "\n",
    "# chip_peaks.to_csv('/home/katie/bp_repo/reports/katie_notebooks/round2_tasks_mar2022/TASK_1/CTCF_chip_peaks_no_chrY', sep='\\t', index=False)\n",
    "# cut_peaks.to_csv('/home/katie/bp_repo/reports/katie_notebooks/round2_tasks_mar2022/TASK_1/CTCF_cut_peaks_no_chrM', sep='\\t', index=False)\n",
    "\n",
    "chip_peaks = pd.read_csv('/home/katie/bp_repo/reports/katie_notebooks/round2_tasks_mar2022/TASK_1/CTCF_chip_peaks_no_chrY', sep='\\t')\n",
    "cut_peaks = pd.read_csv('/home/katie/bp_repo/reports/katie_notebooks/round2_tasks_mar2022/TASK_1/CTCF_cut_peaks_no_chrM', sep='\\t')"
   ]
  },
  {
   "cell_type": "code",
   "execution_count": 3,
   "id": "bd5058ee-8952-4154-8aaf-492452fc431e",
   "metadata": {},
   "outputs": [],
   "source": [
    "# Generate/load unique vs shared peaks\n",
    "# !bedtools intersect -v -a /home/katie/bp_repo/reports/katie_notebooks/round2_tasks_mar2022/TASK_1/CTCF_chip_peaks_no_chrY -b /home/katie/bp_repo/reports/katie_notebooks/round2_tasks_mar2022/TASK_1/CTCF_cut_peaks_no_chrM > /home/katie/bp_repo/reports/katie_notebooks/round2_tasks_mar2022/TASK_1/CTCF_chip_unique_no_cut\n",
    "# !bedtools intersect -v -a /home/katie/bp_repo/reports/katie_notebooks/round2_tasks_mar2022/TASK_1/CTCF_cut_peaks_no_chrM -b /home/katie/bp_repo/reports/katie_notebooks/round2_tasks_mar2022/TASK_1/CTCF_chip_peaks_no_chrY > /home/katie/bp_repo/reports/katie_notebooks/round2_tasks_mar2022/TASK_1/CTCF_cut_unique_no_chip\n",
    "# !bedtools intersect -u -a /home/katie/bp_repo/reports/katie_notebooks/round2_tasks_mar2022/TASK_1/CTCF_chip_peaks_no_chrY -b /home/katie/bp_repo/reports/katie_notebooks/round2_tasks_mar2022/TASK_1/CTCF_cut_peaks_no_chrM > /home/katie/bp_repo/reports/katie_notebooks/round2_tasks_mar2022/TASK_1/CTCF_chip_unique_shared_cut\n",
    "# !bedtools intersect -u -a /home/katie/bp_repo/reports/katie_notebooks/round2_tasks_mar2022/TASK_1/CTCF_cut_peaks_no_chrM -b /home/katie/bp_repo/reports/katie_notebooks/round2_tasks_mar2022/TASK_1/CTCF_chip_peaks_no_chrY > /home/katie/bp_repo/reports/katie_notebooks/round2_tasks_mar2022/TASK_1/CTCF_cut_unique_shared_chip\n",
    "\n",
    "# btw: unique peaks U shared peaks = all peaks (you can check!)\n",
    "chip_unique_peaks = import_peak_table(['/home/katie/bp_repo/reports/katie_notebooks/round2_tasks_mar2022/TASK_1/CTCF_chip_unique_no_cut'])\n",
    "cut_unique_peaks = import_peak_table(['/home/katie/bp_repo/reports/katie_notebooks/round2_tasks_mar2022/TASK_1/CTCF_cut_unique_no_chip'])\n",
    "chip_shared_peaks = import_peak_table(['/home/katie/bp_repo/reports/katie_notebooks/round2_tasks_mar2022/TASK_1/CTCF_chip_unique_shared_cut'])\n",
    "cut_shared_peaks = import_peak_table(['/home/katie/bp_repo/reports/katie_notebooks/round2_tasks_mar2022/TASK_1/CTCF_cut_unique_shared_chip'])\n"
   ]
  },
  {
   "cell_type": "code",
   "execution_count": 145,
   "id": "65bdbd54-bb35-43ee-bac9-e12ce2de2612",
   "metadata": {},
   "outputs": [],
   "source": [
    "# Find the duplicate indexes so i can subset all of my preds/counts arrays\n",
    "chip_coords = pd.DataFrame({'chrom': chip_preds['coords']['coords_chrom'], \n",
    "                  'start': chip_preds['coords']['coords_start'],\n",
    "                  'end': chip_preds['coords']['coords_end']})\n",
    "chip_coords.chrom = [i.decode('utf-8') for i in chip_coords.chrom]  # change from binary string thingy to utf-8 encoded\n",
    "\n",
    "cut_coords = pd.DataFrame({'chrom': cut_preds['coords']['coords_chrom'], \n",
    "                  'start': cut_preds['coords']['coords_start'],\n",
    "                  'end': cut_preds['coords']['coords_end']})\n",
    "cut_coords.chrom = [i.decode('utf-8') for i in cut_coords.chrom]\n",
    "\n",
    "chip_dups = chip_coords.duplicated()  # boolean array indicating whether a row is a duplicate\n",
    "cut_dups = cut_coords.duplicated()    "
   ]
  },
  {
   "cell_type": "code",
   "execution_count": 154,
   "id": "53e9aead-c8e1-4d61-8206-d0737984e82e",
   "metadata": {},
   "outputs": [],
   "source": [
    "# load in predictions and subset to the unique rows\n",
    "chip_preds = h5py.File('/home/katie/bp_repo/reports/katie_notebooks/round2_tasks_mar2022/TASK_1/chip_model_chip_loader_fake_controls.preds','r')\n",
    "cut_preds = h5py.File('/home/katie/bp_repo/reports/katie_notebooks/round2_tasks_mar2022/TASK_1/chip_model_cut_loader_fake_controls.preds','r')\n",
    "\n",
    "pred_profs_chip = np.exp(np.array(chip_preds['predictions']['log_pred_profs']))[chip_dups]  # each row corresponds to unique peak\n",
    "pred_profs_cut = np.exp(np.array(cut_preds['predictions']['log_pred_profs']))[cut_dups]\n",
    "pred_counts_chip = np.exp(np.array(chip_preds['predictions']['log_pred_counts']))[chip_dups]\n",
    "pred_counts_cut = np.exp(np.array(cut_preds['predictions']['log_pred_counts']))[cut_dups]\n",
    "\n"
   ]
  },
  {
   "cell_type": "markdown",
   "id": "9ef00b2d-f39b-4108-bd89-33e1d14f37ce",
   "metadata": {},
   "source": [
    "## If the predictions look the same, do the importance scores also look the same? (are the same signals being identified as being important?)"
   ]
  },
  {
   "cell_type": "markdown",
   "id": "d0a35283-0d06-4f42-b097-72d7d458bdfe",
   "metadata": {},
   "source": [
    "## If the predictions are different, what might explain that difference? The TA motif? DNase/ATAC/histone marks?"
   ]
  }
 ],
 "metadata": {
  "kernelspec": {
   "display_name": "Python 3 (ipykernel)",
   "language": "python",
   "name": "python3"
  },
  "language_info": {
   "codemirror_mode": {
    "name": "ipython",
    "version": 3
   },
   "file_extension": ".py",
   "mimetype": "text/x-python",
   "name": "python",
   "nbconvert_exporter": "python",
   "pygments_lexer": "ipython3",
   "version": "3.9.7"
  }
 },
 "nbformat": 4,
 "nbformat_minor": 5
}
