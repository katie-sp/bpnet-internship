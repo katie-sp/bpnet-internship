{
 "cells": [
  {
   "cell_type": "markdown",
   "id": "e8806731-cd49-43ea-8307-8197e56ea731",
   "metadata": {},
   "source": [
    "# ChIP-seq and CUT&RUN (single-task) model performance across different peak subsets"
   ]
  },
  {
   "cell_type": "code",
   "execution_count": 1,
   "id": "65879dbe-8bdc-4dab-afaf-e88db32787f7",
   "metadata": {},
   "outputs": [],
   "source": [
    "import os\n",
    "os.chdir('/home/katie/bp_repo/reports/')\n",
    "\n",
    "from util import import_peak_table\n",
    "\n",
    "import numpy as np\n",
    "import pandas as pd\n",
    "# import matplotlib.pyplot as plt\n",
    "# import matplotlib.font_manager as font_manager\n",
    "# from IPython.display import display\n",
    "# import tqdm\n",
    "# tqdm.tqdm_notebook()\n",
    "\n",
    "import sys\n",
    "sys.path.append('/home/katie/bp_repo/multitask_profile_model_SPI_GATA/')\n",
    "\n",
    "import profile_performance\n",
    "\n",
    "import all_functions\n",
    "from all_functions import *\n",
    "\n",
    "import plotting_helper\n",
    "from plotting_helper import *\n",
    "\n",
    "from profile_models import ModelLoader\n",
    "\n",
    "columns = ['Test profile NLL',\n",
    "           'Test profile cross entropy',\n",
    "           'Test profile JSD',\n",
    "           'Test profile Pearson',\n",
    "           'Test profile Spearman',\n",
    "           'Test profile MSE',\n",
    "           'Test count Pearson',\n",
    "           'Test count Spearman',\n",
    "           'Test count MSE']"
   ]
  },
  {
   "cell_type": "code",
   "execution_count": 3,
   "id": "083675ea-c0a8-4c7a-a927-9aa6c1975b94",
   "metadata": {
    "collapsed": true,
    "jupyter": {
     "outputs_hidden": true
    },
    "tags": []
   },
   "outputs": [
    {
     "name": "stdout",
     "output_type": "stream",
     "text": [
      "CTCF\n",
      "/home/katie/bp_repo/reports/katie_notebooks/round2_tasks_mar2022/TASK_1/CTCF_chip_unique_no_cut\n",
      "(4980, 14)\n",
      "Index(['chrom', 'peak_start', 'peak_end', 'name', 'score', 'strand', 'signal',\n",
      "       'pval', 'qval', 'summit_offset', 'i0', 'start', 'end', 'task'],\n",
      "      dtype='object')\n",
      "CTCF\n",
      "/home/katie/bp_repo/reports/katie_notebooks/round2_tasks_mar2022/TASK_1/CTCF_chip_unique_shared_cut\n",
      "(30821, 14)\n",
      "Index(['chrom', 'peak_start', 'peak_end', 'name', 'score', 'strand', 'signal',\n",
      "       'pval', 'qval', 'summit_offset', 'i0', 'start', 'end', 'task'],\n",
      "      dtype='object')\n",
      "CTCF\n",
      "/home/katie/bp_repo/reports/katie_notebooks/round2_tasks_mar2022/TASK_1/CTCF_cut_unique_no_chip\n",
      "(24246, 23)\n",
      "Index(['chrom', 'peak_start', 'peak_end', 'name', 'score', 'strand', 'signal',\n",
      "       'pval', 'qval', 'summit_offset', 'i0', 'i1', 'i2', 'i3', 'i4', 'i5',\n",
      "       'i6', 'i7', 'i8', 'i9', 'start', 'end', 'task'],\n",
      "      dtype='object')\n",
      "CTCF\n",
      "/home/katie/bp_repo/reports/katie_notebooks/round2_tasks_mar2022/TASK_1/CTCF_cut_unique_shared_chip\n",
      "(29979, 23)\n",
      "Index(['chrom', 'peak_start', 'peak_end', 'name', 'score', 'strand', 'signal',\n",
      "       'pval', 'qval', 'summit_offset', 'i0', 'i1', 'i2', 'i3', 'i4', 'i5',\n",
      "       'i6', 'i7', 'i8', 'i9', 'start', 'end', 'task'],\n",
      "      dtype='object')\n"
     ]
    }
   ],
   "source": [
    "# Save preds using the CTCF ChIP-seq model!!\n",
    "# YOU HAVE TO DO DATALOADING SEPARATELY BECAUSE THE TASKS_PATH WILL GET UPDATED (or ig you could update tasks_path in between uses...)\n",
    "\n",
    "# Save predictions using model and BOTH assays' peaks\n",
    "# note to self: using the DataLoader function ALREADY GETS RID OF CHRM AND CHRY!!\n",
    "\n",
    "model = ModelLoader('/home/katie/bp_repo/pipeline_outputs/ctcf_chipseq_feb7/' + 'model.state_dict', controls=True, num_tasks=1).load_model()\n",
    "path = '/home/katie/bp_repo/reports/katie_notebooks/round2_tasks_mar2022/TASK_1/'\n",
    "\n",
    "chip_unique_dataloader = DataLoader(tasks=['CTCF'], assay='chip-seq', controls=True, \n",
    "                             tasks_path='/home/katie/bp_repo/research/data/chip-seq/', subset=['full'], \n",
    "                             jitter=False, fake_controls=True,\n",
    "                             premade_tsv_path=f'{path}CTCF_chip_unique_no_cut').make_loaders()['full']\n",
    "\n",
    "chip_shared_dataloader = DataLoader(tasks=['CTCF'], assay='chip-seq', controls=True, \n",
    "                             tasks_path='/home/katie/bp_repo/research/data/chip-seq/', subset=['full'], \n",
    "                             jitter=False, fake_controls=True,\n",
    "                             premade_tsv_path=f'{path}CTCF_chip_unique_shared_cut').make_loaders()['full']\n",
    "\n",
    "cut_unique_dataloader = DataLoader(tasks=['CTCF'], assay='cutnrun', controls=True, \n",
    "                             tasks_path='/home/katie/bp_repo/research/data/cutnrun/', subset=['full'], \n",
    "                             jitter=False, fake_controls=True,\n",
    "                             premade_tsv_path=f'{path}CTCF_cut_unique_no_chip').make_loaders()['full']\n",
    "\n",
    "cut_shared_dataloader = DataLoader(tasks=['CTCF'], assay='cutnrun', controls=True, \n",
    "                             tasks_path='/home/katie/bp_repo/research/data/cutnrun/', subset=['full'], \n",
    "                             jitter=False, fake_controls=True,\n",
    "                             premade_tsv_path=f'{path}CTCF_cut_unique_shared_chip').make_loaders()['full']"
   ]
  },
  {
   "cell_type": "code",
   "execution_count": 14,
   "id": "9d34182c-4548-440b-a97a-db7ccf3be9f1",
   "metadata": {
    "collapsed": true,
    "jupyter": {
     "outputs_hidden": true
    },
    "tags": []
   },
   "outputs": [
    {
     "data": {
      "application/vnd.jupyter.widget-view+json": {
       "model_id": "6402be7d1e93436b80110abe9c62d720",
       "version_major": 2,
       "version_minor": 0
      },
      "text/plain": [
       "  0%|          | 0/39 [00:00<?, ?it/s]"
      ]
     },
     "metadata": {},
     "output_type": "display_data"
    },
    {
     "name": "stdout",
     "output_type": "stream",
     "text": [
      "\tTest profile NLL: 90.657455\n",
      "\tTest profile cross entropy: 7.248408\n",
      "\tTest profile JSD: 0.412152\n",
      "\tTest profile Pearson: 0.101872\n",
      "\tTest profile Spearman: 0.182212\n",
      "\tTest profile MSE: 0.000009\n",
      "\tTest count Pearson: 0.026655\n",
      "\tTest count Spearman: 0.008204\n",
      "\tTest count MSE: 0.623768\n"
     ]
    },
    {
     "data": {
      "application/vnd.jupyter.widget-view+json": {
       "model_id": "38467c02afef4da7983972f0b02fc13b",
       "version_major": 2,
       "version_minor": 0
      },
      "text/plain": [
       "  0%|          | 0/241 [00:00<?, ?it/s]"
      ]
     },
     "metadata": {},
     "output_type": "display_data"
    },
    {
     "name": "stdout",
     "output_type": "stream",
     "text": [
      "\tTest profile NLL: 612.174503\n",
      "\tTest profile cross entropy: 7.317959\n",
      "\tTest profile JSD: 0.335644\n",
      "\tTest profile Pearson: 0.138051\n",
      "\tTest profile Spearman: 0.270613\n",
      "\tTest profile MSE: 0.000007\n",
      "\tTest count Pearson: 0.052678\n",
      "\tTest count Spearman: 0.089683\n",
      "\tTest count MSE: 4.289722\n"
     ]
    },
    {
     "data": {
      "application/vnd.jupyter.widget-view+json": {
       "model_id": "92a9dbbf81a140ab8ade2b133be0ace6",
       "version_major": 2,
       "version_minor": 0
      },
      "text/plain": [
       "  0%|          | 0/190 [00:00<?, ?it/s]"
      ]
     },
     "metadata": {},
     "output_type": "display_data"
    },
    {
     "name": "stdout",
     "output_type": "stream",
     "text": [
      "\tTest profile NLL: 197.189105\n",
      "\tTest profile cross entropy: 7.013790\n",
      "\tTest profile JSD: 0.319499\n",
      "\tTest profile Pearson: 0.083513\n",
      "\tTest profile Spearman: 0.144094\n",
      "\tTest profile MSE: 0.000005\n",
      "\tTest count Pearson: 0.133580\n",
      "\tTest count Spearman: 0.130444\n",
      "\tTest count MSE: 1.118607\n"
     ]
    },
    {
     "data": {
      "application/vnd.jupyter.widget-view+json": {
       "model_id": "e05e03c993a144f380763b465d8dcb3b",
       "version_major": 2,
       "version_minor": 0
      },
      "text/plain": [
       "  0%|          | 0/235 [00:00<?, ?it/s]"
      ]
     },
     "metadata": {},
     "output_type": "display_data"
    },
    {
     "name": "stdout",
     "output_type": "stream",
     "text": [
      "\tTest profile NLL: 612.746263\n",
      "\tTest profile cross entropy: 7.318298\n",
      "\tTest profile JSD: 0.335460\n",
      "\tTest profile Pearson: 0.136832\n",
      "\tTest profile Spearman: 0.265218\n",
      "\tTest profile MSE: 0.000007\n",
      "\tTest count Pearson: 0.069797\n",
      "\tTest count Spearman: 0.097347\n",
      "\tTest count MSE: 4.299773\n"
     ]
    }
   ],
   "source": [
    "loaders = {'chip_unique_dataloader':chip_unique_dataloader, \n",
    "           'chip_shared_dataloader':chip_shared_dataloader, \n",
    "           'cut_unique_dataloader':cut_unique_dataloader, \n",
    "           'cut_shared_dataloader':cut_shared_dataloader}\n",
    "\n",
    "ALL_METRICS_CHIP_MODEL = {}\n",
    "\n",
    "for loader_key in loaders.keys():\n",
    "    true_profs, log_pred_profs, true_counts, log_pred_counts = get_predictions(loaders[loader_key], model)\n",
    "\n",
    "    metrics = profile_performance.compute_performance_metrics(\n",
    "        true_profs, log_pred_profs, true_counts, log_pred_counts,\n",
    "        prof_smooth_kernel_sigma=7, prof_smooth_kernel_width=81,\n",
    "        #statuses=statuses, model_task_statuses=model_task_statuses,\n",
    "        print_updates=False\n",
    "    )\n",
    "    ALL_METRICS_CHIP_MODEL[loader_key] = profile_performance.log_performance_metrics(metrics)"
   ]
  },
  {
   "cell_type": "code",
   "execution_count": 26,
   "id": "9c3e8a7a-9940-405e-b288-6939449975be",
   "metadata": {},
   "outputs": [],
   "source": [
    "pd.DataFrame(ALL_METRICS_CHIP_MODEL.values(), columns = columns, index=ALL_METRICS_CHIP_MODEL.keys()).to_csv('/home/katie/bp_repo/reports/katie_notebooks/round2_tasks_mar2022/chip_model_peak_subsets_metrics.csv')\n",
    "                                                                                                                \n",
    "                                                                                                             \n",
    "                                                                                                             "
   ]
  },
  {
   "cell_type": "code",
   "execution_count": 27,
   "id": "779a4ab6-8e6c-4443-bfde-9a0a98501bc1",
   "metadata": {
    "collapsed": true,
    "jupyter": {
     "outputs_hidden": true
    },
    "tags": []
   },
   "outputs": [
    {
     "name": "stdout",
     "output_type": "stream",
     "text": [
      "CTCF\n",
      "/home/katie/bp_repo/reports/katie_notebooks/round2_tasks_mar2022/TASK_1/CTCF_chip_unique_no_cut\n",
      "(4980, 14)\n",
      "Index(['chrom', 'peak_start', 'peak_end', 'name', 'score', 'strand', 'signal',\n",
      "       'pval', 'qval', 'summit_offset', 'i0', 'start', 'end', 'task'],\n",
      "      dtype='object')\n",
      "CTCF\n",
      "/home/katie/bp_repo/reports/katie_notebooks/round2_tasks_mar2022/TASK_1/CTCF_chip_unique_shared_cut\n",
      "(30821, 14)\n",
      "Index(['chrom', 'peak_start', 'peak_end', 'name', 'score', 'strand', 'signal',\n",
      "       'pval', 'qval', 'summit_offset', 'i0', 'start', 'end', 'task'],\n",
      "      dtype='object')\n",
      "CTCF\n",
      "/home/katie/bp_repo/reports/katie_notebooks/round2_tasks_mar2022/TASK_1/CTCF_cut_unique_no_chip\n",
      "(24246, 23)\n",
      "Index(['chrom', 'peak_start', 'peak_end', 'name', 'score', 'strand', 'signal',\n",
      "       'pval', 'qval', 'summit_offset', 'i0', 'i1', 'i2', 'i3', 'i4', 'i5',\n",
      "       'i6', 'i7', 'i8', 'i9', 'start', 'end', 'task'],\n",
      "      dtype='object')\n",
      "CTCF\n",
      "/home/katie/bp_repo/reports/katie_notebooks/round2_tasks_mar2022/TASK_1/CTCF_cut_unique_shared_chip\n",
      "(29979, 23)\n",
      "Index(['chrom', 'peak_start', 'peak_end', 'name', 'score', 'strand', 'signal',\n",
      "       'pval', 'qval', 'summit_offset', 'i0', 'i1', 'i2', 'i3', 'i4', 'i5',\n",
      "       'i6', 'i7', 'i8', 'i9', 'start', 'end', 'task'],\n",
      "      dtype='object')\n"
     ]
    }
   ],
   "source": [
    "# Save preds using the CTCF CUT&RUN model!!\n",
    "# YOU HAVE TO DO DATALOADING SEPARATELY BECAUSE THE TASKS_PATH WILL GET UPDATED (or ig you could update tasks_path in between uses...)\n",
    "\n",
    "# Save predictions using model and BOTH assays' peaks\n",
    "# note to self: using the DataLoader function ALREADY GETS RID OF CHRM AND CHRY!!\n",
    "\n",
    "model = ModelLoader('/home/katie/bp_repo/pipeline_outputs/ctcf_cutnrun_feb7/' + 'model.state_dict', controls=False, num_tasks=1).load_model()\n",
    "path = '/home/katie/bp_repo/reports/katie_notebooks/round2_tasks_mar2022/TASK_1/'\n",
    "\n",
    "chip_unique_dataloader = DataLoader(tasks=['CTCF'], assay='chip-seq', controls=False, \n",
    "                             tasks_path='/home/katie/bp_repo/research/data/chip-seq/', subset=['full'], \n",
    "                             jitter=False,\n",
    "                             premade_tsv_path=f'{path}CTCF_chip_unique_no_cut').make_loaders()['full']\n",
    "\n",
    "chip_shared_dataloader = DataLoader(tasks=['CTCF'], assay='chip-seq', controls=False, \n",
    "                             tasks_path='/home/katie/bp_repo/research/data/chip-seq/', subset=['full'], \n",
    "                             jitter=False,\n",
    "                             premade_tsv_path=f'{path}CTCF_chip_unique_shared_cut').make_loaders()['full']\n",
    "\n",
    "cut_unique_dataloader = DataLoader(tasks=['CTCF'], assay='cutnrun', controls=False, \n",
    "                             tasks_path='/home/katie/bp_repo/research/data/cutnrun/', subset=['full'], \n",
    "                             jitter=False,\n",
    "                             premade_tsv_path=f'{path}CTCF_cut_unique_no_chip').make_loaders()['full']\n",
    "\n",
    "cut_shared_dataloader = DataLoader(tasks=['CTCF'], assay='cutnrun', controls=False, \n",
    "                             tasks_path='/home/katie/bp_repo/research/data/cutnrun/', subset=['full'], \n",
    "                             jitter=False,\n",
    "                             premade_tsv_path=f'{path}CTCF_cut_unique_shared_chip').make_loaders()['full']\n"
   ]
  },
  {
   "cell_type": "code",
   "execution_count": 28,
   "id": "0c515e1a-f318-4603-aedc-a728eaf4f884",
   "metadata": {},
   "outputs": [
    {
     "data": {
      "application/vnd.jupyter.widget-view+json": {
       "model_id": "77c2916caa934a6b96804eafbf3dfb68",
       "version_major": 2,
       "version_minor": 0
      },
      "text/plain": [
       "  0%|          | 0/39 [00:00<?, ?it/s]"
      ]
     },
     "metadata": {},
     "output_type": "display_data"
    },
    {
     "name": "stderr",
     "output_type": "stream",
     "text": [
      "/home/katie/bp_repo/multitask_profile_model_SPI_GATA/profile_performance.py:41: RuntimeWarning: invalid value encountered in true_divide\n",
      "  cross_ent = (-log_prob_pows_sum) / trials\n"
     ]
    },
    {
     "name": "stdout",
     "output_type": "stream",
     "text": [
      "\tTest profile NLL: 60.245127\n",
      "\tTest profile cross entropy: 5.628857\n",
      "\tTest profile JSD: 0.422120\n",
      "\tTest profile Pearson: 0.174455\n",
      "\tTest profile Spearman: 0.167835\n",
      "\tTest profile MSE: 0.000015\n",
      "\tTest count Pearson: 0.014014\n",
      "\tTest count Spearman: 0.031141\n",
      "\tTest count MSE: 0.706356\n"
     ]
    },
    {
     "data": {
      "application/vnd.jupyter.widget-view+json": {
       "model_id": "42d9e0cd49cf426fae80dbcc809e3177",
       "version_major": 2,
       "version_minor": 0
      },
      "text/plain": [
       "  0%|          | 0/241 [00:00<?, ?it/s]"
      ]
     },
     "metadata": {},
     "output_type": "display_data"
    },
    {
     "name": "stdout",
     "output_type": "stream",
     "text": [
      "\tTest profile NLL: 248.510276\n",
      "\tTest profile cross entropy: 5.001862\n",
      "\tTest profile JSD: 0.298258\n",
      "\tTest profile Pearson: 0.326661\n",
      "\tTest profile Spearman: 0.342183\n",
      "\tTest profile MSE: 0.000015\n",
      "\tTest count Pearson: 0.121336\n",
      "\tTest count Spearman: 0.119872\n",
      "\tTest count MSE: 3.647091\n"
     ]
    },
    {
     "data": {
      "application/vnd.jupyter.widget-view+json": {
       "model_id": "b13d8f80df994065a8234565d75ffa07",
       "version_major": 2,
       "version_minor": 0
      },
      "text/plain": [
       "  0%|          | 0/190 [00:00<?, ?it/s]"
      ]
     },
     "metadata": {},
     "output_type": "display_data"
    },
    {
     "name": "stdout",
     "output_type": "stream",
     "text": [
      "\tTest profile NLL: 123.981774\n",
      "\tTest profile cross entropy: 5.537891\n",
      "\tTest profile JSD: 0.361210\n",
      "\tTest profile Pearson: 0.186961\n",
      "\tTest profile Spearman: 0.164387\n",
      "\tTest profile MSE: 0.000010\n",
      "\tTest count Pearson: 0.187257\n",
      "\tTest count Spearman: 0.175690\n",
      "\tTest count MSE: 0.865809\n"
     ]
    },
    {
     "data": {
      "application/vnd.jupyter.widget-view+json": {
       "model_id": "5bc07cd29f234951b3e5edbf14179a8a",
       "version_major": 2,
       "version_minor": 0
      },
      "text/plain": [
       "  0%|          | 0/235 [00:00<?, ?it/s]"
      ]
     },
     "metadata": {},
     "output_type": "display_data"
    },
    {
     "name": "stdout",
     "output_type": "stream",
     "text": [
      "\tTest profile NLL: 248.946588\n",
      "\tTest profile cross entropy: 5.002860\n",
      "\tTest profile JSD: 0.297283\n",
      "\tTest profile Pearson: 0.328131\n",
      "\tTest profile Spearman: 0.342339\n",
      "\tTest profile MSE: 0.000015\n",
      "\tTest count Pearson: 0.132487\n",
      "\tTest count Spearman: 0.127560\n",
      "\tTest count MSE: 3.653745\n"
     ]
    }
   ],
   "source": [
    "loaders = {'chip_unique_dataloader':chip_unique_dataloader, \n",
    "           'chip_shared_dataloader':chip_shared_dataloader, \n",
    "           'cut_unique_dataloader':cut_unique_dataloader, \n",
    "           'cut_shared_dataloader':cut_shared_dataloader}\n",
    "\n",
    "ALL_METRICS_CUT_MODEL = {}\n",
    "\n",
    "for loader_key in loaders.keys():\n",
    "    true_profs, log_pred_profs, true_counts, log_pred_counts = get_predictions(loaders[loader_key], model)\n",
    "\n",
    "    metrics = profile_performance.compute_performance_metrics(\n",
    "        true_profs, log_pred_profs, true_counts, log_pred_counts,\n",
    "        prof_smooth_kernel_sigma=7, prof_smooth_kernel_width=81,\n",
    "        #statuses=statuses, model_task_statuses=model_task_statuses,\n",
    "        print_updates=False\n",
    "    )\n",
    "    ALL_METRICS_CUT_MODEL[loader_key] = profile_performance.log_performance_metrics(metrics)"
   ]
  },
  {
   "cell_type": "code",
   "execution_count": 29,
   "id": "bf9c7fb7-61aa-4b0d-85cb-a6712b928b5d",
   "metadata": {},
   "outputs": [],
   "source": [
    "pd.DataFrame(ALL_METRICS_CUT_MODEL.values(), columns = columns, index=ALL_METRICS_CUT_MODEL.keys()).to_csv('/home/katie/bp_repo/reports/katie_notebooks/round2_tasks_mar2022/cut_model_peak_subsets_metrics.csv')\n",
    "                                                                                                                \n",
    "                                                                                                             \n",
    "                                                                                                             "
   ]
  },
  {
   "cell_type": "code",
   "execution_count": 31,
   "id": "b7e61c52-ca8e-4a4f-96d3-66e18d8008c2",
   "metadata": {},
   "outputs": [
    {
     "data": {
      "text/html": [
       "<div>\n",
       "<style scoped>\n",
       "    .dataframe tbody tr th:only-of-type {\n",
       "        vertical-align: middle;\n",
       "    }\n",
       "\n",
       "    .dataframe tbody tr th {\n",
       "        vertical-align: top;\n",
       "    }\n",
       "\n",
       "    .dataframe thead th {\n",
       "        text-align: right;\n",
       "    }\n",
       "</style>\n",
       "<table border=\"1\" class=\"dataframe\">\n",
       "  <thead>\n",
       "    <tr style=\"text-align: right;\">\n",
       "      <th></th>\n",
       "      <th>Test profile NLL</th>\n",
       "      <th>Test profile cross entropy</th>\n",
       "      <th>Test profile JSD</th>\n",
       "      <th>Test profile Pearson</th>\n",
       "      <th>Test profile Spearman</th>\n",
       "      <th>Test profile MSE</th>\n",
       "      <th>Test count Pearson</th>\n",
       "      <th>Test count Spearman</th>\n",
       "      <th>Test count MSE</th>\n",
       "    </tr>\n",
       "  </thead>\n",
       "  <tbody>\n",
       "    <tr>\n",
       "      <th>chip_unique_dataloader</th>\n",
       "      <td>60.245127</td>\n",
       "      <td>5.628857</td>\n",
       "      <td>0.422120</td>\n",
       "      <td>0.174455</td>\n",
       "      <td>0.167835</td>\n",
       "      <td>0.000015</td>\n",
       "      <td>0.014014</td>\n",
       "      <td>0.031141</td>\n",
       "      <td>0.706356</td>\n",
       "    </tr>\n",
       "    <tr>\n",
       "      <th>chip_shared_dataloader</th>\n",
       "      <td>248.510276</td>\n",
       "      <td>5.001862</td>\n",
       "      <td>0.298258</td>\n",
       "      <td>0.326661</td>\n",
       "      <td>0.342183</td>\n",
       "      <td>0.000015</td>\n",
       "      <td>0.121336</td>\n",
       "      <td>0.119872</td>\n",
       "      <td>3.647091</td>\n",
       "    </tr>\n",
       "    <tr>\n",
       "      <th>cut_unique_dataloader</th>\n",
       "      <td>123.981774</td>\n",
       "      <td>5.537891</td>\n",
       "      <td>0.361210</td>\n",
       "      <td>0.186961</td>\n",
       "      <td>0.164387</td>\n",
       "      <td>0.000010</td>\n",
       "      <td>0.187257</td>\n",
       "      <td>0.175690</td>\n",
       "      <td>0.865809</td>\n",
       "    </tr>\n",
       "    <tr>\n",
       "      <th>cut_shared_dataloader</th>\n",
       "      <td>248.946588</td>\n",
       "      <td>5.002860</td>\n",
       "      <td>0.297283</td>\n",
       "      <td>0.328131</td>\n",
       "      <td>0.342339</td>\n",
       "      <td>0.000015</td>\n",
       "      <td>0.132487</td>\n",
       "      <td>0.127560</td>\n",
       "      <td>3.653745</td>\n",
       "    </tr>\n",
       "  </tbody>\n",
       "</table>\n",
       "</div>"
      ],
      "text/plain": [
       "                       Test profile NLL Test profile cross entropy  \\\n",
       "chip_unique_dataloader        60.245127                   5.628857   \n",
       "chip_shared_dataloader       248.510276                   5.001862   \n",
       "cut_unique_dataloader        123.981774                   5.537891   \n",
       "cut_shared_dataloader        248.946588                   5.002860   \n",
       "\n",
       "                       Test profile JSD Test profile Pearson  \\\n",
       "chip_unique_dataloader         0.422120             0.174455   \n",
       "chip_shared_dataloader         0.298258             0.326661   \n",
       "cut_unique_dataloader          0.361210             0.186961   \n",
       "cut_shared_dataloader          0.297283             0.328131   \n",
       "\n",
       "                       Test profile Spearman Test profile MSE  \\\n",
       "chip_unique_dataloader              0.167835         0.000015   \n",
       "chip_shared_dataloader              0.342183         0.000015   \n",
       "cut_unique_dataloader               0.164387         0.000010   \n",
       "cut_shared_dataloader               0.342339         0.000015   \n",
       "\n",
       "                       Test count Pearson Test count Spearman Test count MSE  \n",
       "chip_unique_dataloader           0.014014            0.031141       0.706356  \n",
       "chip_shared_dataloader           0.121336            0.119872       3.647091  \n",
       "cut_unique_dataloader            0.187257            0.175690       0.865809  \n",
       "cut_shared_dataloader            0.132487            0.127560       3.653745  "
      ]
     },
     "execution_count": 31,
     "metadata": {},
     "output_type": "execute_result"
    }
   ],
   "source": [
    "pd.DataFrame(ALL_METRICS_CUT_MODEL.values(), columns = columns, index=ALL_METRICS_CUT_MODEL.keys())"
   ]
  },
  {
   "cell_type": "code",
   "execution_count": null,
   "id": "5f6f5a34-e205-4648-9328-959ef1d56e90",
   "metadata": {},
   "outputs": [],
   "source": []
  }
 ],
 "metadata": {
  "kernelspec": {
   "display_name": "Python 3 (ipykernel)",
   "language": "python",
   "name": "python3"
  },
  "language_info": {
   "codemirror_mode": {
    "name": "ipython",
    "version": 3
   },
   "file_extension": ".py",
   "mimetype": "text/x-python",
   "name": "python",
   "nbconvert_exporter": "python",
   "pygments_lexer": "ipython3",
   "version": "3.9.7"
  }
 },
 "nbformat": 4,
 "nbformat_minor": 5
}
