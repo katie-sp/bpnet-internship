{
 "cells": [
  {
   "cell_type": "markdown",
   "id": "c198c8ec-e9b6-4e0d-b7cd-e94083821837",
   "metadata": {},
   "source": [
    "# Checking on the metrics for the counts head of the FOSL2 CUT&RUN models\n",
    "*test set only (chr1)*"
   ]
  },
  {
   "cell_type": "code",
   "execution_count": 2,
   "id": "1cdeb630-730a-4d3e-80f5-f76809a90cc6",
   "metadata": {},
   "outputs": [
    {
     "name": "stderr",
     "output_type": "stream",
     "text": [
      "/tmp/ipykernel_34084/782289464.py:21: TqdmDeprecationWarning: This function will be removed in tqdm==5.0.0\n",
      "Please use `tqdm.notebook.tqdm` instead of `tqdm.tqdm_notebook`\n",
      "  tqdm.tqdm_notebook()\n"
     ]
    },
    {
     "data": {
      "application/vnd.jupyter.widget-view+json": {
       "model_id": "984203f76be54ea79d79e0102080ea1e",
       "version_major": 2,
       "version_minor": 0
      },
      "text/plain": [
       "0it [00:00, ?it/s]"
      ]
     },
     "metadata": {},
     "output_type": "display_data"
    }
   ],
   "source": [
    "import os\n",
    "os.chdir('/home/katie/bp_repo/reports/')\n",
    "\n",
    "from util import import_profiles\n",
    "import h5py\n",
    "import numpy as np\n",
    "import pandas as pd\n",
    "import matplotlib.pyplot as plt\n",
    "import matplotlib.font_manager as font_manager\n",
    "from IPython.display import display\n",
    "import tqdm\n",
    "\n",
    "import sys\n",
    "sys.path.append('/home/katie/bp_repo/multitask_profile_model_SPI_GATA/')\n",
    "import profile_performance\n",
    "from profile_performance import *\n",
    "from plotting_helper import *\n",
    "from all_functions import *\n",
    "from profile_models import ModelLoader\n",
    "\n",
    "tqdm.tqdm_notebook()\n",
    "\n",
    "plt.rcParams[\"figure.dpi\"] = 130"
   ]
  },
  {
   "cell_type": "code",
   "execution_count": 3,
   "id": "7d0650c1-61e5-44b6-b139-ca83b5b18483",
   "metadata": {},
   "outputs": [],
   "source": [
    "fosl2_cut_preds_dict = {}"
   ]
  },
  {
   "cell_type": "markdown",
   "id": "421c22b2-b96e-4e55-a39c-38ab6ea8f3bc",
   "metadata": {
    "tags": []
   },
   "source": [
    "### Single-task models"
   ]
  },
  {
   "cell_type": "code",
   "execution_count": 37,
   "id": "78b1e99e-bb52-440b-b9d8-9344b64a3c2b",
   "metadata": {
    "collapsed": true,
    "jupyter": {
     "outputs_hidden": true
    },
    "tags": []
   },
   "outputs": [
    {
     "data": {
      "application/vnd.jupyter.widget-view+json": {
       "model_id": "33ce27179c0f4166b361619782c78dfe",
       "version_major": 2,
       "version_minor": 0
      },
      "text/plain": [
       "Importing predictions:   0%|          | 0/54 [00:00<?, ?it/s]"
      ]
     },
     "metadata": {},
     "output_type": "display_data"
    },
    {
     "data": {
      "application/vnd.jupyter.widget-view+json": {
       "model_id": "2118b709c95b4322b7f8dad37c4c9c49",
       "version_major": 2,
       "version_minor": 0
      },
      "text/plain": [
       "Importing predictions:   0%|          | 0/51 [00:00<?, ?it/s]"
      ]
     },
     "metadata": {},
     "output_type": "display_data"
    },
    {
     "data": {
      "application/vnd.jupyter.widget-view+json": {
       "model_id": "69710ff5336c42d1aaf90620da9c1863",
       "version_major": 2,
       "version_minor": 0
      },
      "text/plain": [
       "Importing predictions:   0%|          | 0/14 [00:00<?, ?it/s]"
      ]
     },
     "metadata": {},
     "output_type": "display_data"
    },
    {
     "data": {
      "application/vnd.jupyter.widget-view+json": {
       "model_id": "424631f57ee746ca9900f487afaec123",
       "version_major": 2,
       "version_minor": 0
      },
      "text/plain": [
       "Importing predictions:   0%|          | 0/41 [00:00<?, ?it/s]"
      ]
     },
     "metadata": {},
     "output_type": "display_data"
    },
    {
     "data": {
      "application/vnd.jupyter.widget-view+json": {
       "model_id": "36f60b9ddb5f41dd8ed58fa68465180e",
       "version_major": 2,
       "version_minor": 0
      },
      "text/plain": [
       "Importing predictions:   0%|          | 0/54 [00:00<?, ?it/s]"
      ]
     },
     "metadata": {},
     "output_type": "display_data"
    },
    {
     "data": {
      "application/vnd.jupyter.widget-view+json": {
       "model_id": "3d436afb668b4abaa226a0a4b6bff611",
       "version_major": 2,
       "version_minor": 0
      },
      "text/plain": [
       "Importing predictions:   0%|          | 0/51 [00:00<?, ?it/s]"
      ]
     },
     "metadata": {},
     "output_type": "display_data"
    },
    {
     "data": {
      "application/vnd.jupyter.widget-view+json": {
       "model_id": "d8090a5e98554ddb893f5029d1aa6265",
       "version_major": 2,
       "version_minor": 0
      },
      "text/plain": [
       "Importing predictions:   0%|          | 0/14 [00:00<?, ?it/s]"
      ]
     },
     "metadata": {},
     "output_type": "display_data"
    },
    {
     "data": {
      "application/vnd.jupyter.widget-view+json": {
       "model_id": "7c75928335924099af9283ea458ec8f3",
       "version_major": 2,
       "version_minor": 0
      },
      "text/plain": [
       "Importing predictions:   0%|          | 0/41 [00:00<?, ?it/s]"
      ]
     },
     "metadata": {},
     "output_type": "display_data"
    },
    {
     "data": {
      "application/vnd.jupyter.widget-view+json": {
       "model_id": "365adb3cdbd9432480ec36a603bfb016",
       "version_major": 2,
       "version_minor": 0
      },
      "text/plain": [
       "Importing predictions:   0%|          | 0/54 [00:00<?, ?it/s]"
      ]
     },
     "metadata": {},
     "output_type": "display_data"
    },
    {
     "data": {
      "application/vnd.jupyter.widget-view+json": {
       "model_id": "4374f0b8980b4ebab356ad9cc6264acc",
       "version_major": 2,
       "version_minor": 0
      },
      "text/plain": [
       "Importing predictions:   0%|          | 0/51 [00:00<?, ?it/s]"
      ]
     },
     "metadata": {},
     "output_type": "display_data"
    },
    {
     "data": {
      "application/vnd.jupyter.widget-view+json": {
       "model_id": "98c9ab46ae9e45b8824847484f82aa70",
       "version_major": 2,
       "version_minor": 0
      },
      "text/plain": [
       "Importing predictions:   0%|          | 0/14 [00:00<?, ?it/s]"
      ]
     },
     "metadata": {},
     "output_type": "display_data"
    },
    {
     "data": {
      "application/vnd.jupyter.widget-view+json": {
       "model_id": "f151dc784af74016a35c28ad957d55c6",
       "version_major": 2,
       "version_minor": 0
      },
      "text/plain": [
       "Importing predictions:   0%|          | 0/41 [00:00<?, ?it/s]"
      ]
     },
     "metadata": {},
     "output_type": "display_data"
    }
   ],
   "source": [
    "paths = ['/home/katie/bp_repo/reports/katie_notebooks/june2022_analysis/fosl2_cutnrun_preds/fosl2_cutnrun_mar6/',\n",
    "         '/home/katie/bp_repo/reports/katie_notebooks/june2022_analysis/fosl2_cutnrun_preds/fosl2_cutnrun_jul5/',\n",
    "         '/home/katie/bp_repo/reports/katie_notebooks/round2_tasks_mar2022/TASK_1/FOSL2_cut_model_']\n",
    "path_ids = ['mar6', 'jul5', 'feb7']\n",
    "\n",
    "keys = ['shared_chip_loader',\n",
    " 'shared_cut_loader',\n",
    " 'unique_chip_loader',\n",
    " 'unique_cut_loader']\n",
    "\n",
    "data_ids = ['true_counts', 'log_pred_counts', 'true_profs', 'log_pred_profs']\n",
    "\n",
    "for i in range(3):\n",
    "    path = paths[i]\n",
    "    path_id = path_ids[i]\n",
    "    preds_dict = {}\n",
    "    \n",
    "    # the surprisingly quick (few secs) actual preds loading\n",
    "    for key in keys:\n",
    "        file = h5py.File(f'{path}{key}.preds', 'r')\n",
    "        coords = import_profiles(f'{path}{key}.preds')[2]\n",
    "        preds_dict[key] = {'true_counts': file['predictions']['true_counts'], \n",
    "                           'log_pred_counts': file['predictions']['log_pred_counts'], \n",
    "                           'true_profs': file['predictions']['true_profs'],\n",
    "                           'log_pred_profs': file['predictions']['log_pred_profs'], \n",
    "                           'coords': coords}\n",
    "        \n",
    "        # we need to subset to chr1, the test set\n",
    "            # 1. take the coords, make into a DataFrame, subset to chr1, and get the indexes of the test coords\n",
    "            # 2. use these indexes to subset pred_counts into the test profs\n",
    "        df = pd.DataFrame(preds_dict[key]['coords']).reset_index()\n",
    "        preds_dict[key]['coords_test'] = df[df.iloc[:,1] == 'chr1']\n",
    "        preds_dict[key]['indexes_test'] = list(preds_dict[key]['coords_test']['index'])\n",
    "        \n",
    "        for data_id in data_ids:  # update all of the data to ONLY include test data\n",
    "            preds_dict[key][data_id] = preds_dict[key][data_id][preds_dict[key]['indexes_test']]\n",
    "    \n",
    "    fosl2_cut_preds_dict[path_id] = preds_dict\n",
    "    \n",
    "# confirmed that all of the true_counts and true_profs are equal across models"
   ]
  },
  {
   "cell_type": "code",
   "execution_count": 101,
   "id": "38e29b04-d65e-4ce7-bf4e-17fedfa8fe89",
   "metadata": {},
   "outputs": [],
   "source": [
    "pearson_df = pd.DataFrame(columns=path_ids + ['feb7_short', 'feb7_long'], index=keys)\n",
    "spearman_df = pearson_df.copy()"
   ]
  },
  {
   "cell_type": "code",
   "execution_count": 102,
   "id": "4bd97286-7518-4a0e-8273-df0a82b9cc7f",
   "metadata": {},
   "outputs": [],
   "source": [
    "path_ids = ['mar6', 'jul5', 'feb7']\n",
    "\n",
    "keys = ['shared_chip_loader',\n",
    " 'shared_cut_loader',\n",
    " 'unique_chip_loader',\n",
    " 'unique_cut_loader']\n",
    "\n",
    "for path_id in path_ids:  # like mar6\n",
    "    for key in keys:      # like shared_cut_loader\n",
    "        preds_dict = fosl2_cut_preds_dict[path_id][key]\n",
    "        true_counts, log_pred_counts, true_profs, log_pred_profs = \\\n",
    "        preds_dict['true_counts'], preds_dict['log_pred_counts'], preds_dict['true_profs'], preds_dict['log_pred_profs']\n",
    "        metrics = profile_performance.compute_performance_metrics(\n",
    "            true_profs, log_pred_profs, true_counts, log_pred_counts,\n",
    "            prof_smooth_kernel_sigma=7, prof_smooth_kernel_width=81,\n",
    "            print_updates=False\n",
    "        )\n",
    "        pearson_df.loc[key, path_id] = metrics['count_pearson']\n",
    "        spearman_df.loc[key, path_id] = metrics['count_spearman']\n",
    "        \n",
    "# clean up lists into just numbers and round them\n",
    "for path_id in path_ids:  # like mar6\n",
    "    for key in keys:      # like shared_cut_loader\n",
    "        pearson_df.loc[key, path_id] = np.round(pearson_df.loc[key, path_id][0], 2)\n",
    "        spearman_df.loc[key, path_id] = np.round(spearman_df.loc[key, path_id][0], 2)"
   ]
  },
  {
   "cell_type": "markdown",
   "id": "0c081e23-9aeb-4fec-bf76-f0a7b6c8366f",
   "metadata": {
    "tags": []
   },
   "source": [
    "### Multi-task feb 7 model"
   ]
  },
  {
   "cell_type": "code",
   "execution_count": null,
   "id": "917abf01-86b9-444a-914c-0fad39316208",
   "metadata": {
    "tags": []
   },
   "outputs": [],
   "source": [
    "# load in preds for multi-task model\n",
    "path = '/home/katie/bp_repo/reports/katie_notebooks/june2022_analysis/fosl2_cutnrun_preds/fosl2_cutnrun_120_150_feb7/'\n",
    "data_ids = ['true_counts', 'log_pred_counts_short', 'log_pred_counts_long', 'true_profs', 'log_pred_profs_short', 'log_pred_profs_long']\n",
    "\n",
    "preds_dict = {}\n",
    "keys = ['shared_chip_loader',\n",
    " 'shared_cut_loader',\n",
    " 'unique_chip_loader',\n",
    " 'unique_cut_loader']\n",
    "\n",
    "# the surprisingly quick (few secs) actual preds loading\n",
    "for key in keys:\n",
    "    file = h5py.File(f'{path}{key}.preds', 'r')\n",
    "    coords = import_profiles(f'{path}{key}.preds')[2]\n",
    "    preds_dict[key] = {'true_counts': np.array(file['predictions']['true_counts']), \n",
    "                       'log_pred_counts_short': file['predictions']['log_pred_counts'][:,0:1,:],\n",
    "                       'log_pred_counts_long': file['predictions']['log_pred_counts'][:,1:,:],\n",
    "                       'true_profs': np.array(file['predictions']['true_profs']),\n",
    "                       'log_pred_profs_short': file['predictions']['log_pred_profs'][:,0:1,:], \n",
    "                       'log_pred_profs_long': file['predictions']['log_pred_profs'][:,1:,:],\n",
    "                       'coords': coords}\n",
    "\n",
    "\n",
    " # we need to subset to chr1, the test set\n",
    "    # 1. take the coords, make into a DataFrame, subset to chr1, and get the indexes of the test coords\n",
    "    # 2. use these indexes to subset pred_counts into the test profs\n",
    "df = pd.DataFrame(preds_dict[key]['coords']).reset_index()\n",
    "preds_dict[key]['coords_test'] = df[df.iloc[:,1] == 'chr1']\n",
    "preds_dict[key]['indexes_test'] = list(preds_dict[key]['coords_test']['index'])\n",
    "\n",
    "for data_id in data_ids:  # update all of the data to ONLY include test data\n",
    "    preds_dict[key][data_id] = preds_dict[key][data_id][preds_dict[key]['indexes_test']]\n",
    "    \n",
    "fosl2_cut_preds_dict['feb7_multi'] = preds_dict"
   ]
  },
  {
   "cell_type": "code",
   "execution_count": 103,
   "id": "b26c5499-e9c5-4e99-b990-b38874a012a8",
   "metadata": {},
   "outputs": [],
   "source": [
    "path_ids = ['feb7_short', 'feb7_long']\n",
    "\n",
    "for path_id in path_ids:  # feb7_short or feb7_long\n",
    "    for key in keys:      # like shared_cut_loader\n",
    "        preds_dict = fosl2_cut_preds_dict['feb7_multi'][key]\n",
    "        true_counts, log_pred_counts, true_profs, log_pred_profs = preds_dict['true_counts'], \\\n",
    "        preds_dict['log_pred_counts' + path_id[4:]], preds_dict['true_profs'], preds_dict['log_pred_profs' + path_id[4:]]\n",
    "        metrics = profile_performance.compute_performance_metrics(\n",
    "            true_profs, log_pred_profs, true_counts, log_pred_counts,\n",
    "            prof_smooth_kernel_sigma=7, prof_smooth_kernel_width=81,\n",
    "            print_updates=False\n",
    "        )\n",
    "        pearson_df.loc[key, path_id] = metrics['count_pearson']\n",
    "        spearman_df.loc[key, path_id] = metrics['count_spearman']\n",
    "        \n",
    "# clean up lists into just numbers and round them\n",
    "for path_id in path_ids:  # like mar6\n",
    "    for key in keys:      # like shared_cut_loader\n",
    "        pearson_df.loc[key, path_id] = np.round(pearson_df.loc[key, path_id][0], 2)\n",
    "        spearman_df.loc[key, path_id] = np.round(spearman_df.loc[key, path_id][0], 2)"
   ]
  },
  {
   "cell_type": "code",
   "execution_count": 104,
   "id": "9ec86ff5-5a68-4668-8784-287998c6653c",
   "metadata": {},
   "outputs": [
    {
     "data": {
      "text/html": [
       "<div>\n",
       "<style scoped>\n",
       "    .dataframe tbody tr th:only-of-type {\n",
       "        vertical-align: middle;\n",
       "    }\n",
       "\n",
       "    .dataframe tbody tr th {\n",
       "        vertical-align: top;\n",
       "    }\n",
       "\n",
       "    .dataframe thead th {\n",
       "        text-align: right;\n",
       "    }\n",
       "</style>\n",
       "<table border=\"1\" class=\"dataframe\">\n",
       "  <thead>\n",
       "    <tr style=\"text-align: right;\">\n",
       "      <th></th>\n",
       "      <th>mar6</th>\n",
       "      <th>jul5</th>\n",
       "      <th>feb7</th>\n",
       "      <th>feb7_short</th>\n",
       "      <th>feb7_long</th>\n",
       "    </tr>\n",
       "  </thead>\n",
       "  <tbody>\n",
       "    <tr>\n",
       "      <th>shared_chip_loader</th>\n",
       "      <td>0.11</td>\n",
       "      <td>0.14</td>\n",
       "      <td>0.01</td>\n",
       "      <td>0.02</td>\n",
       "      <td>0.02</td>\n",
       "    </tr>\n",
       "    <tr>\n",
       "      <th>shared_cut_loader</th>\n",
       "      <td>0.18</td>\n",
       "      <td>0.22</td>\n",
       "      <td>0.01</td>\n",
       "      <td>0.02</td>\n",
       "      <td>0.02</td>\n",
       "    </tr>\n",
       "    <tr>\n",
       "      <th>unique_chip_loader</th>\n",
       "      <td>0.08</td>\n",
       "      <td>0.04</td>\n",
       "      <td>-0.02</td>\n",
       "      <td>-0.03</td>\n",
       "      <td>-0.09</td>\n",
       "    </tr>\n",
       "    <tr>\n",
       "      <th>unique_cut_loader</th>\n",
       "      <td>0.31</td>\n",
       "      <td>0.28</td>\n",
       "      <td>-0.0</td>\n",
       "      <td>-0.02</td>\n",
       "      <td>-0.12</td>\n",
       "    </tr>\n",
       "  </tbody>\n",
       "</table>\n",
       "</div>"
      ],
      "text/plain": [
       "                    mar6  jul5  feb7 feb7_short feb7_long\n",
       "shared_chip_loader  0.11  0.14  0.01       0.02      0.02\n",
       "shared_cut_loader   0.18  0.22  0.01       0.02      0.02\n",
       "unique_chip_loader  0.08  0.04 -0.02      -0.03     -0.09\n",
       "unique_cut_loader   0.31  0.28  -0.0      -0.02     -0.12"
      ]
     },
     "execution_count": 104,
     "metadata": {},
     "output_type": "execute_result"
    }
   ],
   "source": [
    "pearson_df"
   ]
  },
  {
   "cell_type": "code",
   "execution_count": 105,
   "id": "3e6d783c-811d-4de7-b346-55f91b1b6e2c",
   "metadata": {},
   "outputs": [
    {
     "data": {
      "text/html": [
       "<div>\n",
       "<style scoped>\n",
       "    .dataframe tbody tr th:only-of-type {\n",
       "        vertical-align: middle;\n",
       "    }\n",
       "\n",
       "    .dataframe tbody tr th {\n",
       "        vertical-align: top;\n",
       "    }\n",
       "\n",
       "    .dataframe thead th {\n",
       "        text-align: right;\n",
       "    }\n",
       "</style>\n",
       "<table border=\"1\" class=\"dataframe\">\n",
       "  <thead>\n",
       "    <tr style=\"text-align: right;\">\n",
       "      <th></th>\n",
       "      <th>mar6</th>\n",
       "      <th>jul5</th>\n",
       "      <th>feb7</th>\n",
       "      <th>feb7_short</th>\n",
       "      <th>feb7_long</th>\n",
       "    </tr>\n",
       "  </thead>\n",
       "  <tbody>\n",
       "    <tr>\n",
       "      <th>shared_chip_loader</th>\n",
       "      <td>0.08</td>\n",
       "      <td>0.11</td>\n",
       "      <td>0.03</td>\n",
       "      <td>0.04</td>\n",
       "      <td>-0.0</td>\n",
       "    </tr>\n",
       "    <tr>\n",
       "      <th>shared_cut_loader</th>\n",
       "      <td>0.17</td>\n",
       "      <td>0.2</td>\n",
       "      <td>0.03</td>\n",
       "      <td>0.05</td>\n",
       "      <td>0.0</td>\n",
       "    </tr>\n",
       "    <tr>\n",
       "      <th>unique_chip_loader</th>\n",
       "      <td>0.09</td>\n",
       "      <td>0.06</td>\n",
       "      <td>-0.05</td>\n",
       "      <td>-0.1</td>\n",
       "      <td>-0.1</td>\n",
       "    </tr>\n",
       "    <tr>\n",
       "      <th>unique_cut_loader</th>\n",
       "      <td>0.29</td>\n",
       "      <td>0.26</td>\n",
       "      <td>-0.01</td>\n",
       "      <td>-0.06</td>\n",
       "      <td>-0.12</td>\n",
       "    </tr>\n",
       "  </tbody>\n",
       "</table>\n",
       "</div>"
      ],
      "text/plain": [
       "                    mar6  jul5  feb7 feb7_short feb7_long\n",
       "shared_chip_loader  0.08  0.11  0.03       0.04      -0.0\n",
       "shared_cut_loader   0.17   0.2  0.03       0.05       0.0\n",
       "unique_chip_loader  0.09  0.06 -0.05       -0.1      -0.1\n",
       "unique_cut_loader   0.29  0.26 -0.01      -0.06     -0.12"
      ]
     },
     "execution_count": 105,
     "metadata": {},
     "output_type": "execute_result"
    }
   ],
   "source": [
    "spearman_df"
   ]
  },
  {
   "cell_type": "code",
   "execution_count": null,
   "id": "fb28fe3a-5979-40ca-b4ab-669fa983efe5",
   "metadata": {},
   "outputs": [],
   "source": []
  }
 ],
 "metadata": {
  "kernelspec": {
   "display_name": "Python 3 (ipykernel)",
   "language": "python",
   "name": "python3"
  },
  "language_info": {
   "codemirror_mode": {
    "name": "ipython",
    "version": 3
   },
   "file_extension": ".py",
   "mimetype": "text/x-python",
   "name": "python",
   "nbconvert_exporter": "python",
   "pygments_lexer": "ipython3",
   "version": "3.9.7"
  }
 },
 "nbformat": 4,
 "nbformat_minor": 5
}
