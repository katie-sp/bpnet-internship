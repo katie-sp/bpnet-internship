{
 "cells": [
  {
   "cell_type": "markdown",
   "id": "56064f15-4226-4342-8017-f7143e82dd73",
   "metadata": {},
   "source": [
    "# Compute metrics across peak subsets"
   ]
  },
  {
   "cell_type": "code",
   "execution_count": 1,
   "id": "3e46f274-8686-4051-9062-9d4639ecb775",
   "metadata": {},
   "outputs": [],
   "source": [
    "import sys\n",
    "# append paths pointing to Data directory on your machine\n",
    "sys.path.append('/home/katie/bp_repo/multitask_profile_model_SPI_GATA')\n",
    "\n",
    "import pickle\n",
    "import torch\n",
    "import numpy as np\n",
    "import pandas as pd\n",
    "import matplotlib.pyplot as plt\n",
    "import h5py\n",
    "\n",
    "import profile_models\n",
    "import profile_performance\n",
    "from profile_performance import load_metrics, compute_performance_metrics, log_performance_metrics\n",
    "from all_functions import save_preds_by_subset\n",
    "\n",
    "sys.path.append('/home/katie/bp_repo/reports/')\n",
    "from util import import_profiles"
   ]
  },
  {
   "cell_type": "code",
   "execution_count": 3,
   "id": "7024a70f-cb43-4a81-9603-b56b91064e1e",
   "metadata": {},
   "outputs": [],
   "source": [
    "# set variables\n",
    "subsets_path_root = '/home/katie/bp_repo/reports/katie_notebooks/round2_tasks_mar2022/TASK_1/'\n",
    "model_path_root = '/home/katie/bp_repo/pipeline_outputs/'\n",
    "save_path_root = '/home/katie/bp_repo/reports/katie_notebooks/summer2022_analysis/preds_by_subset/'\n",
    "\n",
    "model_paths = list(model_path_root + stem + '/model.state_dict' for stem in ['ctcf_chipseq_jul6',\n",
    "                                                         'ctcf_cutnrun_jul6', 'fosl2_chipseq_jul6', 'fosl2_cutnrun_jul6'])\n",
    "models = list(profile_models.ModelLoader(model_path, controls='chipseq' in model_path, num_tasks=1).load_model() for \\\n",
    "             model_path in model_paths)\n",
    "\n",
    "tfs = ['CTCF'] * 2 + ['FOSL2'] * 2\n",
    "assays = ['chip-seq', 'cutnrun'] * 2\n",
    "controls = list(assay == 'chip-seq' for assay in assays)\n",
    "save_paths = list(save_path_root + tfs[i] + '/' + assays[i] + '_model/' for i in range(len(tfs)))\n",
    "peak_subsets = ['unique', 'shared']\n",
    "\n",
    "\n",
    "path_ids = ['CTCF chip-seq model', 'CTCF cutnrun model', 'FOSL2 chip-seq model', 'FOSL2 cutnrun model']\n",
    "\n",
    "keys = ['shared_chip_loader',\n",
    " 'shared_cut_loader',\n",
    " 'unique_chip_loader',\n",
    " 'unique_cut_loader']\n",
    "\n",
    "data_ids = ['true_counts', 'log_pred_counts', 'true_profs', 'log_pred_profs']\n",
    "plt.rcParams['figure.dpi'] = 100"
   ]
  },
  {
   "cell_type": "markdown",
   "id": "ba780dd2-4d9d-40d4-a0ed-812e31c91ef0",
   "metadata": {
    "jp-MarkdownHeadingCollapsed": true,
    "tags": []
   },
   "source": [
    "## Save preds by subset"
   ]
  },
  {
   "cell_type": "code",
   "execution_count": 3,
   "id": "b034352c-8692-4273-acc0-22da88f88d9e",
   "metadata": {
    "collapsed": true,
    "jupyter": {
     "outputs_hidden": true
    },
    "tags": []
   },
   "outputs": [
    {
     "name": "stdout",
     "output_type": "stream",
     "text": [
      "This is NOT the assay: cutnrun\n",
      "Tasks path: /home/katie/bp_repo/research/data/chip-seq/\n",
      "TSV path: CTCF_chip_unique_no_cut\n",
      "CTCF\n",
      "/home/katie/bp_repo/reports/katie_notebooks/round2_tasks_mar2022/TASK_1/CTCF_chip_unique_no_cut\n",
      "(4980, 14)\n",
      "Index(['chrom', 'peak_start', 'peak_end', 'name', 'score', 'strand', 'signal',\n",
      "       'pval', 'qval', 'summit_offset', 'i0', 'start', 'end', 'task'],\n",
      "      dtype='object')\n"
     ]
    },
    {
     "data": {
      "application/vnd.jupyter.widget-view+json": {
       "model_id": "373d86530f8b40cb8bc55b20002c7d13",
       "version_major": 2,
       "version_minor": 0
      },
      "text/plain": [
       "  0%|          | 0/4 [00:00<?, ?it/s]"
      ]
     },
     "metadata": {},
     "output_type": "display_data"
    },
    {
     "name": "stdout",
     "output_type": "stream",
     "text": [
      "Saving result to HDF5...\n",
      "Tasks path: /home/katie/bp_repo/research/data/chip-seq/\n",
      "TSV path: CTCF_cut_unique_no_chip\n",
      "CTCF\n",
      "/home/katie/bp_repo/reports/katie_notebooks/round2_tasks_mar2022/TASK_1/CTCF_cut_unique_no_chip\n",
      "(24246, 23)\n",
      "Index(['chrom', 'peak_start', 'peak_end', 'name', 'score', 'strand', 'signal',\n",
      "       'pval', 'qval', 'summit_offset', 'i0', 'i1', 'i2', 'i3', 'i4', 'i5',\n",
      "       'i6', 'i7', 'i8', 'i9', 'start', 'end', 'task'],\n",
      "      dtype='object')\n"
     ]
    },
    {
     "data": {
      "application/vnd.jupyter.widget-view+json": {
       "model_id": "d5210d34d03c45d1a7ee69c2c85dd1f4",
       "version_major": 2,
       "version_minor": 0
      },
      "text/plain": [
       "  0%|          | 0/17 [00:00<?, ?it/s]"
      ]
     },
     "metadata": {},
     "output_type": "display_data"
    },
    {
     "name": "stdout",
     "output_type": "stream",
     "text": [
      "Saving result to HDF5...\n",
      "This is NOT the assay: cutnrun\n",
      "Tasks path: /home/katie/bp_repo/research/data/chip-seq/\n",
      "TSV path: CTCF_chip_unique_shared_cut\n",
      "CTCF\n",
      "/home/katie/bp_repo/reports/katie_notebooks/round2_tasks_mar2022/TASK_1/CTCF_chip_unique_shared_cut\n",
      "(30821, 14)\n",
      "Index(['chrom', 'peak_start', 'peak_end', 'name', 'score', 'strand', 'signal',\n",
      "       'pval', 'qval', 'summit_offset', 'i0', 'start', 'end', 'task'],\n",
      "      dtype='object')\n"
     ]
    },
    {
     "data": {
      "application/vnd.jupyter.widget-view+json": {
       "model_id": "55c46e0f9bc448b1b119bec7629ba298",
       "version_major": 2,
       "version_minor": 0
      },
      "text/plain": [
       "  0%|          | 0/23 [00:00<?, ?it/s]"
      ]
     },
     "metadata": {},
     "output_type": "display_data"
    },
    {
     "name": "stdout",
     "output_type": "stream",
     "text": [
      "Saving result to HDF5...\n",
      "Tasks path: /home/katie/bp_repo/research/data/chip-seq/\n",
      "TSV path: CTCF_cut_unique_shared_chip\n",
      "CTCF\n",
      "/home/katie/bp_repo/reports/katie_notebooks/round2_tasks_mar2022/TASK_1/CTCF_cut_unique_shared_chip\n",
      "(29979, 23)\n",
      "Index(['chrom', 'peak_start', 'peak_end', 'name', 'score', 'strand', 'signal',\n",
      "       'pval', 'qval', 'summit_offset', 'i0', 'i1', 'i2', 'i3', 'i4', 'i5',\n",
      "       'i6', 'i7', 'i8', 'i9', 'start', 'end', 'task'],\n",
      "      dtype='object')\n"
     ]
    },
    {
     "data": {
      "application/vnd.jupyter.widget-view+json": {
       "model_id": "8533f15b95a349028ff4594a271bd2ce",
       "version_major": 2,
       "version_minor": 0
      },
      "text/plain": [
       "  0%|          | 0/22 [00:00<?, ?it/s]"
      ]
     },
     "metadata": {},
     "output_type": "display_data"
    },
    {
     "name": "stdout",
     "output_type": "stream",
     "text": [
      "Saving result to HDF5...\n",
      "This is NOT the assay: chip-seq\n",
      "Tasks path: /home/katie/bp_repo/research/data/cutnrun/\n",
      "TSV path: CTCF_cut_unique_no_chip\n",
      "CTCF\n",
      "/home/katie/bp_repo/reports/katie_notebooks/round2_tasks_mar2022/TASK_1/CTCF_cut_unique_no_chip\n",
      "(24246, 23)\n",
      "Index(['chrom', 'peak_start', 'peak_end', 'name', 'score', 'strand', 'signal',\n",
      "       'pval', 'qval', 'summit_offset', 'i0', 'i1', 'i2', 'i3', 'i4', 'i5',\n",
      "       'i6', 'i7', 'i8', 'i9', 'start', 'end', 'task'],\n",
      "      dtype='object')\n"
     ]
    },
    {
     "data": {
      "application/vnd.jupyter.widget-view+json": {
       "model_id": "11c2b5903fb74f5282d6db72c5811859",
       "version_major": 2,
       "version_minor": 0
      },
      "text/plain": [
       "  0%|          | 0/17 [00:00<?, ?it/s]"
      ]
     },
     "metadata": {},
     "output_type": "display_data"
    },
    {
     "name": "stdout",
     "output_type": "stream",
     "text": [
      "Saving result to HDF5...\n",
      "Tasks path: /home/katie/bp_repo/research/data/cutnrun/\n",
      "TSV path: CTCF_chip_unique_no_cut\n",
      "CTCF\n",
      "/home/katie/bp_repo/reports/katie_notebooks/round2_tasks_mar2022/TASK_1/CTCF_chip_unique_no_cut\n",
      "(4980, 14)\n",
      "Index(['chrom', 'peak_start', 'peak_end', 'name', 'score', 'strand', 'signal',\n",
      "       'pval', 'qval', 'summit_offset', 'i0', 'start', 'end', 'task'],\n",
      "      dtype='object')\n"
     ]
    },
    {
     "data": {
      "application/vnd.jupyter.widget-view+json": {
       "model_id": "4cda79a885c54d6bb9243294558649ba",
       "version_major": 2,
       "version_minor": 0
      },
      "text/plain": [
       "  0%|          | 0/4 [00:00<?, ?it/s]"
      ]
     },
     "metadata": {},
     "output_type": "display_data"
    },
    {
     "name": "stdout",
     "output_type": "stream",
     "text": [
      "Saving result to HDF5...\n",
      "This is NOT the assay: chip-seq\n",
      "Tasks path: /home/katie/bp_repo/research/data/cutnrun/\n",
      "TSV path: CTCF_cut_unique_shared_chip\n",
      "CTCF\n",
      "/home/katie/bp_repo/reports/katie_notebooks/round2_tasks_mar2022/TASK_1/CTCF_cut_unique_shared_chip\n",
      "(29979, 23)\n",
      "Index(['chrom', 'peak_start', 'peak_end', 'name', 'score', 'strand', 'signal',\n",
      "       'pval', 'qval', 'summit_offset', 'i0', 'i1', 'i2', 'i3', 'i4', 'i5',\n",
      "       'i6', 'i7', 'i8', 'i9', 'start', 'end', 'task'],\n",
      "      dtype='object')\n"
     ]
    },
    {
     "data": {
      "application/vnd.jupyter.widget-view+json": {
       "model_id": "2be644cd59794d2e8df430dae4982e5f",
       "version_major": 2,
       "version_minor": 0
      },
      "text/plain": [
       "  0%|          | 0/22 [00:00<?, ?it/s]"
      ]
     },
     "metadata": {},
     "output_type": "display_data"
    },
    {
     "name": "stdout",
     "output_type": "stream",
     "text": [
      "Saving result to HDF5...\n",
      "Tasks path: /home/katie/bp_repo/research/data/cutnrun/\n",
      "TSV path: CTCF_chip_unique_shared_cut\n",
      "CTCF\n",
      "/home/katie/bp_repo/reports/katie_notebooks/round2_tasks_mar2022/TASK_1/CTCF_chip_unique_shared_cut\n",
      "(30821, 14)\n",
      "Index(['chrom', 'peak_start', 'peak_end', 'name', 'score', 'strand', 'signal',\n",
      "       'pval', 'qval', 'summit_offset', 'i0', 'start', 'end', 'task'],\n",
      "      dtype='object')\n"
     ]
    },
    {
     "data": {
      "application/vnd.jupyter.widget-view+json": {
       "model_id": "af210a64911c4237a95e70be2809a33d",
       "version_major": 2,
       "version_minor": 0
      },
      "text/plain": [
       "  0%|          | 0/23 [00:00<?, ?it/s]"
      ]
     },
     "metadata": {},
     "output_type": "display_data"
    },
    {
     "name": "stdout",
     "output_type": "stream",
     "text": [
      "Saving result to HDF5...\n",
      "This is NOT the assay: cutnrun\n",
      "Tasks path: /home/katie/bp_repo/research/data/chip-seq/\n",
      "TSV path: FOSL2_chip_unique_no_cut\n",
      "FOSL2\n",
      "/home/katie/bp_repo/reports/katie_notebooks/round2_tasks_mar2022/TASK_1/FOSL2_chip_unique_no_cut\n",
      "(6960, 14)\n",
      "Index(['chrom', 'peak_start', 'peak_end', 'name', 'score', 'strand', 'signal',\n",
      "       'pval', 'qval', 'summit_offset', 'i0', 'start', 'end', 'task'],\n",
      "      dtype='object')\n"
     ]
    },
    {
     "data": {
      "application/vnd.jupyter.widget-view+json": {
       "model_id": "c5db121a7ee2497b9921d5079d242b76",
       "version_major": 2,
       "version_minor": 0
      },
      "text/plain": [
       "  0%|          | 0/5 [00:00<?, ?it/s]"
      ]
     },
     "metadata": {},
     "output_type": "display_data"
    },
    {
     "name": "stdout",
     "output_type": "stream",
     "text": [
      "Saving result to HDF5...\n",
      "Tasks path: /home/katie/bp_repo/research/data/chip-seq/\n",
      "TSV path: FOSL2_cut_unique_no_chip\n",
      "FOSL2\n",
      "/home/katie/bp_repo/reports/katie_notebooks/round2_tasks_mar2022/TASK_1/FOSL2_cut_unique_no_chip\n",
      "(20169, 23)\n",
      "Index(['chrom', 'peak_start', 'peak_end', 'name', 'score', 'strand', 'signal',\n",
      "       'pval', 'qval', 'summit_offset', 'i0', 'i1', 'i2', 'i3', 'i4', 'i5',\n",
      "       'i6', 'i7', 'i8', 'i9', 'start', 'end', 'task'],\n",
      "      dtype='object')\n"
     ]
    },
    {
     "data": {
      "application/vnd.jupyter.widget-view+json": {
       "model_id": "ecc1c31afe9a40cbab4755c3fe43be54",
       "version_major": 2,
       "version_minor": 0
      },
      "text/plain": [
       "  0%|          | 0/14 [00:00<?, ?it/s]"
      ]
     },
     "metadata": {},
     "output_type": "display_data"
    },
    {
     "name": "stdout",
     "output_type": "stream",
     "text": [
      "Saving result to HDF5...\n",
      "This is NOT the assay: cutnrun\n",
      "Tasks path: /home/katie/bp_repo/research/data/chip-seq/\n",
      "TSV path: FOSL2_chip_unique_shared_cut\n",
      "FOSL2\n",
      "/home/katie/bp_repo/reports/katie_notebooks/round2_tasks_mar2022/TASK_1/FOSL2_chip_unique_shared_cut\n",
      "(26508, 14)\n",
      "Index(['chrom', 'peak_start', 'peak_end', 'name', 'score', 'strand', 'signal',\n",
      "       'pval', 'qval', 'summit_offset', 'i0', 'start', 'end', 'task'],\n",
      "      dtype='object')\n"
     ]
    },
    {
     "data": {
      "application/vnd.jupyter.widget-view+json": {
       "model_id": "3a789d08a1ae43ba948f321c585b2046",
       "version_major": 2,
       "version_minor": 0
      },
      "text/plain": [
       "  0%|          | 0/20 [00:00<?, ?it/s]"
      ]
     },
     "metadata": {},
     "output_type": "display_data"
    },
    {
     "name": "stdout",
     "output_type": "stream",
     "text": [
      "Saving result to HDF5...\n",
      "Tasks path: /home/katie/bp_repo/research/data/chip-seq/\n",
      "TSV path: FOSL2_cut_unique_shared_chip\n",
      "FOSL2\n",
      "/home/katie/bp_repo/reports/katie_notebooks/round2_tasks_mar2022/TASK_1/FOSL2_cut_unique_shared_chip\n",
      "(25420, 23)\n",
      "Index(['chrom', 'peak_start', 'peak_end', 'name', 'score', 'strand', 'signal',\n",
      "       'pval', 'qval', 'summit_offset', 'i0', 'i1', 'i2', 'i3', 'i4', 'i5',\n",
      "       'i6', 'i7', 'i8', 'i9', 'start', 'end', 'task'],\n",
      "      dtype='object')\n"
     ]
    },
    {
     "data": {
      "application/vnd.jupyter.widget-view+json": {
       "model_id": "7c042bccb6bc4e0d91060d28e0e794f6",
       "version_major": 2,
       "version_minor": 0
      },
      "text/plain": [
       "  0%|          | 0/19 [00:00<?, ?it/s]"
      ]
     },
     "metadata": {},
     "output_type": "display_data"
    },
    {
     "name": "stdout",
     "output_type": "stream",
     "text": [
      "Saving result to HDF5...\n",
      "This is NOT the assay: chip-seq\n",
      "Tasks path: /home/katie/bp_repo/research/data/cutnrun/\n",
      "TSV path: FOSL2_cut_unique_no_chip\n",
      "FOSL2\n",
      "/home/katie/bp_repo/reports/katie_notebooks/round2_tasks_mar2022/TASK_1/FOSL2_cut_unique_no_chip\n",
      "(20169, 23)\n",
      "Index(['chrom', 'peak_start', 'peak_end', 'name', 'score', 'strand', 'signal',\n",
      "       'pval', 'qval', 'summit_offset', 'i0', 'i1', 'i2', 'i3', 'i4', 'i5',\n",
      "       'i6', 'i7', 'i8', 'i9', 'start', 'end', 'task'],\n",
      "      dtype='object')\n"
     ]
    },
    {
     "data": {
      "application/vnd.jupyter.widget-view+json": {
       "model_id": "7c6ed4f7b7254b4e9a37bca7f2add6d0",
       "version_major": 2,
       "version_minor": 0
      },
      "text/plain": [
       "  0%|          | 0/14 [00:00<?, ?it/s]"
      ]
     },
     "metadata": {},
     "output_type": "display_data"
    },
    {
     "name": "stdout",
     "output_type": "stream",
     "text": [
      "Saving result to HDF5...\n",
      "Tasks path: /home/katie/bp_repo/research/data/cutnrun/\n",
      "TSV path: FOSL2_chip_unique_no_cut\n",
      "FOSL2\n",
      "/home/katie/bp_repo/reports/katie_notebooks/round2_tasks_mar2022/TASK_1/FOSL2_chip_unique_no_cut\n",
      "(6960, 14)\n",
      "Index(['chrom', 'peak_start', 'peak_end', 'name', 'score', 'strand', 'signal',\n",
      "       'pval', 'qval', 'summit_offset', 'i0', 'start', 'end', 'task'],\n",
      "      dtype='object')\n"
     ]
    },
    {
     "data": {
      "application/vnd.jupyter.widget-view+json": {
       "model_id": "ae560aafef2d4abaa0040b73248cb9b6",
       "version_major": 2,
       "version_minor": 0
      },
      "text/plain": [
       "  0%|          | 0/5 [00:00<?, ?it/s]"
      ]
     },
     "metadata": {},
     "output_type": "display_data"
    },
    {
     "name": "stdout",
     "output_type": "stream",
     "text": [
      "Saving result to HDF5...\n",
      "This is NOT the assay: chip-seq\n",
      "Tasks path: /home/katie/bp_repo/research/data/cutnrun/\n",
      "TSV path: FOSL2_cut_unique_shared_chip\n",
      "FOSL2\n",
      "/home/katie/bp_repo/reports/katie_notebooks/round2_tasks_mar2022/TASK_1/FOSL2_cut_unique_shared_chip\n",
      "(25420, 23)\n",
      "Index(['chrom', 'peak_start', 'peak_end', 'name', 'score', 'strand', 'signal',\n",
      "       'pval', 'qval', 'summit_offset', 'i0', 'i1', 'i2', 'i3', 'i4', 'i5',\n",
      "       'i6', 'i7', 'i8', 'i9', 'start', 'end', 'task'],\n",
      "      dtype='object')\n"
     ]
    },
    {
     "data": {
      "application/vnd.jupyter.widget-view+json": {
       "model_id": "8f6dc5a904ed43e2a0a1292ec60d6cd7",
       "version_major": 2,
       "version_minor": 0
      },
      "text/plain": [
       "  0%|          | 0/19 [00:00<?, ?it/s]"
      ]
     },
     "metadata": {},
     "output_type": "display_data"
    },
    {
     "name": "stdout",
     "output_type": "stream",
     "text": [
      "Saving result to HDF5...\n",
      "Tasks path: /home/katie/bp_repo/research/data/cutnrun/\n",
      "TSV path: FOSL2_chip_unique_shared_cut\n",
      "FOSL2\n",
      "/home/katie/bp_repo/reports/katie_notebooks/round2_tasks_mar2022/TASK_1/FOSL2_chip_unique_shared_cut\n",
      "(26508, 14)\n",
      "Index(['chrom', 'peak_start', 'peak_end', 'name', 'score', 'strand', 'signal',\n",
      "       'pval', 'qval', 'summit_offset', 'i0', 'start', 'end', 'task'],\n",
      "      dtype='object')\n"
     ]
    },
    {
     "data": {
      "application/vnd.jupyter.widget-view+json": {
       "model_id": "ecd3c4d42aef420b9db94d5e400c6208",
       "version_major": 2,
       "version_minor": 0
      },
      "text/plain": [
       "  0%|          | 0/20 [00:00<?, ?it/s]"
      ]
     },
     "metadata": {},
     "output_type": "display_data"
    },
    {
     "name": "stdout",
     "output_type": "stream",
     "text": [
      "Saving result to HDF5...\n"
     ]
    }
   ],
   "source": [
    "# save preds by subset\n",
    "for i in range(len(tfs)):\n",
    "    model, tf, assay, control, save_path = models[i], tfs[i], assays[i], controls[i], save_paths[i]\n",
    "    for peak_subset in peak_subsets:\n",
    "        save_preds_by_subset(model, tf, assay, control, save_path, peak_subset, chrom_subset='test')"
   ]
  },
  {
   "cell_type": "markdown",
   "id": "253f812c-c33d-4fb7-ab64-626e761ec71f",
   "metadata": {
    "jp-MarkdownHeadingCollapsed": true,
    "tags": []
   },
   "source": [
    "## Load in all test set predictions"
   ]
  },
  {
   "cell_type": "code",
   "execution_count": 3,
   "id": "3ccbbc43-ea51-4c08-8ae5-9a758c239d04",
   "metadata": {
    "collapsed": true,
    "jupyter": {
     "outputs_hidden": true
    },
    "tags": []
   },
   "outputs": [
    {
     "data": {
      "application/vnd.jupyter.widget-view+json": {
       "model_id": "2c42ac53bc394f5bad82f6fb5f95a191",
       "version_major": 2,
       "version_minor": 0
      },
      "text/plain": [
       "Importing predictions:   0%|          | 0/6 [00:00<?, ?it/s]"
      ]
     },
     "metadata": {},
     "output_type": "display_data"
    },
    {
     "data": {
      "application/vnd.jupyter.widget-view+json": {
       "model_id": "c4dbc9820fa94953b2c4968cd21d6632",
       "version_major": 2,
       "version_minor": 0
      },
      "text/plain": [
       "Importing predictions:   0%|          | 0/6 [00:00<?, ?it/s]"
      ]
     },
     "metadata": {},
     "output_type": "display_data"
    },
    {
     "data": {
      "application/vnd.jupyter.widget-view+json": {
       "model_id": "11328a0020904e5682acf0c902edd769",
       "version_major": 2,
       "version_minor": 0
      },
      "text/plain": [
       "Importing predictions:   0%|          | 0/1 [00:00<?, ?it/s]"
      ]
     },
     "metadata": {},
     "output_type": "display_data"
    },
    {
     "data": {
      "application/vnd.jupyter.widget-view+json": {
       "model_id": "378e4e132bc744b184a7db707429bb26",
       "version_major": 2,
       "version_minor": 0
      },
      "text/plain": [
       "Importing predictions:   0%|          | 0/5 [00:00<?, ?it/s]"
      ]
     },
     "metadata": {},
     "output_type": "display_data"
    },
    {
     "data": {
      "application/vnd.jupyter.widget-view+json": {
       "model_id": "16ba13a5511949939bfb5f9d47507ab1",
       "version_major": 2,
       "version_minor": 0
      },
      "text/plain": [
       "Importing predictions:   0%|          | 0/6 [00:00<?, ?it/s]"
      ]
     },
     "metadata": {},
     "output_type": "display_data"
    },
    {
     "data": {
      "application/vnd.jupyter.widget-view+json": {
       "model_id": "315c1cce2b45427c9c552c4e0acf016a",
       "version_major": 2,
       "version_minor": 0
      },
      "text/plain": [
       "Importing predictions:   0%|          | 0/6 [00:00<?, ?it/s]"
      ]
     },
     "metadata": {},
     "output_type": "display_data"
    },
    {
     "data": {
      "application/vnd.jupyter.widget-view+json": {
       "model_id": "d4fb5803422a4b7cb494a0bbecb792bc",
       "version_major": 2,
       "version_minor": 0
      },
      "text/plain": [
       "Importing predictions:   0%|          | 0/1 [00:00<?, ?it/s]"
      ]
     },
     "metadata": {},
     "output_type": "display_data"
    },
    {
     "data": {
      "application/vnd.jupyter.widget-view+json": {
       "model_id": "9a71eeb1ee744804ad7ee2eed9f7766e",
       "version_major": 2,
       "version_minor": 0
      },
      "text/plain": [
       "Importing predictions:   0%|          | 0/5 [00:00<?, ?it/s]"
      ]
     },
     "metadata": {},
     "output_type": "display_data"
    },
    {
     "data": {
      "application/vnd.jupyter.widget-view+json": {
       "model_id": "467e749fd8f74e48b45f4496aaf0e7ac",
       "version_major": 2,
       "version_minor": 0
      },
      "text/plain": [
       "Importing predictions:   0%|          | 0/5 [00:00<?, ?it/s]"
      ]
     },
     "metadata": {},
     "output_type": "display_data"
    },
    {
     "data": {
      "application/vnd.jupyter.widget-view+json": {
       "model_id": "679866a448c043f3b4bd28840353a1bb",
       "version_major": 2,
       "version_minor": 0
      },
      "text/plain": [
       "Importing predictions:   0%|          | 0/5 [00:00<?, ?it/s]"
      ]
     },
     "metadata": {},
     "output_type": "display_data"
    },
    {
     "data": {
      "application/vnd.jupyter.widget-view+json": {
       "model_id": "a5ff7d60d58b491ca64d3807d1369c88",
       "version_major": 2,
       "version_minor": 0
      },
      "text/plain": [
       "Importing predictions:   0%|          | 0/2 [00:00<?, ?it/s]"
      ]
     },
     "metadata": {},
     "output_type": "display_data"
    },
    {
     "data": {
      "application/vnd.jupyter.widget-view+json": {
       "model_id": "9b20b54aeb1141acb1151eea092fc77f",
       "version_major": 2,
       "version_minor": 0
      },
      "text/plain": [
       "Importing predictions:   0%|          | 0/4 [00:00<?, ?it/s]"
      ]
     },
     "metadata": {},
     "output_type": "display_data"
    },
    {
     "data": {
      "application/vnd.jupyter.widget-view+json": {
       "model_id": "b03de17c7e6c47b8924d2179d1da3a2a",
       "version_major": 2,
       "version_minor": 0
      },
      "text/plain": [
       "Importing predictions:   0%|          | 0/5 [00:00<?, ?it/s]"
      ]
     },
     "metadata": {},
     "output_type": "display_data"
    },
    {
     "data": {
      "application/vnd.jupyter.widget-view+json": {
       "model_id": "4139426202f44cd8b2b82471b4a7cc5f",
       "version_major": 2,
       "version_minor": 0
      },
      "text/plain": [
       "Importing predictions:   0%|          | 0/5 [00:00<?, ?it/s]"
      ]
     },
     "metadata": {},
     "output_type": "display_data"
    },
    {
     "data": {
      "application/vnd.jupyter.widget-view+json": {
       "model_id": "00e56796cab04a0fb154fea95b46830d",
       "version_major": 2,
       "version_minor": 0
      },
      "text/plain": [
       "Importing predictions:   0%|          | 0/2 [00:00<?, ?it/s]"
      ]
     },
     "metadata": {},
     "output_type": "display_data"
    },
    {
     "data": {
      "application/vnd.jupyter.widget-view+json": {
       "model_id": "7c8f4049c8154ed1b7102ed21e2d77c5",
       "version_major": 2,
       "version_minor": 0
      },
      "text/plain": [
       "Importing predictions:   0%|          | 0/4 [00:00<?, ?it/s]"
      ]
     },
     "metadata": {},
     "output_type": "display_data"
    }
   ],
   "source": [
    "# load in all test set predictions\n",
    "all_preds_dict = {}\n",
    "\n",
    "for i in range(len(save_paths)):\n",
    "    path = save_paths[i]\n",
    "    path_id = path_ids[i]\n",
    "    preds_dict = {}\n",
    "    \n",
    "    # the surprisingly quick (few secs) actual preds loading\n",
    "    for key in keys:\n",
    "        file = h5py.File(f'{path}{key}.preds', 'r')\n",
    "        coords = import_profiles(f'{path}{key}.preds')[2]\n",
    "        preds_dict[key] = {'true_counts': file['predictions']['true_counts'], \n",
    "                           'log_pred_counts': file['predictions']['log_pred_counts'], \n",
    "                           'true_profs': file['predictions']['true_profs'],\n",
    "                           'log_pred_profs': file['predictions']['log_pred_profs'], \n",
    "                           'coords': coords}\n",
    "        \n",
    "        # we need to subset to chr1, the test set\n",
    "            # 1. take the coords, make into a DataFrame, subset to chr1, and get the indexes of the test coords\n",
    "            # 2. use these indexes to subset pred_counts into the test profs\n",
    "        df = pd.DataFrame(preds_dict[key]['coords']).reset_index()\n",
    "        preds_dict[key]['coords_test'] = df[df.iloc[:,1] == 'chr1']\n",
    "        preds_dict[key]['indexes_test'] = list(preds_dict[key]['coords_test']['index'])\n",
    "        \n",
    "        for data_id in data_ids:  # update all of the data to ONLY include test data\n",
    "            preds_dict[key][data_id] = preds_dict[key][data_id][preds_dict[key]['indexes_test']]\n",
    "    \n",
    "    all_preds_dict[path_id] = preds_dict"
   ]
  },
  {
   "cell_type": "markdown",
   "id": "59896661-8995-4b3e-b6c0-d9cc3ff33c53",
   "metadata": {
    "jp-MarkdownHeadingCollapsed": true,
    "tags": []
   },
   "source": [
    "## Save metrics (pickling)"
   ]
  },
  {
   "cell_type": "code",
   "execution_count": 7,
   "id": "a338cccf-1cb3-4b4c-a4a2-3bbad2d93586",
   "metadata": {
    "collapsed": true,
    "jupyter": {
     "outputs_hidden": true
    },
    "tags": []
   },
   "outputs": [
    {
     "name": "stdout",
     "output_type": "stream",
     "text": [
      "\tTest profile NLL: 213.997897\n",
      "\tTest profile cross entropy: 5.799258\n",
      "\tTest profile JSD: 0.125262\n",
      "\tTest profile Pearson: 0.790660\n",
      "\tTest profile Spearman: 0.593470\n",
      "\tTest profile MSE: 0.000002\n",
      "\tTest count Pearson: 0.233888\n",
      "\tTest count Spearman: 0.242361\n",
      "\tTest count MSE: 0.973231\n"
     ]
    },
    {
     "name": "stderr",
     "output_type": "stream",
     "text": [
      "/home/katie/bp_repo/multitask_profile_model_SPI_GATA/profile_performance.py:43: RuntimeWarning: invalid value encountered in true_divide\n",
      "  cross_ent = (-log_prob_pows_sum) / trials\n"
     ]
    },
    {
     "name": "stdout",
     "output_type": "stream",
     "text": [
      "\tTest profile NLL: 213.548737\n",
      "\tTest profile cross entropy: 5.795738\n",
      "\tTest profile JSD: 0.125937\n",
      "\tTest profile Pearson: 0.788692\n",
      "\tTest profile Spearman: 0.592907\n",
      "\tTest profile MSE: 0.000002\n",
      "\tTest count Pearson: 0.246767\n",
      "\tTest count Spearman: 0.259126\n",
      "\tTest count MSE: 0.990603\n",
      "\tTest profile NLL: 118.424368\n",
      "\tTest profile cross entropy: 6.022300\n",
      "\tTest profile JSD: 0.217622\n",
      "\tTest profile Pearson: 0.637231\n",
      "\tTest profile Spearman: 0.501469\n",
      "\tTest profile MSE: 0.000004\n",
      "\tTest count Pearson: 0.194651\n",
      "\tTest count Spearman: 0.165882\n",
      "\tTest count MSE: 0.277827\n",
      "\tTest profile NLL: 67.967874\n",
      "\tTest profile cross entropy: 6.799979\n",
      "\tTest profile JSD: 0.397298\n",
      "\tTest profile Pearson: 0.161837\n",
      "\tTest profile Spearman: 0.193510\n",
      "\tTest profile MSE: 0.000009\n",
      "\tTest count Pearson: 0.175710\n",
      "\tTest count Spearman: 0.195075\n",
      "\tTest count MSE: 1.369871\n",
      "\tTest profile NLL: 221.008060\n",
      "\tTest profile cross entropy: 4.826022\n",
      "\tTest profile JSD: 0.332676\n",
      "\tTest profile Pearson: 0.322312\n",
      "\tTest profile Spearman: 0.341610\n",
      "\tTest profile MSE: 0.000023\n",
      "\tTest count Pearson: 0.393744\n",
      "\tTest count Spearman: 0.393382\n",
      "\tTest count MSE: 0.810846\n",
      "\tTest profile NLL: 221.686458\n",
      "\tTest profile cross entropy: 4.828600\n",
      "\tTest profile JSD: 0.332058\n",
      "\tTest profile Pearson: 0.323090\n",
      "\tTest profile Spearman: 0.340913\n",
      "\tTest profile MSE: 0.000023\n",
      "\tTest count Pearson: 0.398040\n",
      "\tTest count Spearman: 0.396601\n",
      "\tTest count MSE: 0.808974\n",
      "\tTest profile NLL: 58.504822\n",
      "\tTest profile cross entropy: 5.549674\n",
      "\tTest profile JSD: 0.442124\n",
      "\tTest profile Pearson: 0.178287\n",
      "\tTest profile Spearman: 0.173227\n",
      "\tTest profile MSE: 0.000021\n",
      "\tTest count Pearson: 0.115782\n",
      "\tTest count Spearman: 0.141856\n",
      "\tTest count MSE: 2.050756\n",
      "\tTest profile NLL: 117.197684\n",
      "\tTest profile cross entropy: 5.478706\n",
      "\tTest profile JSD: 0.398888\n",
      "\tTest profile Pearson: 0.172835\n",
      "\tTest profile Spearman: 0.143052\n",
      "\tTest profile MSE: 0.000013\n",
      "\tTest count Pearson: 0.129719\n",
      "\tTest count Spearman: 0.121700\n",
      "\tTest count MSE: 0.471928\n",
      "\tTest profile NLL: 302.250816\n",
      "\tTest profile cross entropy: 6.497638\n",
      "\tTest profile JSD: 0.105655\n",
      "\tTest profile Pearson: 0.641986\n",
      "\tTest profile Spearman: 0.550863\n",
      "\tTest profile MSE: 0.000001\n",
      "\tTest count Pearson: 0.103164\n",
      "\tTest count Spearman: 0.068137\n",
      "\tTest count MSE: 0.914425\n",
      "\tTest profile NLL: 305.051183\n",
      "\tTest profile cross entropy: 6.502436\n",
      "\tTest profile JSD: 0.106563\n",
      "\tTest profile Pearson: 0.636583\n",
      "\tTest profile Spearman: 0.547847\n",
      "\tTest profile MSE: 0.000001\n",
      "\tTest count Pearson: 0.110337\n",
      "\tTest count Spearman: 0.071873\n",
      "\tTest count MSE: 0.939212\n",
      "\tTest profile NLL: 183.829077\n",
      "\tTest profile cross entropy: 6.562229\n",
      "\tTest profile JSD: 0.160945\n",
      "\tTest profile Pearson: 0.527547\n",
      "\tTest profile Spearman: 0.447490\n",
      "\tTest profile MSE: 0.000002\n",
      "\tTest count Pearson: 0.008305\n",
      "\tTest count Spearman: 0.000000\n",
      "\tTest count MSE: 0.180043\n",
      "\tTest profile NLL: 139.039445\n",
      "\tTest profile cross entropy: 6.850489\n",
      "\tTest profile JSD: 0.225605\n",
      "\tTest profile Pearson: 0.249811\n",
      "\tTest profile Spearman: 0.271661\n",
      "\tTest profile MSE: 0.000002\n",
      "\tTest count Pearson: 0.240208\n",
      "\tTest count Spearman: 0.256843\n",
      "\tTest count MSE: 0.464291\n",
      "\tTest profile NLL: 105.264195\n",
      "\tTest profile cross entropy: 4.915599\n",
      "\tTest profile JSD: 0.385930\n",
      "\tTest profile Pearson: 0.261097\n",
      "\tTest profile Spearman: 0.284532\n",
      "\tTest profile MSE: 0.000018\n",
      "\tTest count Pearson: 0.080714\n",
      "\tTest count Spearman: 0.074546\n",
      "\tTest count MSE: 1.259022\n",
      "\tTest profile NLL: 108.985590\n",
      "\tTest profile cross entropy: 4.927361\n",
      "\tTest profile JSD: 0.384534\n",
      "\tTest profile Pearson: 0.261114\n",
      "\tTest profile Spearman: 0.283138\n",
      "\tTest profile MSE: 0.000018\n",
      "\tTest count Pearson: 0.091329\n",
      "\tTest count Spearman: 0.082664\n",
      "\tTest count MSE: 1.289953\n",
      "\tTest profile NLL: 25.587210\n",
      "\tTest profile cross entropy: 5.166349\n",
      "\tTest profile JSD: 0.497880\n",
      "\tTest profile Pearson: 0.153546\n",
      "\tTest profile Spearman: 0.171600\n",
      "\tTest profile MSE: 0.000025\n",
      "\tTest count Pearson: -0.006213\n",
      "\tTest count Spearman: -0.018478\n",
      "\tTest count MSE: 2.281631\n",
      "\tTest profile NLL: 39.343034\n",
      "\tTest profile cross entropy: 5.194243\n",
      "\tTest profile JSD: 0.470194\n",
      "\tTest profile Pearson: 0.167986\n",
      "\tTest profile Spearman: 0.178369\n",
      "\tTest profile MSE: 0.000021\n",
      "\tTest count Pearson: 0.211839\n",
      "\tTest count Spearman: 0.209289\n",
      "\tTest count MSE: 1.411059\n"
     ]
    }
   ],
   "source": [
    "# save metrics\n",
    "# only need to run once\n",
    "for i in range(len(path_ids)):\n",
    "    path_id = path_ids[i]\n",
    "    save_path = save_paths[i]\n",
    "    for key in keys:\n",
    "        preds_dict = all_preds_dict[path_id][key]\n",
    "        true_profs, log_pred_profs, true_counts, log_pred_counts = \\\n",
    "        preds_dict['true_profs'], preds_dict['log_pred_profs'], preds_dict['true_counts'], preds_dict['log_pred_counts']\n",
    "        metrics = profile_performance.compute_performance_metrics(\n",
    "                true_profs, log_pred_profs, true_counts, log_pred_counts,\n",
    "                prof_smooth_kernel_sigma=7, prof_smooth_kernel_width=81, print_updates=False\n",
    "            )\n",
    "\n",
    "        pickle.dump(profile_performance.log_performance_metrics(metrics), open(save_path + key + '_metrics.pkl', 'wb'))"
   ]
  },
  {
   "cell_type": "markdown",
   "id": "94349bf6-712e-4557-bd74-f84006700607",
   "metadata": {},
   "source": [
    "## Load metrics into pretty dataframe :]"
   ]
  },
  {
   "cell_type": "code",
   "execution_count": 4,
   "id": "e11e4eeb-6831-4f39-9f52-be0da639bd6c",
   "metadata": {},
   "outputs": [],
   "source": [
    "pickles = []\n",
    "ids = []\n",
    "for i in range(len(path_ids)):\n",
    "    path_id = path_ids[i]\n",
    "    save_path = save_paths[i]\n",
    "    for key in keys:\n",
    "        pickles.append(save_path + key + '_metrics.pkl')\n",
    "        ids.append(path_id + ' on ' + ' '.join(key.split('_')[:-1]) + ' peaks')"
   ]
  },
  {
   "cell_type": "code",
   "execution_count": 9,
   "id": "8e393089-c61a-49b6-9dbf-677900743477",
   "metadata": {
    "jupyter": {
     "source_hidden": true
    },
    "tags": []
   },
   "outputs": [],
   "source": [
    "# OLD, WITHOUT MULTI-INDEXING\n",
    "metrics = load_metrics(pickles, ids, multiindexing=False)\n",
    "\n",
    "metrics = metrics.append(load_metrics(['/home/katie/bp_repo/pipeline_outputs/ctcf_chipseq_jul6/metrics.pkl',\n",
    "              '/home/katie/bp_repo/pipeline_outputs/ctcf_cutnrun_jul6/metrics.pkl',\n",
    "              '/home/katie/bp_repo/pipeline_outputs/fosl2_chipseq_jul6/metrics.pkl',\n",
    "              '/home/katie/bp_repo/pipeline_outputs/fosl2_cutnrun_jul6/metrics.pkl'],\n",
    "             ['CTCF chip-seq model on all test peaks', 'CTCF cutnrun model on all test peaks', \n",
    "              'FOSL2 chip-seq model on all test peaks', 'FOSL2 cutnrun model on all test peaks'], multiindexing=False))"
   ]
  },
  {
   "cell_type": "code",
   "execution_count": 5,
   "id": "e5152ff0-8d20-4d43-abb1-de43fa079d75",
   "metadata": {
    "collapsed": true,
    "jupyter": {
     "outputs_hidden": true
    },
    "tags": []
   },
   "outputs": [
    {
     "name": "stdout",
     "output_type": "stream",
     "text": [
      "CTCF/chip-seq_model/shared_chip_loader_metrics.pkl\n",
      "('CTCF chip-seq model', 'shared chip loader')\n",
      "\n",
      "\n",
      "/CTCF/chip-seq_model/shared_cut_loader_metrics.pkl\n",
      "('CTCF chip-seq model', 'shared cut loader')\n",
      "\n",
      "\n",
      "CTCF/chip-seq_model/unique_chip_loader_metrics.pkl\n",
      "('CTCF chip-seq model', 'unique chip loader')\n",
      "\n",
      "\n",
      "/CTCF/chip-seq_model/unique_cut_loader_metrics.pkl\n",
      "('CTCF chip-seq model', 'unique cut loader')\n",
      "\n",
      "\n",
      "/CTCF/cutnrun_model/shared_chip_loader_metrics.pkl\n",
      "('CTCF cutnrun model', 'shared chip loader')\n",
      "\n",
      "\n",
      "t/CTCF/cutnrun_model/shared_cut_loader_metrics.pkl\n",
      "('CTCF cutnrun model', 'shared cut loader')\n",
      "\n",
      "\n",
      "/CTCF/cutnrun_model/unique_chip_loader_metrics.pkl\n",
      "('CTCF cutnrun model', 'unique chip loader')\n",
      "\n",
      "\n",
      "t/CTCF/cutnrun_model/unique_cut_loader_metrics.pkl\n",
      "('CTCF cutnrun model', 'unique cut loader')\n",
      "\n",
      "\n",
      "OSL2/chip-seq_model/shared_chip_loader_metrics.pkl\n",
      "('FOSL2 chip-seq model', 'shared chip loader')\n",
      "\n",
      "\n",
      "FOSL2/chip-seq_model/shared_cut_loader_metrics.pkl\n",
      "('FOSL2 chip-seq model', 'shared cut loader')\n",
      "\n",
      "\n",
      "OSL2/chip-seq_model/unique_chip_loader_metrics.pkl\n",
      "('FOSL2 chip-seq model', 'unique chip loader')\n",
      "\n",
      "\n",
      "FOSL2/chip-seq_model/unique_cut_loader_metrics.pkl\n",
      "('FOSL2 chip-seq model', 'unique cut loader')\n",
      "\n",
      "\n",
      "FOSL2/cutnrun_model/shared_chip_loader_metrics.pkl\n",
      "('FOSL2 cutnrun model', 'shared chip loader')\n",
      "\n",
      "\n",
      "/FOSL2/cutnrun_model/shared_cut_loader_metrics.pkl\n",
      "('FOSL2 cutnrun model', 'shared cut loader')\n",
      "\n",
      "\n",
      "FOSL2/cutnrun_model/unique_chip_loader_metrics.pkl\n",
      "('FOSL2 cutnrun model', 'unique chip loader')\n",
      "\n",
      "\n",
      "/FOSL2/cutnrun_model/unique_cut_loader_metrics.pkl\n",
      "('FOSL2 cutnrun model', 'unique cut loader')\n",
      "\n",
      "\n",
      "epo/pipeline_outputs/ctcf_chipseq_jul6/metrics.pkl\n",
      "('CTCF chip-seq model', 'all test peaks')\n",
      "\n",
      "\n",
      "epo/pipeline_outputs/ctcf_cutnrun_jul6/metrics.pkl\n",
      "('CTCF cutnrun model', 'all test peaks')\n",
      "\n",
      "\n",
      "po/pipeline_outputs/fosl2_chipseq_jul6/metrics.pkl\n",
      "('FOSL2 chip-seq model', 'all test peaks')\n",
      "\n",
      "\n",
      "po/pipeline_outputs/fosl2_cutnrun_jul6/metrics.pkl\n",
      "('FOSL2 cutnrun model', 'all test peaks')\n",
      "\n",
      "\n"
     ]
    }
   ],
   "source": [
    "metrics = load_metrics(pickles, [path_ids, list(' '.join(key.split('_')) for key in keys)], multiindexing=True)\n",
    "metrics = pd.concat([metrics, load_metrics(['/home/katie/bp_repo/pipeline_outputs/ctcf_chipseq_jul6/metrics.pkl',\n",
    "              '/home/katie/bp_repo/pipeline_outputs/ctcf_cutnrun_jul6/metrics.pkl',\n",
    "              '/home/katie/bp_repo/pipeline_outputs/fosl2_chipseq_jul6/metrics.pkl',\n",
    "              '/home/katie/bp_repo/pipeline_outputs/fosl2_cutnrun_jul6/metrics.pkl'],\n",
    "             [path_ids, ['all test peaks']], multiindexing=True)]).sort_index()\n",
    "metrics = metrics.astype(float).round(2)"
   ]
  },
  {
   "cell_type": "code",
   "execution_count": 8,
   "id": "2c853b1a-4aab-4255-9ab9-5b1d53e9e814",
   "metadata": {},
   "outputs": [
    {
     "data": {
      "text/html": [
       "<div>\n",
       "<style scoped>\n",
       "    .dataframe tbody tr th:only-of-type {\n",
       "        vertical-align: middle;\n",
       "    }\n",
       "\n",
       "    .dataframe tbody tr th {\n",
       "        vertical-align: top;\n",
       "    }\n",
       "\n",
       "    .dataframe thead th {\n",
       "        text-align: right;\n",
       "    }\n",
       "</style>\n",
       "<table border=\"1\" class=\"dataframe\">\n",
       "  <thead>\n",
       "    <tr style=\"text-align: right;\">\n",
       "      <th></th>\n",
       "      <th></th>\n",
       "      <th>Test profile JSD</th>\n",
       "      <th>Test count Pearson</th>\n",
       "      <th>Test count Spearman</th>\n",
       "    </tr>\n",
       "  </thead>\n",
       "  <tbody>\n",
       "    <tr>\n",
       "      <th rowspan=\"5\" valign=\"top\">FOSL2 chip-seq model</th>\n",
       "      <th>all test peaks</th>\n",
       "      <td>0.12</td>\n",
       "      <td>0.60</td>\n",
       "      <td>0.59</td>\n",
       "    </tr>\n",
       "    <tr>\n",
       "      <th>shared chip loader</th>\n",
       "      <td>0.11</td>\n",
       "      <td>0.10</td>\n",
       "      <td>0.07</td>\n",
       "    </tr>\n",
       "    <tr>\n",
       "      <th>shared cut loader</th>\n",
       "      <td>0.11</td>\n",
       "      <td>0.11</td>\n",
       "      <td>0.07</td>\n",
       "    </tr>\n",
       "    <tr>\n",
       "      <th>unique chip loader</th>\n",
       "      <td>0.16</td>\n",
       "      <td>0.01</td>\n",
       "      <td>0.00</td>\n",
       "    </tr>\n",
       "    <tr>\n",
       "      <th>unique cut loader</th>\n",
       "      <td>0.23</td>\n",
       "      <td>0.24</td>\n",
       "      <td>0.26</td>\n",
       "    </tr>\n",
       "    <tr>\n",
       "      <th rowspan=\"5\" valign=\"top\">FOSL2 cutnrun model</th>\n",
       "      <th>all test peaks</th>\n",
       "      <td>0.42</td>\n",
       "      <td>0.15</td>\n",
       "      <td>0.14</td>\n",
       "    </tr>\n",
       "    <tr>\n",
       "      <th>shared chip loader</th>\n",
       "      <td>0.39</td>\n",
       "      <td>0.08</td>\n",
       "      <td>0.07</td>\n",
       "    </tr>\n",
       "    <tr>\n",
       "      <th>shared cut loader</th>\n",
       "      <td>0.38</td>\n",
       "      <td>0.09</td>\n",
       "      <td>0.08</td>\n",
       "    </tr>\n",
       "    <tr>\n",
       "      <th>unique chip loader</th>\n",
       "      <td>0.50</td>\n",
       "      <td>-0.01</td>\n",
       "      <td>-0.02</td>\n",
       "    </tr>\n",
       "    <tr>\n",
       "      <th>unique cut loader</th>\n",
       "      <td>0.47</td>\n",
       "      <td>0.21</td>\n",
       "      <td>0.21</td>\n",
       "    </tr>\n",
       "  </tbody>\n",
       "</table>\n",
       "</div>"
      ],
      "text/plain": [
       "                                         Test profile JSD  Test count Pearson  \\\n",
       "FOSL2 chip-seq model all test peaks                  0.12                0.60   \n",
       "                     shared chip loader              0.11                0.10   \n",
       "                     shared cut loader               0.11                0.11   \n",
       "                     unique chip loader              0.16                0.01   \n",
       "                     unique cut loader               0.23                0.24   \n",
       "FOSL2 cutnrun model  all test peaks                  0.42                0.15   \n",
       "                     shared chip loader              0.39                0.08   \n",
       "                     shared cut loader               0.38                0.09   \n",
       "                     unique chip loader              0.50               -0.01   \n",
       "                     unique cut loader               0.47                0.21   \n",
       "\n",
       "                                         Test count Spearman  \n",
       "FOSL2 chip-seq model all test peaks                     0.59  \n",
       "                     shared chip loader                 0.07  \n",
       "                     shared cut loader                  0.07  \n",
       "                     unique chip loader                 0.00  \n",
       "                     unique cut loader                  0.26  \n",
       "FOSL2 cutnrun model  all test peaks                     0.14  \n",
       "                     shared chip loader                 0.07  \n",
       "                     shared cut loader                  0.08  \n",
       "                     unique chip loader                -0.02  \n",
       "                     unique cut loader                  0.21  "
      ]
     },
     "execution_count": 8,
     "metadata": {},
     "output_type": "execute_result"
    }
   ],
   "source": [
    "metrics.loc['FOSL2 chip-seq model':'FOSL2 cutnrun model',['Test profile JSD', 'Test count Pearson', 'Test count Spearman']]"
   ]
  },
  {
   "cell_type": "code",
   "execution_count": 70,
   "id": "27910d11-9f44-4db1-8aec-36218858d67a",
   "metadata": {},
   "outputs": [],
   "source": [
    "def plot_metrics(tf, metric):\n",
    "    subsets = ['shared chip loader', 'shared cut loader', 'unique chip loader', 'unique cut loader']\n",
    "    \n",
    "    labels = ['Shared ChIP-seq', 'Shared CUT&RUN', 'Unique ChIP-seq', 'Unique CUT&RUN']\n",
    "    \n",
    "    chip_rects_values = list(metrics.loc[(f'{tf} chip-seq model', subset), metric] for subset in subsets)\n",
    "    cut_rects_values = list(metrics.loc[(f'{tf} cutnrun model', subset), metric] for subset in subsets)\n",
    "    \n",
    "    width = 0.4       # the width of the bars: can also be len(x) sequence\n",
    "    ind = np.arange(len(labels))\n",
    "\n",
    "    fig, ax = plt.subplots()\n",
    "\n",
    "    # ChIP-seq model\n",
    "    chip_rects = ax.bar(ind - width/2, chip_rects_values, width, label='ChIP-seq model')\n",
    "\n",
    "    # CUT&RUN model\n",
    "    cut_rects = ax.bar(ind + width/2, cut_rects_values, width, label='CUT&RUN model')\n",
    "\n",
    "    ax.set_xticks(ind, labels, rotation=30)\n",
    "    ax.set_xlabel('Peak subset')\n",
    "    ax.set_ylabel(metric)\n",
    "    ax.set_title(f'{tf} model performance on peak subsets')\n",
    "    ax.legend()\n",
    "\n",
    "    ax.bar_label(chip_rects, padding=1, fontsize=8)\n",
    "    ax.bar_label(cut_rects, padding=1, fontsize=8)\n",
    "\n",
    "    plt.show()"
   ]
  },
  {
   "cell_type": "code",
   "execution_count": 73,
   "id": "1f424483-faf2-4660-bec9-f9d21c522da8",
   "metadata": {},
   "outputs": [
    {
     "data": {
      "image/png": "[encoded data removed]",
      "text/plain": [
       "<Figure size 600x400 with 1 Axes>"
      ]
     },
     "metadata": {
      "needs_background": "light"
     },
     "output_type": "display_data"
    }
   ],
   "source": [
    "plot_metrics('FOSL2', 'Test profile JSD')"
   ]
  },
  {
   "cell_type": "code",
   "execution_count": 74,
   "id": "9cf0ed12-36c0-4c87-887e-f9d1e87052b7",
   "metadata": {},
   "outputs": [
    {
     "data": {
      "image/png": "[encoded data removed]",
      "text/plain": [
       "<Figure size 600x400 with 1 Axes>"
      ]
     },
     "metadata": {
      "needs_background": "light"
     },
     "output_type": "display_data"
    }
   ],
   "source": [
    "plot_metrics('CTCF', 'Test profile JSD')"
   ]
  }
 ],
 "metadata": {
  "kernelspec": {
   "display_name": "Python 3 (ipykernel)",
   "language": "python",
   "name": "python3"
  },
  "language_info": {
   "codemirror_mode": {
    "name": "ipython",
    "version": 3
   },
   "file_extension": ".py",
   "mimetype": "text/x-python",
   "name": "python",
   "nbconvert_exporter": "python",
   "pygments_lexer": "ipython3",
   "version": "3.9.7"
  }
 },
 "nbformat": 4,
 "nbformat_minor": 5
}
