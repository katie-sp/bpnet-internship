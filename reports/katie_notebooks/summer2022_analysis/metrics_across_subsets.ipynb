{
 "cells": [
  {
   "cell_type": "markdown",
   "id": "56064f15-4226-4342-8017-f7143e82dd73",
   "metadata": {},
   "source": [
    "# Compute metrics across peak subsets"
   ]
  },
  {
   "cell_type": "code",
   "execution_count": 78,
   "id": "3e46f274-8686-4051-9062-9d4639ecb775",
   "metadata": {},
   "outputs": [],
   "source": [
    "import sys\n",
    "# append paths pointing to Data directory on your machine\n",
    "sys.path.append('/home/katie/bp_repo/multitask_profile_model_SPI_GATA')\n",
    "\n",
    "import pickle\n",
    "import torch\n",
    "import numpy as np\n",
    "import pandas as pd\n",
    "import matplotlib.pyplot as plt\n",
    "import h5py\n",
    "\n",
    "import profile_models\n",
    "import profile_performance\n",
    "from profile_performance import load_metrics, compute_performance_metrics, log_performance_metrics\n",
    "from all_functions import save_preds_by_subset\n",
    "\n",
    "sys.path.append('/home/katie/bp_repo/reports/')\n",
    "from util import import_profiles"
   ]
  },
  {
   "cell_type": "code",
   "execution_count": 46,
   "id": "7024a70f-cb43-4a81-9603-b56b91064e1e",
   "metadata": {},
   "outputs": [],
   "source": [
    "# set variables\n",
    "subsets_path_root = '/home/katie/bp_repo/reports/katie_notebooks/round2_tasks_mar2022/TASK_1/'\n",
    "model_path_root = '/home/katie/bp_repo/pipeline_outputs/'\n",
    "save_path_root = '/home/katie/bp_repo/reports/katie_notebooks/summer2022_analysis/preds_by_subset/'\n",
    "\n",
    "model_paths = list(model_path_root + stem + '/model.state_dict' for stem in ['ctcf_chipseq_jul6',\n",
    "                                                         'ctcf_cutnrun_jul6', 'fosl2_chipseq_jul6', 'fosl2_cutnrun_jul6'])\n",
    "models = list(profile_models.ModelLoader(model_path, controls='chipseq' in model_path, num_tasks=1).load_model() for \\\n",
    "             model_path in model_paths)\n",
    "\n",
    "tfs = ['CTCF'] * 2 + ['FOSL2'] * 2\n",
    "assays = ['chip-seq', 'cutnrun'] * 2\n",
    "controls = list(assay == 'chip-seq' for assay in assays)\n",
    "save_paths = list(save_path_root + tfs[i] + '/' + assays[i] + '_model/' for i in range(len(tfs)))\n",
    "peak_subsets = ['unique', 'shared']"
   ]
  },
  {
   "cell_type": "code",
   "execution_count": null,
   "id": "b034352c-8692-4273-acc0-22da88f88d9e",
   "metadata": {},
   "outputs": [],
   "source": [
    "# save preds by subset\n",
    "for i in range(len(tfs)):\n",
    "    model, tf, assay, control, save_path = models[i], tfs[i], assays[i], controls[i], save_paths[i]\n",
    "    for peak_subset in peak_subsets:\n",
    "        save_preds_by_subset(model, tf, assay, control, save_path, peak_subset, chrom_subset='test')"
   ]
  },
  {
   "cell_type": "code",
   "execution_count": 31,
   "id": "8f6ed332-f860-4419-8a92-c1fc3fc723b8",
   "metadata": {
    "collapsed": true,
    "jupyter": {
     "outputs_hidden": true
    },
    "tags": []
   },
   "outputs": [
    {
     "data": {
      "text/html": [
       "<div>\n",
       "<style scoped>\n",
       "    .dataframe tbody tr th:only-of-type {\n",
       "        vertical-align: middle;\n",
       "    }\n",
       "\n",
       "    .dataframe tbody tr th {\n",
       "        vertical-align: top;\n",
       "    }\n",
       "\n",
       "    .dataframe thead th {\n",
       "        text-align: right;\n",
       "    }\n",
       "</style>\n",
       "<table border=\"1\" class=\"dataframe\">\n",
       "  <thead>\n",
       "    <tr style=\"text-align: right;\">\n",
       "      <th></th>\n",
       "      <th>Test profile NLL</th>\n",
       "      <th>Test profile cross entropy</th>\n",
       "      <th>Test profile JSD</th>\n",
       "      <th>Test profile Pearson</th>\n",
       "      <th>Test profile Spearman</th>\n",
       "      <th>Test profile MSE</th>\n",
       "      <th>Test count Pearson</th>\n",
       "      <th>Test count Spearman</th>\n",
       "      <th>Test count MSE</th>\n",
       "    </tr>\n",
       "  </thead>\n",
       "  <tbody>\n",
       "    <tr>\n",
       "      <th>CTCF ChIP-seq</th>\n",
       "      <td>200.276242</td>\n",
       "      <td>5.829124</td>\n",
       "      <td>0.138512</td>\n",
       "      <td>0.768911</td>\n",
       "      <td>0.581777</td>\n",
       "      <td>0.000002</td>\n",
       "      <td>0.507791</td>\n",
       "      <td>0.502402</td>\n",
       "      <td>0.398164</td>\n",
       "    </tr>\n",
       "    <tr>\n",
       "      <th>CTCF CUT&amp;RUN</th>\n",
       "      <td>176.613637</td>\n",
       "      <td>5.101787</td>\n",
       "      <td>0.360888</td>\n",
       "      <td>0.259449</td>\n",
       "      <td>0.255680</td>\n",
       "      <td>0.000019</td>\n",
       "      <td>0.568966</td>\n",
       "      <td>0.571402</td>\n",
       "      <td>0.669476</td>\n",
       "    </tr>\n",
       "    <tr>\n",
       "      <th>FOSL2 ChIP-seq</th>\n",
       "      <td>277.316059</td>\n",
       "      <td>6.509193</td>\n",
       "      <td>0.117633</td>\n",
       "      <td>0.617717</td>\n",
       "      <td>0.527766</td>\n",
       "      <td>0.000001</td>\n",
       "      <td>0.600541</td>\n",
       "      <td>0.594788</td>\n",
       "      <td>0.322850</td>\n",
       "    </tr>\n",
       "    <tr>\n",
       "      <th>FOSL2 CUT&amp;RUN</th>\n",
       "      <td>79.438789</td>\n",
       "      <td>5.034164</td>\n",
       "      <td>0.420013</td>\n",
       "      <td>0.222759</td>\n",
       "      <td>0.240627</td>\n",
       "      <td>0.000019</td>\n",
       "      <td>0.154552</td>\n",
       "      <td>0.140001</td>\n",
       "      <td>1.343790</td>\n",
       "    </tr>\n",
       "  </tbody>\n",
       "</table>\n",
       "</div>"
      ],
      "text/plain": [
       "               Test profile NLL Test profile cross entropy Test profile JSD  \\\n",
       "CTCF ChIP-seq        200.276242                   5.829124         0.138512   \n",
       "CTCF CUT&RUN         176.613637                   5.101787         0.360888   \n",
       "FOSL2 ChIP-seq       277.316059                   6.509193         0.117633   \n",
       "FOSL2 CUT&RUN         79.438789                   5.034164         0.420013   \n",
       "\n",
       "               Test profile Pearson Test profile Spearman Test profile MSE  \\\n",
       "CTCF ChIP-seq              0.768911              0.581777         0.000002   \n",
       "CTCF CUT&RUN               0.259449              0.255680         0.000019   \n",
       "FOSL2 ChIP-seq             0.617717              0.527766         0.000001   \n",
       "FOSL2 CUT&RUN              0.222759              0.240627         0.000019   \n",
       "\n",
       "               Test count Pearson Test count Spearman Test count MSE  \n",
       "CTCF ChIP-seq            0.507791            0.502402       0.398164  \n",
       "CTCF CUT&RUN             0.568966            0.571402       0.669476  \n",
       "FOSL2 ChIP-seq           0.600541            0.594788       0.322850  \n",
       "FOSL2 CUT&RUN            0.154552            0.140001       1.343790  "
      ]
     },
     "execution_count": 31,
     "metadata": {},
     "output_type": "execute_result"
    }
   ],
   "source": [
    "load_metrics(['/home/katie/bp_repo/pipeline_outputs/ctcf_chipseq_jul6/metrics.pkl',\n",
    "              '/home/katie/bp_repo/pipeline_outputs/ctcf_cutnrun_jul6/metrics.pkl',\n",
    "              '/home/katie/bp_repo/pipeline_outputs/fosl2_chipseq_jul6/metrics.pkl',\n",
    "              '/home/katie/bp_repo/pipeline_outputs/fosl2_cutnrun_jul6/metrics.pkl'],\n",
    "             ['CTCF ChIP-seq', 'CTCF CUT&RUN', 'FOSL2 ChIP-seq', 'FOSL2 CUT&RUN'])"
   ]
  },
  {
   "cell_type": "code",
   "execution_count": 97,
   "id": "3ccbbc43-ea51-4c08-8ae5-9a758c239d04",
   "metadata": {
    "collapsed": true,
    "jupyter": {
     "outputs_hidden": true
    },
    "tags": []
   },
   "outputs": [
    {
     "data": {
      "application/vnd.jupyter.widget-view+json": {
       "model_id": "20847b1ae9cc4115892c0a7b14b3f39b",
       "version_major": 2,
       "version_minor": 0
      },
      "text/plain": [
       "Importing predictions:   0%|          | 0/1 [00:00<?, ?it/s]"
      ]
     },
     "metadata": {},
     "output_type": "display_data"
    },
    {
     "data": {
      "application/vnd.jupyter.widget-view+json": {
       "model_id": "eecd3fde832942b897136cd45b3075d5",
       "version_major": 2,
       "version_minor": 0
      },
      "text/plain": [
       "Importing predictions:   0%|          | 0/5 [00:00<?, ?it/s]"
      ]
     },
     "metadata": {},
     "output_type": "display_data"
    },
    {
     "data": {
      "application/vnd.jupyter.widget-view+json": {
       "model_id": "ed79300adff3417688bf49db1879fc46",
       "version_major": 2,
       "version_minor": 0
      },
      "text/plain": [
       "Importing predictions:   0%|          | 0/1 [00:00<?, ?it/s]"
      ]
     },
     "metadata": {},
     "output_type": "display_data"
    },
    {
     "data": {
      "application/vnd.jupyter.widget-view+json": {
       "model_id": "666d267decfd4f189590f3924e877661",
       "version_major": 2,
       "version_minor": 0
      },
      "text/plain": [
       "Importing predictions:   0%|          | 0/5 [00:00<?, ?it/s]"
      ]
     },
     "metadata": {},
     "output_type": "display_data"
    },
    {
     "data": {
      "application/vnd.jupyter.widget-view+json": {
       "model_id": "662f723acadb4ac7af999f1259d4d2bf",
       "version_major": 2,
       "version_minor": 0
      },
      "text/plain": [
       "Importing predictions:   0%|          | 0/1 [00:00<?, ?it/s]"
      ]
     },
     "metadata": {},
     "output_type": "display_data"
    },
    {
     "data": {
      "application/vnd.jupyter.widget-view+json": {
       "model_id": "609f01ad40f04a58991d9d7c2fc67924",
       "version_major": 2,
       "version_minor": 0
      },
      "text/plain": [
       "Importing predictions:   0%|          | 0/5 [00:00<?, ?it/s]"
      ]
     },
     "metadata": {},
     "output_type": "display_data"
    },
    {
     "data": {
      "application/vnd.jupyter.widget-view+json": {
       "model_id": "1b6f409b267c4f71910c9f6e67517a7b",
       "version_major": 2,
       "version_minor": 0
      },
      "text/plain": [
       "Importing predictions:   0%|          | 0/1 [00:00<?, ?it/s]"
      ]
     },
     "metadata": {},
     "output_type": "display_data"
    },
    {
     "data": {
      "application/vnd.jupyter.widget-view+json": {
       "model_id": "055d1108946c482a83a73079fa18af95",
       "version_major": 2,
       "version_minor": 0
      },
      "text/plain": [
       "Importing predictions:   0%|          | 0/5 [00:00<?, ?it/s]"
      ]
     },
     "metadata": {},
     "output_type": "display_data"
    },
    {
     "data": {
      "application/vnd.jupyter.widget-view+json": {
       "model_id": "32ee627c2e244f5baf4a793d78753716",
       "version_major": 2,
       "version_minor": 0
      },
      "text/plain": [
       "Importing predictions:   0%|          | 0/2 [00:00<?, ?it/s]"
      ]
     },
     "metadata": {},
     "output_type": "display_data"
    },
    {
     "data": {
      "application/vnd.jupyter.widget-view+json": {
       "model_id": "95c7b1c4800f44c7a6d1dc8058ed0c47",
       "version_major": 2,
       "version_minor": 0
      },
      "text/plain": [
       "Importing predictions:   0%|          | 0/4 [00:00<?, ?it/s]"
      ]
     },
     "metadata": {},
     "output_type": "display_data"
    },
    {
     "data": {
      "application/vnd.jupyter.widget-view+json": {
       "model_id": "6667353cf6ae41719889506600e32a5a",
       "version_major": 2,
       "version_minor": 0
      },
      "text/plain": [
       "Importing predictions:   0%|          | 0/2 [00:00<?, ?it/s]"
      ]
     },
     "metadata": {},
     "output_type": "display_data"
    },
    {
     "data": {
      "application/vnd.jupyter.widget-view+json": {
       "model_id": "e6136c7fd7d948808382db4cd9e68b87",
       "version_major": 2,
       "version_minor": 0
      },
      "text/plain": [
       "Importing predictions:   0%|          | 0/4 [00:00<?, ?it/s]"
      ]
     },
     "metadata": {},
     "output_type": "display_data"
    },
    {
     "data": {
      "application/vnd.jupyter.widget-view+json": {
       "model_id": "961a248c6e1e40e887bfdb7ea698f4a7",
       "version_major": 2,
       "version_minor": 0
      },
      "text/plain": [
       "Importing predictions:   0%|          | 0/2 [00:00<?, ?it/s]"
      ]
     },
     "metadata": {},
     "output_type": "display_data"
    },
    {
     "data": {
      "application/vnd.jupyter.widget-view+json": {
       "model_id": "acce653b569143aa9b54ca7d63dcf2d6",
       "version_major": 2,
       "version_minor": 0
      },
      "text/plain": [
       "Importing predictions:   0%|          | 0/4 [00:00<?, ?it/s]"
      ]
     },
     "metadata": {},
     "output_type": "display_data"
    },
    {
     "data": {
      "application/vnd.jupyter.widget-view+json": {
       "model_id": "ac8430a9a590469caeaaaca3d6fa3327",
       "version_major": 2,
       "version_minor": 0
      },
      "text/plain": [
       "Importing predictions:   0%|          | 0/2 [00:00<?, ?it/s]"
      ]
     },
     "metadata": {},
     "output_type": "display_data"
    },
    {
     "data": {
      "application/vnd.jupyter.widget-view+json": {
       "model_id": "ecdcabbe7d514b10b469cac0c9413793",
       "version_major": 2,
       "version_minor": 0
      },
      "text/plain": [
       "Importing predictions:   0%|          | 0/4 [00:00<?, ?it/s]"
      ]
     },
     "metadata": {},
     "output_type": "display_data"
    }
   ],
   "source": [
    "# load in all test set predictions\n",
    "all_preds_dict = {}\n",
    "\n",
    "path_ids = ['CTCF chip-seq model', 'CTCF cutnrun model', 'FOSL2 chip-seq model', 'FOSL2 cutnrun model']\n",
    "\n",
    "keys = ['shared_chip_loader',\n",
    " 'shared_cut_loader',\n",
    " 'unique_chip_loader',\n",
    " 'unique_cut_loader']\n",
    "\n",
    "data_ids = ['true_counts', 'log_pred_counts', 'true_profs', 'log_pred_profs']\n",
    "\n",
    "for i in range(len(save_paths)):\n",
    "    path = save_paths[i]\n",
    "    path_id = path_ids[i]\n",
    "    preds_dict = {}\n",
    "    \n",
    "    # the surprisingly quick (few secs) actual preds loading\n",
    "    for key in keys:\n",
    "        file = h5py.File(f'{path}{key}.preds', 'r')\n",
    "        coords = import_profiles(f'{path}{key}.preds')[2]\n",
    "        preds_dict[key] = {'true_counts': file['predictions']['true_counts'], \n",
    "                           'log_pred_counts': file['predictions']['log_pred_counts'], \n",
    "                           'true_profs': file['predictions']['true_profs'],\n",
    "                           'log_pred_profs': file['predictions']['log_pred_profs'], \n",
    "                           'coords': coords}\n",
    "        \n",
    "        # we need to subset to chr1, the test set\n",
    "            # 1. take the coords, make into a DataFrame, subset to chr1, and get the indexes of the test coords\n",
    "            # 2. use these indexes to subset pred_counts into the test profs\n",
    "        df = pd.DataFrame(preds_dict[key]['coords']).reset_index()\n",
    "        preds_dict[key]['coords_test'] = df[df.iloc[:,1] == 'chr1']\n",
    "        preds_dict[key]['indexes_test'] = list(preds_dict[key]['coords_test']['index'])\n",
    "        \n",
    "        for data_id in data_ids:  # update all of the data to ONLY include test data\n",
    "            preds_dict[key][data_id] = preds_dict[key][data_id][preds_dict[key]['indexes_test']]\n",
    "    \n",
    "    all_preds_dict[path_id] = preds_dict"
   ]
  },
  {
   "cell_type": "markdown",
   "id": "59896661-8995-4b3e-b6c0-d9cc3ff33c53",
   "metadata": {
    "tags": []
   },
   "source": [
    "## Save metrics (pickling)"
   ]
  },
  {
   "cell_type": "code",
   "execution_count": 106,
   "id": "a338cccf-1cb3-4b4c-a4a2-3bbad2d93586",
   "metadata": {
    "collapsed": true,
    "jupyter": {
     "outputs_hidden": true
    },
    "tags": []
   },
   "outputs": [
    {
     "name": "stdout",
     "output_type": "stream",
     "text": [
      "\tTest profile NLL: 118.424368\n",
      "\tTest profile cross entropy: 6.022300\n",
      "\tTest profile JSD: 0.217622\n",
      "\tTest profile Pearson: 0.637231\n",
      "\tTest profile Spearman: 0.501469\n",
      "\tTest profile MSE: 0.000004\n",
      "\tTest count Pearson: 0.194651\n",
      "\tTest count Spearman: 0.165882\n",
      "\tTest count MSE: 0.277827\n",
      "\tTest profile NLL: 67.967874\n",
      "\tTest profile cross entropy: 6.799979\n",
      "\tTest profile JSD: 0.397298\n",
      "\tTest profile Pearson: 0.161837\n",
      "\tTest profile Spearman: 0.193510\n",
      "\tTest profile MSE: 0.000009\n",
      "\tTest count Pearson: 0.175710\n",
      "\tTest count Spearman: 0.195075\n",
      "\tTest count MSE: 1.369871\n",
      "\tTest profile NLL: 118.424368\n",
      "\tTest profile cross entropy: 6.022300\n",
      "\tTest profile JSD: 0.217622\n",
      "\tTest profile Pearson: 0.637231\n",
      "\tTest profile Spearman: 0.501469\n",
      "\tTest profile MSE: 0.000004\n",
      "\tTest count Pearson: 0.194651\n",
      "\tTest count Spearman: 0.165882\n",
      "\tTest count MSE: 0.277827\n",
      "\tTest profile NLL: 67.967874\n",
      "\tTest profile cross entropy: 6.799979\n",
      "\tTest profile JSD: 0.397298\n",
      "\tTest profile Pearson: 0.161837\n",
      "\tTest profile Spearman: 0.193510\n",
      "\tTest profile MSE: 0.000009\n",
      "\tTest count Pearson: 0.175710\n",
      "\tTest count Spearman: 0.195075\n",
      "\tTest count MSE: 1.369871\n",
      "\tTest profile NLL: 58.504822\n",
      "\tTest profile cross entropy: 5.549674\n",
      "\tTest profile JSD: 0.442124\n",
      "\tTest profile Pearson: 0.178287\n",
      "\tTest profile Spearman: 0.173227\n",
      "\tTest profile MSE: 0.000021\n",
      "\tTest count Pearson: 0.115782\n",
      "\tTest count Spearman: 0.141856\n",
      "\tTest count MSE: 2.050756\n",
      "\tTest profile NLL: 117.197684\n",
      "\tTest profile cross entropy: 5.478706\n",
      "\tTest profile JSD: 0.398888\n",
      "\tTest profile Pearson: 0.172835\n",
      "\tTest profile Spearman: 0.143052\n",
      "\tTest profile MSE: 0.000013\n",
      "\tTest count Pearson: 0.129719\n",
      "\tTest count Spearman: 0.121700\n",
      "\tTest count MSE: 0.471928\n",
      "\tTest profile NLL: 58.504822\n",
      "\tTest profile cross entropy: 5.549674\n",
      "\tTest profile JSD: 0.442124\n",
      "\tTest profile Pearson: 0.178287\n",
      "\tTest profile Spearman: 0.173227\n",
      "\tTest profile MSE: 0.000021\n",
      "\tTest count Pearson: 0.115782\n",
      "\tTest count Spearman: 0.141856\n",
      "\tTest count MSE: 2.050756\n",
      "\tTest profile NLL: 117.197684\n",
      "\tTest profile cross entropy: 5.478706\n",
      "\tTest profile JSD: 0.398888\n",
      "\tTest profile Pearson: 0.172835\n",
      "\tTest profile Spearman: 0.143052\n",
      "\tTest profile MSE: 0.000013\n",
      "\tTest count Pearson: 0.129719\n",
      "\tTest count Spearman: 0.121700\n",
      "\tTest count MSE: 0.471928\n",
      "\tTest profile NLL: 183.829077\n",
      "\tTest profile cross entropy: 6.562229\n",
      "\tTest profile JSD: 0.160945\n",
      "\tTest profile Pearson: 0.527547\n",
      "\tTest profile Spearman: 0.447490\n",
      "\tTest profile MSE: 0.000002\n",
      "\tTest count Pearson: 0.008305\n",
      "\tTest count Spearman: 0.000000\n",
      "\tTest count MSE: 0.180043\n",
      "\tTest profile NLL: 139.039445\n",
      "\tTest profile cross entropy: 6.850489\n",
      "\tTest profile JSD: 0.225605\n",
      "\tTest profile Pearson: 0.249811\n",
      "\tTest profile Spearman: 0.271661\n",
      "\tTest profile MSE: 0.000002\n",
      "\tTest count Pearson: 0.240208\n",
      "\tTest count Spearman: 0.256843\n",
      "\tTest count MSE: 0.464291\n",
      "\tTest profile NLL: 183.829077\n",
      "\tTest profile cross entropy: 6.562229\n",
      "\tTest profile JSD: 0.160945\n",
      "\tTest profile Pearson: 0.527547\n",
      "\tTest profile Spearman: 0.447490\n",
      "\tTest profile MSE: 0.000002\n",
      "\tTest count Pearson: 0.008305\n",
      "\tTest count Spearman: 0.000000\n",
      "\tTest count MSE: 0.180043\n",
      "\tTest profile NLL: 139.039445\n",
      "\tTest profile cross entropy: 6.850489\n",
      "\tTest profile JSD: 0.225605\n",
      "\tTest profile Pearson: 0.249811\n",
      "\tTest profile Spearman: 0.271661\n",
      "\tTest profile MSE: 0.000002\n",
      "\tTest count Pearson: 0.240208\n",
      "\tTest count Spearman: 0.256843\n",
      "\tTest count MSE: 0.464291\n",
      "\tTest profile NLL: 25.587210\n",
      "\tTest profile cross entropy: 5.166349\n",
      "\tTest profile JSD: 0.497880\n",
      "\tTest profile Pearson: 0.153546\n",
      "\tTest profile Spearman: 0.171600\n",
      "\tTest profile MSE: 0.000025\n",
      "\tTest count Pearson: -0.006213\n",
      "\tTest count Spearman: -0.018478\n",
      "\tTest count MSE: 2.281631\n",
      "\tTest profile NLL: 39.343034\n",
      "\tTest profile cross entropy: 5.194243\n",
      "\tTest profile JSD: 0.470194\n",
      "\tTest profile Pearson: 0.167986\n",
      "\tTest profile Spearman: 0.178369\n",
      "\tTest profile MSE: 0.000021\n",
      "\tTest count Pearson: 0.211839\n",
      "\tTest count Spearman: 0.209289\n",
      "\tTest count MSE: 1.411059\n",
      "\tTest profile NLL: 25.587210\n",
      "\tTest profile cross entropy: 5.166349\n",
      "\tTest profile JSD: 0.497880\n",
      "\tTest profile Pearson: 0.153546\n",
      "\tTest profile Spearman: 0.171600\n",
      "\tTest profile MSE: 0.000025\n",
      "\tTest count Pearson: -0.006213\n",
      "\tTest count Spearman: -0.018478\n",
      "\tTest count MSE: 2.281631\n",
      "\tTest profile NLL: 39.343034\n",
      "\tTest profile cross entropy: 5.194243\n",
      "\tTest profile JSD: 0.470194\n",
      "\tTest profile Pearson: 0.167986\n",
      "\tTest profile Spearman: 0.178369\n",
      "\tTest profile MSE: 0.000021\n",
      "\tTest count Pearson: 0.211839\n",
      "\tTest count Spearman: 0.209289\n",
      "\tTest count MSE: 1.411059\n"
     ]
    }
   ],
   "source": [
    "# save metrics\n",
    "# only need to run once\n",
    "for i in range(len(path_ids)):\n",
    "    path_id = path_ids[i]\n",
    "    save_path = save_paths[i]\n",
    "    for key in keys:\n",
    "        preds_dict = all_preds_dict[path_id][key]\n",
    "        true_profs, log_pred_profs, true_counts, log_pred_counts = \\\n",
    "        preds_dict['true_profs'], preds_dict['log_pred_profs'], preds_dict['true_counts'], preds_dict['log_pred_counts']\n",
    "        metrics = profile_performance.compute_performance_metrics(\n",
    "                true_profs, log_pred_profs, true_counts, log_pred_counts,\n",
    "                prof_smooth_kernel_sigma=7, prof_smooth_kernel_width=81, print_updates=False\n",
    "            )\n",
    "\n",
    "        pickle.dump(profile_performance.log_performance_metrics(metrics), open(save_path + key + '_metrics.pkl', 'wb'))"
   ]
  },
  {
   "cell_type": "code",
   "execution_count": 155,
   "id": "3a8583a3-8875-4757-8b28-d15b782435e7",
   "metadata": {},
   "outputs": [
    {
     "data": {
      "text/plain": [
       "4100"
      ]
     },
     "execution_count": 155,
     "metadata": {},
     "output_type": "execute_result"
    }
   ],
   "source": [
    "len(all_preds_dict['CTCF cutnrun model']['shared_cut_loader']['indexes_test'])"
   ]
  },
  {
   "cell_type": "code",
   "execution_count": 156,
   "id": "727d0dc9-6196-4bde-9a7c-ffe0637f5cd8",
   "metadata": {},
   "outputs": [
    {
     "data": {
      "text/plain": [
       "4100"
      ]
     },
     "execution_count": 156,
     "metadata": {},
     "output_type": "execute_result"
    }
   ],
   "source": [
    "len(all_preds_dict['CTCF cutnrun model']['unique_cut_loader']['indexes_test'])"
   ]
  },
  {
   "cell_type": "code",
   "execution_count": 148,
   "id": "49aced73-de28-454d-8a86-7282b8f775a4",
   "metadata": {},
   "outputs": [
    {
     "data": {
      "text/plain": [
       "(4100, 1, 2)"
      ]
     },
     "execution_count": 148,
     "metadata": {},
     "output_type": "execute_result"
    }
   ],
   "source": [
    "all_preds_dict['CTCF cutnrun model']['shared_cut_loader']['true_counts'].shape"
   ]
  },
  {
   "cell_type": "markdown",
   "id": "94349bf6-712e-4557-bd74-f84006700607",
   "metadata": {},
   "source": [
    "## Load metrics into pretty dataframe :]"
   ]
  },
  {
   "cell_type": "code",
   "execution_count": 119,
   "id": "e11e4eeb-6831-4f39-9f52-be0da639bd6c",
   "metadata": {},
   "outputs": [],
   "source": [
    "pickles = []\n",
    "ids = []\n",
    "for i in range(len(path_ids)):\n",
    "    path_id = path_ids[i]\n",
    "    save_path = save_paths[i]\n",
    "    for key in keys:\n",
    "        pickles.append(save_path + key + '_metrics.pkl')\n",
    "        ids.append(path_id + ' on ' + ' '.join(key.split('_')[:-1]) + ' peaks')"
   ]
  },
  {
   "cell_type": "code",
   "execution_count": 125,
   "id": "8e393089-c61a-49b6-9dbf-677900743477",
   "metadata": {},
   "outputs": [],
   "source": [
    "metrics = load_metrics(pickles, ids)"
   ]
  },
  {
   "cell_type": "code",
   "execution_count": 131,
   "id": "eaa4b0a2-0161-4440-831e-ded68e6354c1",
   "metadata": {},
   "outputs": [
    {
     "data": {
      "text/html": [
       "<div>\n",
       "<style scoped>\n",
       "    .dataframe tbody tr th:only-of-type {\n",
       "        vertical-align: middle;\n",
       "    }\n",
       "\n",
       "    .dataframe tbody tr th {\n",
       "        vertical-align: top;\n",
       "    }\n",
       "\n",
       "    .dataframe thead th {\n",
       "        text-align: right;\n",
       "    }\n",
       "</style>\n",
       "<table border=\"1\" class=\"dataframe\">\n",
       "  <thead>\n",
       "    <tr style=\"text-align: right;\">\n",
       "      <th></th>\n",
       "      <th>Test count Pearson</th>\n",
       "      <th>Test count Spearman</th>\n",
       "    </tr>\n",
       "  </thead>\n",
       "  <tbody>\n",
       "    <tr>\n",
       "      <th>FOSL2 cutnrun model on shared chip peaks</th>\n",
       "      <td>-0.006213</td>\n",
       "      <td>-0.018478</td>\n",
       "    </tr>\n",
       "    <tr>\n",
       "      <th>FOSL2 cutnrun model on shared cut peaks</th>\n",
       "      <td>0.211839</td>\n",
       "      <td>0.209289</td>\n",
       "    </tr>\n",
       "    <tr>\n",
       "      <th>FOSL2 cutnrun model on unique chip peaks</th>\n",
       "      <td>-0.006213</td>\n",
       "      <td>-0.018478</td>\n",
       "    </tr>\n",
       "    <tr>\n",
       "      <th>FOSL2 cutnrun model on unique cut peaks</th>\n",
       "      <td>0.211839</td>\n",
       "      <td>0.209289</td>\n",
       "    </tr>\n",
       "  </tbody>\n",
       "</table>\n",
       "</div>"
      ],
      "text/plain": [
       "                                         Test count Pearson  \\\n",
       "FOSL2 cutnrun model on shared chip peaks          -0.006213   \n",
       "FOSL2 cutnrun model on shared cut peaks            0.211839   \n",
       "FOSL2 cutnrun model on unique chip peaks          -0.006213   \n",
       "FOSL2 cutnrun model on unique cut peaks            0.211839   \n",
       "\n",
       "                                         Test count Spearman  \n",
       "FOSL2 cutnrun model on shared chip peaks           -0.018478  \n",
       "FOSL2 cutnrun model on shared cut peaks             0.209289  \n",
       "FOSL2 cutnrun model on unique chip peaks           -0.018478  \n",
       "FOSL2 cutnrun model on unique cut peaks             0.209289  "
      ]
     },
     "execution_count": 131,
     "metadata": {},
     "output_type": "execute_result"
    }
   ],
   "source": [
    "metrics.loc[list(i for i in list(metrics.index) if 'FOSL2 cutnrun' in i),\n",
    "           ['Test count Pearson','Test count Spearman']]"
   ]
  },
  {
   "cell_type": "code",
   "execution_count": 132,
   "id": "ba949d0d-55a4-49c4-8142-99db0f12063b",
   "metadata": {},
   "outputs": [
    {
     "data": {
      "text/html": [
       "<div>\n",
       "<style scoped>\n",
       "    .dataframe tbody tr th:only-of-type {\n",
       "        vertical-align: middle;\n",
       "    }\n",
       "\n",
       "    .dataframe tbody tr th {\n",
       "        vertical-align: top;\n",
       "    }\n",
       "\n",
       "    .dataframe thead th {\n",
       "        text-align: right;\n",
       "    }\n",
       "</style>\n",
       "<table border=\"1\" class=\"dataframe\">\n",
       "  <thead>\n",
       "    <tr style=\"text-align: right;\">\n",
       "      <th></th>\n",
       "      <th>Test profile NLL</th>\n",
       "      <th>Test profile cross entropy</th>\n",
       "      <th>Test profile JSD</th>\n",
       "      <th>Test profile Pearson</th>\n",
       "      <th>Test profile Spearman</th>\n",
       "      <th>Test profile MSE</th>\n",
       "      <th>Test count Pearson</th>\n",
       "      <th>Test count Spearman</th>\n",
       "      <th>Test count MSE</th>\n",
       "    </tr>\n",
       "  </thead>\n",
       "  <tbody>\n",
       "    <tr>\n",
       "      <th>CTCF chip-seq model on shared chip peaks</th>\n",
       "      <td>118.424368</td>\n",
       "      <td>6.022300</td>\n",
       "      <td>0.217622</td>\n",
       "      <td>0.637231</td>\n",
       "      <td>0.501469</td>\n",
       "      <td>0.000004</td>\n",
       "      <td>0.194651</td>\n",
       "      <td>0.165882</td>\n",
       "      <td>0.277827</td>\n",
       "    </tr>\n",
       "    <tr>\n",
       "      <th>CTCF chip-seq model on shared cut peaks</th>\n",
       "      <td>67.967874</td>\n",
       "      <td>6.799979</td>\n",
       "      <td>0.397298</td>\n",
       "      <td>0.161837</td>\n",
       "      <td>0.193510</td>\n",
       "      <td>0.000009</td>\n",
       "      <td>0.175710</td>\n",
       "      <td>0.195075</td>\n",
       "      <td>1.369871</td>\n",
       "    </tr>\n",
       "    <tr>\n",
       "      <th>CTCF chip-seq model on unique chip peaks</th>\n",
       "      <td>118.424368</td>\n",
       "      <td>6.022300</td>\n",
       "      <td>0.217622</td>\n",
       "      <td>0.637231</td>\n",
       "      <td>0.501469</td>\n",
       "      <td>0.000004</td>\n",
       "      <td>0.194651</td>\n",
       "      <td>0.165882</td>\n",
       "      <td>0.277827</td>\n",
       "    </tr>\n",
       "    <tr>\n",
       "      <th>CTCF chip-seq model on unique cut peaks</th>\n",
       "      <td>67.967874</td>\n",
       "      <td>6.799979</td>\n",
       "      <td>0.397298</td>\n",
       "      <td>0.161837</td>\n",
       "      <td>0.193510</td>\n",
       "      <td>0.000009</td>\n",
       "      <td>0.175710</td>\n",
       "      <td>0.195075</td>\n",
       "      <td>1.369871</td>\n",
       "    </tr>\n",
       "    <tr>\n",
       "      <th>CTCF cutnrun model on shared chip peaks</th>\n",
       "      <td>58.504822</td>\n",
       "      <td>5.549674</td>\n",
       "      <td>0.442124</td>\n",
       "      <td>0.178287</td>\n",
       "      <td>0.173227</td>\n",
       "      <td>0.000021</td>\n",
       "      <td>0.115782</td>\n",
       "      <td>0.141856</td>\n",
       "      <td>2.050756</td>\n",
       "    </tr>\n",
       "    <tr>\n",
       "      <th>CTCF cutnrun model on shared cut peaks</th>\n",
       "      <td>117.197684</td>\n",
       "      <td>5.478706</td>\n",
       "      <td>0.398888</td>\n",
       "      <td>0.172835</td>\n",
       "      <td>0.143052</td>\n",
       "      <td>0.000013</td>\n",
       "      <td>0.129719</td>\n",
       "      <td>0.121700</td>\n",
       "      <td>0.471928</td>\n",
       "    </tr>\n",
       "    <tr>\n",
       "      <th>CTCF cutnrun model on unique chip peaks</th>\n",
       "      <td>58.504822</td>\n",
       "      <td>5.549674</td>\n",
       "      <td>0.442124</td>\n",
       "      <td>0.178287</td>\n",
       "      <td>0.173227</td>\n",
       "      <td>0.000021</td>\n",
       "      <td>0.115782</td>\n",
       "      <td>0.141856</td>\n",
       "      <td>2.050756</td>\n",
       "    </tr>\n",
       "    <tr>\n",
       "      <th>CTCF cutnrun model on unique cut peaks</th>\n",
       "      <td>117.197684</td>\n",
       "      <td>5.478706</td>\n",
       "      <td>0.398888</td>\n",
       "      <td>0.172835</td>\n",
       "      <td>0.143052</td>\n",
       "      <td>0.000013</td>\n",
       "      <td>0.129719</td>\n",
       "      <td>0.121700</td>\n",
       "      <td>0.471928</td>\n",
       "    </tr>\n",
       "    <tr>\n",
       "      <th>FOSL2 chip-seq model on shared chip peaks</th>\n",
       "      <td>183.829077</td>\n",
       "      <td>6.562229</td>\n",
       "      <td>0.160945</td>\n",
       "      <td>0.527547</td>\n",
       "      <td>0.447490</td>\n",
       "      <td>0.000002</td>\n",
       "      <td>0.008305</td>\n",
       "      <td>0.000000</td>\n",
       "      <td>0.180043</td>\n",
       "    </tr>\n",
       "    <tr>\n",
       "      <th>FOSL2 chip-seq model on shared cut peaks</th>\n",
       "      <td>139.039445</td>\n",
       "      <td>6.850489</td>\n",
       "      <td>0.225605</td>\n",
       "      <td>0.249811</td>\n",
       "      <td>0.271661</td>\n",
       "      <td>0.000002</td>\n",
       "      <td>0.240208</td>\n",
       "      <td>0.256843</td>\n",
       "      <td>0.464291</td>\n",
       "    </tr>\n",
       "    <tr>\n",
       "      <th>FOSL2 chip-seq model on unique chip peaks</th>\n",
       "      <td>183.829077</td>\n",
       "      <td>6.562229</td>\n",
       "      <td>0.160945</td>\n",
       "      <td>0.527547</td>\n",
       "      <td>0.447490</td>\n",
       "      <td>0.000002</td>\n",
       "      <td>0.008305</td>\n",
       "      <td>0.000000</td>\n",
       "      <td>0.180043</td>\n",
       "    </tr>\n",
       "    <tr>\n",
       "      <th>FOSL2 chip-seq model on unique cut peaks</th>\n",
       "      <td>139.039445</td>\n",
       "      <td>6.850489</td>\n",
       "      <td>0.225605</td>\n",
       "      <td>0.249811</td>\n",
       "      <td>0.271661</td>\n",
       "      <td>0.000002</td>\n",
       "      <td>0.240208</td>\n",
       "      <td>0.256843</td>\n",
       "      <td>0.464291</td>\n",
       "    </tr>\n",
       "    <tr>\n",
       "      <th>FOSL2 cutnrun model on shared chip peaks</th>\n",
       "      <td>25.587210</td>\n",
       "      <td>5.166349</td>\n",
       "      <td>0.497880</td>\n",
       "      <td>0.153546</td>\n",
       "      <td>0.171600</td>\n",
       "      <td>0.000025</td>\n",
       "      <td>-0.006213</td>\n",
       "      <td>-0.018478</td>\n",
       "      <td>2.281631</td>\n",
       "    </tr>\n",
       "    <tr>\n",
       "      <th>FOSL2 cutnrun model on shared cut peaks</th>\n",
       "      <td>39.343034</td>\n",
       "      <td>5.194243</td>\n",
       "      <td>0.470194</td>\n",
       "      <td>0.167986</td>\n",
       "      <td>0.178369</td>\n",
       "      <td>0.000021</td>\n",
       "      <td>0.211839</td>\n",
       "      <td>0.209289</td>\n",
       "      <td>1.411059</td>\n",
       "    </tr>\n",
       "    <tr>\n",
       "      <th>FOSL2 cutnrun model on unique chip peaks</th>\n",
       "      <td>25.587210</td>\n",
       "      <td>5.166349</td>\n",
       "      <td>0.497880</td>\n",
       "      <td>0.153546</td>\n",
       "      <td>0.171600</td>\n",
       "      <td>0.000025</td>\n",
       "      <td>-0.006213</td>\n",
       "      <td>-0.018478</td>\n",
       "      <td>2.281631</td>\n",
       "    </tr>\n",
       "    <tr>\n",
       "      <th>FOSL2 cutnrun model on unique cut peaks</th>\n",
       "      <td>39.343034</td>\n",
       "      <td>5.194243</td>\n",
       "      <td>0.470194</td>\n",
       "      <td>0.167986</td>\n",
       "      <td>0.178369</td>\n",
       "      <td>0.000021</td>\n",
       "      <td>0.211839</td>\n",
       "      <td>0.209289</td>\n",
       "      <td>1.411059</td>\n",
       "    </tr>\n",
       "  </tbody>\n",
       "</table>\n",
       "</div>"
      ],
      "text/plain": [
       "                                          Test profile NLL  \\\n",
       "CTCF chip-seq model on shared chip peaks        118.424368   \n",
       "CTCF chip-seq model on shared cut peaks          67.967874   \n",
       "CTCF chip-seq model on unique chip peaks        118.424368   \n",
       "CTCF chip-seq model on unique cut peaks          67.967874   \n",
       "CTCF cutnrun model on shared chip peaks          58.504822   \n",
       "CTCF cutnrun model on shared cut peaks          117.197684   \n",
       "CTCF cutnrun model on unique chip peaks          58.504822   \n",
       "CTCF cutnrun model on unique cut peaks          117.197684   \n",
       "FOSL2 chip-seq model on shared chip peaks       183.829077   \n",
       "FOSL2 chip-seq model on shared cut peaks        139.039445   \n",
       "FOSL2 chip-seq model on unique chip peaks       183.829077   \n",
       "FOSL2 chip-seq model on unique cut peaks        139.039445   \n",
       "FOSL2 cutnrun model on shared chip peaks         25.587210   \n",
       "FOSL2 cutnrun model on shared cut peaks          39.343034   \n",
       "FOSL2 cutnrun model on unique chip peaks         25.587210   \n",
       "FOSL2 cutnrun model on unique cut peaks          39.343034   \n",
       "\n",
       "                                          Test profile cross entropy  \\\n",
       "CTCF chip-seq model on shared chip peaks                    6.022300   \n",
       "CTCF chip-seq model on shared cut peaks                     6.799979   \n",
       "CTCF chip-seq model on unique chip peaks                    6.022300   \n",
       "CTCF chip-seq model on unique cut peaks                     6.799979   \n",
       "CTCF cutnrun model on shared chip peaks                     5.549674   \n",
       "CTCF cutnrun model on shared cut peaks                      5.478706   \n",
       "CTCF cutnrun model on unique chip peaks                     5.549674   \n",
       "CTCF cutnrun model on unique cut peaks                      5.478706   \n",
       "FOSL2 chip-seq model on shared chip peaks                   6.562229   \n",
       "FOSL2 chip-seq model on shared cut peaks                    6.850489   \n",
       "FOSL2 chip-seq model on unique chip peaks                   6.562229   \n",
       "FOSL2 chip-seq model on unique cut peaks                    6.850489   \n",
       "FOSL2 cutnrun model on shared chip peaks                    5.166349   \n",
       "FOSL2 cutnrun model on shared cut peaks                     5.194243   \n",
       "FOSL2 cutnrun model on unique chip peaks                    5.166349   \n",
       "FOSL2 cutnrun model on unique cut peaks                     5.194243   \n",
       "\n",
       "                                          Test profile JSD  \\\n",
       "CTCF chip-seq model on shared chip peaks          0.217622   \n",
       "CTCF chip-seq model on shared cut peaks           0.397298   \n",
       "CTCF chip-seq model on unique chip peaks          0.217622   \n",
       "CTCF chip-seq model on unique cut peaks           0.397298   \n",
       "CTCF cutnrun model on shared chip peaks           0.442124   \n",
       "CTCF cutnrun model on shared cut peaks            0.398888   \n",
       "CTCF cutnrun model on unique chip peaks           0.442124   \n",
       "CTCF cutnrun model on unique cut peaks            0.398888   \n",
       "FOSL2 chip-seq model on shared chip peaks         0.160945   \n",
       "FOSL2 chip-seq model on shared cut peaks          0.225605   \n",
       "FOSL2 chip-seq model on unique chip peaks         0.160945   \n",
       "FOSL2 chip-seq model on unique cut peaks          0.225605   \n",
       "FOSL2 cutnrun model on shared chip peaks          0.497880   \n",
       "FOSL2 cutnrun model on shared cut peaks           0.470194   \n",
       "FOSL2 cutnrun model on unique chip peaks          0.497880   \n",
       "FOSL2 cutnrun model on unique cut peaks           0.470194   \n",
       "\n",
       "                                          Test profile Pearson  \\\n",
       "CTCF chip-seq model on shared chip peaks              0.637231   \n",
       "CTCF chip-seq model on shared cut peaks               0.161837   \n",
       "CTCF chip-seq model on unique chip peaks              0.637231   \n",
       "CTCF chip-seq model on unique cut peaks               0.161837   \n",
       "CTCF cutnrun model on shared chip peaks               0.178287   \n",
       "CTCF cutnrun model on shared cut peaks                0.172835   \n",
       "CTCF cutnrun model on unique chip peaks               0.178287   \n",
       "CTCF cutnrun model on unique cut peaks                0.172835   \n",
       "FOSL2 chip-seq model on shared chip peaks             0.527547   \n",
       "FOSL2 chip-seq model on shared cut peaks              0.249811   \n",
       "FOSL2 chip-seq model on unique chip peaks             0.527547   \n",
       "FOSL2 chip-seq model on unique cut peaks              0.249811   \n",
       "FOSL2 cutnrun model on shared chip peaks              0.153546   \n",
       "FOSL2 cutnrun model on shared cut peaks               0.167986   \n",
       "FOSL2 cutnrun model on unique chip peaks              0.153546   \n",
       "FOSL2 cutnrun model on unique cut peaks               0.167986   \n",
       "\n",
       "                                          Test profile Spearman  \\\n",
       "CTCF chip-seq model on shared chip peaks               0.501469   \n",
       "CTCF chip-seq model on shared cut peaks                0.193510   \n",
       "CTCF chip-seq model on unique chip peaks               0.501469   \n",
       "CTCF chip-seq model on unique cut peaks                0.193510   \n",
       "CTCF cutnrun model on shared chip peaks                0.173227   \n",
       "CTCF cutnrun model on shared cut peaks                 0.143052   \n",
       "CTCF cutnrun model on unique chip peaks                0.173227   \n",
       "CTCF cutnrun model on unique cut peaks                 0.143052   \n",
       "FOSL2 chip-seq model on shared chip peaks              0.447490   \n",
       "FOSL2 chip-seq model on shared cut peaks               0.271661   \n",
       "FOSL2 chip-seq model on unique chip peaks              0.447490   \n",
       "FOSL2 chip-seq model on unique cut peaks               0.271661   \n",
       "FOSL2 cutnrun model on shared chip peaks               0.171600   \n",
       "FOSL2 cutnrun model on shared cut peaks                0.178369   \n",
       "FOSL2 cutnrun model on unique chip peaks               0.171600   \n",
       "FOSL2 cutnrun model on unique cut peaks                0.178369   \n",
       "\n",
       "                                          Test profile MSE Test count Pearson  \\\n",
       "CTCF chip-seq model on shared chip peaks          0.000004           0.194651   \n",
       "CTCF chip-seq model on shared cut peaks           0.000009           0.175710   \n",
       "CTCF chip-seq model on unique chip peaks          0.000004           0.194651   \n",
       "CTCF chip-seq model on unique cut peaks           0.000009           0.175710   \n",
       "CTCF cutnrun model on shared chip peaks           0.000021           0.115782   \n",
       "CTCF cutnrun model on shared cut peaks            0.000013           0.129719   \n",
       "CTCF cutnrun model on unique chip peaks           0.000021           0.115782   \n",
       "CTCF cutnrun model on unique cut peaks            0.000013           0.129719   \n",
       "FOSL2 chip-seq model on shared chip peaks         0.000002           0.008305   \n",
       "FOSL2 chip-seq model on shared cut peaks          0.000002           0.240208   \n",
       "FOSL2 chip-seq model on unique chip peaks         0.000002           0.008305   \n",
       "FOSL2 chip-seq model on unique cut peaks          0.000002           0.240208   \n",
       "FOSL2 cutnrun model on shared chip peaks          0.000025          -0.006213   \n",
       "FOSL2 cutnrun model on shared cut peaks           0.000021           0.211839   \n",
       "FOSL2 cutnrun model on unique chip peaks          0.000025          -0.006213   \n",
       "FOSL2 cutnrun model on unique cut peaks           0.000021           0.211839   \n",
       "\n",
       "                                          Test count Spearman Test count MSE  \n",
       "CTCF chip-seq model on shared chip peaks             0.165882       0.277827  \n",
       "CTCF chip-seq model on shared cut peaks              0.195075       1.369871  \n",
       "CTCF chip-seq model on unique chip peaks             0.165882       0.277827  \n",
       "CTCF chip-seq model on unique cut peaks              0.195075       1.369871  \n",
       "CTCF cutnrun model on shared chip peaks              0.141856       2.050756  \n",
       "CTCF cutnrun model on shared cut peaks               0.121700       0.471928  \n",
       "CTCF cutnrun model on unique chip peaks              0.141856       2.050756  \n",
       "CTCF cutnrun model on unique cut peaks               0.121700       0.471928  \n",
       "FOSL2 chip-seq model on shared chip peaks            0.000000       0.180043  \n",
       "FOSL2 chip-seq model on shared cut peaks             0.256843       0.464291  \n",
       "FOSL2 chip-seq model on unique chip peaks            0.000000       0.180043  \n",
       "FOSL2 chip-seq model on unique cut peaks             0.256843       0.464291  \n",
       "FOSL2 cutnrun model on shared chip peaks            -0.018478       2.281631  \n",
       "FOSL2 cutnrun model on shared cut peaks              0.209289       1.411059  \n",
       "FOSL2 cutnrun model on unique chip peaks            -0.018478       2.281631  \n",
       "FOSL2 cutnrun model on unique cut peaks              0.209289       1.411059  "
      ]
     },
     "execution_count": 132,
     "metadata": {},
     "output_type": "execute_result"
    }
   ],
   "source": [
    "metrics"
   ]
  },
  {
   "cell_type": "code",
   "execution_count": null,
   "id": "b3110e80-c314-43c9-8b41-8ce61d9fbcfb",
   "metadata": {},
   "outputs": [],
   "source": []
  }
 ],
 "metadata": {
  "kernelspec": {
   "display_name": "Python 3 (ipykernel)",
   "language": "python",
   "name": "python3"
  },
  "language_info": {
   "codemirror_mode": {
    "name": "ipython",
    "version": 3
   },
   "file_extension": ".py",
   "mimetype": "text/x-python",
   "name": "python",
   "nbconvert_exporter": "python",
   "pygments_lexer": "ipython3",
   "version": "3.9.7"
  }
 },
 "nbformat": 4,
 "nbformat_minor": 5
}
