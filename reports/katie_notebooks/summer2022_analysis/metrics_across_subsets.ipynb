{
 "cells": [
  {
   "cell_type": "markdown",
   "id": "56064f15-4226-4342-8017-f7143e82dd73",
   "metadata": {},
   "source": [
    "# Compute metrics across peak subsets"
   ]
  },
  {
   "cell_type": "code",
   "execution_count": 1,
   "id": "3e46f274-8686-4051-9062-9d4639ecb775",
   "metadata": {},
   "outputs": [],
   "source": [
    "import sys\n",
    "# append paths pointing to Data directory on your machine\n",
    "sys.path.append('/home/katie/bp_repo/multitask_profile_model_SPI_GATA')\n",
    "\n",
    "import pickle\n",
    "import torch\n",
    "import numpy as np\n",
    "import pandas as pd\n",
    "import matplotlib.pyplot as plt\n",
    "import h5py\n",
    "\n",
    "import profile_models\n",
    "import profile_performance\n",
    "from profile_performance import load_metrics, compute_performance_metrics, log_performance_metrics\n",
    "from all_functions import save_preds_by_subset\n",
    "\n",
    "sys.path.append('/home/katie/bp_repo/reports/')\n",
    "from util import import_profiles"
   ]
  },
  {
   "cell_type": "code",
   "execution_count": 7,
   "id": "7024a70f-cb43-4a81-9603-b56b91064e1e",
   "metadata": {},
   "outputs": [],
   "source": [
    "# set variables\n",
    "subsets_path_root = '/home/katie/bp_repo/reports/katie_notebooks/round2_tasks_mar2022/TASK_1/'\n",
    "model_path_root = '/home/katie/bp_repo/pipeline_outputs/'\n",
    "save_path_root = '/home/katie/bp_repo/reports/katie_notebooks/summer2022_analysis/preds_by_subset_jul9/'\n",
    "\n",
    "model_paths = list(model_path_root + stem + '/model.state_dict' for stem in ['ctcf_chipseq_jul9',\n",
    "                                                         'ctcf_cutnrun_jul9', 'fosl2_chipseq_jul9', 'fosl2_cutnrun_jul9'])\n",
    "models = list(profile_models.ModelLoader(model_path, controls='chipseq' in model_path, num_tasks=1).load_model() for \\\n",
    "             model_path in model_paths)\n",
    "\n",
    "tfs = ['CTCF'] * 2 + ['FOSL2'] * 2\n",
    "assays = ['chip-seq', 'cutnrun'] * 2\n",
    "controls = list(assay == 'chip-seq' for assay in assays)\n",
    "save_paths = list(save_path_root + tfs[i] + '/' + assays[i] + '_model/' for i in range(len(tfs)))\n",
    "peak_subsets = ['unique', 'shared']\n",
    "\n",
    "\n",
    "path_ids = ['CTCF chip-seq model', 'CTCF cutnrun model', 'FOSL2 chip-seq model', 'FOSL2 cutnrun model']\n",
    "\n",
    "keys = ['shared_chip_loader',\n",
    " 'shared_cut_loader',\n",
    " 'unique_chip_loader',\n",
    " 'unique_cut_loader']\n",
    "\n",
    "data_ids = ['true_counts', 'log_pred_counts', 'true_profs', 'log_pred_profs']\n",
    "plt.rcParams['figure.dpi'] = 100"
   ]
  },
  {
   "cell_type": "markdown",
   "id": "ba780dd2-4d9d-40d4-a0ed-812e31c91ef0",
   "metadata": {
    "jp-MarkdownHeadingCollapsed": true,
    "tags": []
   },
   "source": [
    "## Save preds by subset"
   ]
  },
  {
   "cell_type": "code",
   "execution_count": 10,
   "id": "b034352c-8692-4273-acc0-22da88f88d9e",
   "metadata": {
    "collapsed": true,
    "jupyter": {
     "outputs_hidden": true
    },
    "tags": []
   },
   "outputs": [
    {
     "name": "stdout",
     "output_type": "stream",
     "text": [
      "This is NOT the assay: cutnrun\n",
      "Tasks path: /home/katie/bp_repo/research/data/chip-seq/\n",
      "TSV path: CTCF_chip_unique_no_cut\n",
      "CTCF\n",
      "/home/katie/bp_repo/reports/katie_notebooks/round2_tasks_mar2022/TASK_1/CTCF_chip_unique_no_cut\n",
      "(4980, 14)\n",
      "Index(['chrom', 'peak_start', 'peak_end', 'name', 'score', 'strand', 'signal',\n",
      "       'pval', 'qval', 'summit_offset', 'i0', 'start', 'end', 'task'],\n",
      "      dtype='object')\n"
     ]
    },
    {
     "data": {
      "application/vnd.jupyter.widget-view+json": {
       "model_id": "d804e93e9c6f4f63a0e167e61d8b820a",
       "version_major": 2,
       "version_minor": 0
      },
      "text/plain": [
       "  0%|          | 0/4 [00:00<?, ?it/s]"
      ]
     },
     "metadata": {},
     "output_type": "display_data"
    },
    {
     "name": "stdout",
     "output_type": "stream",
     "text": [
      "Saving result to HDF5...\n",
      "Tasks path: /home/katie/bp_repo/research/data/chip-seq/\n",
      "TSV path: CTCF_cut_unique_no_chip\n",
      "CTCF\n",
      "/home/katie/bp_repo/reports/katie_notebooks/round2_tasks_mar2022/TASK_1/CTCF_cut_unique_no_chip\n",
      "(24246, 23)\n",
      "Index(['chrom', 'peak_start', 'peak_end', 'name', 'score', 'strand', 'signal',\n",
      "       'pval', 'qval', 'summit_offset', 'i0', 'i1', 'i2', 'i3', 'i4', 'i5',\n",
      "       'i6', 'i7', 'i8', 'i9', 'start', 'end', 'task'],\n",
      "      dtype='object')\n"
     ]
    },
    {
     "data": {
      "application/vnd.jupyter.widget-view+json": {
       "model_id": "ed43724b09e045a8b4ac97c4b3b2028b",
       "version_major": 2,
       "version_minor": 0
      },
      "text/plain": [
       "  0%|          | 0/17 [00:00<?, ?it/s]"
      ]
     },
     "metadata": {},
     "output_type": "display_data"
    },
    {
     "name": "stdout",
     "output_type": "stream",
     "text": [
      "Saving result to HDF5...\n",
      "This is NOT the assay: cutnrun\n",
      "Tasks path: /home/katie/bp_repo/research/data/chip-seq/\n",
      "TSV path: CTCF_chip_unique_shared_cut\n",
      "CTCF\n",
      "/home/katie/bp_repo/reports/katie_notebooks/round2_tasks_mar2022/TASK_1/CTCF_chip_unique_shared_cut\n",
      "(30821, 14)\n",
      "Index(['chrom', 'peak_start', 'peak_end', 'name', 'score', 'strand', 'signal',\n",
      "       'pval', 'qval', 'summit_offset', 'i0', 'start', 'end', 'task'],\n",
      "      dtype='object')\n"
     ]
    },
    {
     "data": {
      "application/vnd.jupyter.widget-view+json": {
       "model_id": "fb3d99c22f1044299647195be58748d4",
       "version_major": 2,
       "version_minor": 0
      },
      "text/plain": [
       "  0%|          | 0/23 [00:00<?, ?it/s]"
      ]
     },
     "metadata": {},
     "output_type": "display_data"
    },
    {
     "name": "stdout",
     "output_type": "stream",
     "text": [
      "Saving result to HDF5...\n",
      "Tasks path: /home/katie/bp_repo/research/data/chip-seq/\n",
      "TSV path: CTCF_cut_unique_shared_chip\n",
      "CTCF\n",
      "/home/katie/bp_repo/reports/katie_notebooks/round2_tasks_mar2022/TASK_1/CTCF_cut_unique_shared_chip\n",
      "(29979, 23)\n",
      "Index(['chrom', 'peak_start', 'peak_end', 'name', 'score', 'strand', 'signal',\n",
      "       'pval', 'qval', 'summit_offset', 'i0', 'i1', 'i2', 'i3', 'i4', 'i5',\n",
      "       'i6', 'i7', 'i8', 'i9', 'start', 'end', 'task'],\n",
      "      dtype='object')\n"
     ]
    },
    {
     "data": {
      "application/vnd.jupyter.widget-view+json": {
       "model_id": "53e16d3c1cbe48f9a544b44d36815a09",
       "version_major": 2,
       "version_minor": 0
      },
      "text/plain": [
       "  0%|          | 0/22 [00:00<?, ?it/s]"
      ]
     },
     "metadata": {},
     "output_type": "display_data"
    },
    {
     "name": "stdout",
     "output_type": "stream",
     "text": [
      "Saving result to HDF5...\n",
      "This is NOT the assay: chip-seq\n",
      "Tasks path: /home/katie/bp_repo/research/data/cutnrun/\n",
      "TSV path: CTCF_cut_unique_no_chip\n",
      "CTCF\n",
      "/home/katie/bp_repo/reports/katie_notebooks/round2_tasks_mar2022/TASK_1/CTCF_cut_unique_no_chip\n",
      "(24246, 23)\n",
      "Index(['chrom', 'peak_start', 'peak_end', 'name', 'score', 'strand', 'signal',\n",
      "       'pval', 'qval', 'summit_offset', 'i0', 'i1', 'i2', 'i3', 'i4', 'i5',\n",
      "       'i6', 'i7', 'i8', 'i9', 'start', 'end', 'task'],\n",
      "      dtype='object')\n"
     ]
    },
    {
     "data": {
      "application/vnd.jupyter.widget-view+json": {
       "model_id": "aea253b272f64df78c7a60b412c45a36",
       "version_major": 2,
       "version_minor": 0
      },
      "text/plain": [
       "  0%|          | 0/17 [00:00<?, ?it/s]"
      ]
     },
     "metadata": {},
     "output_type": "display_data"
    },
    {
     "name": "stdout",
     "output_type": "stream",
     "text": [
      "Saving result to HDF5...\n",
      "Tasks path: /home/katie/bp_repo/research/data/cutnrun/\n",
      "TSV path: CTCF_chip_unique_no_cut\n",
      "CTCF\n",
      "/home/katie/bp_repo/reports/katie_notebooks/round2_tasks_mar2022/TASK_1/CTCF_chip_unique_no_cut\n",
      "(4980, 14)\n",
      "Index(['chrom', 'peak_start', 'peak_end', 'name', 'score', 'strand', 'signal',\n",
      "       'pval', 'qval', 'summit_offset', 'i0', 'start', 'end', 'task'],\n",
      "      dtype='object')\n"
     ]
    },
    {
     "data": {
      "application/vnd.jupyter.widget-view+json": {
       "model_id": "419a7f03ce954be0b93790eddab11072",
       "version_major": 2,
       "version_minor": 0
      },
      "text/plain": [
       "  0%|          | 0/4 [00:00<?, ?it/s]"
      ]
     },
     "metadata": {},
     "output_type": "display_data"
    },
    {
     "name": "stdout",
     "output_type": "stream",
     "text": [
      "Saving result to HDF5...\n",
      "This is NOT the assay: chip-seq\n",
      "Tasks path: /home/katie/bp_repo/research/data/cutnrun/\n",
      "TSV path: CTCF_cut_unique_shared_chip\n",
      "CTCF\n",
      "/home/katie/bp_repo/reports/katie_notebooks/round2_tasks_mar2022/TASK_1/CTCF_cut_unique_shared_chip\n",
      "(29979, 23)\n",
      "Index(['chrom', 'peak_start', 'peak_end', 'name', 'score', 'strand', 'signal',\n",
      "       'pval', 'qval', 'summit_offset', 'i0', 'i1', 'i2', 'i3', 'i4', 'i5',\n",
      "       'i6', 'i7', 'i8', 'i9', 'start', 'end', 'task'],\n",
      "      dtype='object')\n"
     ]
    },
    {
     "data": {
      "application/vnd.jupyter.widget-view+json": {
       "model_id": "fdeb8b79373c45c694e32fcd3ed81784",
       "version_major": 2,
       "version_minor": 0
      },
      "text/plain": [
       "  0%|          | 0/22 [00:00<?, ?it/s]"
      ]
     },
     "metadata": {},
     "output_type": "display_data"
    },
    {
     "name": "stdout",
     "output_type": "stream",
     "text": [
      "Saving result to HDF5...\n",
      "Tasks path: /home/katie/bp_repo/research/data/cutnrun/\n",
      "TSV path: CTCF_chip_unique_shared_cut\n",
      "CTCF\n",
      "/home/katie/bp_repo/reports/katie_notebooks/round2_tasks_mar2022/TASK_1/CTCF_chip_unique_shared_cut\n",
      "(30821, 14)\n",
      "Index(['chrom', 'peak_start', 'peak_end', 'name', 'score', 'strand', 'signal',\n",
      "       'pval', 'qval', 'summit_offset', 'i0', 'start', 'end', 'task'],\n",
      "      dtype='object')\n"
     ]
    },
    {
     "data": {
      "application/vnd.jupyter.widget-view+json": {
       "model_id": "8c5f84df36f54694a82af281bd650c48",
       "version_major": 2,
       "version_minor": 0
      },
      "text/plain": [
       "  0%|          | 0/23 [00:00<?, ?it/s]"
      ]
     },
     "metadata": {},
     "output_type": "display_data"
    },
    {
     "name": "stdout",
     "output_type": "stream",
     "text": [
      "Saving result to HDF5...\n",
      "This is NOT the assay: cutnrun\n",
      "Tasks path: /home/katie/bp_repo/research/data/chip-seq/\n",
      "TSV path: FOSL2_chip_unique_no_cut\n",
      "FOSL2\n",
      "/home/katie/bp_repo/reports/katie_notebooks/round2_tasks_mar2022/TASK_1/FOSL2_chip_unique_no_cut\n",
      "(6960, 14)\n",
      "Index(['chrom', 'peak_start', 'peak_end', 'name', 'score', 'strand', 'signal',\n",
      "       'pval', 'qval', 'summit_offset', 'i0', 'start', 'end', 'task'],\n",
      "      dtype='object')\n"
     ]
    },
    {
     "data": {
      "application/vnd.jupyter.widget-view+json": {
       "model_id": "ab7f2cc1c5d44194aa6f8e53828bd3d3",
       "version_major": 2,
       "version_minor": 0
      },
      "text/plain": [
       "  0%|          | 0/5 [00:00<?, ?it/s]"
      ]
     },
     "metadata": {},
     "output_type": "display_data"
    },
    {
     "name": "stdout",
     "output_type": "stream",
     "text": [
      "Saving result to HDF5...\n",
      "Tasks path: /home/katie/bp_repo/research/data/chip-seq/\n",
      "TSV path: FOSL2_cut_unique_no_chip\n",
      "FOSL2\n",
      "/home/katie/bp_repo/reports/katie_notebooks/round2_tasks_mar2022/TASK_1/FOSL2_cut_unique_no_chip\n",
      "(20169, 23)\n",
      "Index(['chrom', 'peak_start', 'peak_end', 'name', 'score', 'strand', 'signal',\n",
      "       'pval', 'qval', 'summit_offset', 'i0', 'i1', 'i2', 'i3', 'i4', 'i5',\n",
      "       'i6', 'i7', 'i8', 'i9', 'start', 'end', 'task'],\n",
      "      dtype='object')\n"
     ]
    },
    {
     "data": {
      "application/vnd.jupyter.widget-view+json": {
       "model_id": "43ab1a874486441caeae5bc7f3f9f181",
       "version_major": 2,
       "version_minor": 0
      },
      "text/plain": [
       "  0%|          | 0/14 [00:00<?, ?it/s]"
      ]
     },
     "metadata": {},
     "output_type": "display_data"
    },
    {
     "name": "stdout",
     "output_type": "stream",
     "text": [
      "Saving result to HDF5...\n",
      "This is NOT the assay: cutnrun\n",
      "Tasks path: /home/katie/bp_repo/research/data/chip-seq/\n",
      "TSV path: FOSL2_chip_unique_shared_cut\n",
      "FOSL2\n",
      "/home/katie/bp_repo/reports/katie_notebooks/round2_tasks_mar2022/TASK_1/FOSL2_chip_unique_shared_cut\n",
      "(26508, 14)\n",
      "Index(['chrom', 'peak_start', 'peak_end', 'name', 'score', 'strand', 'signal',\n",
      "       'pval', 'qval', 'summit_offset', 'i0', 'start', 'end', 'task'],\n",
      "      dtype='object')\n"
     ]
    },
    {
     "data": {
      "application/vnd.jupyter.widget-view+json": {
       "model_id": "d3b120b873fe44a8abbda3b5d948cda9",
       "version_major": 2,
       "version_minor": 0
      },
      "text/plain": [
       "  0%|          | 0/20 [00:00<?, ?it/s]"
      ]
     },
     "metadata": {},
     "output_type": "display_data"
    },
    {
     "name": "stdout",
     "output_type": "stream",
     "text": [
      "Saving result to HDF5...\n",
      "Tasks path: /home/katie/bp_repo/research/data/chip-seq/\n",
      "TSV path: FOSL2_cut_unique_shared_chip\n",
      "FOSL2\n",
      "/home/katie/bp_repo/reports/katie_notebooks/round2_tasks_mar2022/TASK_1/FOSL2_cut_unique_shared_chip\n",
      "(25420, 23)\n",
      "Index(['chrom', 'peak_start', 'peak_end', 'name', 'score', 'strand', 'signal',\n",
      "       'pval', 'qval', 'summit_offset', 'i0', 'i1', 'i2', 'i3', 'i4', 'i5',\n",
      "       'i6', 'i7', 'i8', 'i9', 'start', 'end', 'task'],\n",
      "      dtype='object')\n"
     ]
    },
    {
     "data": {
      "application/vnd.jupyter.widget-view+json": {
       "model_id": "5003a3b8b0c940888b7dee484d226342",
       "version_major": 2,
       "version_minor": 0
      },
      "text/plain": [
       "  0%|          | 0/19 [00:00<?, ?it/s]"
      ]
     },
     "metadata": {},
     "output_type": "display_data"
    },
    {
     "name": "stdout",
     "output_type": "stream",
     "text": [
      "Saving result to HDF5...\n",
      "This is NOT the assay: chip-seq\n",
      "Tasks path: /home/katie/bp_repo/research/data/cutnrun/\n",
      "TSV path: FOSL2_cut_unique_no_chip\n",
      "FOSL2\n",
      "/home/katie/bp_repo/reports/katie_notebooks/round2_tasks_mar2022/TASK_1/FOSL2_cut_unique_no_chip\n",
      "(20169, 23)\n",
      "Index(['chrom', 'peak_start', 'peak_end', 'name', 'score', 'strand', 'signal',\n",
      "       'pval', 'qval', 'summit_offset', 'i0', 'i1', 'i2', 'i3', 'i4', 'i5',\n",
      "       'i6', 'i7', 'i8', 'i9', 'start', 'end', 'task'],\n",
      "      dtype='object')\n"
     ]
    },
    {
     "data": {
      "application/vnd.jupyter.widget-view+json": {
       "model_id": "31ad15cd586a400c90af4813dd2bdc63",
       "version_major": 2,
       "version_minor": 0
      },
      "text/plain": [
       "  0%|          | 0/14 [00:00<?, ?it/s]"
      ]
     },
     "metadata": {},
     "output_type": "display_data"
    },
    {
     "name": "stdout",
     "output_type": "stream",
     "text": [
      "Saving result to HDF5...\n",
      "Tasks path: /home/katie/bp_repo/research/data/cutnrun/\n",
      "TSV path: FOSL2_chip_unique_no_cut\n",
      "FOSL2\n",
      "/home/katie/bp_repo/reports/katie_notebooks/round2_tasks_mar2022/TASK_1/FOSL2_chip_unique_no_cut\n",
      "(6960, 14)\n",
      "Index(['chrom', 'peak_start', 'peak_end', 'name', 'score', 'strand', 'signal',\n",
      "       'pval', 'qval', 'summit_offset', 'i0', 'start', 'end', 'task'],\n",
      "      dtype='object')\n"
     ]
    },
    {
     "data": {
      "application/vnd.jupyter.widget-view+json": {
       "model_id": "c04749469ca844369d438964553643e8",
       "version_major": 2,
       "version_minor": 0
      },
      "text/plain": [
       "  0%|          | 0/5 [00:00<?, ?it/s]"
      ]
     },
     "metadata": {},
     "output_type": "display_data"
    },
    {
     "name": "stdout",
     "output_type": "stream",
     "text": [
      "Saving result to HDF5...\n",
      "This is NOT the assay: chip-seq\n",
      "Tasks path: /home/katie/bp_repo/research/data/cutnrun/\n",
      "TSV path: FOSL2_cut_unique_shared_chip\n",
      "FOSL2\n",
      "/home/katie/bp_repo/reports/katie_notebooks/round2_tasks_mar2022/TASK_1/FOSL2_cut_unique_shared_chip\n",
      "(25420, 23)\n",
      "Index(['chrom', 'peak_start', 'peak_end', 'name', 'score', 'strand', 'signal',\n",
      "       'pval', 'qval', 'summit_offset', 'i0', 'i1', 'i2', 'i3', 'i4', 'i5',\n",
      "       'i6', 'i7', 'i8', 'i9', 'start', 'end', 'task'],\n",
      "      dtype='object')\n"
     ]
    },
    {
     "data": {
      "application/vnd.jupyter.widget-view+json": {
       "model_id": "de1ec890635e4d84bedf33c92f2ac267",
       "version_major": 2,
       "version_minor": 0
      },
      "text/plain": [
       "  0%|          | 0/19 [00:00<?, ?it/s]"
      ]
     },
     "metadata": {},
     "output_type": "display_data"
    },
    {
     "name": "stdout",
     "output_type": "stream",
     "text": [
      "Saving result to HDF5...\n",
      "Tasks path: /home/katie/bp_repo/research/data/cutnrun/\n",
      "TSV path: FOSL2_chip_unique_shared_cut\n",
      "FOSL2\n",
      "/home/katie/bp_repo/reports/katie_notebooks/round2_tasks_mar2022/TASK_1/FOSL2_chip_unique_shared_cut\n",
      "(26508, 14)\n",
      "Index(['chrom', 'peak_start', 'peak_end', 'name', 'score', 'strand', 'signal',\n",
      "       'pval', 'qval', 'summit_offset', 'i0', 'start', 'end', 'task'],\n",
      "      dtype='object')\n"
     ]
    },
    {
     "data": {
      "application/vnd.jupyter.widget-view+json": {
       "model_id": "117f6888c367474a9badfff5296c3e52",
       "version_major": 2,
       "version_minor": 0
      },
      "text/plain": [
       "  0%|          | 0/20 [00:00<?, ?it/s]"
      ]
     },
     "metadata": {},
     "output_type": "display_data"
    },
    {
     "name": "stdout",
     "output_type": "stream",
     "text": [
      "Saving result to HDF5...\n"
     ]
    }
   ],
   "source": [
    "# save preds by subset\n",
    "for i in range(len(tfs)):\n",
    "    model, tf, assay, control, save_path = models[i], tfs[i], assays[i], controls[i], save_paths[i]\n",
    "    for peak_subset in peak_subsets:\n",
    "        save_preds_by_subset(model, tf, assay, control, save_path, peak_subset, chrom_subset='test')"
   ]
  },
  {
   "cell_type": "markdown",
   "id": "253f812c-c33d-4fb7-ab64-626e761ec71f",
   "metadata": {
    "jp-MarkdownHeadingCollapsed": true,
    "tags": []
   },
   "source": [
    "## Load in all test set predictions"
   ]
  },
  {
   "cell_type": "code",
   "execution_count": 11,
   "id": "3ccbbc43-ea51-4c08-8ae5-9a758c239d04",
   "metadata": {
    "tags": []
   },
   "outputs": [
    {
     "data": {
      "application/vnd.jupyter.widget-view+json": {
       "model_id": "725664b6adc3463e895a79196aec8908",
       "version_major": 2,
       "version_minor": 0
      },
      "text/plain": [
       "Importing predictions:   0%|          | 0/6 [00:00<?, ?it/s]"
      ]
     },
     "metadata": {},
     "output_type": "display_data"
    },
    {
     "data": {
      "application/vnd.jupyter.widget-view+json": {
       "model_id": "2a93b075f80f4023862c58cacb22cb98",
       "version_major": 2,
       "version_minor": 0
      },
      "text/plain": [
       "Importing predictions:   0%|          | 0/6 [00:00<?, ?it/s]"
      ]
     },
     "metadata": {},
     "output_type": "display_data"
    },
    {
     "data": {
      "application/vnd.jupyter.widget-view+json": {
       "model_id": "52c317681d524b459606f3e4c8a800cb",
       "version_major": 2,
       "version_minor": 0
      },
      "text/plain": [
       "Importing predictions:   0%|          | 0/1 [00:00<?, ?it/s]"
      ]
     },
     "metadata": {},
     "output_type": "display_data"
    },
    {
     "data": {
      "application/vnd.jupyter.widget-view+json": {
       "model_id": "d725fd7841724864bc1d9f50c9c64bec",
       "version_major": 2,
       "version_minor": 0
      },
      "text/plain": [
       "Importing predictions:   0%|          | 0/5 [00:00<?, ?it/s]"
      ]
     },
     "metadata": {},
     "output_type": "display_data"
    },
    {
     "data": {
      "application/vnd.jupyter.widget-view+json": {
       "model_id": "a0ce4f3e75d24baaa744be4088ee958c",
       "version_major": 2,
       "version_minor": 0
      },
      "text/plain": [
       "Importing predictions:   0%|          | 0/6 [00:00<?, ?it/s]"
      ]
     },
     "metadata": {},
     "output_type": "display_data"
    },
    {
     "data": {
      "application/vnd.jupyter.widget-view+json": {
       "model_id": "5a125d7f024f4664bc20e55d85895658",
       "version_major": 2,
       "version_minor": 0
      },
      "text/plain": [
       "Importing predictions:   0%|          | 0/6 [00:00<?, ?it/s]"
      ]
     },
     "metadata": {},
     "output_type": "display_data"
    },
    {
     "data": {
      "application/vnd.jupyter.widget-view+json": {
       "model_id": "6ba54a2c759b4ed2aab7583949104842",
       "version_major": 2,
       "version_minor": 0
      },
      "text/plain": [
       "Importing predictions:   0%|          | 0/1 [00:00<?, ?it/s]"
      ]
     },
     "metadata": {},
     "output_type": "display_data"
    },
    {
     "data": {
      "application/vnd.jupyter.widget-view+json": {
       "model_id": "a05f7a68c71e4dc19b842b6fa3f70c95",
       "version_major": 2,
       "version_minor": 0
      },
      "text/plain": [
       "Importing predictions:   0%|          | 0/5 [00:00<?, ?it/s]"
      ]
     },
     "metadata": {},
     "output_type": "display_data"
    },
    {
     "data": {
      "application/vnd.jupyter.widget-view+json": {
       "model_id": "b1eccdcfb93c49cc805e2f8bb5448a98",
       "version_major": 2,
       "version_minor": 0
      },
      "text/plain": [
       "Importing predictions:   0%|          | 0/5 [00:00<?, ?it/s]"
      ]
     },
     "metadata": {},
     "output_type": "display_data"
    },
    {
     "data": {
      "application/vnd.jupyter.widget-view+json": {
       "model_id": "2db3e8ffb5994a9c853322dcf1d3533b",
       "version_major": 2,
       "version_minor": 0
      },
      "text/plain": [
       "Importing predictions:   0%|          | 0/5 [00:00<?, ?it/s]"
      ]
     },
     "metadata": {},
     "output_type": "display_data"
    },
    {
     "data": {
      "application/vnd.jupyter.widget-view+json": {
       "model_id": "26b60c14b96342048454eb5b780e597f",
       "version_major": 2,
       "version_minor": 0
      },
      "text/plain": [
       "Importing predictions:   0%|          | 0/2 [00:00<?, ?it/s]"
      ]
     },
     "metadata": {},
     "output_type": "display_data"
    },
    {
     "data": {
      "application/vnd.jupyter.widget-view+json": {
       "model_id": "215bbed9cd3641d69251add3cee7efb8",
       "version_major": 2,
       "version_minor": 0
      },
      "text/plain": [
       "Importing predictions:   0%|          | 0/4 [00:00<?, ?it/s]"
      ]
     },
     "metadata": {},
     "output_type": "display_data"
    },
    {
     "data": {
      "application/vnd.jupyter.widget-view+json": {
       "model_id": "c62846ae297048b48dbfe7ef0c9bfa15",
       "version_major": 2,
       "version_minor": 0
      },
      "text/plain": [
       "Importing predictions:   0%|          | 0/5 [00:00<?, ?it/s]"
      ]
     },
     "metadata": {},
     "output_type": "display_data"
    },
    {
     "data": {
      "application/vnd.jupyter.widget-view+json": {
       "model_id": "0ef6017c6e3d4a1491df698d4e85e9ee",
       "version_major": 2,
       "version_minor": 0
      },
      "text/plain": [
       "Importing predictions:   0%|          | 0/5 [00:00<?, ?it/s]"
      ]
     },
     "metadata": {},
     "output_type": "display_data"
    },
    {
     "data": {
      "application/vnd.jupyter.widget-view+json": {
       "model_id": "7f09d6806fc04666be236a84a6d8b47e",
       "version_major": 2,
       "version_minor": 0
      },
      "text/plain": [
       "Importing predictions:   0%|          | 0/2 [00:00<?, ?it/s]"
      ]
     },
     "metadata": {},
     "output_type": "display_data"
    },
    {
     "data": {
      "application/vnd.jupyter.widget-view+json": {
       "model_id": "33c45f2f42d34645a80b779a4054dd28",
       "version_major": 2,
       "version_minor": 0
      },
      "text/plain": [
       "Importing predictions:   0%|          | 0/4 [00:00<?, ?it/s]"
      ]
     },
     "metadata": {},
     "output_type": "display_data"
    }
   ],
   "source": [
    "# load in all test set predictions\n",
    "all_preds_dict = {}\n",
    "\n",
    "for i in range(len(save_paths)):\n",
    "    path = save_paths[i]\n",
    "    path_id = path_ids[i]\n",
    "    preds_dict = {}\n",
    "    \n",
    "    # the surprisingly quick (few secs) actual preds loading\n",
    "    for key in keys:\n",
    "        file = h5py.File(f'{path}{key}.preds', 'r')\n",
    "        coords = import_profiles(f'{path}{key}.preds')[2]\n",
    "        preds_dict[key] = {'true_counts': file['predictions']['true_counts'], \n",
    "                           'log_pred_counts': file['predictions']['log_pred_counts'], \n",
    "                           'true_profs': file['predictions']['true_profs'],\n",
    "                           'log_pred_profs': file['predictions']['log_pred_profs'], \n",
    "                           'coords': coords}\n",
    "        \n",
    "        # we need to subset to chr1, the test set\n",
    "            # 1. take the coords, make into a DataFrame, subset to chr1, and get the indexes of the test coords\n",
    "            # 2. use these indexes to subset pred_counts into the test profs\n",
    "        df = pd.DataFrame(preds_dict[key]['coords']).reset_index()\n",
    "        preds_dict[key]['coords_test'] = df[df.iloc[:,1] == 'chr1']\n",
    "        preds_dict[key]['indexes_test'] = list(preds_dict[key]['coords_test']['index'])\n",
    "        \n",
    "        for data_id in data_ids:  # update all of the data to ONLY include test data\n",
    "            preds_dict[key][data_id] = preds_dict[key][data_id][preds_dict[key]['indexes_test']]\n",
    "    \n",
    "    all_preds_dict[path_id] = preds_dict"
   ]
  },
  {
   "cell_type": "markdown",
   "id": "59896661-8995-4b3e-b6c0-d9cc3ff33c53",
   "metadata": {
    "jp-MarkdownHeadingCollapsed": true,
    "tags": []
   },
   "source": [
    "## Save metrics (pickling)"
   ]
  },
  {
   "cell_type": "code",
   "execution_count": 12,
   "id": "a338cccf-1cb3-4b4c-a4a2-3bbad2d93586",
   "metadata": {
    "tags": []
   },
   "outputs": [
    {
     "name": "stdout",
     "output_type": "stream",
     "text": [
      "\tTest profile NLL: 212.976605\n",
      "\tTest profile cross entropy: 5.791260\n",
      "\tTest profile JSD: 0.120512\n",
      "\tTest profile Pearson: 0.796841\n",
      "\tTest profile Spearman: 0.595862\n",
      "\tTest profile MSE: 0.000002\n",
      "\tTest count Pearson: 0.386886\n",
      "\tTest count Spearman: 0.382056\n",
      "\tTest count MSE: 1.188107\n"
     ]
    },
    {
     "name": "stderr",
     "output_type": "stream",
     "text": [
      "/home/katie/bp_repo/multitask_profile_model_SPI_GATA/profile_performance.py:43: RuntimeWarning: invalid value encountered in true_divide\n",
      "  cross_ent = (-log_prob_pows_sum) / trials\n"
     ]
    },
    {
     "name": "stdout",
     "output_type": "stream",
     "text": [
      "\tTest profile NLL: 212.518237\n",
      "\tTest profile cross entropy: 5.787390\n",
      "\tTest profile JSD: 0.121126\n",
      "\tTest profile Pearson: 0.794557\n",
      "\tTest profile Spearman: 0.595289\n",
      "\tTest profile MSE: 0.000002\n",
      "\tTest count Pearson: 0.403550\n",
      "\tTest count Spearman: 0.402270\n",
      "\tTest count MSE: 1.206302\n",
      "\tTest profile NLL: 118.235532\n",
      "\tTest profile cross entropy: 6.021382\n",
      "\tTest profile JSD: 0.215517\n",
      "\tTest profile Pearson: 0.640114\n",
      "\tTest profile Spearman: 0.500139\n",
      "\tTest profile MSE: 0.000004\n",
      "\tTest count Pearson: 0.225358\n",
      "\tTest count Spearman: 0.172337\n",
      "\tTest count MSE: 0.251173\n",
      "\tTest profile NLL: 67.718938\n",
      "\tTest profile cross entropy: 6.780616\n",
      "\tTest profile JSD: 0.395471\n",
      "\tTest profile Pearson: 0.166229\n",
      "\tTest profile Spearman: 0.195328\n",
      "\tTest profile MSE: 0.000008\n",
      "\tTest count Pearson: 0.192545\n",
      "\tTest count Spearman: 0.218857\n",
      "\tTest count MSE: 0.896098\n",
      "\tTest profile NLL: 222.138688\n",
      "\tTest profile cross entropy: 4.832076\n",
      "\tTest profile JSD: 0.330868\n",
      "\tTest profile Pearson: 0.327574\n",
      "\tTest profile Spearman: 0.341298\n",
      "\tTest profile MSE: 0.000024\n",
      "\tTest count Pearson: 0.399727\n",
      "\tTest count Spearman: 0.401360\n",
      "\tTest count MSE: 0.600266\n",
      "\tTest profile NLL: 222.953608\n",
      "\tTest profile cross entropy: 4.835257\n",
      "\tTest profile JSD: 0.330284\n",
      "\tTest profile Pearson: 0.328387\n",
      "\tTest profile Spearman: 0.341343\n",
      "\tTest profile MSE: 0.000024\n",
      "\tTest count Pearson: 0.403368\n",
      "\tTest count Spearman: 0.404673\n",
      "\tTest count MSE: 0.594525\n",
      "\tTest profile NLL: 58.530675\n",
      "\tTest profile cross entropy: 5.553845\n",
      "\tTest profile JSD: 0.441507\n",
      "\tTest profile Pearson: 0.179115\n",
      "\tTest profile Spearman: 0.167424\n",
      "\tTest profile MSE: 0.000021\n",
      "\tTest count Pearson: 0.124070\n",
      "\tTest count Spearman: 0.170453\n",
      "\tTest count MSE: 2.819427\n",
      "\tTest profile NLL: 116.982217\n",
      "\tTest profile cross entropy: 5.475808\n",
      "\tTest profile JSD: 0.396602\n",
      "\tTest profile Pearson: 0.177553\n",
      "\tTest profile Spearman: 0.144196\n",
      "\tTest profile MSE: 0.000014\n",
      "\tTest count Pearson: 0.155634\n",
      "\tTest count Spearman: 0.145440\n",
      "\tTest count MSE: 0.602138\n",
      "\tTest profile NLL: 304.000621\n",
      "\tTest profile cross entropy: 6.507180\n",
      "\tTest profile JSD: 0.108763\n",
      "\tTest profile Pearson: 0.631327\n",
      "\tTest profile Spearman: 0.544510\n",
      "\tTest profile MSE: 0.000001\n",
      "\tTest count Pearson: -0.005146\n",
      "\tTest count Spearman: -0.007390\n",
      "\tTest count MSE: 0.773613\n",
      "\tTest profile NLL: 306.808922\n",
      "\tTest profile cross entropy: 6.511910\n",
      "\tTest profile JSD: 0.109553\n",
      "\tTest profile Pearson: 0.626127\n",
      "\tTest profile Spearman: 0.542412\n",
      "\tTest profile MSE: 0.000001\n",
      "\tTest count Pearson: -0.008133\n",
      "\tTest count Spearman: -0.015182\n",
      "\tTest count MSE: 0.800945\n",
      "\tTest profile NLL: 184.210536\n",
      "\tTest profile cross entropy: 6.569657\n",
      "\tTest profile JSD: 0.164397\n",
      "\tTest profile Pearson: 0.515625\n",
      "\tTest profile Spearman: 0.442251\n",
      "\tTest profile MSE: 0.000002\n",
      "\tTest count Pearson: 0.048777\n",
      "\tTest count Spearman: 0.056660\n",
      "\tTest count MSE: 0.175117\n",
      "\tTest profile NLL: 138.695488\n",
      "\tTest profile cross entropy: 6.839428\n",
      "\tTest profile JSD: 0.224663\n",
      "\tTest profile Pearson: 0.249471\n",
      "\tTest profile Spearman: 0.274839\n",
      "\tTest profile MSE: 0.000002\n",
      "\tTest count Pearson: 0.253855\n",
      "\tTest count Spearman: 0.285763\n",
      "\tTest count MSE: 0.595482\n",
      "\tTest profile NLL: 102.479893\n",
      "\tTest profile cross entropy: 4.845019\n",
      "\tTest profile JSD: 0.381554\n",
      "\tTest profile Pearson: 0.278750\n",
      "\tTest profile Spearman: 0.319728\n",
      "\tTest profile MSE: 0.000022\n",
      "\tTest count Pearson: 0.212607\n",
      "\tTest count Spearman: 0.199509\n",
      "\tTest count MSE: 1.311243\n",
      "\tTest profile NLL: 106.227822\n",
      "\tTest profile cross entropy: 4.857941\n",
      "\tTest profile JSD: 0.380435\n",
      "\tTest profile Pearson: 0.278747\n",
      "\tTest profile Spearman: 0.318142\n",
      "\tTest profile MSE: 0.000022\n",
      "\tTest count Pearson: 0.223797\n",
      "\tTest count Spearman: 0.208795\n",
      "\tTest count MSE: 1.344677\n",
      "\tTest profile NLL: 25.098784\n",
      "\tTest profile cross entropy: 5.103955\n",
      "\tTest profile JSD: 0.490799\n",
      "\tTest profile Pearson: 0.167842\n",
      "\tTest profile Spearman: 0.200132\n",
      "\tTest profile MSE: 0.000029\n",
      "\tTest count Pearson: 0.059111\n",
      "\tTest count Spearman: 0.049322\n",
      "\tTest count MSE: 1.964987\n",
      "\tTest profile NLL: 38.637430\n",
      "\tTest profile cross entropy: 5.145902\n",
      "\tTest profile JSD: 0.466019\n",
      "\tTest profile Pearson: 0.180580\n",
      "\tTest profile Spearman: 0.203225\n",
      "\tTest profile MSE: 0.000024\n",
      "\tTest count Pearson: 0.257859\n",
      "\tTest count Spearman: 0.240606\n",
      "\tTest count MSE: 1.189852\n"
     ]
    }
   ],
   "source": [
    "# save metrics\n",
    "# only need to run once\n",
    "for i in range(len(path_ids)):\n",
    "    path_id = path_ids[i]\n",
    "    save_path = save_paths[i]\n",
    "    for key in keys:\n",
    "        preds_dict = all_preds_dict[path_id][key]\n",
    "        true_profs, log_pred_profs, true_counts, log_pred_counts = \\\n",
    "        preds_dict['true_profs'], preds_dict['log_pred_profs'], preds_dict['true_counts'], preds_dict['log_pred_counts']\n",
    "        metrics = profile_performance.compute_performance_metrics(\n",
    "                true_profs, log_pred_profs, true_counts, log_pred_counts,\n",
    "                prof_smooth_kernel_sigma=7, prof_smooth_kernel_width=81, print_updates=False\n",
    "            )\n",
    "\n",
    "        pickle.dump(profile_performance.log_performance_metrics(metrics), open(save_path + key + '_metrics.pkl', 'wb'))"
   ]
  },
  {
   "cell_type": "markdown",
   "id": "94349bf6-712e-4557-bd74-f84006700607",
   "metadata": {},
   "source": [
    "## Load metrics into pretty dataframe :]"
   ]
  },
  {
   "cell_type": "code",
   "execution_count": 13,
   "id": "e11e4eeb-6831-4f39-9f52-be0da639bd6c",
   "metadata": {},
   "outputs": [],
   "source": [
    "pickles = []\n",
    "ids = []\n",
    "for i in range(len(path_ids)):\n",
    "    path_id = path_ids[i]\n",
    "    save_path = save_paths[i]\n",
    "    for key in keys:\n",
    "        pickles.append(save_path + key + '_metrics.pkl')\n",
    "        ids.append(path_id + ' on ' + ' '.join(key.split('_')[:-1]) + ' peaks')"
   ]
  },
  {
   "cell_type": "code",
   "execution_count": 9,
   "id": "8e393089-c61a-49b6-9dbf-677900743477",
   "metadata": {
    "jupyter": {
     "source_hidden": true
    },
    "tags": []
   },
   "outputs": [],
   "source": [
    "# OLD, WITHOUT MULTI-INDEXING\n",
    "metrics = load_metrics(pickles, ids, multiindexing=False)\n",
    "\n",
    "metrics = metrics.append(load_metrics(['/home/katie/bp_repo/pipeline_outputs/ctcf_chipseq_jul6/metrics.pkl',\n",
    "              '/home/katie/bp_repo/pipeline_outputs/ctcf_cutnrun_jul6/metrics.pkl',\n",
    "              '/home/katie/bp_repo/pipeline_outputs/fosl2_chipseq_jul6/metrics.pkl',\n",
    "              '/home/katie/bp_repo/pipeline_outputs/fosl2_cutnrun_jul6/metrics.pkl'],\n",
    "             ['CTCF chip-seq model on all test peaks', 'CTCF cutnrun model on all test peaks', \n",
    "              'FOSL2 chip-seq model on all test peaks', 'FOSL2 cutnrun model on all test peaks'], multiindexing=False))"
   ]
  },
  {
   "cell_type": "code",
   "execution_count": 21,
   "id": "e5152ff0-8d20-4d43-abb1-de43fa079d75",
   "metadata": {
    "collapsed": true,
    "jupyter": {
     "outputs_hidden": true
    },
    "tags": []
   },
   "outputs": [
    {
     "name": "stdout",
     "output_type": "stream",
     "text": [
      "CTCF/chip-seq_model/shared_chip_loader_metrics.pkl\n",
      "('CTCF chip-seq model', 'shared chip loader')\n",
      "\n",
      "\n",
      "/CTCF/chip-seq_model/shared_cut_loader_metrics.pkl\n",
      "('CTCF chip-seq model', 'shared cut loader')\n",
      "\n",
      "\n",
      "CTCF/chip-seq_model/unique_chip_loader_metrics.pkl\n",
      "('CTCF chip-seq model', 'unique chip loader')\n",
      "\n",
      "\n",
      "/CTCF/chip-seq_model/unique_cut_loader_metrics.pkl\n",
      "('CTCF chip-seq model', 'unique cut loader')\n",
      "\n",
      "\n",
      "/CTCF/cutnrun_model/shared_chip_loader_metrics.pkl\n",
      "('CTCF cutnrun model', 'shared chip loader')\n",
      "\n",
      "\n",
      "9/CTCF/cutnrun_model/shared_cut_loader_metrics.pkl\n",
      "('CTCF cutnrun model', 'shared cut loader')\n",
      "\n",
      "\n",
      "/CTCF/cutnrun_model/unique_chip_loader_metrics.pkl\n",
      "('CTCF cutnrun model', 'unique chip loader')\n",
      "\n",
      "\n",
      "9/CTCF/cutnrun_model/unique_cut_loader_metrics.pkl\n",
      "('CTCF cutnrun model', 'unique cut loader')\n",
      "\n",
      "\n",
      "OSL2/chip-seq_model/shared_chip_loader_metrics.pkl\n",
      "('FOSL2 chip-seq model', 'shared chip loader')\n",
      "\n",
      "\n",
      "FOSL2/chip-seq_model/shared_cut_loader_metrics.pkl\n",
      "('FOSL2 chip-seq model', 'shared cut loader')\n",
      "\n",
      "\n",
      "OSL2/chip-seq_model/unique_chip_loader_metrics.pkl\n",
      "('FOSL2 chip-seq model', 'unique chip loader')\n",
      "\n",
      "\n",
      "FOSL2/chip-seq_model/unique_cut_loader_metrics.pkl\n",
      "('FOSL2 chip-seq model', 'unique cut loader')\n",
      "\n",
      "\n",
      "FOSL2/cutnrun_model/shared_chip_loader_metrics.pkl\n",
      "('FOSL2 cutnrun model', 'shared chip loader')\n",
      "\n",
      "\n",
      "/FOSL2/cutnrun_model/shared_cut_loader_metrics.pkl\n",
      "('FOSL2 cutnrun model', 'shared cut loader')\n",
      "\n",
      "\n",
      "FOSL2/cutnrun_model/unique_chip_loader_metrics.pkl\n",
      "('FOSL2 cutnrun model', 'unique chip loader')\n",
      "\n",
      "\n",
      "/FOSL2/cutnrun_model/unique_cut_loader_metrics.pkl\n",
      "('FOSL2 cutnrun model', 'unique cut loader')\n",
      "\n",
      "\n",
      "epo/pipeline_outputs/ctcf_chipseq_jul9/metrics.pkl\n",
      "('CTCF chip-seq model', 'all test peaks')\n",
      "\n",
      "\n",
      "epo/pipeline_outputs/ctcf_cutnrun_jul6/metrics.pkl\n",
      "('CTCF cutnrun model', 'all test peaks')\n",
      "\n",
      "\n",
      "po/pipeline_outputs/fosl2_chipseq_jul6/metrics.pkl\n",
      "('FOSL2 chip-seq model', 'all test peaks')\n",
      "\n",
      "\n",
      "po/pipeline_outputs/fosl2_cutnrun_jul6/metrics.pkl\n",
      "('FOSL2 cutnrun model', 'all test peaks')\n",
      "\n",
      "\n"
     ]
    }
   ],
   "source": [
    "metrics = load_metrics(pickles, [path_ids, list(' '.join(key.split('_')) for key in keys)], multiindexing=True)\n",
    "metrics = pd.concat([metrics, load_metrics(['/home/katie/bp_repo/pipeline_outputs/ctcf_chipseq_jul9/metrics.pkl',\n",
    "              '/home/katie/bp_repo/pipeline_outputs/ctcf_cutnrun_jul6/metrics.pkl',\n",
    "              '/home/katie/bp_repo/pipeline_outputs/fosl2_chipseq_jul6/metrics.pkl',\n",
    "              '/home/katie/bp_repo/pipeline_outputs/fosl2_cutnrun_jul6/metrics.pkl'],\n",
    "             [path_ids, ['all test peaks']], multiindexing=True)]).sort_index()\n",
    "metrics = metrics.astype(float).round(2)"
   ]
  },
  {
   "cell_type": "code",
   "execution_count": 15,
   "id": "27910d11-9f44-4db1-8aec-36218858d67a",
   "metadata": {},
   "outputs": [],
   "source": [
    "def plot_metrics(tf, metric):\n",
    "    subsets = ['shared chip loader', 'shared cut loader', 'unique chip loader', 'unique cut loader']\n",
    "    \n",
    "    labels = ['Shared ChIP-seq', 'Shared CUT&RUN', 'Unique ChIP-seq', 'Unique CUT&RUN']\n",
    "    \n",
    "    chip_rects_values = list(metrics.loc[(f'{tf} chip-seq model', subset), metric] for subset in subsets)\n",
    "    cut_rects_values = list(metrics.loc[(f'{tf} cutnrun model', subset), metric] for subset in subsets)\n",
    "    \n",
    "    width = 0.4       # the width of the bars: can also be len(x) sequence\n",
    "    ind = np.arange(len(labels))\n",
    "\n",
    "    fig, ax = plt.subplots()\n",
    "\n",
    "    # ChIP-seq model\n",
    "    chip_rects = ax.bar(ind - width/2, chip_rects_values, width, label='ChIP-seq model')\n",
    "\n",
    "    # CUT&RUN model\n",
    "    cut_rects = ax.bar(ind + width/2, cut_rects_values, width, label='CUT&RUN model')\n",
    "\n",
    "    ax.set_xticks(ind, labels, rotation=30)\n",
    "    ax.set_xlabel('Peak subset')\n",
    "    ax.set_ylabel(metric)\n",
    "    ax.set_title(f'{tf} model performance on peak subsets')\n",
    "    ax.legend()\n",
    "\n",
    "    ax.bar_label(chip_rects, padding=1, fontsize=8)\n",
    "    ax.bar_label(cut_rects, padding=1, fontsize=8)\n",
    "\n",
    "    plt.show()"
   ]
  },
  {
   "cell_type": "code",
   "execution_count": 31,
   "id": "1834f91c-5296-4d6f-85e3-01ef4ae57669",
   "metadata": {},
   "outputs": [
    {
     "data": {
      "text/html": [
       "<div>\n",
       "<style scoped>\n",
       "    .dataframe tbody tr th:only-of-type {\n",
       "        vertical-align: middle;\n",
       "    }\n",
       "\n",
       "    .dataframe tbody tr th {\n",
       "        vertical-align: top;\n",
       "    }\n",
       "\n",
       "    .dataframe thead th {\n",
       "        text-align: right;\n",
       "    }\n",
       "</style>\n",
       "<table border=\"1\" class=\"dataframe\">\n",
       "  <thead>\n",
       "    <tr style=\"text-align: right;\">\n",
       "      <th></th>\n",
       "      <th></th>\n",
       "      <th>Test profile NLL</th>\n",
       "      <th>Test profile cross entropy</th>\n",
       "      <th>Test profile JSD</th>\n",
       "      <th>Test profile Pearson</th>\n",
       "      <th>Test profile Spearman</th>\n",
       "      <th>Test profile MSE</th>\n",
       "      <th>Test count Pearson</th>\n",
       "      <th>Test count Spearman</th>\n",
       "      <th>Test count MSE</th>\n",
       "    </tr>\n",
       "  </thead>\n",
       "  <tbody>\n",
       "    <tr>\n",
       "      <th rowspan=\"5\" valign=\"top\">FOSL2 chip-seq model</th>\n",
       "      <th>all test peaks</th>\n",
       "      <td>277.32</td>\n",
       "      <td>6.51</td>\n",
       "      <td>0.12</td>\n",
       "      <td>0.62</td>\n",
       "      <td>0.53</td>\n",
       "      <td>0.0</td>\n",
       "      <td>0.60</td>\n",
       "      <td>0.59</td>\n",
       "      <td>0.32</td>\n",
       "    </tr>\n",
       "    <tr>\n",
       "      <th>shared chip loader</th>\n",
       "      <td>304.00</td>\n",
       "      <td>6.51</td>\n",
       "      <td>0.11</td>\n",
       "      <td>0.63</td>\n",
       "      <td>0.54</td>\n",
       "      <td>0.0</td>\n",
       "      <td>-0.01</td>\n",
       "      <td>-0.01</td>\n",
       "      <td>0.77</td>\n",
       "    </tr>\n",
       "    <tr>\n",
       "      <th>shared cut loader</th>\n",
       "      <td>306.81</td>\n",
       "      <td>6.51</td>\n",
       "      <td>0.11</td>\n",
       "      <td>0.63</td>\n",
       "      <td>0.54</td>\n",
       "      <td>0.0</td>\n",
       "      <td>-0.01</td>\n",
       "      <td>-0.02</td>\n",
       "      <td>0.80</td>\n",
       "    </tr>\n",
       "    <tr>\n",
       "      <th>unique chip loader</th>\n",
       "      <td>184.21</td>\n",
       "      <td>6.57</td>\n",
       "      <td>0.16</td>\n",
       "      <td>0.52</td>\n",
       "      <td>0.44</td>\n",
       "      <td>0.0</td>\n",
       "      <td>0.05</td>\n",
       "      <td>0.06</td>\n",
       "      <td>0.18</td>\n",
       "    </tr>\n",
       "    <tr>\n",
       "      <th>unique cut loader</th>\n",
       "      <td>138.70</td>\n",
       "      <td>6.84</td>\n",
       "      <td>0.22</td>\n",
       "      <td>0.25</td>\n",
       "      <td>0.27</td>\n",
       "      <td>0.0</td>\n",
       "      <td>0.25</td>\n",
       "      <td>0.29</td>\n",
       "      <td>0.60</td>\n",
       "    </tr>\n",
       "    <tr>\n",
       "      <th rowspan=\"5\" valign=\"top\">FOSL2 cutnrun model</th>\n",
       "      <th>all test peaks</th>\n",
       "      <td>79.44</td>\n",
       "      <td>5.03</td>\n",
       "      <td>0.42</td>\n",
       "      <td>0.22</td>\n",
       "      <td>0.24</td>\n",
       "      <td>0.0</td>\n",
       "      <td>0.15</td>\n",
       "      <td>0.14</td>\n",
       "      <td>1.34</td>\n",
       "    </tr>\n",
       "    <tr>\n",
       "      <th>shared chip loader</th>\n",
       "      <td>102.48</td>\n",
       "      <td>4.85</td>\n",
       "      <td>0.38</td>\n",
       "      <td>0.28</td>\n",
       "      <td>0.32</td>\n",
       "      <td>0.0</td>\n",
       "      <td>0.21</td>\n",
       "      <td>0.20</td>\n",
       "      <td>1.31</td>\n",
       "    </tr>\n",
       "    <tr>\n",
       "      <th>shared cut loader</th>\n",
       "      <td>106.23</td>\n",
       "      <td>4.86</td>\n",
       "      <td>0.38</td>\n",
       "      <td>0.28</td>\n",
       "      <td>0.32</td>\n",
       "      <td>0.0</td>\n",
       "      <td>0.22</td>\n",
       "      <td>0.21</td>\n",
       "      <td>1.34</td>\n",
       "    </tr>\n",
       "    <tr>\n",
       "      <th>unique chip loader</th>\n",
       "      <td>25.10</td>\n",
       "      <td>5.10</td>\n",
       "      <td>0.49</td>\n",
       "      <td>0.17</td>\n",
       "      <td>0.20</td>\n",
       "      <td>0.0</td>\n",
       "      <td>0.06</td>\n",
       "      <td>0.05</td>\n",
       "      <td>1.96</td>\n",
       "    </tr>\n",
       "    <tr>\n",
       "      <th>unique cut loader</th>\n",
       "      <td>38.64</td>\n",
       "      <td>5.15</td>\n",
       "      <td>0.47</td>\n",
       "      <td>0.18</td>\n",
       "      <td>0.20</td>\n",
       "      <td>0.0</td>\n",
       "      <td>0.26</td>\n",
       "      <td>0.24</td>\n",
       "      <td>1.19</td>\n",
       "    </tr>\n",
       "  </tbody>\n",
       "</table>\n",
       "</div>"
      ],
      "text/plain": [
       "                                         Test profile NLL  \\\n",
       "FOSL2 chip-seq model all test peaks                277.32   \n",
       "                     shared chip loader            304.00   \n",
       "                     shared cut loader             306.81   \n",
       "                     unique chip loader            184.21   \n",
       "                     unique cut loader             138.70   \n",
       "FOSL2 cutnrun model  all test peaks                 79.44   \n",
       "                     shared chip loader            102.48   \n",
       "                     shared cut loader             106.23   \n",
       "                     unique chip loader             25.10   \n",
       "                     unique cut loader              38.64   \n",
       "\n",
       "                                         Test profile cross entropy  \\\n",
       "FOSL2 chip-seq model all test peaks                            6.51   \n",
       "                     shared chip loader                        6.51   \n",
       "                     shared cut loader                         6.51   \n",
       "                     unique chip loader                        6.57   \n",
       "                     unique cut loader                         6.84   \n",
       "FOSL2 cutnrun model  all test peaks                            5.03   \n",
       "                     shared chip loader                        4.85   \n",
       "                     shared cut loader                         4.86   \n",
       "                     unique chip loader                        5.10   \n",
       "                     unique cut loader                         5.15   \n",
       "\n",
       "                                         Test profile JSD  \\\n",
       "FOSL2 chip-seq model all test peaks                  0.12   \n",
       "                     shared chip loader              0.11   \n",
       "                     shared cut loader               0.11   \n",
       "                     unique chip loader              0.16   \n",
       "                     unique cut loader               0.22   \n",
       "FOSL2 cutnrun model  all test peaks                  0.42   \n",
       "                     shared chip loader              0.38   \n",
       "                     shared cut loader               0.38   \n",
       "                     unique chip loader              0.49   \n",
       "                     unique cut loader               0.47   \n",
       "\n",
       "                                         Test profile Pearson  \\\n",
       "FOSL2 chip-seq model all test peaks                      0.62   \n",
       "                     shared chip loader                  0.63   \n",
       "                     shared cut loader                   0.63   \n",
       "                     unique chip loader                  0.52   \n",
       "                     unique cut loader                   0.25   \n",
       "FOSL2 cutnrun model  all test peaks                      0.22   \n",
       "                     shared chip loader                  0.28   \n",
       "                     shared cut loader                   0.28   \n",
       "                     unique chip loader                  0.17   \n",
       "                     unique cut loader                   0.18   \n",
       "\n",
       "                                         Test profile Spearman  \\\n",
       "FOSL2 chip-seq model all test peaks                       0.53   \n",
       "                     shared chip loader                   0.54   \n",
       "                     shared cut loader                    0.54   \n",
       "                     unique chip loader                   0.44   \n",
       "                     unique cut loader                    0.27   \n",
       "FOSL2 cutnrun model  all test peaks                       0.24   \n",
       "                     shared chip loader                   0.32   \n",
       "                     shared cut loader                    0.32   \n",
       "                     unique chip loader                   0.20   \n",
       "                     unique cut loader                    0.20   \n",
       "\n",
       "                                         Test profile MSE  Test count Pearson  \\\n",
       "FOSL2 chip-seq model all test peaks                   0.0                0.60   \n",
       "                     shared chip loader               0.0               -0.01   \n",
       "                     shared cut loader                0.0               -0.01   \n",
       "                     unique chip loader               0.0                0.05   \n",
       "                     unique cut loader                0.0                0.25   \n",
       "FOSL2 cutnrun model  all test peaks                   0.0                0.15   \n",
       "                     shared chip loader               0.0                0.21   \n",
       "                     shared cut loader                0.0                0.22   \n",
       "                     unique chip loader               0.0                0.06   \n",
       "                     unique cut loader                0.0                0.26   \n",
       "\n",
       "                                         Test count Spearman  Test count MSE  \n",
       "FOSL2 chip-seq model all test peaks                     0.59            0.32  \n",
       "                     shared chip loader                -0.01            0.77  \n",
       "                     shared cut loader                 -0.02            0.80  \n",
       "                     unique chip loader                 0.06            0.18  \n",
       "                     unique cut loader                  0.29            0.60  \n",
       "FOSL2 cutnrun model  all test peaks                     0.14            1.34  \n",
       "                     shared chip loader                 0.20            1.31  \n",
       "                     shared cut loader                  0.21            1.34  \n",
       "                     unique chip loader                 0.05            1.96  \n",
       "                     unique cut loader                  0.24            1.19  "
      ]
     },
     "execution_count": 31,
     "metadata": {},
     "output_type": "execute_result"
    }
   ],
   "source": [
    "metrics.loc['FOSL2 chip-seq model':'FOSL2 cutnrun model', :]"
   ]
  },
  {
   "cell_type": "code",
   "execution_count": 24,
   "id": "f2fe27c9-fe79-4ce1-a7ce-c51868d40040",
   "metadata": {
    "collapsed": true,
    "jupyter": {
     "outputs_hidden": true
    },
    "tags": []
   },
   "outputs": [
    {
     "data": {
      "image/png": "[encoded data removed]",
      "text/plain": [
       "<Figure size 600x400 with 1 Axes>"
      ]
     },
     "metadata": {
      "needs_background": "light"
     },
     "output_type": "display_data"
    }
   ],
   "source": [
    "plot_metrics('CTCF', 'Test profile JSD')"
   ]
  },
  {
   "cell_type": "code",
   "execution_count": 23,
   "id": "1f424483-faf2-4660-bec9-f9d21c522da8",
   "metadata": {
    "collapsed": true,
    "jupyter": {
     "outputs_hidden": true
    },
    "tags": []
   },
   "outputs": [
    {
     "data": {
      "image/png": "[encoded data removed]",
      "text/plain": [
       "<Figure size 600x400 with 1 Axes>"
      ]
     },
     "metadata": {
      "needs_background": "light"
     },
     "output_type": "display_data"
    }
   ],
   "source": [
    "plot_metrics('FOSL2', 'Test profile JSD')"
   ]
  },
  {
   "cell_type": "code",
   "execution_count": 26,
   "id": "589588ba-f5c1-4c29-ae8e-64c3223fdf6c",
   "metadata": {
    "collapsed": true,
    "jupyter": {
     "outputs_hidden": true
    },
    "tags": []
   },
   "outputs": [
    {
     "data": {
      "image/png": "[encoded data removed]",
      "text/plain": [
       "<Figure size 600x400 with 1 Axes>"
      ]
     },
     "metadata": {
      "needs_background": "light"
     },
     "output_type": "display_data"
    }
   ],
   "source": [
    "plot_metrics('CTCF', 'Test count Pearson')"
   ]
  },
  {
   "cell_type": "code",
   "execution_count": 25,
   "id": "1898b1ab-397e-4e46-a136-e45ad6a556ae",
   "metadata": {
    "collapsed": true,
    "jupyter": {
     "outputs_hidden": true
    },
    "tags": []
   },
   "outputs": [
    {
     "data": {
      "image/png": "[encoded data removed]",
      "text/plain": [
       "<Figure size 600x400 with 1 Axes>"
      ]
     },
     "metadata": {
      "needs_background": "light"
     },
     "output_type": "display_data"
    }
   ],
   "source": [
    "plot_metrics('FOSL2', 'Test count Pearson')"
   ]
  },
  {
   "cell_type": "code",
   "execution_count": 27,
   "id": "9ec6a979-cbe7-4a7c-b701-8069d52bb90e",
   "metadata": {
    "collapsed": true,
    "jupyter": {
     "outputs_hidden": true
    },
    "tags": []
   },
   "outputs": [
    {
     "data": {
      "image/png": "[encoded data removed]",
      "text/plain": [
       "<Figure size 600x400 with 1 Axes>"
      ]
     },
     "metadata": {
      "needs_background": "light"
     },
     "output_type": "display_data"
    }
   ],
   "source": [
    "plot_metrics('CTCF', 'Test count Spearman')"
   ]
  },
  {
   "cell_type": "code",
   "execution_count": 28,
   "id": "90f7b04f-107c-43f1-920b-815989733a16",
   "metadata": {
    "collapsed": true,
    "jupyter": {
     "outputs_hidden": true
    },
    "tags": []
   },
   "outputs": [
    {
     "data": {
      "image/png": "[encoded data removed]",
      "text/plain": [
       "<Figure size 600x400 with 1 Axes>"
      ]
     },
     "metadata": {
      "needs_background": "light"
     },
     "output_type": "display_data"
    }
   ],
   "source": [
    "plot_metrics('FOSL2', 'Test count Spearman')"
   ]
  },
  {
   "cell_type": "code",
   "execution_count": null,
   "id": "5149fd56-7291-4a9f-b50e-a2bb3e516aca",
   "metadata": {},
   "outputs": [],
   "source": []
  }
 ],
 "metadata": {
  "kernelspec": {
   "display_name": "Python 3 (ipykernel)",
   "language": "python",
   "name": "python3"
  },
  "language_info": {
   "codemirror_mode": {
    "name": "ipython",
    "version": 3
   },
   "file_extension": ".py",
   "mimetype": "text/x-python",
   "name": "python",
   "nbconvert_exporter": "python",
   "pygments_lexer": "ipython3",
   "version": "3.9.7"
  }
 },
 "nbformat": 4,
 "nbformat_minor": 5
}
