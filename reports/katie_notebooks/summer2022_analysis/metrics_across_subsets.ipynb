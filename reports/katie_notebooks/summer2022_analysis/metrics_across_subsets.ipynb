{
 "cells": [
  {
   "cell_type": "markdown",
   "id": "56064f15-4226-4342-8017-f7143e82dd73",
   "metadata": {},
   "source": [
    "# Compute metrics across peak subsets"
   ]
  },
  {
   "cell_type": "code",
   "execution_count": 1,
   "id": "3e46f274-8686-4051-9062-9d4639ecb775",
   "metadata": {},
   "outputs": [],
   "source": [
    "import sys\n",
    "# append paths pointing to Data directory on your machine\n",
    "sys.path.append('/home/katie/bp_repo/multitask_profile_model_SPI_GATA')\n",
    "\n",
    "import pickle\n",
    "import torch\n",
    "import numpy as np\n",
    "import pandas as pd\n",
    "import matplotlib.pyplot as plt\n",
    "import h5py\n",
    "\n",
    "import profile_models\n",
    "import profile_performance\n",
    "from profile_performance import load_metrics, compute_performance_metrics, log_performance_metrics\n",
    "from all_functions import save_preds_by_subset\n",
    "\n",
    "sys.path.append('/home/katie/bp_repo/reports/')\n",
    "from util import import_profiles"
   ]
  },
  {
   "cell_type": "code",
   "execution_count": 2,
   "id": "7024a70f-cb43-4a81-9603-b56b91064e1e",
   "metadata": {},
   "outputs": [],
   "source": [
    "# set variables\n",
    "subsets_path_root = '/home/katie/bp_repo/reports/katie_notebooks/round2_tasks_mar2022/TASK_1/'\n",
    "model_path_root = '/home/katie/bp_repo/pipeline_outputs/'\n",
    "save_path_root = '/home/katie/bp_repo/reports/katie_notebooks/summer2022_analysis/preds_by_subset/'\n",
    "\n",
    "model_paths = list(model_path_root + stem + '/model.state_dict' for stem in ['ctcf_chipseq_jul6',\n",
    "                                                         'ctcf_cutnrun_jul6', 'fosl2_chipseq_jul6', 'fosl2_cutnrun_jul6'])\n",
    "models = list(profile_models.ModelLoader(model_path, controls='chipseq' in model_path, num_tasks=1).load_model() for \\\n",
    "             model_path in model_paths)\n",
    "\n",
    "tfs = ['CTCF'] * 2 + ['FOSL2'] * 2\n",
    "assays = ['chip-seq', 'cutnrun'] * 2\n",
    "controls = list(assay == 'chip-seq' for assay in assays)\n",
    "save_paths = list(save_path_root + tfs[i] + '/' + assays[i] + '_model/' for i in range(len(tfs)))\n",
    "peak_subsets = ['unique', 'shared']"
   ]
  },
  {
   "cell_type": "markdown",
   "id": "ba780dd2-4d9d-40d4-a0ed-812e31c91ef0",
   "metadata": {
    "jp-MarkdownHeadingCollapsed": true,
    "tags": []
   },
   "source": [
    "## Save preds by subset"
   ]
  },
  {
   "cell_type": "code",
   "execution_count": 3,
   "id": "b034352c-8692-4273-acc0-22da88f88d9e",
   "metadata": {
    "collapsed": true,
    "jupyter": {
     "outputs_hidden": true
    },
    "tags": []
   },
   "outputs": [
    {
     "name": "stdout",
     "output_type": "stream",
     "text": [
      "This is NOT the assay: cutnrun\n",
      "Tasks path: /home/katie/bp_repo/research/data/chip-seq/\n",
      "TSV path: CTCF_chip_unique_no_cut\n",
      "CTCF\n",
      "/home/katie/bp_repo/reports/katie_notebooks/round2_tasks_mar2022/TASK_1/CTCF_chip_unique_no_cut\n",
      "(4980, 14)\n",
      "Index(['chrom', 'peak_start', 'peak_end', 'name', 'score', 'strand', 'signal',\n",
      "       'pval', 'qval', 'summit_offset', 'i0', 'start', 'end', 'task'],\n",
      "      dtype='object')\n"
     ]
    },
    {
     "data": {
      "application/vnd.jupyter.widget-view+json": {
       "model_id": "373d86530f8b40cb8bc55b20002c7d13",
       "version_major": 2,
       "version_minor": 0
      },
      "text/plain": [
       "  0%|          | 0/4 [00:00<?, ?it/s]"
      ]
     },
     "metadata": {},
     "output_type": "display_data"
    },
    {
     "name": "stdout",
     "output_type": "stream",
     "text": [
      "Saving result to HDF5...\n",
      "Tasks path: /home/katie/bp_repo/research/data/chip-seq/\n",
      "TSV path: CTCF_cut_unique_no_chip\n",
      "CTCF\n",
      "/home/katie/bp_repo/reports/katie_notebooks/round2_tasks_mar2022/TASK_1/CTCF_cut_unique_no_chip\n",
      "(24246, 23)\n",
      "Index(['chrom', 'peak_start', 'peak_end', 'name', 'score', 'strand', 'signal',\n",
      "       'pval', 'qval', 'summit_offset', 'i0', 'i1', 'i2', 'i3', 'i4', 'i5',\n",
      "       'i6', 'i7', 'i8', 'i9', 'start', 'end', 'task'],\n",
      "      dtype='object')\n"
     ]
    },
    {
     "data": {
      "application/vnd.jupyter.widget-view+json": {
       "model_id": "d5210d34d03c45d1a7ee69c2c85dd1f4",
       "version_major": 2,
       "version_minor": 0
      },
      "text/plain": [
       "  0%|          | 0/17 [00:00<?, ?it/s]"
      ]
     },
     "metadata": {},
     "output_type": "display_data"
    },
    {
     "name": "stdout",
     "output_type": "stream",
     "text": [
      "Saving result to HDF5...\n",
      "This is NOT the assay: cutnrun\n",
      "Tasks path: /home/katie/bp_repo/research/data/chip-seq/\n",
      "TSV path: CTCF_chip_unique_shared_cut\n",
      "CTCF\n",
      "/home/katie/bp_repo/reports/katie_notebooks/round2_tasks_mar2022/TASK_1/CTCF_chip_unique_shared_cut\n",
      "(30821, 14)\n",
      "Index(['chrom', 'peak_start', 'peak_end', 'name', 'score', 'strand', 'signal',\n",
      "       'pval', 'qval', 'summit_offset', 'i0', 'start', 'end', 'task'],\n",
      "      dtype='object')\n"
     ]
    },
    {
     "data": {
      "application/vnd.jupyter.widget-view+json": {
       "model_id": "55c46e0f9bc448b1b119bec7629ba298",
       "version_major": 2,
       "version_minor": 0
      },
      "text/plain": [
       "  0%|          | 0/23 [00:00<?, ?it/s]"
      ]
     },
     "metadata": {},
     "output_type": "display_data"
    },
    {
     "name": "stdout",
     "output_type": "stream",
     "text": [
      "Saving result to HDF5...\n",
      "Tasks path: /home/katie/bp_repo/research/data/chip-seq/\n",
      "TSV path: CTCF_cut_unique_shared_chip\n",
      "CTCF\n",
      "/home/katie/bp_repo/reports/katie_notebooks/round2_tasks_mar2022/TASK_1/CTCF_cut_unique_shared_chip\n",
      "(29979, 23)\n",
      "Index(['chrom', 'peak_start', 'peak_end', 'name', 'score', 'strand', 'signal',\n",
      "       'pval', 'qval', 'summit_offset', 'i0', 'i1', 'i2', 'i3', 'i4', 'i5',\n",
      "       'i6', 'i7', 'i8', 'i9', 'start', 'end', 'task'],\n",
      "      dtype='object')\n"
     ]
    },
    {
     "data": {
      "application/vnd.jupyter.widget-view+json": {
       "model_id": "8533f15b95a349028ff4594a271bd2ce",
       "version_major": 2,
       "version_minor": 0
      },
      "text/plain": [
       "  0%|          | 0/22 [00:00<?, ?it/s]"
      ]
     },
     "metadata": {},
     "output_type": "display_data"
    },
    {
     "name": "stdout",
     "output_type": "stream",
     "text": [
      "Saving result to HDF5...\n",
      "This is NOT the assay: chip-seq\n",
      "Tasks path: /home/katie/bp_repo/research/data/cutnrun/\n",
      "TSV path: CTCF_cut_unique_no_chip\n",
      "CTCF\n",
      "/home/katie/bp_repo/reports/katie_notebooks/round2_tasks_mar2022/TASK_1/CTCF_cut_unique_no_chip\n",
      "(24246, 23)\n",
      "Index(['chrom', 'peak_start', 'peak_end', 'name', 'score', 'strand', 'signal',\n",
      "       'pval', 'qval', 'summit_offset', 'i0', 'i1', 'i2', 'i3', 'i4', 'i5',\n",
      "       'i6', 'i7', 'i8', 'i9', 'start', 'end', 'task'],\n",
      "      dtype='object')\n"
     ]
    },
    {
     "data": {
      "application/vnd.jupyter.widget-view+json": {
       "model_id": "11c2b5903fb74f5282d6db72c5811859",
       "version_major": 2,
       "version_minor": 0
      },
      "text/plain": [
       "  0%|          | 0/17 [00:00<?, ?it/s]"
      ]
     },
     "metadata": {},
     "output_type": "display_data"
    },
    {
     "name": "stdout",
     "output_type": "stream",
     "text": [
      "Saving result to HDF5...\n",
      "Tasks path: /home/katie/bp_repo/research/data/cutnrun/\n",
      "TSV path: CTCF_chip_unique_no_cut\n",
      "CTCF\n",
      "/home/katie/bp_repo/reports/katie_notebooks/round2_tasks_mar2022/TASK_1/CTCF_chip_unique_no_cut\n",
      "(4980, 14)\n",
      "Index(['chrom', 'peak_start', 'peak_end', 'name', 'score', 'strand', 'signal',\n",
      "       'pval', 'qval', 'summit_offset', 'i0', 'start', 'end', 'task'],\n",
      "      dtype='object')\n"
     ]
    },
    {
     "data": {
      "application/vnd.jupyter.widget-view+json": {
       "model_id": "4cda79a885c54d6bb9243294558649ba",
       "version_major": 2,
       "version_minor": 0
      },
      "text/plain": [
       "  0%|          | 0/4 [00:00<?, ?it/s]"
      ]
     },
     "metadata": {},
     "output_type": "display_data"
    },
    {
     "name": "stdout",
     "output_type": "stream",
     "text": [
      "Saving result to HDF5...\n",
      "This is NOT the assay: chip-seq\n",
      "Tasks path: /home/katie/bp_repo/research/data/cutnrun/\n",
      "TSV path: CTCF_cut_unique_shared_chip\n",
      "CTCF\n",
      "/home/katie/bp_repo/reports/katie_notebooks/round2_tasks_mar2022/TASK_1/CTCF_cut_unique_shared_chip\n",
      "(29979, 23)\n",
      "Index(['chrom', 'peak_start', 'peak_end', 'name', 'score', 'strand', 'signal',\n",
      "       'pval', 'qval', 'summit_offset', 'i0', 'i1', 'i2', 'i3', 'i4', 'i5',\n",
      "       'i6', 'i7', 'i8', 'i9', 'start', 'end', 'task'],\n",
      "      dtype='object')\n"
     ]
    },
    {
     "data": {
      "application/vnd.jupyter.widget-view+json": {
       "model_id": "2be644cd59794d2e8df430dae4982e5f",
       "version_major": 2,
       "version_minor": 0
      },
      "text/plain": [
       "  0%|          | 0/22 [00:00<?, ?it/s]"
      ]
     },
     "metadata": {},
     "output_type": "display_data"
    },
    {
     "name": "stdout",
     "output_type": "stream",
     "text": [
      "Saving result to HDF5...\n",
      "Tasks path: /home/katie/bp_repo/research/data/cutnrun/\n",
      "TSV path: CTCF_chip_unique_shared_cut\n",
      "CTCF\n",
      "/home/katie/bp_repo/reports/katie_notebooks/round2_tasks_mar2022/TASK_1/CTCF_chip_unique_shared_cut\n",
      "(30821, 14)\n",
      "Index(['chrom', 'peak_start', 'peak_end', 'name', 'score', 'strand', 'signal',\n",
      "       'pval', 'qval', 'summit_offset', 'i0', 'start', 'end', 'task'],\n",
      "      dtype='object')\n"
     ]
    },
    {
     "data": {
      "application/vnd.jupyter.widget-view+json": {
       "model_id": "af210a64911c4237a95e70be2809a33d",
       "version_major": 2,
       "version_minor": 0
      },
      "text/plain": [
       "  0%|          | 0/23 [00:00<?, ?it/s]"
      ]
     },
     "metadata": {},
     "output_type": "display_data"
    },
    {
     "name": "stdout",
     "output_type": "stream",
     "text": [
      "Saving result to HDF5...\n",
      "This is NOT the assay: cutnrun\n",
      "Tasks path: /home/katie/bp_repo/research/data/chip-seq/\n",
      "TSV path: FOSL2_chip_unique_no_cut\n",
      "FOSL2\n",
      "/home/katie/bp_repo/reports/katie_notebooks/round2_tasks_mar2022/TASK_1/FOSL2_chip_unique_no_cut\n",
      "(6960, 14)\n",
      "Index(['chrom', 'peak_start', 'peak_end', 'name', 'score', 'strand', 'signal',\n",
      "       'pval', 'qval', 'summit_offset', 'i0', 'start', 'end', 'task'],\n",
      "      dtype='object')\n"
     ]
    },
    {
     "data": {
      "application/vnd.jupyter.widget-view+json": {
       "model_id": "c5db121a7ee2497b9921d5079d242b76",
       "version_major": 2,
       "version_minor": 0
      },
      "text/plain": [
       "  0%|          | 0/5 [00:00<?, ?it/s]"
      ]
     },
     "metadata": {},
     "output_type": "display_data"
    },
    {
     "name": "stdout",
     "output_type": "stream",
     "text": [
      "Saving result to HDF5...\n",
      "Tasks path: /home/katie/bp_repo/research/data/chip-seq/\n",
      "TSV path: FOSL2_cut_unique_no_chip\n",
      "FOSL2\n",
      "/home/katie/bp_repo/reports/katie_notebooks/round2_tasks_mar2022/TASK_1/FOSL2_cut_unique_no_chip\n",
      "(20169, 23)\n",
      "Index(['chrom', 'peak_start', 'peak_end', 'name', 'score', 'strand', 'signal',\n",
      "       'pval', 'qval', 'summit_offset', 'i0', 'i1', 'i2', 'i3', 'i4', 'i5',\n",
      "       'i6', 'i7', 'i8', 'i9', 'start', 'end', 'task'],\n",
      "      dtype='object')\n"
     ]
    },
    {
     "data": {
      "application/vnd.jupyter.widget-view+json": {
       "model_id": "ecc1c31afe9a40cbab4755c3fe43be54",
       "version_major": 2,
       "version_minor": 0
      },
      "text/plain": [
       "  0%|          | 0/14 [00:00<?, ?it/s]"
      ]
     },
     "metadata": {},
     "output_type": "display_data"
    },
    {
     "name": "stdout",
     "output_type": "stream",
     "text": [
      "Saving result to HDF5...\n",
      "This is NOT the assay: cutnrun\n",
      "Tasks path: /home/katie/bp_repo/research/data/chip-seq/\n",
      "TSV path: FOSL2_chip_unique_shared_cut\n",
      "FOSL2\n",
      "/home/katie/bp_repo/reports/katie_notebooks/round2_tasks_mar2022/TASK_1/FOSL2_chip_unique_shared_cut\n",
      "(26508, 14)\n",
      "Index(['chrom', 'peak_start', 'peak_end', 'name', 'score', 'strand', 'signal',\n",
      "       'pval', 'qval', 'summit_offset', 'i0', 'start', 'end', 'task'],\n",
      "      dtype='object')\n"
     ]
    },
    {
     "data": {
      "application/vnd.jupyter.widget-view+json": {
       "model_id": "3a789d08a1ae43ba948f321c585b2046",
       "version_major": 2,
       "version_minor": 0
      },
      "text/plain": [
       "  0%|          | 0/20 [00:00<?, ?it/s]"
      ]
     },
     "metadata": {},
     "output_type": "display_data"
    },
    {
     "name": "stdout",
     "output_type": "stream",
     "text": [
      "Saving result to HDF5...\n",
      "Tasks path: /home/katie/bp_repo/research/data/chip-seq/\n",
      "TSV path: FOSL2_cut_unique_shared_chip\n",
      "FOSL2\n",
      "/home/katie/bp_repo/reports/katie_notebooks/round2_tasks_mar2022/TASK_1/FOSL2_cut_unique_shared_chip\n",
      "(25420, 23)\n",
      "Index(['chrom', 'peak_start', 'peak_end', 'name', 'score', 'strand', 'signal',\n",
      "       'pval', 'qval', 'summit_offset', 'i0', 'i1', 'i2', 'i3', 'i4', 'i5',\n",
      "       'i6', 'i7', 'i8', 'i9', 'start', 'end', 'task'],\n",
      "      dtype='object')\n"
     ]
    },
    {
     "data": {
      "application/vnd.jupyter.widget-view+json": {
       "model_id": "7c042bccb6bc4e0d91060d28e0e794f6",
       "version_major": 2,
       "version_minor": 0
      },
      "text/plain": [
       "  0%|          | 0/19 [00:00<?, ?it/s]"
      ]
     },
     "metadata": {},
     "output_type": "display_data"
    },
    {
     "name": "stdout",
     "output_type": "stream",
     "text": [
      "Saving result to HDF5...\n",
      "This is NOT the assay: chip-seq\n",
      "Tasks path: /home/katie/bp_repo/research/data/cutnrun/\n",
      "TSV path: FOSL2_cut_unique_no_chip\n",
      "FOSL2\n",
      "/home/katie/bp_repo/reports/katie_notebooks/round2_tasks_mar2022/TASK_1/FOSL2_cut_unique_no_chip\n",
      "(20169, 23)\n",
      "Index(['chrom', 'peak_start', 'peak_end', 'name', 'score', 'strand', 'signal',\n",
      "       'pval', 'qval', 'summit_offset', 'i0', 'i1', 'i2', 'i3', 'i4', 'i5',\n",
      "       'i6', 'i7', 'i8', 'i9', 'start', 'end', 'task'],\n",
      "      dtype='object')\n"
     ]
    },
    {
     "data": {
      "application/vnd.jupyter.widget-view+json": {
       "model_id": "7c6ed4f7b7254b4e9a37bca7f2add6d0",
       "version_major": 2,
       "version_minor": 0
      },
      "text/plain": [
       "  0%|          | 0/14 [00:00<?, ?it/s]"
      ]
     },
     "metadata": {},
     "output_type": "display_data"
    },
    {
     "name": "stdout",
     "output_type": "stream",
     "text": [
      "Saving result to HDF5...\n",
      "Tasks path: /home/katie/bp_repo/research/data/cutnrun/\n",
      "TSV path: FOSL2_chip_unique_no_cut\n",
      "FOSL2\n",
      "/home/katie/bp_repo/reports/katie_notebooks/round2_tasks_mar2022/TASK_1/FOSL2_chip_unique_no_cut\n",
      "(6960, 14)\n",
      "Index(['chrom', 'peak_start', 'peak_end', 'name', 'score', 'strand', 'signal',\n",
      "       'pval', 'qval', 'summit_offset', 'i0', 'start', 'end', 'task'],\n",
      "      dtype='object')\n"
     ]
    },
    {
     "data": {
      "application/vnd.jupyter.widget-view+json": {
       "model_id": "ae560aafef2d4abaa0040b73248cb9b6",
       "version_major": 2,
       "version_minor": 0
      },
      "text/plain": [
       "  0%|          | 0/5 [00:00<?, ?it/s]"
      ]
     },
     "metadata": {},
     "output_type": "display_data"
    },
    {
     "name": "stdout",
     "output_type": "stream",
     "text": [
      "Saving result to HDF5...\n",
      "This is NOT the assay: chip-seq\n",
      "Tasks path: /home/katie/bp_repo/research/data/cutnrun/\n",
      "TSV path: FOSL2_cut_unique_shared_chip\n",
      "FOSL2\n",
      "/home/katie/bp_repo/reports/katie_notebooks/round2_tasks_mar2022/TASK_1/FOSL2_cut_unique_shared_chip\n",
      "(25420, 23)\n",
      "Index(['chrom', 'peak_start', 'peak_end', 'name', 'score', 'strand', 'signal',\n",
      "       'pval', 'qval', 'summit_offset', 'i0', 'i1', 'i2', 'i3', 'i4', 'i5',\n",
      "       'i6', 'i7', 'i8', 'i9', 'start', 'end', 'task'],\n",
      "      dtype='object')\n"
     ]
    },
    {
     "data": {
      "application/vnd.jupyter.widget-view+json": {
       "model_id": "8f6dc5a904ed43e2a0a1292ec60d6cd7",
       "version_major": 2,
       "version_minor": 0
      },
      "text/plain": [
       "  0%|          | 0/19 [00:00<?, ?it/s]"
      ]
     },
     "metadata": {},
     "output_type": "display_data"
    },
    {
     "name": "stdout",
     "output_type": "stream",
     "text": [
      "Saving result to HDF5...\n",
      "Tasks path: /home/katie/bp_repo/research/data/cutnrun/\n",
      "TSV path: FOSL2_chip_unique_shared_cut\n",
      "FOSL2\n",
      "/home/katie/bp_repo/reports/katie_notebooks/round2_tasks_mar2022/TASK_1/FOSL2_chip_unique_shared_cut\n",
      "(26508, 14)\n",
      "Index(['chrom', 'peak_start', 'peak_end', 'name', 'score', 'strand', 'signal',\n",
      "       'pval', 'qval', 'summit_offset', 'i0', 'start', 'end', 'task'],\n",
      "      dtype='object')\n"
     ]
    },
    {
     "data": {
      "application/vnd.jupyter.widget-view+json": {
       "model_id": "ecd3c4d42aef420b9db94d5e400c6208",
       "version_major": 2,
       "version_minor": 0
      },
      "text/plain": [
       "  0%|          | 0/20 [00:00<?, ?it/s]"
      ]
     },
     "metadata": {},
     "output_type": "display_data"
    },
    {
     "name": "stdout",
     "output_type": "stream",
     "text": [
      "Saving result to HDF5...\n"
     ]
    }
   ],
   "source": [
    "# save preds by subset\n",
    "for i in range(len(tfs)):\n",
    "    model, tf, assay, control, save_path = models[i], tfs[i], assays[i], controls[i], save_paths[i]\n",
    "    for peak_subset in peak_subsets:\n",
    "        save_preds_by_subset(model, tf, assay, control, save_path, peak_subset, chrom_subset='test')"
   ]
  },
  {
   "cell_type": "markdown",
   "id": "253f812c-c33d-4fb7-ab64-626e761ec71f",
   "metadata": {},
   "source": [
    "## Load in all test set predictions"
   ]
  },
  {
   "cell_type": "code",
   "execution_count": 5,
   "id": "3ccbbc43-ea51-4c08-8ae5-9a758c239d04",
   "metadata": {
    "collapsed": true,
    "jupyter": {
     "outputs_hidden": true
    },
    "tags": []
   },
   "outputs": [
    {
     "data": {
      "application/vnd.jupyter.widget-view+json": {
       "model_id": "7bd4285457464ece88b2683b41aa15ec",
       "version_major": 2,
       "version_minor": 0
      },
      "text/plain": [
       "Importing predictions:   0%|          | 0/6 [00:00<?, ?it/s]"
      ]
     },
     "metadata": {},
     "output_type": "display_data"
    },
    {
     "data": {
      "application/vnd.jupyter.widget-view+json": {
       "model_id": "e7e5138fb362444682c53f195f22cb4a",
       "version_major": 2,
       "version_minor": 0
      },
      "text/plain": [
       "Importing predictions:   0%|          | 0/6 [00:00<?, ?it/s]"
      ]
     },
     "metadata": {},
     "output_type": "display_data"
    },
    {
     "data": {
      "application/vnd.jupyter.widget-view+json": {
       "model_id": "efeb685a662945b0ac483c5081efd599",
       "version_major": 2,
       "version_minor": 0
      },
      "text/plain": [
       "Importing predictions:   0%|          | 0/1 [00:00<?, ?it/s]"
      ]
     },
     "metadata": {},
     "output_type": "display_data"
    },
    {
     "data": {
      "application/vnd.jupyter.widget-view+json": {
       "model_id": "6cece10da61940899ea99d4371c3f673",
       "version_major": 2,
       "version_minor": 0
      },
      "text/plain": [
       "Importing predictions:   0%|          | 0/5 [00:00<?, ?it/s]"
      ]
     },
     "metadata": {},
     "output_type": "display_data"
    },
    {
     "data": {
      "application/vnd.jupyter.widget-view+json": {
       "model_id": "bb7d68334ff54de19d5fd03fa4e32a83",
       "version_major": 2,
       "version_minor": 0
      },
      "text/plain": [
       "Importing predictions:   0%|          | 0/6 [00:00<?, ?it/s]"
      ]
     },
     "metadata": {},
     "output_type": "display_data"
    },
    {
     "data": {
      "application/vnd.jupyter.widget-view+json": {
       "model_id": "547e873ba3e048a4a76f2f1abbf4aa8d",
       "version_major": 2,
       "version_minor": 0
      },
      "text/plain": [
       "Importing predictions:   0%|          | 0/6 [00:00<?, ?it/s]"
      ]
     },
     "metadata": {},
     "output_type": "display_data"
    },
    {
     "data": {
      "application/vnd.jupyter.widget-view+json": {
       "model_id": "98279466e68a4447aff7d24172e9bb63",
       "version_major": 2,
       "version_minor": 0
      },
      "text/plain": [
       "Importing predictions:   0%|          | 0/1 [00:00<?, ?it/s]"
      ]
     },
     "metadata": {},
     "output_type": "display_data"
    },
    {
     "data": {
      "application/vnd.jupyter.widget-view+json": {
       "model_id": "54c337514b4a422da532bd1968fc21a9",
       "version_major": 2,
       "version_minor": 0
      },
      "text/plain": [
       "Importing predictions:   0%|          | 0/5 [00:00<?, ?it/s]"
      ]
     },
     "metadata": {},
     "output_type": "display_data"
    },
    {
     "data": {
      "application/vnd.jupyter.widget-view+json": {
       "model_id": "976fd27b1f4744ad8531a5be00078082",
       "version_major": 2,
       "version_minor": 0
      },
      "text/plain": [
       "Importing predictions:   0%|          | 0/5 [00:00<?, ?it/s]"
      ]
     },
     "metadata": {},
     "output_type": "display_data"
    },
    {
     "data": {
      "application/vnd.jupyter.widget-view+json": {
       "model_id": "7cc0db496dc84b0091397e7cf5422a17",
       "version_major": 2,
       "version_minor": 0
      },
      "text/plain": [
       "Importing predictions:   0%|          | 0/5 [00:00<?, ?it/s]"
      ]
     },
     "metadata": {},
     "output_type": "display_data"
    },
    {
     "data": {
      "application/vnd.jupyter.widget-view+json": {
       "model_id": "0767cc136ad540d2a8cf2a1d8431f334",
       "version_major": 2,
       "version_minor": 0
      },
      "text/plain": [
       "Importing predictions:   0%|          | 0/2 [00:00<?, ?it/s]"
      ]
     },
     "metadata": {},
     "output_type": "display_data"
    },
    {
     "data": {
      "application/vnd.jupyter.widget-view+json": {
       "model_id": "5a2f551904ee4897b4120bf13bd1878c",
       "version_major": 2,
       "version_minor": 0
      },
      "text/plain": [
       "Importing predictions:   0%|          | 0/4 [00:00<?, ?it/s]"
      ]
     },
     "metadata": {},
     "output_type": "display_data"
    },
    {
     "data": {
      "application/vnd.jupyter.widget-view+json": {
       "model_id": "ba33db8f9e1f49478f3b9777be1a8e49",
       "version_major": 2,
       "version_minor": 0
      },
      "text/plain": [
       "Importing predictions:   0%|          | 0/5 [00:00<?, ?it/s]"
      ]
     },
     "metadata": {},
     "output_type": "display_data"
    },
    {
     "data": {
      "application/vnd.jupyter.widget-view+json": {
       "model_id": "7f28312408954ac78da276c9cfe2a800",
       "version_major": 2,
       "version_minor": 0
      },
      "text/plain": [
       "Importing predictions:   0%|          | 0/5 [00:00<?, ?it/s]"
      ]
     },
     "metadata": {},
     "output_type": "display_data"
    },
    {
     "data": {
      "application/vnd.jupyter.widget-view+json": {
       "model_id": "3aa53fdca08345f69a134aafe80f2e08",
       "version_major": 2,
       "version_minor": 0
      },
      "text/plain": [
       "Importing predictions:   0%|          | 0/2 [00:00<?, ?it/s]"
      ]
     },
     "metadata": {},
     "output_type": "display_data"
    },
    {
     "data": {
      "application/vnd.jupyter.widget-view+json": {
       "model_id": "a540f903dd0243f9a440b919dc958ad6",
       "version_major": 2,
       "version_minor": 0
      },
      "text/plain": [
       "Importing predictions:   0%|          | 0/4 [00:00<?, ?it/s]"
      ]
     },
     "metadata": {},
     "output_type": "display_data"
    }
   ],
   "source": [
    "# load in all test set predictions\n",
    "all_preds_dict = {}\n",
    "\n",
    "path_ids = ['CTCF chip-seq model', 'CTCF cutnrun model', 'FOSL2 chip-seq model', 'FOSL2 cutnrun model']\n",
    "\n",
    "keys = ['shared_chip_loader',\n",
    " 'shared_cut_loader',\n",
    " 'unique_chip_loader',\n",
    " 'unique_cut_loader']\n",
    "\n",
    "data_ids = ['true_counts', 'log_pred_counts', 'true_profs', 'log_pred_profs']\n",
    "\n",
    "for i in range(len(save_paths)):\n",
    "    path = save_paths[i]\n",
    "    path_id = path_ids[i]\n",
    "    preds_dict = {}\n",
    "    \n",
    "    # the surprisingly quick (few secs) actual preds loading\n",
    "    for key in keys:\n",
    "        file = h5py.File(f'{path}{key}.preds', 'r')\n",
    "        coords = import_profiles(f'{path}{key}.preds')[2]\n",
    "        preds_dict[key] = {'true_counts': file['predictions']['true_counts'], \n",
    "                           'log_pred_counts': file['predictions']['log_pred_counts'], \n",
    "                           'true_profs': file['predictions']['true_profs'],\n",
    "                           'log_pred_profs': file['predictions']['log_pred_profs'], \n",
    "                           'coords': coords}\n",
    "        \n",
    "        # we need to subset to chr1, the test set\n",
    "            # 1. take the coords, make into a DataFrame, subset to chr1, and get the indexes of the test coords\n",
    "            # 2. use these indexes to subset pred_counts into the test profs\n",
    "        df = pd.DataFrame(preds_dict[key]['coords']).reset_index()\n",
    "        preds_dict[key]['coords_test'] = df[df.iloc[:,1] == 'chr1']\n",
    "        preds_dict[key]['indexes_test'] = list(preds_dict[key]['coords_test']['index'])\n",
    "        \n",
    "        for data_id in data_ids:  # update all of the data to ONLY include test data\n",
    "            preds_dict[key][data_id] = preds_dict[key][data_id][preds_dict[key]['indexes_test']]\n",
    "    \n",
    "    all_preds_dict[path_id] = preds_dict"
   ]
  },
  {
   "cell_type": "markdown",
   "id": "59896661-8995-4b3e-b6c0-d9cc3ff33c53",
   "metadata": {
    "jp-MarkdownHeadingCollapsed": true,
    "tags": []
   },
   "source": [
    "## Save metrics (pickling)"
   ]
  },
  {
   "cell_type": "code",
   "execution_count": 7,
   "id": "a338cccf-1cb3-4b4c-a4a2-3bbad2d93586",
   "metadata": {
    "collapsed": true,
    "jupyter": {
     "outputs_hidden": true
    },
    "tags": []
   },
   "outputs": [
    {
     "name": "stdout",
     "output_type": "stream",
     "text": [
      "\tTest profile NLL: 213.997897\n",
      "\tTest profile cross entropy: 5.799258\n",
      "\tTest profile JSD: 0.125262\n",
      "\tTest profile Pearson: 0.790660\n",
      "\tTest profile Spearman: 0.593470\n",
      "\tTest profile MSE: 0.000002\n",
      "\tTest count Pearson: 0.233888\n",
      "\tTest count Spearman: 0.242361\n",
      "\tTest count MSE: 0.973231\n"
     ]
    },
    {
     "name": "stderr",
     "output_type": "stream",
     "text": [
      "/home/katie/bp_repo/multitask_profile_model_SPI_GATA/profile_performance.py:43: RuntimeWarning: invalid value encountered in true_divide\n",
      "  cross_ent = (-log_prob_pows_sum) / trials\n"
     ]
    },
    {
     "name": "stdout",
     "output_type": "stream",
     "text": [
      "\tTest profile NLL: 213.548737\n",
      "\tTest profile cross entropy: 5.795738\n",
      "\tTest profile JSD: 0.125937\n",
      "\tTest profile Pearson: 0.788692\n",
      "\tTest profile Spearman: 0.592907\n",
      "\tTest profile MSE: 0.000002\n",
      "\tTest count Pearson: 0.246767\n",
      "\tTest count Spearman: 0.259126\n",
      "\tTest count MSE: 0.990603\n",
      "\tTest profile NLL: 118.424368\n",
      "\tTest profile cross entropy: 6.022300\n",
      "\tTest profile JSD: 0.217622\n",
      "\tTest profile Pearson: 0.637231\n",
      "\tTest profile Spearman: 0.501469\n",
      "\tTest profile MSE: 0.000004\n",
      "\tTest count Pearson: 0.194651\n",
      "\tTest count Spearman: 0.165882\n",
      "\tTest count MSE: 0.277827\n",
      "\tTest profile NLL: 67.967874\n",
      "\tTest profile cross entropy: 6.799979\n",
      "\tTest profile JSD: 0.397298\n",
      "\tTest profile Pearson: 0.161837\n",
      "\tTest profile Spearman: 0.193510\n",
      "\tTest profile MSE: 0.000009\n",
      "\tTest count Pearson: 0.175710\n",
      "\tTest count Spearman: 0.195075\n",
      "\tTest count MSE: 1.369871\n",
      "\tTest profile NLL: 221.008060\n",
      "\tTest profile cross entropy: 4.826022\n",
      "\tTest profile JSD: 0.332676\n",
      "\tTest profile Pearson: 0.322312\n",
      "\tTest profile Spearman: 0.341610\n",
      "\tTest profile MSE: 0.000023\n",
      "\tTest count Pearson: 0.393744\n",
      "\tTest count Spearman: 0.393382\n",
      "\tTest count MSE: 0.810846\n",
      "\tTest profile NLL: 221.686458\n",
      "\tTest profile cross entropy: 4.828600\n",
      "\tTest profile JSD: 0.332058\n",
      "\tTest profile Pearson: 0.323090\n",
      "\tTest profile Spearman: 0.340913\n",
      "\tTest profile MSE: 0.000023\n",
      "\tTest count Pearson: 0.398040\n",
      "\tTest count Spearman: 0.396601\n",
      "\tTest count MSE: 0.808974\n",
      "\tTest profile NLL: 58.504822\n",
      "\tTest profile cross entropy: 5.549674\n",
      "\tTest profile JSD: 0.442124\n",
      "\tTest profile Pearson: 0.178287\n",
      "\tTest profile Spearman: 0.173227\n",
      "\tTest profile MSE: 0.000021\n",
      "\tTest count Pearson: 0.115782\n",
      "\tTest count Spearman: 0.141856\n",
      "\tTest count MSE: 2.050756\n",
      "\tTest profile NLL: 117.197684\n",
      "\tTest profile cross entropy: 5.478706\n",
      "\tTest profile JSD: 0.398888\n",
      "\tTest profile Pearson: 0.172835\n",
      "\tTest profile Spearman: 0.143052\n",
      "\tTest profile MSE: 0.000013\n",
      "\tTest count Pearson: 0.129719\n",
      "\tTest count Spearman: 0.121700\n",
      "\tTest count MSE: 0.471928\n",
      "\tTest profile NLL: 302.250816\n",
      "\tTest profile cross entropy: 6.497638\n",
      "\tTest profile JSD: 0.105655\n",
      "\tTest profile Pearson: 0.641986\n",
      "\tTest profile Spearman: 0.550863\n",
      "\tTest profile MSE: 0.000001\n",
      "\tTest count Pearson: 0.103164\n",
      "\tTest count Spearman: 0.068137\n",
      "\tTest count MSE: 0.914425\n",
      "\tTest profile NLL: 305.051183\n",
      "\tTest profile cross entropy: 6.502436\n",
      "\tTest profile JSD: 0.106563\n",
      "\tTest profile Pearson: 0.636583\n",
      "\tTest profile Spearman: 0.547847\n",
      "\tTest profile MSE: 0.000001\n",
      "\tTest count Pearson: 0.110337\n",
      "\tTest count Spearman: 0.071873\n",
      "\tTest count MSE: 0.939212\n",
      "\tTest profile NLL: 183.829077\n",
      "\tTest profile cross entropy: 6.562229\n",
      "\tTest profile JSD: 0.160945\n",
      "\tTest profile Pearson: 0.527547\n",
      "\tTest profile Spearman: 0.447490\n",
      "\tTest profile MSE: 0.000002\n",
      "\tTest count Pearson: 0.008305\n",
      "\tTest count Spearman: 0.000000\n",
      "\tTest count MSE: 0.180043\n",
      "\tTest profile NLL: 139.039445\n",
      "\tTest profile cross entropy: 6.850489\n",
      "\tTest profile JSD: 0.225605\n",
      "\tTest profile Pearson: 0.249811\n",
      "\tTest profile Spearman: 0.271661\n",
      "\tTest profile MSE: 0.000002\n",
      "\tTest count Pearson: 0.240208\n",
      "\tTest count Spearman: 0.256843\n",
      "\tTest count MSE: 0.464291\n",
      "\tTest profile NLL: 105.264195\n",
      "\tTest profile cross entropy: 4.915599\n",
      "\tTest profile JSD: 0.385930\n",
      "\tTest profile Pearson: 0.261097\n",
      "\tTest profile Spearman: 0.284532\n",
      "\tTest profile MSE: 0.000018\n",
      "\tTest count Pearson: 0.080714\n",
      "\tTest count Spearman: 0.074546\n",
      "\tTest count MSE: 1.259022\n",
      "\tTest profile NLL: 108.985590\n",
      "\tTest profile cross entropy: 4.927361\n",
      "\tTest profile JSD: 0.384534\n",
      "\tTest profile Pearson: 0.261114\n",
      "\tTest profile Spearman: 0.283138\n",
      "\tTest profile MSE: 0.000018\n",
      "\tTest count Pearson: 0.091329\n",
      "\tTest count Spearman: 0.082664\n",
      "\tTest count MSE: 1.289953\n",
      "\tTest profile NLL: 25.587210\n",
      "\tTest profile cross entropy: 5.166349\n",
      "\tTest profile JSD: 0.497880\n",
      "\tTest profile Pearson: 0.153546\n",
      "\tTest profile Spearman: 0.171600\n",
      "\tTest profile MSE: 0.000025\n",
      "\tTest count Pearson: -0.006213\n",
      "\tTest count Spearman: -0.018478\n",
      "\tTest count MSE: 2.281631\n",
      "\tTest profile NLL: 39.343034\n",
      "\tTest profile cross entropy: 5.194243\n",
      "\tTest profile JSD: 0.470194\n",
      "\tTest profile Pearson: 0.167986\n",
      "\tTest profile Spearman: 0.178369\n",
      "\tTest profile MSE: 0.000021\n",
      "\tTest count Pearson: 0.211839\n",
      "\tTest count Spearman: 0.209289\n",
      "\tTest count MSE: 1.411059\n"
     ]
    }
   ],
   "source": [
    "# save metrics\n",
    "# only need to run once\n",
    "for i in range(len(path_ids)):\n",
    "    path_id = path_ids[i]\n",
    "    save_path = save_paths[i]\n",
    "    for key in keys:\n",
    "        preds_dict = all_preds_dict[path_id][key]\n",
    "        true_profs, log_pred_profs, true_counts, log_pred_counts = \\\n",
    "        preds_dict['true_profs'], preds_dict['log_pred_profs'], preds_dict['true_counts'], preds_dict['log_pred_counts']\n",
    "        metrics = profile_performance.compute_performance_metrics(\n",
    "                true_profs, log_pred_profs, true_counts, log_pred_counts,\n",
    "                prof_smooth_kernel_sigma=7, prof_smooth_kernel_width=81, print_updates=False\n",
    "            )\n",
    "\n",
    "        pickle.dump(profile_performance.log_performance_metrics(metrics), open(save_path + key + '_metrics.pkl', 'wb'))"
   ]
  },
  {
   "cell_type": "markdown",
   "id": "94349bf6-712e-4557-bd74-f84006700607",
   "metadata": {},
   "source": [
    "## Load metrics into pretty dataframe :]"
   ]
  },
  {
   "cell_type": "code",
   "execution_count": 6,
   "id": "e11e4eeb-6831-4f39-9f52-be0da639bd6c",
   "metadata": {},
   "outputs": [],
   "source": [
    "pickles = []\n",
    "ids = []\n",
    "for i in range(len(path_ids)):\n",
    "    path_id = path_ids[i]\n",
    "    save_path = save_paths[i]\n",
    "    for key in keys:\n",
    "        pickles.append(save_path + key + '_metrics.pkl')\n",
    "        ids.append(path_id + ' on ' + ' '.join(key.split('_')[:-1]) + ' peaks')"
   ]
  },
  {
   "cell_type": "code",
   "execution_count": 9,
   "id": "8e393089-c61a-49b6-9dbf-677900743477",
   "metadata": {
    "jupyter": {
     "source_hidden": true
    },
    "tags": []
   },
   "outputs": [],
   "source": [
    "# OLD, WITHOUT MULTI-INDEXING\n",
    "metrics = load_metrics(pickles, ids, multiindexing=False)\n",
    "\n",
    "metrics = metrics.append(load_metrics(['/home/katie/bp_repo/pipeline_outputs/ctcf_chipseq_jul6/metrics.pkl',\n",
    "              '/home/katie/bp_repo/pipeline_outputs/ctcf_cutnrun_jul6/metrics.pkl',\n",
    "              '/home/katie/bp_repo/pipeline_outputs/fosl2_chipseq_jul6/metrics.pkl',\n",
    "              '/home/katie/bp_repo/pipeline_outputs/fosl2_cutnrun_jul6/metrics.pkl'],\n",
    "             ['CTCF chip-seq model on all test peaks', 'CTCF cutnrun model on all test peaks', \n",
    "              'FOSL2 chip-seq model on all test peaks', 'FOSL2 cutnrun model on all test peaks'], multiindexing=False))"
   ]
  },
  {
   "cell_type": "code",
   "execution_count": 129,
   "id": "e5152ff0-8d20-4d43-abb1-de43fa079d75",
   "metadata": {
    "collapsed": true,
    "jupyter": {
     "outputs_hidden": true
    },
    "tags": []
   },
   "outputs": [
    {
     "name": "stdout",
     "output_type": "stream",
     "text": [
      "CTCF/chip-seq_model/shared_chip_loader_metrics.pkl\n",
      "('CTCF chip-seq model', 'shared chip loader')\n",
      "\n",
      "\n",
      "\n",
      "/CTCF/chip-seq_model/shared_cut_loader_metrics.pkl\n",
      "('CTCF chip-seq model', 'shared cut loader')\n",
      "\n",
      "\n",
      "\n",
      "CTCF/chip-seq_model/unique_chip_loader_metrics.pkl\n",
      "('CTCF chip-seq model', 'unique chip loader')\n",
      "\n",
      "\n",
      "\n",
      "/CTCF/chip-seq_model/unique_cut_loader_metrics.pkl\n",
      "('CTCF chip-seq model', 'unique cut loader')\n",
      "\n",
      "\n",
      "\n",
      "/CTCF/cutnrun_model/shared_chip_loader_metrics.pkl\n",
      "('CTCF cutnrun model', 'shared chip loader')\n",
      "\n",
      "\n",
      "\n",
      "t/CTCF/cutnrun_model/shared_cut_loader_metrics.pkl\n",
      "('CTCF cutnrun model', 'shared cut loader')\n",
      "\n",
      "\n",
      "\n",
      "/CTCF/cutnrun_model/unique_chip_loader_metrics.pkl\n",
      "('CTCF cutnrun model', 'unique chip loader')\n",
      "\n",
      "\n",
      "\n",
      "t/CTCF/cutnrun_model/unique_cut_loader_metrics.pkl\n",
      "('CTCF cutnrun model', 'unique cut loader')\n",
      "\n",
      "\n",
      "\n",
      "OSL2/chip-seq_model/shared_chip_loader_metrics.pkl\n",
      "('FOSL2 chip-seq model', 'shared chip loader')\n",
      "\n",
      "\n",
      "\n",
      "FOSL2/chip-seq_model/shared_cut_loader_metrics.pkl\n",
      "('FOSL2 chip-seq model', 'shared cut loader')\n",
      "\n",
      "\n",
      "\n",
      "OSL2/chip-seq_model/unique_chip_loader_metrics.pkl\n",
      "('FOSL2 chip-seq model', 'unique chip loader')\n",
      "\n",
      "\n",
      "\n",
      "FOSL2/chip-seq_model/unique_cut_loader_metrics.pkl\n",
      "('FOSL2 chip-seq model', 'unique cut loader')\n",
      "\n",
      "\n",
      "\n",
      "FOSL2/cutnrun_model/shared_chip_loader_metrics.pkl\n",
      "('FOSL2 cutnrun model', 'shared chip loader')\n",
      "\n",
      "\n",
      "\n",
      "/FOSL2/cutnrun_model/shared_cut_loader_metrics.pkl\n",
      "('FOSL2 cutnrun model', 'shared cut loader')\n",
      "\n",
      "\n",
      "\n",
      "FOSL2/cutnrun_model/unique_chip_loader_metrics.pkl\n",
      "('FOSL2 cutnrun model', 'unique chip loader')\n",
      "\n",
      "\n",
      "\n",
      "/FOSL2/cutnrun_model/unique_cut_loader_metrics.pkl\n",
      "('FOSL2 cutnrun model', 'unique cut loader')\n",
      "\n",
      "\n",
      "\n",
      "epo/pipeline_outputs/ctcf_chipseq_jul6/metrics.pkl\n",
      "('CTCF chip-seq model', 'all test peaks')\n",
      "\n",
      "\n",
      "\n",
      "epo/pipeline_outputs/ctcf_cutnrun_jul6/metrics.pkl\n",
      "('CTCF cutnrun model', 'all test peaks')\n",
      "\n",
      "\n",
      "\n",
      "po/pipeline_outputs/fosl2_chipseq_jul6/metrics.pkl\n",
      "('FOSL2 chip-seq model', 'all test peaks')\n",
      "\n",
      "\n",
      "\n",
      "po/pipeline_outputs/fosl2_cutnrun_jul6/metrics.pkl\n",
      "('FOSL2 cutnrun model', 'all test peaks')\n",
      "\n",
      "\n",
      "\n"
     ]
    }
   ],
   "source": [
    "metrics = load_metrics(pickles, [path_ids, list(' '.join(key.split('_')) for key in keys)], multiindexing=True)\n",
    "metrics = pd.concat([metrics, load_metrics(['/home/katie/bp_repo/pipeline_outputs/ctcf_chipseq_jul6/metrics.pkl',\n",
    "              '/home/katie/bp_repo/pipeline_outputs/ctcf_cutnrun_jul6/metrics.pkl',\n",
    "              '/home/katie/bp_repo/pipeline_outputs/fosl2_chipseq_jul6/metrics.pkl',\n",
    "              '/home/katie/bp_repo/pipeline_outputs/fosl2_cutnrun_jul6/metrics.pkl'],\n",
    "             [path_ids, ['all test peaks']], multiindexing=True)]).sort_index()\n",
    "metrics = metrics.astype(float).round(2)"
   ]
  },
  {
   "cell_type": "code",
   "execution_count": 131,
   "id": "2c853b1a-4aab-4255-9ab9-5b1d53e9e814",
   "metadata": {},
   "outputs": [
    {
     "data": {
      "text/html": [
       "<div>\n",
       "<style scoped>\n",
       "    .dataframe tbody tr th:only-of-type {\n",
       "        vertical-align: middle;\n",
       "    }\n",
       "\n",
       "    .dataframe tbody tr th {\n",
       "        vertical-align: top;\n",
       "    }\n",
       "\n",
       "    .dataframe thead th {\n",
       "        text-align: right;\n",
       "    }\n",
       "</style>\n",
       "<table border=\"1\" class=\"dataframe\">\n",
       "  <thead>\n",
       "    <tr style=\"text-align: right;\">\n",
       "      <th></th>\n",
       "      <th></th>\n",
       "      <th>Test profile NLL</th>\n",
       "      <th>Test profile cross entropy</th>\n",
       "      <th>Test profile JSD</th>\n",
       "      <th>Test profile Pearson</th>\n",
       "      <th>Test profile Spearman</th>\n",
       "      <th>Test profile MSE</th>\n",
       "      <th>Test count Pearson</th>\n",
       "      <th>Test count Spearman</th>\n",
       "      <th>Test count MSE</th>\n",
       "    </tr>\n",
       "  </thead>\n",
       "  <tbody>\n",
       "    <tr>\n",
       "      <th rowspan=\"5\" valign=\"top\">FOSL2 chip-seq model</th>\n",
       "      <th>all test peaks</th>\n",
       "      <td>277.32</td>\n",
       "      <td>6.51</td>\n",
       "      <td>0.12</td>\n",
       "      <td>0.62</td>\n",
       "      <td>0.53</td>\n",
       "      <td>0.0</td>\n",
       "      <td>0.60</td>\n",
       "      <td>0.59</td>\n",
       "      <td>0.32</td>\n",
       "    </tr>\n",
       "    <tr>\n",
       "      <th>shared chip loader</th>\n",
       "      <td>302.25</td>\n",
       "      <td>6.50</td>\n",
       "      <td>0.11</td>\n",
       "      <td>0.64</td>\n",
       "      <td>0.55</td>\n",
       "      <td>0.0</td>\n",
       "      <td>0.10</td>\n",
       "      <td>0.07</td>\n",
       "      <td>0.91</td>\n",
       "    </tr>\n",
       "    <tr>\n",
       "      <th>shared cut loader</th>\n",
       "      <td>305.05</td>\n",
       "      <td>6.50</td>\n",
       "      <td>0.11</td>\n",
       "      <td>0.64</td>\n",
       "      <td>0.55</td>\n",
       "      <td>0.0</td>\n",
       "      <td>0.11</td>\n",
       "      <td>0.07</td>\n",
       "      <td>0.94</td>\n",
       "    </tr>\n",
       "    <tr>\n",
       "      <th>unique chip loader</th>\n",
       "      <td>183.83</td>\n",
       "      <td>6.56</td>\n",
       "      <td>0.16</td>\n",
       "      <td>0.53</td>\n",
       "      <td>0.45</td>\n",
       "      <td>0.0</td>\n",
       "      <td>0.01</td>\n",
       "      <td>0.00</td>\n",
       "      <td>0.18</td>\n",
       "    </tr>\n",
       "    <tr>\n",
       "      <th>unique cut loader</th>\n",
       "      <td>139.04</td>\n",
       "      <td>6.85</td>\n",
       "      <td>0.23</td>\n",
       "      <td>0.25</td>\n",
       "      <td>0.27</td>\n",
       "      <td>0.0</td>\n",
       "      <td>0.24</td>\n",
       "      <td>0.26</td>\n",
       "      <td>0.46</td>\n",
       "    </tr>\n",
       "    <tr>\n",
       "      <th rowspan=\"5\" valign=\"top\">FOSL2 cutnrun model</th>\n",
       "      <th>all test peaks</th>\n",
       "      <td>79.44</td>\n",
       "      <td>5.03</td>\n",
       "      <td>0.42</td>\n",
       "      <td>0.22</td>\n",
       "      <td>0.24</td>\n",
       "      <td>0.0</td>\n",
       "      <td>0.15</td>\n",
       "      <td>0.14</td>\n",
       "      <td>1.34</td>\n",
       "    </tr>\n",
       "    <tr>\n",
       "      <th>shared chip loader</th>\n",
       "      <td>105.26</td>\n",
       "      <td>4.92</td>\n",
       "      <td>0.39</td>\n",
       "      <td>0.26</td>\n",
       "      <td>0.28</td>\n",
       "      <td>0.0</td>\n",
       "      <td>0.08</td>\n",
       "      <td>0.07</td>\n",
       "      <td>1.26</td>\n",
       "    </tr>\n",
       "    <tr>\n",
       "      <th>shared cut loader</th>\n",
       "      <td>108.99</td>\n",
       "      <td>4.93</td>\n",
       "      <td>0.38</td>\n",
       "      <td>0.26</td>\n",
       "      <td>0.28</td>\n",
       "      <td>0.0</td>\n",
       "      <td>0.09</td>\n",
       "      <td>0.08</td>\n",
       "      <td>1.29</td>\n",
       "    </tr>\n",
       "    <tr>\n",
       "      <th>unique chip loader</th>\n",
       "      <td>25.59</td>\n",
       "      <td>5.17</td>\n",
       "      <td>0.50</td>\n",
       "      <td>0.15</td>\n",
       "      <td>0.17</td>\n",
       "      <td>0.0</td>\n",
       "      <td>-0.01</td>\n",
       "      <td>-0.02</td>\n",
       "      <td>2.28</td>\n",
       "    </tr>\n",
       "    <tr>\n",
       "      <th>unique cut loader</th>\n",
       "      <td>39.34</td>\n",
       "      <td>5.19</td>\n",
       "      <td>0.47</td>\n",
       "      <td>0.17</td>\n",
       "      <td>0.18</td>\n",
       "      <td>0.0</td>\n",
       "      <td>0.21</td>\n",
       "      <td>0.21</td>\n",
       "      <td>1.41</td>\n",
       "    </tr>\n",
       "  </tbody>\n",
       "</table>\n",
       "</div>"
      ],
      "text/plain": [
       "                                         Test profile NLL  \\\n",
       "FOSL2 chip-seq model all test peaks                277.32   \n",
       "                     shared chip loader            302.25   \n",
       "                     shared cut loader             305.05   \n",
       "                     unique chip loader            183.83   \n",
       "                     unique cut loader             139.04   \n",
       "FOSL2 cutnrun model  all test peaks                 79.44   \n",
       "                     shared chip loader            105.26   \n",
       "                     shared cut loader             108.99   \n",
       "                     unique chip loader             25.59   \n",
       "                     unique cut loader              39.34   \n",
       "\n",
       "                                         Test profile cross entropy  \\\n",
       "FOSL2 chip-seq model all test peaks                            6.51   \n",
       "                     shared chip loader                        6.50   \n",
       "                     shared cut loader                         6.50   \n",
       "                     unique chip loader                        6.56   \n",
       "                     unique cut loader                         6.85   \n",
       "FOSL2 cutnrun model  all test peaks                            5.03   \n",
       "                     shared chip loader                        4.92   \n",
       "                     shared cut loader                         4.93   \n",
       "                     unique chip loader                        5.17   \n",
       "                     unique cut loader                         5.19   \n",
       "\n",
       "                                         Test profile JSD  \\\n",
       "FOSL2 chip-seq model all test peaks                  0.12   \n",
       "                     shared chip loader              0.11   \n",
       "                     shared cut loader               0.11   \n",
       "                     unique chip loader              0.16   \n",
       "                     unique cut loader               0.23   \n",
       "FOSL2 cutnrun model  all test peaks                  0.42   \n",
       "                     shared chip loader              0.39   \n",
       "                     shared cut loader               0.38   \n",
       "                     unique chip loader              0.50   \n",
       "                     unique cut loader               0.47   \n",
       "\n",
       "                                         Test profile Pearson  \\\n",
       "FOSL2 chip-seq model all test peaks                      0.62   \n",
       "                     shared chip loader                  0.64   \n",
       "                     shared cut loader                   0.64   \n",
       "                     unique chip loader                  0.53   \n",
       "                     unique cut loader                   0.25   \n",
       "FOSL2 cutnrun model  all test peaks                      0.22   \n",
       "                     shared chip loader                  0.26   \n",
       "                     shared cut loader                   0.26   \n",
       "                     unique chip loader                  0.15   \n",
       "                     unique cut loader                   0.17   \n",
       "\n",
       "                                         Test profile Spearman  \\\n",
       "FOSL2 chip-seq model all test peaks                       0.53   \n",
       "                     shared chip loader                   0.55   \n",
       "                     shared cut loader                    0.55   \n",
       "                     unique chip loader                   0.45   \n",
       "                     unique cut loader                    0.27   \n",
       "FOSL2 cutnrun model  all test peaks                       0.24   \n",
       "                     shared chip loader                   0.28   \n",
       "                     shared cut loader                    0.28   \n",
       "                     unique chip loader                   0.17   \n",
       "                     unique cut loader                    0.18   \n",
       "\n",
       "                                         Test profile MSE  Test count Pearson  \\\n",
       "FOSL2 chip-seq model all test peaks                   0.0                0.60   \n",
       "                     shared chip loader               0.0                0.10   \n",
       "                     shared cut loader                0.0                0.11   \n",
       "                     unique chip loader               0.0                0.01   \n",
       "                     unique cut loader                0.0                0.24   \n",
       "FOSL2 cutnrun model  all test peaks                   0.0                0.15   \n",
       "                     shared chip loader               0.0                0.08   \n",
       "                     shared cut loader                0.0                0.09   \n",
       "                     unique chip loader               0.0               -0.01   \n",
       "                     unique cut loader                0.0                0.21   \n",
       "\n",
       "                                         Test count Spearman  Test count MSE  \n",
       "FOSL2 chip-seq model all test peaks                     0.59            0.32  \n",
       "                     shared chip loader                 0.07            0.91  \n",
       "                     shared cut loader                  0.07            0.94  \n",
       "                     unique chip loader                 0.00            0.18  \n",
       "                     unique cut loader                  0.26            0.46  \n",
       "FOSL2 cutnrun model  all test peaks                     0.14            1.34  \n",
       "                     shared chip loader                 0.07            1.26  \n",
       "                     shared cut loader                  0.08            1.29  \n",
       "                     unique chip loader                -0.02            2.28  \n",
       "                     unique cut loader                  0.21            1.41  "
      ]
     },
     "execution_count": 131,
     "metadata": {},
     "output_type": "execute_result"
    }
   ],
   "source": [
    "metrics.loc['FOSL2 chip-seq model':'FOSL2 cutnrun model',:]"
   ]
  }
 ],
 "metadata": {
  "kernelspec": {
   "display_name": "Python 3 (ipykernel)",
   "language": "python",
   "name": "python3"
  },
  "language_info": {
   "codemirror_mode": {
    "name": "ipython",
    "version": 3
   },
   "file_extension": ".py",
   "mimetype": "text/x-python",
   "name": "python",
   "nbconvert_exporter": "python",
   "pygments_lexer": "ipython3",
   "version": "3.9.7"
  }
 },
 "nbformat": 4,
 "nbformat_minor": 5
}
