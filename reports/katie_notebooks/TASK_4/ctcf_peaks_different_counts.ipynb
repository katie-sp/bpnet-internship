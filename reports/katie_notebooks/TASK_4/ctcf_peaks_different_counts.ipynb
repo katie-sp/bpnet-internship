{
 "cells": [
  {
   "cell_type": "markdown",
   "id": "0a8f542a-37d2-4c99-91ce-0daa11c4129f",
   "metadata": {},
   "source": [
    "# 4. Compare the peaks where ChIP-seq and CUT&RUN share peaks, but have significantly different total counts"
   ]
  },
  {
   "cell_type": "code",
   "execution_count": 50,
   "id": "0305fa91-92f0-4c7f-8669-491f9f7852e7",
   "metadata": {},
   "outputs": [
    {
     "name": "stderr",
     "output_type": "stream",
     "text": [
      "/tmp/ipykernel_6968/1013105652.py:14: TqdmDeprecationWarning: This function will be removed in tqdm==5.0.0\n",
      "Please use `tqdm.notebook.tqdm` instead of `tqdm.tqdm_notebook`\n",
      "  tqdm.tqdm_notebook()\n"
     ]
    },
    {
     "data": {
      "application/vnd.jupyter.widget-view+json": {
       "model_id": "d9407d2776634c98834465629e080dd1",
       "version_major": 2,
       "version_minor": 0
      },
      "text/plain": [
       "0it [00:00, ?it/s]"
      ]
     },
     "metadata": {},
     "output_type": "display_data"
    }
   ],
   "source": [
    "import os\n",
    "os.chdir('/home/katie/bp_repo/reports/')\n",
    "\n",
    "from util import import_shap_scores, import_peak_table, import_profiles, import_tfmodisco_results\n",
    "from util import trim_motif_by_ic\n",
    "from util import figure_to_vdom_image\n",
    "import h5py\n",
    "import numpy as np\n",
    "import pandas as pd\n",
    "import matplotlib.pyplot as plt\n",
    "import matplotlib.font_manager as font_manager\n",
    "from IPython.display import display\n",
    "import tqdm\n",
    "tqdm.tqdm_notebook()\n",
    "\n",
    "plt.rcParams[\"figure.dpi\"] = 130"
   ]
  },
  {
   "cell_type": "markdown",
   "id": "90d2d546-3016-41c5-ab4a-eca024cbb6fa",
   "metadata": {},
   "source": [
    "## Preliminaries"
   ]
  },
  {
   "cell_type": "markdown",
   "id": "2f18d766-7e03-4b8f-ad27-34a58b9a7bcb",
   "metadata": {},
   "source": [
    "1) Find ChIP-seq peaks that overlap CUT&RUN peaks, and vice versa\n",
    "\n",
    "2) Load in true total counts arrays"
   ]
  },
  {
   "cell_type": "code",
   "execution_count": 2,
   "id": "31fab7ec-4ee2-4f48-8b73-cd8d59baa9e8",
   "metadata": {},
   "outputs": [
    {
     "data": {
      "application/vnd.jupyter.widget-view+json": {
       "model_id": "268036625adb4505aa585b8ad265916c",
       "version_major": 2,
       "version_minor": 0
      },
      "text/plain": [
       "Importing predictions:   0%|          | 0/72 [00:00<?, ?it/s]"
      ]
     },
     "metadata": {},
     "output_type": "display_data"
    },
    {
     "data": {
      "application/vnd.jupyter.widget-view+json": {
       "model_id": "e24566993439460888c6b6bf26a39398",
       "version_major": 2,
       "version_minor": 0
      },
      "text/plain": [
       "Importing predictions:   0%|          | 0/109 [00:00<?, ?it/s]"
      ]
     },
     "metadata": {},
     "output_type": "display_data"
    }
   ],
   "source": [
    "# THE COORDS FOR THE SHAP AND PREDS HDF5s ARE THE  * S A M E *  YES I CHECKED!\n",
    "\n",
    "# Import the set of all profiles and their coordinates - SAME FOR COUNTS HEAD AS FOR PROFILE HEAD, D U H !!!!\n",
    "# EXACTLY SAME AS IMPORTING THE ORIGINAL HDF5 FROM PIPELINE_OUTPUTS   YES I CHECKED\n",
    "true_profs_chip, pred_profs_chip, all_pred_coords_chip = import_profiles('/home/katie/bp_repo/pipeline_outputs/ctcf_chipseq_feb7/preds')\n",
    "true_profs_cut, pred_profs_cut, all_pred_coords_cut = import_profiles('/home/katie/bp_repo/pipeline_outputs/ctcf_cutnrun_feb7/preds')\n",
    "\n",
    "# load in shared peaks\n",
    "chip_peaks_shared_cut = import_peak_table(['/home/katie/bp_repo/reports/katie_notebooks/assay_peaks_overlap/CTCF_unique_chip_with_any_cutnrun_overlap'])\n",
    "cut_peaks_shared_chip = import_peak_table(['/home/katie/bp_repo/reports/katie_notebooks/assay_peaks_overlap/CTCF_unique_cutnrun_with_any_chip_overlap'])\n",
    "\n",
    "# redo peak name in chipseq to get rid of \"Peak_\" and to reindex name (peak) column to 0-indexed\n",
    "chip_peaks_shared_cut.name = chip_peaks_shared_cut.name.replace('Peak_','', regex=True).astype(int)\n",
    "chip_peaks_shared_cut.name -= 1\n",
    "\n"
   ]
  },
  {
   "cell_type": "markdown",
   "id": "09733673-b1c5-4388-a451-051d068de946",
   "metadata": {},
   "source": [
    "3. Drop duplicates so each row corresponds to each peak of the peak table (+ issues with chrM and chrY that I need to account for). *also get the indices of the shared peaks*\n",
    "\n",
    "4. Index true counts to the shared peaks"
   ]
  },
  {
   "cell_type": "code",
   "execution_count": 3,
   "id": "e0ee3db7-285b-4ce3-81e4-c750861b9cbd",
   "metadata": {},
   "outputs": [],
   "source": [
    "# create dataframes with unique coords (drop duplicates)\n",
    "all_pred_coords_chip_df = pd.DataFrame(all_pred_coords_chip, columns=['chrom','peak_start','peak_end']).drop_duplicates()  # lacks chrX\n",
    "all_pred_coords_cut_df = pd.DataFrame(all_pred_coords_cut, columns=['chrom','peak_start','peak_end']).drop_duplicates() # lacks chrM \n",
    "\n"
   ]
  },
  {
   "cell_type": "code",
   "execution_count": 4,
   "id": "67b11bf5-5ed3-4605-9969-98d3d9f400e0",
   "metadata": {},
   "outputs": [],
   "source": [
    "# boolean array of duplicated values, for indexing later\n",
    "chip_dups = pd.DataFrame(all_pred_coords_chip, columns=['chrom','peak_start','peak_end']).duplicated()\n",
    "cut_dups = pd.DataFrame(all_pred_coords_cut, columns=['chrom','peak_start','peak_end']).duplicated()"
   ]
  },
  {
   "cell_type": "code",
   "execution_count": 5,
   "id": "5502a835-9417-437f-8547-eee9a9316132",
   "metadata": {},
   "outputs": [],
   "source": [
    "# load in true counts\n",
    "true_counts_chip = np.array(h5py.File('/home/katie/bp_repo/pipeline_outputs/ctcf_chipseq_feb7/preds', 'r')['predictions']['true_counts'])\n",
    "true_counts_cut = np.array(h5py.File('/home/katie/bp_repo/pipeline_outputs/ctcf_cutnrun_feb7/preds', 'r')['predictions']['true_counts'])\n",
    "\n",
    "# index true counts according to unique rows (from cell above)\n",
    "true_counts_chip = true_counts_chip[~chip_dups]\n",
    "true_counts_cut = true_counts_cut[~cut_dups]"
   ]
  },
  {
   "cell_type": "code",
   "execution_count": 6,
   "id": "42496a59-6126-4647-916a-a48da6cc8866",
   "metadata": {},
   "outputs": [],
   "source": [
    "chip_peaks = import_peak_table(['/home/katie/bp_repo/research/data/chip-seq/CTCF/CTCF.bed'])\n",
    "cut_peaks = import_peak_table(['/home/katie/bp_repo/research/data/cutnrun/CTCF/CTCF.bed'])\n",
    "\n",
    "# redo peak name in chipseq to get rid of \"Peak_\" and to reindex name (peak) column to 0-indexed\n",
    "chip_peaks.name = chip_peaks.name.replace('Peak_','', regex=True).astype(int)\n",
    "chip_peaks.name -= 1"
   ]
  },
  {
   "cell_type": "code",
   "execution_count": 7,
   "id": "854f95ad-0193-46ec-a1a0-24a2a16e8314",
   "metadata": {},
   "outputs": [],
   "source": [
    "# find indexes where original peak files contain chrM or chrY\n",
    "chip_chrY_inds = chip_peaks.loc[chip_peaks.chrom == 'chrY'].index   # get rid of peak_ before index. use name column bc it's 1-indexed\n",
    "cut_chrM_inds = cut_peaks.loc[cut_peaks.chrom == 'chrM'].index"
   ]
  },
  {
   "cell_type": "code",
   "execution_count": 8,
   "id": "c56f4402-9b39-49f3-b915-cd03a1fb956f",
   "metadata": {},
   "outputs": [],
   "source": [
    "true_counts_chip_padded = true_counts_chip\n",
    "for ind in chip_chrY_inds:\n",
    "    true_counts_chip_padded = np.insert(true_counts_chip_padded, ind, np.array([0, 0]).reshape((1,2)), axis=0)\n",
    "    \n",
    "true_counts_cut_padded = true_counts_cut\n",
    "for ind in cut_chrM_inds:\n",
    "    true_counts_cut_padded = np.insert(true_counts_cut_padded, ind, np.array([0, 0]).reshape((1,2)), axis=0)"
   ]
  },
  {
   "cell_type": "code",
   "execution_count": 9,
   "id": "95aa6361-ebd7-41f5-a2a7-3a5bfb27387b",
   "metadata": {},
   "outputs": [],
   "source": [
    "all_pred_coords_chip_padded = np.array(all_pred_coords_chip_df)\n",
    "for ind in chip_chrY_inds:\n",
    "    all_pred_coords_chip_padded = np.insert(all_pred_coords_chip_padded, ind, np.array([0, 0, 0]).reshape((1,3)), axis=0)\n",
    "    \n",
    "all_pred_coords_cut_padded = np.array(all_pred_coords_cut_df)\n",
    "for ind in cut_chrM_inds:\n",
    "    all_pred_coords_cut_padded = np.insert(all_pred_coords_cut_padded, ind, np.array([0, 0, 0]).reshape((1,3)), axis=0)"
   ]
  },
  {
   "cell_type": "code",
   "execution_count": 11,
   "id": "76319e90-873f-43ad-8983-6cc0954f8624",
   "metadata": {
    "tags": []
   },
   "outputs": [],
   "source": [
    "# index everything to the shared peaks\n",
    "# these contain no chrM or chrY\n",
    "\n",
    "shared_true_counts_chip = true_counts_chip_padded[chip_peaks_shared_cut.name]   # len 30822\n",
    "shared_true_counts_cut = true_counts_cut_padded[cut_peaks_shared_chip.name]     # len 29980\n",
    "\n",
    "shared_pred_coords_chip_df = pd.DataFrame(all_pred_coords_chip_padded).iloc[chip_peaks_shared_cut.name,:] # len 30822\n",
    "shared_pred_coords_cut_df = pd.DataFrame(all_pred_coords_cut_padded).iloc[cut_peaks_shared_chip.name,:]   # len 29980"
   ]
  },
  {
   "cell_type": "markdown",
   "id": "f3302698-9a76-4c62-b0ae-6a47bd5cf2df",
   "metadata": {},
   "source": [
    "5. Calculate 80th percentile counts. *sum across strands, so by “significantly different total counts” we mean compared to the average FOR THAT ASSAY’S PEAKS as opposed to relative to another assay*"
   ]
  },
  {
   "cell_type": "code",
   "execution_count": 12,
   "id": "9e1d0f96-5ba5-4c7e-b5a3-a1d28fd6aac4",
   "metadata": {},
   "outputs": [],
   "source": [
    "# sum along strand\n",
    "summed_true_counts_chip = np.sum(shared_true_counts_chip, axis=2).reshape(-1)\n",
    "summed_true_counts_cut = np.sum(shared_true_counts_cut, axis=2).reshape(-1)\n",
    "\n",
    "# compute 80th percentile summed number of counts\n",
    "chip_counts_80perc = np.quantile(summed_true_counts_chip, 0.8)  # 255.0\n",
    "cut_counts_80perc = np.quantile(summed_true_counts_cut, 0.8)    # 513.0"
   ]
  },
  {
   "cell_type": "markdown",
   "id": "f4484244-8d11-4ff1-b54f-07c57ef1dd64",
   "metadata": {},
   "source": [
    "6. Once I have my ChIP-seq peaks and CUT&RUN peaks, subset the count motif hits to these peaks"
   ]
  },
  {
   "cell_type": "code",
   "execution_count": 14,
   "id": "1ba49d68-b08f-453f-bcff-6a51a950e274",
   "metadata": {},
   "outputs": [],
   "source": [
    "chip_hits = import_peak_table(['/home/katie/bp_repo/reports/tfm_hits/CTCF/chipseq_jan23_COUNTS_HEAD/tfm_matches.bed']) # 105829 hits\n",
    "cut_hits = import_peak_table(['/home/katie/bp_repo/reports/tfm_hits/CTCF/cutnrun_jan9_COUNTS_HEAD/tfm_matches.bed'])   # 86572 hits"
   ]
  },
  {
   "cell_type": "code",
   "execution_count": 36,
   "id": "1c2829d5-a8c3-4399-bb44-42ce2ec38796",
   "metadata": {},
   "outputs": [],
   "source": [
    "shared_chip_hits = chip_hits.loc[chip_hits.strand.isin(chip_peaks_shared_cut.name.unique())]  # 90,251 = 85.3%\n",
    "shared_cut_hits = cut_hits.loc[cut_hits.strand.isin(cut_peaks_shared_chip.name.unique())]     # 63,325  73.1%"
   ]
  },
  {
   "cell_type": "markdown",
   "id": "85b482b2-82e3-481c-9181-54d373607672",
   "metadata": {},
   "source": [
    "## a) For the motifs in the count head, are there different motif hit distributions in these peaks?"
   ]
  },
  {
   "cell_type": "markdown",
   "id": "b6562090-8db8-4fca-8732-b2c8951fbd7d",
   "metadata": {},
   "source": [
    "7. Plot motif hit distributions in the subsetted peaks AND in the total pool of peaks"
   ]
  },
  {
   "cell_type": "code",
   "execution_count": 62,
   "id": "8a349b24-4289-4e8a-8b85-71c7e71a53f7",
   "metadata": {},
   "outputs": [
    {
     "data": {
      "image/png": "[encoded data removed]",
      "text/plain": [
       "<Figure size 780x520 with 1 Axes>"
      ]
     },
     "metadata": {
      "needs_background": "light"
     },
     "output_type": "display_data"
    }
   ],
   "source": [
    "labels = ['CUT&RUN','ChIP-seq']\n",
    "all_peaks = [len(cut_hits), len(chip_hits)]\n",
    "shared_peaks = [len(shared_cut_hits), len(shared_chip_hits)]\n",
    "\n",
    "x = np.arange(len(labels))  # the label locations\n",
    "width = 0.35  # the width of the bars\n",
    "\n",
    "fig, ax = plt.subplots()\n",
    "rects1 = ax.bar(x - width/2, all_peaks, width, label='All peaks')\n",
    "rects2 = ax.bar(x + width/2, shared_peaks, width, label='Shared peaks')\n",
    "\n",
    "# Add some text for labels, title and custom x-axis tick labels, etc.\n",
    "ax.set_ylabel('Number of hits in given set of peaks')\n",
    "ax.set_title('CTCF motif hits in all vs. shared peaks')\n",
    "ax.set_xticks(x, labels)\n",
    "ax.legend()\n",
    "\n",
    "ax.bar_label(rects1, padding=0)\n",
    "ax.bar_label(rects2, padding=0)\n",
    "\n",
    "fig.tight_layout()\n",
    "\n",
    "plt.show()"
   ]
  },
  {
   "cell_type": "markdown",
   "id": "4308ba12-6717-4260-bd48-bb43be1bf143",
   "metadata": {},
   "source": [
    "## b) Is there a correlation with other genomic features?\n",
    "\n",
    "\n",
    "NONE OF THE COMMENTED COUNTS HAVE BEEN UPDATED SO IGNORE THEM BELOWWWW"
   ]
  },
  {
   "cell_type": "markdown",
   "id": "cf9d95c2-2957-43b8-87b9-a14c931dbd41",
   "metadata": {},
   "source": [
    "8. Using bedtools intersect -u, intersect the motifs in the subsetted peaks with various genomic features’ BED files"
   ]
  },
  {
   "cell_type": "code",
   "execution_count": 71,
   "id": "a9aa57f2-d713-40a9-be51-0ed259b9c771",
   "metadata": {},
   "outputs": [],
   "source": [
    "shared_cut_hits.to_csv('/home/katie/bp_repo/reports/katie_notebooks/TASK_4/shared_cut_hits.tsv', sep='\\t', index=False)\n",
    "shared_chip_hits.to_csv('/home/katie/bp_repo/reports/katie_notebooks/TASK_4/shared_chip_hits.tsv', sep='\\t', index=False)"
   ]
  },
  {
   "cell_type": "markdown",
   "id": "c8ecb041-eeba-4ab2-9a3f-54c3ed662061",
   "metadata": {},
   "source": [
    "### DNase-seq"
   ]
  },
  {
   "cell_type": "code",
   "execution_count": null,
   "id": "294eb71c-9bf9-4130-a52c-ab8a63136b92",
   "metadata": {},
   "outputs": [],
   "source": [
    "# this only needs to be run once and saved then opened in the future as TSVs\n",
    "# os.system('bedtools intersect -u -a /home/katie/bp_repo/reports/katie_notebooks/TASK_4/CTCF/shared_cut_hits.tsv -b /home/katie/bp_repo/research/data/other-assays/A549/DNase-peaks/ENCFF128ZVL.bed.gz > /home/katie/bp_repo/reports/katie_notebooks/TASK_4/CTCF/cutnrun_shared_motif_hits_dnase_overlap')\n",
    "# os.system('bedtools intersect -u -a /home/katie/bp_repo/reports/katie_notebooks/TASK_4/CTCF/shared_chip_hits.tsv -b /home/katie/bp_repo/research/data/other-assays/A549/DNase-peaks/ENCFF128ZVL.bed.gz > /home/katie/bp_repo/reports/katie_notebooks/TASK_4/CTCF/chipseq_shared_motif_hits_dnase_overlap')\n",
    "\n",
    "cutnrun_shared_dnase_overlap = pd.read_csv('/home/katie/bp_repo/reports/katie_notebooks/TASK_4/CTCF/cutnrun_shared_motif_hits_dnase_overlap',  # 97,042 overlaps\n",
    "                                sep='\\t', header=None)\n",
    "chipseq_shared_dnase_overlap = pd.read_csv('/home/katie/bp_repo/reports/katie_notebooks/TASK_4/CTCF/chipseq_shared_motif_hits_dnase_overlap',  # 55,528 overlaps\n",
    "                                sep='\\t', header=None)"
   ]
  },
  {
   "cell_type": "markdown",
   "id": "c677e5b0-233c-4c9f-a561-42eea09e6521",
   "metadata": {},
   "source": [
    "### ATAC-seq"
   ]
  },
  {
   "cell_type": "code",
   "execution_count": 76,
   "id": "4c495e77-3b8c-4728-b539-4f37663756da",
   "metadata": {},
   "outputs": [],
   "source": [
    "# this only needs to be run once and saved then opened in the future as TSVs\n",
    "# os.system('bedtools intersect -u -a /home/katie/bp_repo/reports/katie_notebooks/TASK_4/CTCF/shared_cut_hits.tsv -b /home/katie/bp_repo/research/data/other-assays/A549/ATAC-peaks/ENCFF899OMR.bed.gz > /home/katie/bp_repo/reports/katie_notebooks/TASK_4/CTCF/cutnrun_shared_motif_hits_atac_overlap')\n",
    "# os.system('bedtools intersect -u -a /home/katie/bp_repo/reports/katie_notebooks/TASK_4/CTCF/shared_chip_hits.tsv -b /home/katie/bp_repo/research/data/other-assays/A549/ATAC-peaks/ENCFF899OMR.bed.gz > /home/katie/bp_repo/reports/katie_notebooks/TASK_4/CTCF/chipseq_shared_motif_hits_atac_overlap')\n",
    "\n",
    "cutnrun_shared_atac_overlap = pd.read_csv('/home/katie/bp_repo/reports/katie_notebooks/TASK_4/CTCF/cutnrun_shared_motif_hits_atac_overlap',  # 97,042 overlaps\n",
    "                                sep='\\t', header=None)\n",
    "chipseq_shared_atac_overlap = pd.read_csv('/home/katie/bp_repo/reports/katie_notebooks/TASK_4/CTCF/chipseq_shared_motif_hits_atac_overlap',  # 55,528 overlaps\n",
    "                                sep='\\t', header=None)"
   ]
  },
  {
   "cell_type": "markdown",
   "id": "a7d36ea7-9f94-4de8-8f2e-4b75407f754a",
   "metadata": {},
   "source": [
    "### acetylation"
   ]
  },
  {
   "cell_type": "code",
   "execution_count": 78,
   "id": "fe8f97ab-df36-44c1-8e5c-e016226abf45",
   "metadata": {},
   "outputs": [],
   "source": [
    "# this only needs to be run once and saved then opened in the future as TSVs\n",
    "# os.system('bedtools intersect -u -a /home/katie/bp_repo/reports/katie_notebooks/TASK_4/CTCF/shared_cut_hits.tsv -b /home/katie/bp_repo/research/data/other-assays/A549/H3K27ac-histone-marks/ENCFF747IZX.bed.gz > /home/katie/bp_repo/reports/katie_notebooks/TASK_4/CTCF/cutnrun_shared_motif_hits_ac_overlap')\n",
    "# os.system('bedtools intersect -u -a /home/katie/bp_repo/reports/katie_notebooks/TASK_4/CTCF/shared_chip_hits.tsv -b /home/katie/bp_repo/research/data/other-assays/A549/H3K27ac-histone-marks/ENCFF747IZX.bed.gz > /home/katie/bp_repo/reports/katie_notebooks/TASK_4/CTCF/chipseq_shared_motif_hits_ac_overlap')\n",
    "\n",
    "cutnrun_shared_ac_overlap = pd.read_csv('/home/katie/bp_repo/reports/katie_notebooks/TASK_4/CTCF/cutnrun_shared_motif_hits_ac_overlap',  # 97,042 overlaps\n",
    "                                sep='\\t', header=None)\n",
    "chipseq_shared_ac_overlap = pd.read_csv('/home/katie/bp_repo/reports/katie_notebooks/TASK_4/CTCF/chipseq_shared_motif_hits_ac_overlap',  # 55,528 overlaps\n",
    "                                sep='\\t', header=None)"
   ]
  },
  {
   "cell_type": "markdown",
   "id": "f86cc4db-a51b-4b91-9fe9-02330607d547",
   "metadata": {
    "tags": []
   },
   "source": [
    "### trimethylation"
   ]
  },
  {
   "cell_type": "code",
   "execution_count": 77,
   "id": "004b7516-9d0d-426b-a895-43ff9cdd2d34",
   "metadata": {},
   "outputs": [],
   "source": [
    "# this only needs to be run once and saved then opened in the future as TSVs\n",
    "# os.system('bedtools intersect -u -a /home/katie/bp_repo/reports/katie_notebooks/TASK_4/CTCF/shared_cut_hits.tsv -b /home/katie/bp_repo/research/data/other-assays/A549/H3K4me3-histone-marks/ENCFF535EYL.bed.gz > /home/katie/bp_repo/reports/katie_notebooks/TASK_4/CTCF/cutnrun_shared_motif_hits_me3_overlap')\n",
    "# os.system('bedtools intersect -u -a /home/katie/bp_repo/reports/katie_notebooks/TASK_4/CTCF/shared_chip_hits.tsv -b /home/katie/bp_repo/research/data/other-assays/A549/H3K4me3-histone-marks/ENCFF535EYL.bed.gz > /home/katie/bp_repo/reports/katie_notebooks/TASK_4/CTCF/chipseq_shared_motif_hits_me3_overlap')\n",
    "\n",
    "cutnrun_shared_me3_overlap = pd.read_csv('/home/katie/bp_repo/reports/katie_notebooks/TASK_4/CTCF/cutnrun_shared_motif_hits_me3_overlap',  # 97,042 overlaps\n",
    "                                sep='\\t', header=None)\n",
    "chipseq_shared_me3_overlap = pd.read_csv('/home/katie/bp_repo/reports/katie_notebooks/TASK_4/CTCF/chipseq_shared_motif_hits_me3_overlap',  # 55,528 overlaps\n",
    "                                sep='\\t', header=None)"
   ]
  },
  {
   "cell_type": "markdown",
   "id": "bcb1d3ab-b31c-4ae7-be4b-6fa8cbc9f98a",
   "metadata": {},
   "source": [
    "9. Also intersect the motifs in ALL peaks with various genomic features’ BED files"
   ]
  },
  {
   "cell_type": "markdown",
   "id": "f0756397-4fba-4882-8b8c-db77e6faff8c",
   "metadata": {},
   "source": [
    "### DNase-seq"
   ]
  },
  {
   "cell_type": "code",
   "execution_count": 81,
   "id": "a083dc77-67b3-474a-9006-92bdd60eb7dc",
   "metadata": {},
   "outputs": [],
   "source": [
    "# this only needs to be run once and saved then opened in the future as TSVs\n",
    "# os.system('bedtools intersect -u -a /home/katie/bp_repo/reports/tfm_hits/CTCF/cutnrun_jan9_COUNTS_HEAD/tfm_matches.bed -b /home/katie/bp_repo/research/data/other-assays/A549/DNase-peaks/ENCFF128ZVL.bed.gz > /home/katie/bp_repo/reports/katie_notebooks/TASK_4/CTCF/cutnrun_all_motif_hits_dnase_overlap')\n",
    "# os.system('bedtools intersect -u -a /home/katie/bp_repo/reports/tfm_hits/CTCF/chipseq_jan23_COUNTS_HEAD/tfm_matches.bed -b /home/katie/bp_repo/research/data/other-assays/A549/DNase-peaks/ENCFF128ZVL.bed.gz > /home/katie/bp_repo/reports/katie_notebooks/TASK_4/CTCF/chipseq_all_motif_hits_dnase_overlap')\n",
    "\n",
    "cutnrun_all_dnase_overlap = pd.read_csv('/home/katie/bp_repo/reports/katie_notebooks/TASK_4/CTCF/cutnrun_all_motif_hits_dnase_overlap',  # 97,042 overlaps\n",
    "                                sep='\\t', header=None)\n",
    "chipseq_all_dnase_overlap = pd.read_csv('/home/katie/bp_repo/reports/katie_notebooks/TASK_4/CTCF/chipseq_all_motif_hits_dnase_overlap',  # 55,528 overlaps\n",
    "                                sep='\\t', header=None)"
   ]
  },
  {
   "cell_type": "markdown",
   "id": "6be57c9b-2392-42a4-bf76-a643c36d851c",
   "metadata": {},
   "source": [
    "### ATAC-seq"
   ]
  },
  {
   "cell_type": "code",
   "execution_count": 82,
   "id": "0b5b16b9-b4da-40e3-b6c8-5304132abc5c",
   "metadata": {},
   "outputs": [],
   "source": [
    "# this only needs to be run once and saved then opened in the future as TSVs\n",
    "# os.system('bedtools intersect -u -a /home/katie/bp_repo/reports/tfm_hits/CTCF/cutnrun_jan9_COUNTS_HEAD/tfm_matches.bed -b /home/katie/bp_repo/research/data/other-assays/A549/ATAC-peaks/ENCFF899OMR.bed.gz > /home/katie/bp_repo/reports/katie_notebooks/TASK_4/CTCF/cutnrun_all_motif_hits_atac_overlap')\n",
    "# os.system('bedtools intersect -u -a /home/katie/bp_repo/reports/tfm_hits/CTCF/chipseq_jan23_COUNTS_HEAD/tfm_matches.bed -b /home/katie/bp_repo/research/data/other-assays/A549/ATAC-peaks/ENCFF899OMR.bed.gz > /home/katie/bp_repo/reports/katie_notebooks/TASK_4/CTCF/chipseq_all_motif_hits_atac_overlap')\n",
    "\n",
    "cutnrun_all_atac_overlap = pd.read_csv('/home/katie/bp_repo/reports/katie_notebooks/TASK_4/CTCF/cutnrun_all_motif_hits_atac_overlap',  # 97,042 overlaps\n",
    "                                sep='\\t', header=None)\n",
    "chipseq_all_atac_overlap = pd.read_csv('/home/katie/bp_repo/reports/katie_notebooks/TASK_4/CTCF/chipseq_all_motif_hits_atac_overlap',  # 55,528 overlaps\n",
    "                                sep='\\t', header=None)"
   ]
  },
  {
   "cell_type": "markdown",
   "id": "6ac6b80e-a7e1-4970-9b71-a3a553c52f64",
   "metadata": {},
   "source": [
    "### acetylation"
   ]
  },
  {
   "cell_type": "code",
   "execution_count": 83,
   "id": "0d83db48-5f61-44fe-9444-f2e334894fce",
   "metadata": {},
   "outputs": [],
   "source": [
    "# this only needs to be run once and saved then opened in the future as TSVs\n",
    "# os.system('bedtools intersect -u -a /home/katie/bp_repo/reports/tfm_hits/CTCF/cutnrun_jan9_COUNTS_HEAD/tfm_matches.bed -b /home/katie/bp_repo/research/data/other-assays/A549/H3K27ac-histone-marks/ENCFF747IZX.bed.gz > /home/katie/bp_repo/reports/katie_notebooks/TASK_4/CTCF/cutnrun_all_motif_hits_ac_overlap')\n",
    "# os.system('bedtools intersect -u -a /home/katie/bp_repo/reports/tfm_hits/CTCF/chipseq_jan23_COUNTS_HEAD/tfm_matches.bed -b /home/katie/bp_repo/research/data/other-assays/A549/H3K27ac-histone-marks/ENCFF747IZX.bed.gz > /home/katie/bp_repo/reports/katie_notebooks/TASK_4/CTCF/chipseq_all_motif_hits_ac_overlap')\n",
    "\n",
    "cutnrun_all_ac_overlap = pd.read_csv('/home/katie/bp_repo/reports/katie_notebooks/TASK_4/CTCF/cutnrun_all_motif_hits_ac_overlap',  # 97,042 overlaps\n",
    "                                sep='\\t', header=None)\n",
    "chipseq_all_ac_overlap = pd.read_csv('/home/katie/bp_repo/reports/katie_notebooks/TASK_4/CTCF/chipseq_all_motif_hits_ac_overlap',  # 55,528 overlaps\n",
    "                                sep='\\t', header=None)"
   ]
  },
  {
   "cell_type": "markdown",
   "id": "dd75b9f6-be25-41f4-80c1-41a9bcc974b1",
   "metadata": {},
   "source": [
    "### trimethylation"
   ]
  },
  {
   "cell_type": "code",
   "execution_count": 84,
   "id": "ad540a69-f722-414e-bdbb-73f75373ad4b",
   "metadata": {},
   "outputs": [],
   "source": [
    "# this only needs to be run once and saved then opened in the future as TSVs\n",
    "# os.system('bedtools intersect -u -a /home/katie/bp_repo/reports/tfm_hits/CTCF/cutnrun_jan9_COUNTS_HEAD/tfm_matches.bed -b /home/katie/bp_repo/research/data/other-assays/A549/H3K4me3-histone-marks/ENCFF535EYL.bed.gz > /home/katie/bp_repo/reports/katie_notebooks/TASK_4/CTCF/cutnrun_all_motif_hits_me3_overlap')\n",
    "# os.system('bedtools intersect -u -a /home/katie/bp_repo/reports/tfm_hits/CTCF/chipseq_jan23_COUNTS_HEAD/tfm_matches.bed -b /home/katie/bp_repo/research/data/other-assays/A549/H3K4me3-histone-marks/ENCFF535EYL.bed.gz > /home/katie/bp_repo/reports/katie_notebooks/TASK_4/CTCF/chipseq_all_motif_hits_me3_overlap')\n",
    "\n",
    "cutnrun_all_me3_overlap = pd.read_csv('/home/katie/bp_repo/reports/katie_notebooks/TASK_4/CTCF/cutnrun_all_motif_hits_me3_overlap',  # 97,042 overlaps\n",
    "                                sep='\\t', header=None)\n",
    "chipseq_all_me3_overlap = pd.read_csv('/home/katie/bp_repo/reports/katie_notebooks/TASK_4/CTCF/chipseq_all_motif_hits_me3_overlap',  # 55,528 overlaps\n",
    "                                sep='\\t', header=None)"
   ]
  },
  {
   "cell_type": "markdown",
   "id": "1dd4eef6-eef2-48c6-ba95-a8dcc432c27c",
   "metadata": {},
   "source": [
    "## PLOTTING\n",
    "\n",
    "10. Plot the results of 8 and 9"
   ]
  },
  {
   "cell_type": "code",
   "execution_count": 94,
   "id": "343360d8-4476-420b-ac0c-3c3bd7febb1a",
   "metadata": {},
   "outputs": [
    {
     "data": {
      "image/png": "[encoded data removed]",
      "text/plain": [
       "<Figure size 780x520 with 1 Axes>"
      ]
     },
     "metadata": {
      "needs_background": "light"
     },
     "output_type": "display_data"
    }
   ],
   "source": [
    "# order: ( % of shared CUT&RUN motif hits overlapping assay, with assay order DNASE; ATAC; ac; me, \n",
    "#          % of shared chipseq motif hits overlapping assay, with assay order DNASE; ATAC; ac; me)\n",
    "cutnrun_stats = (len(cutnrun_shared_dnase_overlap) / len(shared_cut_hits),\n",
    "                 len(cutnrun_shared_atac_overlap) / len(shared_cut_hits),\n",
    "                 len(cutnrun_shared_ac_overlap) / len(shared_cut_hits),\n",
    "                 len(cutnrun_shared_me3_overlap) / len(shared_cut_hits))\n",
    "chipseq_stats = (len(chipseq_shared_dnase_overlap) / len(shared_chip_hits),\n",
    "              len(chipseq_shared_atac_overlap) / len(shared_chip_hits),\n",
    "              len(chipseq_shared_ac_overlap) / len(shared_chip_hits),\n",
    "              len(chipseq_shared_me3_overlap) / len(shared_chip_hits))\n",
    "\n",
    "cutnrun_stats = [round(stat, 2) for stat in cutnrun_stats]\n",
    "chipseq_stats = [round(stat, 2) for stat in chipseq_stats]\n",
    "\n",
    "ind = np.arange(len(cutnrun_stats))  # the x locations for the groups\n",
    "width = 0.35  # the width of the bars\n",
    "\n",
    "fig, ax = plt.subplots(dpi=130)\n",
    "rects1 = ax.bar(ind - width/2, cutnrun_stats, width, \n",
    "                label='CUT&RUN peaks\\noverlapping ChIP-seq')\n",
    "rects2 = ax.bar(ind + width/2, chipseq_stats, width,\n",
    "                label='ChIP-seq peaks\\noverlapping CUT&RUN')\n",
    "\n",
    "# Add some text for labels, title and custom x-axis tick labels, etc.\n",
    "ax.set_ylabel('% of motif hits from given peak\\nsubset that overlap feature', fontsize=13)\n",
    "ax.set_title('CTCF shared count head motif hits\\noverlapping genomic features')\n",
    "ax.set_xticks(ind)\n",
    "ax.set_xticklabels(('DNase-seq', 'ATAC-seq', 'H3K27ac', 'H3K4me3'), rotation=45, fontsize=13)\n",
    "ax.legend(loc='upper right')\n",
    "\n",
    "def autolabel(rects, xpos='center'):\n",
    "    \"\"\"\n",
    "    Attach a text label above each bar in *rects*, displaying its height.\n",
    "\n",
    "    *xpos* indicates which side to place the text w.r.t. the center of\n",
    "    the bar. It can be one of the following {'center', 'right', 'left'}.\n",
    "    \"\"\"\n",
    "\n",
    "    ha = {'center': 'center', 'right': 'left', 'left': 'right'}\n",
    "    offset = {'center': 0, 'right': 1, 'left': -1}\n",
    "\n",
    "    for rect in rects:\n",
    "        height = rect.get_height()\n",
    "        ax.annotate('{}'.format(height),\n",
    "                    xy=(rect.get_x() + rect.get_width() / 2, height),\n",
    "                    xytext=(offset[xpos]*3, -0.5),  # use -0.5 point offset\n",
    "                    textcoords=\"offset points\",  # in both directions\n",
    "                    ha=ha[xpos], va='bottom')\n",
    "\n",
    "\n",
    "autolabel(rects1, \"center\")\n",
    "autolabel(rects2, \"center\")\n",
    "\n",
    "plt.show()"
   ]
  },
  {
   "cell_type": "markdown",
   "id": "7a96f56e-9b27-404c-aeb7-da75958d8144",
   "metadata": {},
   "source": [
    "#### BACK TO THE BASICS MARCH 8 "
   ]
  },
  {
   "cell_type": "code",
   "execution_count": 2,
   "id": "1c9bd694-c7f3-4cc9-81b9-dcab33cd88bf",
   "metadata": {},
   "outputs": [],
   "source": [
    "# Plotting defaults\n",
    "plot_params = {\n",
    "    \"figure.titlesize\": 22,\n",
    "    \"axes.titlesize\": 22,\n",
    "    \"axes.labelsize\": 20,\n",
    "    \"legend.fontsize\": 18,\n",
    "    \"xtick.labelsize\": 16,\n",
    "    \"ytick.labelsize\": 16,\n",
    "    \"font.weight\": \"bold\"\n",
    "}\n",
    "plt.rcParams.update(plot_params)\n",
    "\n",
    "# Import the set of peaks\n",
    "peak_table = import_peak_table(['/home/katie/bp_repo/research/data/cutnrun/CTCF/CTCF.bed'])\n",
    "\n",
    "# Define constants\n",
    "input_length, profile_length = 2114, 1000\n",
    "shap_score_center_size = 400\n",
    "profile_display_center_size = 400\n",
    "hyp_score_key = \"hyp_scores\"\n",
    "\n",
    "shap_scores_path_short, shap_scores_path_long, shap_scores_path_single = '/home/katie/bp_repo/pipeline_outputs/ctcf_cutnrun_120_150_feb7/shap_scores_CTCF_120','/home/katie/bp_repo/pipeline_outputs/ctcf_cutnrun_120_150_feb7/shap_scores_CTCF_150', '/home/katie/bp_repo/pipeline_outputs/ctcf_cutnrun_feb7/shap_scores'\n"
   ]
  },
  {
   "cell_type": "code",
   "execution_count": 3,
   "id": "5978b856-53e0-4d4f-99a2-7f847a23eab4",
   "metadata": {
    "collapsed": true,
    "jupyter": {
     "outputs_hidden": true
    },
    "tags": []
   },
   "outputs": [
    {
     "name": "stderr",
     "output_type": "stream",
     "text": [
      "\n",
      "Importing SHAP scores:   0%|                            | 0/217 [00:00<?, ?it/s]\u001b[A\n",
      "Importing SHAP scores:   2%|▍                   | 5/217 [00:00<00:04, 46.19it/s]\u001b[A\n",
      "Importing SHAP scores:   5%|▉                  | 11/217 [00:00<00:04, 51.42it/s]\u001b[A\n",
      "Importing SHAP scores:   8%|█▍                 | 17/217 [00:00<00:03, 53.23it/s]\u001b[A\n",
      "Importing SHAP scores:  11%|██                 | 23/217 [00:00<00:03, 54.04it/s]\u001b[A\n",
      "Importing SHAP scores:  13%|██▌                | 29/217 [00:00<00:03, 54.52it/s]\u001b[A\n",
      "Importing SHAP scores:  16%|███                | 35/217 [00:00<00:03, 54.88it/s]\u001b[A\n",
      "Importing SHAP scores:  19%|███▌               | 41/217 [00:00<00:03, 55.07it/s]\u001b[A\n",
      "Importing SHAP scores:  22%|████               | 47/217 [00:00<00:03, 55.26it/s]\u001b[A\n",
      "Importing SHAP scores:  24%|████▋              | 53/217 [00:00<00:02, 55.39it/s]\u001b[A\n",
      "Importing SHAP scores:  27%|█████▏             | 59/217 [00:01<00:02, 55.45it/s]\u001b[A\n",
      "Importing SHAP scores:  30%|█████▋             | 65/217 [00:01<00:02, 55.53it/s]\u001b[A\n",
      "Importing SHAP scores:  33%|██████▏            | 71/217 [00:01<00:02, 55.55it/s]\u001b[A\n",
      "Importing SHAP scores:  35%|██████▋            | 77/217 [00:01<00:02, 55.58it/s]\u001b[A\n",
      "Importing SHAP scores:  38%|███████▎           | 83/217 [00:01<00:02, 55.65it/s]\u001b[A\n",
      "Importing SHAP scores:  41%|███████▊           | 89/217 [00:01<00:02, 55.63it/s]\u001b[A\n",
      "Importing SHAP scores:  44%|████████▎          | 95/217 [00:01<00:02, 55.67it/s]\u001b[A\n",
      "Importing SHAP scores:  47%|████████▍         | 101/217 [00:01<00:02, 55.68it/s]\u001b[A\n",
      "Importing SHAP scores:  49%|████████▉         | 107/217 [00:01<00:01, 55.67it/s]\u001b[A\n",
      "Importing SHAP scores:  52%|█████████▎        | 113/217 [00:02<00:01, 55.72it/s]\u001b[A\n",
      "Importing SHAP scores:  55%|█████████▊        | 119/217 [00:02<00:01, 55.65it/s]\u001b[A\n",
      "Importing SHAP scores:  58%|██████████▎       | 125/217 [00:02<00:01, 55.63it/s]\u001b[A\n",
      "Importing SHAP scores:  60%|██████████▊       | 131/217 [00:02<00:01, 55.68it/s]\u001b[A\n",
      "Importing SHAP scores:  63%|███████████▎      | 137/217 [00:02<00:01, 55.67it/s]\u001b[A\n",
      "Importing SHAP scores:  66%|███████████▊      | 143/217 [00:02<00:01, 55.72it/s]\u001b[A\n",
      "Importing SHAP scores:  69%|████████████▎     | 149/217 [00:02<00:01, 55.69it/s]\u001b[A\n",
      "Importing SHAP scores:  71%|████████████▊     | 155/217 [00:02<00:01, 55.67it/s]\u001b[A\n",
      "Importing SHAP scores:  74%|█████████████▎    | 161/217 [00:02<00:01, 55.72it/s]\u001b[A\n",
      "Importing SHAP scores:  77%|█████████████▊    | 167/217 [00:03<00:00, 55.70it/s]\u001b[A\n",
      "Importing SHAP scores:  80%|██████████████▎   | 173/217 [00:03<00:00, 55.68it/s]\u001b[A\n",
      "Importing SHAP scores:  82%|██████████████▊   | 179/217 [00:03<00:00, 55.73it/s]\u001b[A\n",
      "Importing SHAP scores:  85%|███████████████▎  | 185/217 [00:03<00:00, 55.69it/s]\u001b[A\n",
      "Importing SHAP scores:  88%|███████████████▊  | 191/217 [00:03<00:00, 55.72it/s]\u001b[A\n",
      "Importing SHAP scores:  91%|████████████████▎ | 197/217 [00:03<00:00, 55.70it/s]\u001b[A\n",
      "Importing SHAP scores:  94%|████████████████▊ | 203/217 [00:03<00:00, 55.66it/s]\u001b[A\n",
      "Importing SHAP scores:  96%|█████████████████▎| 209/217 [00:03<00:00, 55.73it/s]\u001b[A\n",
      "Importing SHAP scores: 100%|██████████████████| 217/217 [00:03<00:00, 55.38it/s]\u001b[A\n",
      "\n",
      "Importing SHAP scores:   0%|                            | 0/217 [00:00<?, ?it/s]\u001b[A\n",
      "Importing SHAP scores:   3%|▌                   | 6/217 [00:00<00:03, 54.84it/s]\u001b[A\n",
      "Importing SHAP scores:   6%|█                  | 12/217 [00:00<00:03, 55.34it/s]\u001b[A\n",
      "Importing SHAP scores:   8%|█▌                 | 18/217 [00:00<00:03, 55.54it/s]\u001b[A\n",
      "Importing SHAP scores:  11%|██                 | 24/217 [00:00<00:03, 55.66it/s]\u001b[A\n",
      "Importing SHAP scores:  14%|██▋                | 30/217 [00:00<00:03, 55.67it/s]\u001b[A\n",
      "Importing SHAP scores:  17%|███▏               | 36/217 [00:00<00:03, 55.73it/s]\u001b[A\n",
      "Importing SHAP scores:  19%|███▋               | 42/217 [00:00<00:03, 55.72it/s]\u001b[A\n",
      "Importing SHAP scores:  22%|████▏              | 48/217 [00:00<00:03, 55.73it/s]\u001b[A\n",
      "Importing SHAP scores:  25%|████▋              | 54/217 [00:00<00:02, 55.60it/s]\u001b[A\n",
      "Importing SHAP scores:  28%|█████▎             | 60/217 [00:01<00:02, 55.62it/s]\u001b[A\n",
      "Importing SHAP scores:  30%|█████▊             | 66/217 [00:01<00:02, 55.67it/s]\u001b[A\n",
      "Importing SHAP scores:  33%|██████▎            | 72/217 [00:01<00:02, 55.69it/s]\u001b[A\n",
      "Importing SHAP scores:  36%|██████▊            | 78/217 [00:01<00:02, 55.71it/s]\u001b[A\n",
      "Importing SHAP scores:  39%|███████▎           | 84/217 [00:01<00:02, 55.76it/s]\u001b[A\n",
      "Importing SHAP scores:  41%|███████▉           | 90/217 [00:01<00:02, 55.73it/s]\u001b[A\n",
      "Importing SHAP scores:  44%|████████▍          | 96/217 [00:01<00:02, 55.73it/s]\u001b[A\n",
      "Importing SHAP scores:  47%|████████▍         | 102/217 [00:01<00:02, 55.78it/s]\u001b[A\n",
      "Importing SHAP scores:  50%|████████▉         | 108/217 [00:01<00:01, 55.76it/s]\u001b[A\n",
      "Importing SHAP scores:  53%|█████████▍        | 114/217 [00:02<00:01, 55.80it/s]\u001b[A\n",
      "Importing SHAP scores:  55%|█████████▉        | 120/217 [00:02<00:01, 55.78it/s]\u001b[A\n",
      "Importing SHAP scores:  58%|██████████▍       | 126/217 [00:02<00:01, 55.73it/s]\u001b[A\n",
      "Importing SHAP scores:  61%|██████████▉       | 132/217 [00:02<00:01, 55.79it/s]\u001b[A\n",
      "Importing SHAP scores:  64%|███████████▍      | 138/217 [00:02<00:01, 55.76it/s]\u001b[A\n",
      "Importing SHAP scores:  66%|███████████▉      | 144/217 [00:02<00:01, 55.75it/s]\u001b[A\n",
      "Importing SHAP scores:  69%|████████████▍     | 150/217 [00:02<00:01, 55.79it/s]\u001b[A\n",
      "Importing SHAP scores:  72%|████████████▉     | 156/217 [00:02<00:01, 55.76it/s]\u001b[A\n",
      "Importing SHAP scores:  75%|█████████████▍    | 162/217 [00:02<00:00, 55.79it/s]\u001b[A\n",
      "Importing SHAP scores:  77%|█████████████▉    | 168/217 [00:03<00:00, 55.79it/s]\u001b[A\n",
      "Importing SHAP scores:  80%|██████████████▍   | 174/217 [00:03<00:00, 55.75it/s]\u001b[A\n",
      "Importing SHAP scores:  83%|██████████████▉   | 180/217 [00:03<00:00, 55.80it/s]\u001b[A\n",
      "Importing SHAP scores:  86%|███████████████▍  | 186/217 [00:03<00:00, 55.75it/s]\u001b[A\n",
      "Importing SHAP scores:  88%|███████████████▉  | 192/217 [00:03<00:00, 55.80it/s]\u001b[A\n",
      "Importing SHAP scores:  91%|████████████████▍ | 198/217 [00:03<00:00, 55.82it/s]\u001b[A\n",
      "Importing SHAP scores:  94%|████████████████▉ | 204/217 [00:03<00:00, 55.76it/s]\u001b[A\n",
      "Importing SHAP scores:  97%|█████████████████▍| 210/217 [00:03<00:00, 55.80it/s]\u001b[A\n",
      "Importing SHAP scores: 100%|██████████████████| 217/217 [00:03<00:00, 55.74it/s]\u001b[A\n",
      "Importing SHAP scores: 100%|██████████████████| 109/109 [00:01<00:00, 56.62it/s]\n"
     ]
    },
    {
     "data": {
      "application/vnd.jupyter.widget-view+json": {
       "model_id": "768e0a91590f444eb6ad3c10eab80632",
       "version_major": 2,
       "version_minor": 0
      },
      "text/plain": [
       "Importing predictions:   0%|          | 0/217 [00:00<?, ?it/s]"
      ]
     },
     "metadata": {},
     "output_type": "display_data"
    },
    {
     "data": {
      "application/vnd.jupyter.widget-view+json": {
       "model_id": "07ac8a8c23634cf09ac2497680bfa7bf",
       "version_major": 2,
       "version_minor": 0
      },
      "text/plain": [
       "Importing predictions:   0%|          | 0/109 [00:00<?, ?it/s]"
      ]
     },
     "metadata": {},
     "output_type": "display_data"
    }
   ],
   "source": [
    "# THE COORDS FOR THE SHAP AND PREDS HDF5s ARE THE  * S A M E *  YES I CHECKED!\n",
    "\n",
    "\n",
    "# Import SHAP coordinates and one-hot sequences\n",
    "# EXACTLY SAME AS IMPORTING THE ORIGINAL HDF5 FROM PIPELINE_OUTPUTS   YES I CHECKED\n",
    "# EXCEPT THIS CUTS THE CENTER TO THE 400 BP WE ARE USED TO\n",
    "hyp_scores_short, _, one_hot_seqs_short, shap_coords_short = import_shap_scores(shap_scores_path_short, hyp_score_key, \n",
    "                                                              center_cut_size=shap_score_center_size, remove_non_acgt=False)\n",
    "hyp_scores_long, _, one_hot_seqs_long, shap_coords_long = import_shap_scores(shap_scores_path_long, hyp_score_key, \n",
    "                                                              center_cut_size=shap_score_center_size, remove_non_acgt=False)\n",
    "hyp_scores_single, _, one_hot_seqs_single, shap_coords_single = import_shap_scores(shap_scores_path_single, hyp_score_key, \n",
    "                                                              center_cut_size=shap_score_center_size, remove_non_acgt=False)\n",
    "# This cuts the sequences/scores off just as how TF-MoDISco saw them, but the coordinates are uncut\n",
    "\n",
    "# Import the set of all profiles and their coordinates\n",
    "# EXACTLY SAME AS IMPORTING THE ORIGINAL HDF5 FROM PIPELINE_OUTPUTS   YES I CHECKED\n",
    "true_profs_multi, pred_profs_multi, all_pred_coords_multi = import_profiles('/home/katie/bp_repo/pipeline_outputs/ctcf_cutnrun_120_150_feb7/preds')\n",
    "true_profs_single, pred_profs_single, all_pred_coords_single = import_profiles('/home/katie/bp_repo/pipeline_outputs/ctcf_cutnrun_feb7/preds')\n",
    "\n",
    "# each len is 4 * 54227 where 54227 is num of cut&run peaks\n",
    "# if you drop_duplicates, you get exactly 54227 rows. each CORRESPONDS to the row in peak table but not in order??\n",
    "\n"
   ]
  },
  {
   "cell_type": "code",
   "execution_count": 5,
   "id": "30cda428-eaf3-4ea2-a12e-7b892045668a",
   "metadata": {},
   "outputs": [],
   "source": [
    "all_pred_coords_single_df = pd.DataFrame(all_pred_coords_single, columns=['chrom','peak_start','peak_end'])\n",
    "all_pred_coords_multi_df = pd.DataFrame(all_pred_coords_multi, columns=['chrom','peak_start','peak_end'])"
   ]
  },
  {
   "cell_type": "code",
   "execution_count": 6,
   "id": "62201ea3-e282-419c-8119-dd57c5c67ce7",
   "metadata": {},
   "outputs": [
    {
     "data": {
      "text/plain": [
       "True"
      ]
     },
     "execution_count": 6,
     "metadata": {},
     "output_type": "execute_result"
    }
   ],
   "source": [
    "# if you drop duplicates of all_pred_coords_single_df or short  (or the all_pred_coords_table stuff) then you can INDEX BY PEAK!!\n",
    "# same for dropping duplicates of the shap_coords_short/long/single (if you convert to df first)\n",
    "np.array_equal(np.array(all_pred_coords_multi_df.drop_duplicates().chrom), np.array(peak_table.loc[peak_table.chrom != 'chrM'].chrom))"
   ]
  },
  {
   "cell_type": "code",
   "execution_count": 67,
   "id": "b3ca1549-034b-4e46-a569-2fba1692bb75",
   "metadata": {},
   "outputs": [],
   "source": [
    "def check_validity(hit, proposed_peak):\n",
    "    ''' determine if a motif hit lies inside a proposed set of coords (chrom/start/end) '''\n",
    "    if isinstance(proposed_peak, pd.core.frame.DataFrame) or isinstance(proposed_peak, pd.core.series.Series):\n",
    "        return (hit.peak_start >= proposed_peak.peak_start) and (hit.peak_end <= proposed_peak.peak_end) and (hit.chrom == proposed_peak.chrom)\n",
    "    elif isinstance(proposed_peak, np.ndarray):\n",
    "        return ((hit.peak_start >= proposed_peak[1]) and (hit.peak_end <= proposed_peak[2]) and (hit.chrom == proposed_peak[0]))\n",
    "    else:\n",
    "        return 'what da heck is this you moron ????'\n"
   ]
  },
  {
   "cell_type": "code",
   "execution_count": 8,
   "id": "68e1283b-0e7b-4183-983c-eea3bd079da5",
   "metadata": {},
   "outputs": [],
   "source": [
    "# find motif hits unique to long/short task, where single-task doesn't see importance\n",
    "#os.system('bedtools intersect -v -a /home/katie/bp_repo/reports/tfm_hits/CTCF/ctcf_maxfl120_feb7/tfm_matches.bed -b /home/katie/bp_repo/reports/tfm_hits/CTCF/ctcf_cutnrun_feb7/tfm_matches.bed > /home/katie/bp_repo/reports/katie_notebooks/TASK_1/unique_short_no_single')\n",
    "#os.system('bedtools intersect -v -a /home/katie/bp_repo/reports/tfm_hits/CTCF/ctcf_minfl150_feb7/tfm_matches.bed -b /home/katie/bp_repo/reports/tfm_hits/CTCF/ctcf_cutnrun_feb7/tfm_matches.bed > /home/katie/bp_repo/reports/katie_notebooks/TASK_1/unique_long_no_single')\n",
    "\n",
    "short_unique_hits = import_peak_table(['/home/katie/bp_repo/reports/katie_notebooks/TASK_1/unique_short_no_single']) # 161,418 hits\n",
    "long_unique_hits = import_peak_table(['/home/katie/bp_repo/reports/katie_notebooks/TASK_1/unique_long_no_single'])   # 155,922 hits\n",
    "\n",
    "# so about half of the hits for both short and long tasks are unique to them and don't overlap single-task hits\n",
    "# but it is NOT true that every single-task hit overlaps a short/long hit, if you compare the numbers of motif hits \n"
   ]
  },
  {
   "cell_type": "code",
   "execution_count": 11,
   "id": "61452413-6f7e-4425-9a46-075633cd7bb2",
   "metadata": {},
   "outputs": [],
   "source": [
    "# subset to TA motif hits\n",
    "TA_hits_max = hits_max.loc[hits_max.name == '0_1']  # len 160,414\n",
    "TA_hits_min = hits_min.loc[hits_min.name == '0_1']  # len 179,126\n",
    "TA_hits_single = hits_single.loc[hits_single.name == '0_1']  # len 40,332\n",
    "\n",
    "TA_hits_max_no_single = short_unique_hits.loc[short_unique_hits.name == '0_1']  # len 114,501\n",
    "TA_hits_min_no_single = long_unique_hits.loc[long_unique_hits.name == '0_1']  # len 128,450"
   ]
  },
  {
   "cell_type": "markdown",
   "id": "7a56aa84-9f80-40c9-bbe1-59fb92bda51e",
   "metadata": {
    "tags": []
   },
   "source": [
    "#### Notes: \n",
    "* true_profs, pred_profs, all_pred_coords: each len is 2 * or 4 * 54227 where 54227 is num of cut&run peaks\n",
    "    * if you drop_duplicates, you get exactly 54227 rows. each CORRESPONDS to the row in peak table but is an EXTENDED TO 2114 VERSION of peak\n",
    "* ^^ same with shap_coords_table\n",
    "* subset_inds reorders original profs/coords i think"
   ]
  },
  {
   "cell_type": "code",
   "execution_count": 14,
   "id": "022dcf10-6583-41ea-b4ea-bdd64410509d",
   "metadata": {},
   "outputs": [],
   "source": [
    "# find the peak indices where TA motif is found in BOTH min and max and NOT IN SINGLE\n",
    "peak_indices_minmax = set(TA_hits_min.strand.unique()).intersection(set(TA_hits_max.strand.unique()))\n",
    "peak_indices_not_in_single = peak_indices_minmax - set(TA_hits_single.strand.unique())"
   ]
  }
 ],
 "metadata": {
  "kernelspec": {
   "display_name": "Python 3 (ipykernel)",
   "language": "python",
   "name": "python3"
  },
  "language_info": {
   "codemirror_mode": {
    "name": "ipython",
    "version": 3
   },
   "file_extension": ".py",
   "mimetype": "text/x-python",
   "name": "python",
   "nbconvert_exporter": "python",
   "pygments_lexer": "ipython3",
   "version": "3.9.7"
  }
 },
 "nbformat": 4,
 "nbformat_minor": 5
}
