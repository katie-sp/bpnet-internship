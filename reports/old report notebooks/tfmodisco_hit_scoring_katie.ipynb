{
 "cells": [
  {
   "cell_type": "code",
   "execution_count": 1,
   "metadata": {},
   "outputs": [
    {
     "name": "stdout",
     "output_type": "stream",
     "text": [
      "env: CUDA_VISIBLE_DEVICES=0\n"
     ]
    },
    {
     "name": "stderr",
     "output_type": "stream",
     "text": [
      "/tmp/ipykernel_333619/1279542980.py:20: TqdmDeprecationWarning: This function will be removed in tqdm==5.0.0\n",
      "Please use `tqdm.notebook.tqdm` instead of `tqdm.tqdm_notebook`\n",
      "  tqdm.tqdm_notebook()\n"
     ]
    },
    {
     "data": {
      "application/vnd.jupyter.widget-view+json": {
       "model_id": "12ddc0d55a5f40a7a806ee50a6c90d06",
       "version_major": 2,
       "version_minor": 0
      },
      "text/plain": [
       "0it [00:00, ?it/s]"
      ]
     },
     "metadata": {},
     "output_type": "display_data"
    }
   ],
   "source": [
    "%env CUDA_VISIBLE_DEVICES = 0\n",
    "%config Completer.use_jedi = False\n",
    "\n",
    "import os\n",
    "from util import import_shap_scores, import_tfmodisco_results, import_peak_table, import_profiles\n",
    "from util import pfm_to_pwm, trim_motif_by_ic\n",
    "from util import figure_to_vdom_image\n",
    "from tomtom import match_motifs_to_database\n",
    "import viz_sequence\n",
    "import numpy as np\n",
    "import h5py\n",
    "import pandas as pd\n",
    "import sklearn.cluster\n",
    "import scipy.cluster.hierarchy\n",
    "import matplotlib.pyplot as plt\n",
    "import matplotlib.font_manager as font_manager\n",
    "import vdom.helpers as vdomh\n",
    "from IPython.display import display\n",
    "import tqdm\n",
    "tqdm.tqdm_notebook()\n",
    "\n",
    "from importlib import reload\n",
    "import tfmodisco_hit_scoring\n",
    "from datetime import datetime"
   ]
  },
  {
   "cell_type": "markdown",
   "metadata": {},
   "source": [
    "## Define constants and paths"
   ]
  },
  {
   "cell_type": "code",
   "execution_count": 2,
   "metadata": {},
   "outputs": [
    {
     "name": "stdout",
     "output_type": "stream",
     "text": [
      "DeepSHAP scores path: /home/katie/bp_repo/pipeline_outputs/fosl2_chipseq_oct10/shap_scores\n",
      "TF-MoDISco results path: /home/katie/bp_repo/pipeline_outputs/fosl2_chipseq_oct10/tfmodisco_results\n",
      "Peaks path: /home/katie/bp_repo/research/data/chip-seq/FOSL2/FOSL2.bed\n"
     ]
    }
   ],
   "source": [
    "# fosl2 chip-seq\n",
    "TFM_SHAP_PATH = '/home/katie/bp_repo/pipeline_outputs/fosl2_chipseq_oct10/shap_scores'\n",
    "TFM_TFM_PATH =  '/home/katie/bp_repo/pipeline_outputs/fosl2_chipseq_oct10/tfmodisco_results'\n",
    "TFM_PEAKS_PATH = '/home/katie/bp_repo/research/data/chip-seq/FOSL2/FOSL2.bed'\n",
    "\n",
    "os.environ['TFM_SHAP_PATH'] = TFM_SHAP_PATH\n",
    "os.environ['TFM_TFM_PATH'] = TFM_TFM_PATH\n",
    "os.environ['TFM_PEAKS_PATH'] = TFM_PEAKS_PATH\n",
    "\n",
    "# Define parameters/fetch arguments\n",
    "shap_scores_path = os.environ['TFM_SHAP_PATH']\n",
    "tfm_results_path = os.environ['TFM_TFM_PATH']\n",
    "peak_bed_paths = [os.environ['TFM_PEAKS_PATH']]\n",
    "\n",
    "print(\"DeepSHAP scores path: %s\" % shap_scores_path)\n",
    "print(\"TF-MoDISco results path: %s\" % tfm_results_path)\n",
    "print(\"Peaks path: %s\" % peak_bed_paths[0])\n",
    "\n",
    "# Define constants\n",
    "input_length, profile_length = 2114, 1000\n",
    "shap_score_center_size = 400\n",
    "profile_display_center_size = 400\n",
    "hyp_score_key = \"hyp_scores\"\n",
    "task_index = None"
   ]
  },
  {
   "cell_type": "code",
   "execution_count": 3,
   "metadata": {
    "tags": []
   },
   "outputs": [
    {
     "name": "stdout",
     "output_type": "stream",
     "text": [
      "Importing DeepSHAP scores and TF-MoDISco results...\n"
     ]
    },
    {
     "name": "stderr",
     "output_type": "stream",
     "text": [
      "\n",
      "Importing SHAP scores:   0%|                             | 0/67 [00:00<?, ?it/s]\u001b[A\n",
      "Importing SHAP scores:   6%|█▎                   | 4/67 [00:00<00:01, 35.80it/s]\u001b[A\n",
      "Importing SHAP scores:  13%|██▊                  | 9/67 [00:00<00:01, 39.65it/s]\u001b[A\n",
      "Importing SHAP scores:  21%|████▏               | 14/67 [00:00<00:01, 40.69it/s]\u001b[A\n",
      "Importing SHAP scores:  28%|█████▋              | 19/67 [00:00<00:01, 41.75it/s]\u001b[A\n",
      "Importing SHAP scores:  36%|███████▏            | 24/67 [00:00<00:01, 42.53it/s]\u001b[A\n",
      "Importing SHAP scores:  43%|████████▋           | 29/67 [00:00<00:00, 42.99it/s]\u001b[A\n",
      "Importing SHAP scores:  51%|██████████▏         | 34/67 [00:00<00:00, 43.07it/s]\u001b[A\n",
      "Importing SHAP scores:  58%|███████████▋        | 39/67 [00:00<00:00, 43.33it/s]\u001b[A\n",
      "Importing SHAP scores:  66%|█████████████▏      | 44/67 [00:01<00:00, 43.73it/s]\u001b[A\n",
      "Importing SHAP scores:  73%|██████████████▋     | 49/67 [00:01<00:00, 43.76it/s]\u001b[A\n",
      "Importing SHAP scores:  81%|████████████████    | 54/67 [00:01<00:00, 43.84it/s]\u001b[A\n",
      "Importing SHAP scores:  88%|█████████████████▌  | 59/67 [00:01<00:00, 44.20it/s]\u001b[A\n",
      "Importing SHAP scores: 100%|████████████████████| 67/67 [00:01<00:00, 43.19it/s]\u001b[A\n"
     ]
    },
    {
     "name": "stdout",
     "output_type": "stream",
     "text": [
      "Matching up DeepSHAP coordinates and peak coordinates...\n",
      "Preparing the hit scorer...\n",
      "Getting trimmed patterns, subclustering them\n",
      "Trimming the patterns to the target length\n",
      "Apply subclustering\n"
     ]
    },
    {
     "name": "stderr",
     "output_type": "stream",
     "text": [
      "[Parallel(n_jobs=80)]: Using backend LokyBackend with 80 concurrent workers.\n",
      "[Parallel(n_jobs=80)]: Done  40 tasks      | elapsed:    1.7s\n",
      "[Parallel(n_jobs=80)]: Done 290 tasks      | elapsed:    2.2s\n",
      "[Parallel(n_jobs=80)]: Done 720 tasks      | elapsed:    2.8s\n",
      "[Parallel(n_jobs=80)]: Done 1620 tasks      | elapsed:    3.9s\n",
      "[Parallel(n_jobs=80)]: Done 2720 tasks      | elapsed:    5.3s\n",
      "[Parallel(n_jobs=80)]: Done 4020 tasks      | elapsed:    7.1s\n",
      "[Parallel(n_jobs=80)]: Done 5470 out of 5629 | elapsed:    8.9s remaining:    0.3s\n",
      "[Parallel(n_jobs=80)]: Done 5629 out of 5629 | elapsed:    9.0s finished\n",
      "/home/katie/anaconda/envs/modi2/lib/python3.9/site-packages/sklearn/manifold/_t_sne.py:691: FutureWarning: 'square_distances' has been introduced in 0.24 to help phase out legacy squaring behavior. The 'legacy' setting will be removed in 1.1 (renaming of 0.26), and the default setting will be changed to True. In 1.3, 'square_distances' will be removed altogether, and distances will be squared by default. Set 'square_distances'=True to silence this warning.\n",
      "  warnings.warn(\n",
      "/home/katie/anaconda/envs/modi2/lib/python3.9/site-packages/sklearn/neighbors/_base.py:175: EfficiencyWarning: Precomputed sparse input was not sorted by data.\n",
      "  warnings.warn('Precomputed sparse input was not sorted by data.',\n"
     ]
    },
    {
     "name": "stdout",
     "output_type": "stream",
     "text": [
      "[t-SNE] Computing 151 nearest neighbors...\n",
      "[t-SNE] Indexed 5629 samples in 0.030s...\n",
      "[t-SNE] Computed neighbors for 5629 samples in 0.003s...\n",
      "[t-SNE] Computed conditional probabilities for sample 1000 / 5629\n",
      "[t-SNE] Computed conditional probabilities for sample 2000 / 5629\n",
      "[t-SNE] Computed conditional probabilities for sample 3000 / 5629\n",
      "[t-SNE] Computed conditional probabilities for sample 4000 / 5629\n",
      "[t-SNE] Computed conditional probabilities for sample 5000 / 5629\n",
      "[t-SNE] Computed conditional probabilities for sample 5629 / 5629\n",
      "[t-SNE] Mean sigma: 0.177726\n",
      "[t-SNE] Computed conditional probabilities in 0.198s\n",
      "[t-SNE] Iteration 50: error = 82.9987946, gradient norm = 0.0000016 (50 iterations in 0.686s)\n",
      "[t-SNE] Iteration 100: error = 82.9987717, gradient norm = 0.0001013 (50 iterations in 0.624s)\n",
      "[t-SNE] Iteration 150: error = 82.9053497, gradient norm = 0.0032979 (50 iterations in 0.652s)\n",
      "[t-SNE] Iteration 200: error = 82.4353333, gradient norm = 0.0001266 (50 iterations in 0.588s)\n",
      "[t-SNE] Iteration 250: error = 82.4315720, gradient norm = 0.0000522 (50 iterations in 0.589s)\n",
      "[t-SNE] KL divergence after 250 iterations with early exaggeration: 82.431572\n",
      "[t-SNE] Iteration 300: error = 3.2558029, gradient norm = 0.0014029 (50 iterations in 0.574s)\n",
      "[t-SNE] Iteration 350: error = 3.0681758, gradient norm = 0.0005424 (50 iterations in 0.555s)\n",
      "[t-SNE] Iteration 400: error = 2.9780781, gradient norm = 0.0002891 (50 iterations in 0.554s)\n",
      "[t-SNE] Iteration 450: error = 2.9271843, gradient norm = 0.0001919 (50 iterations in 0.553s)\n",
      "[t-SNE] Iteration 500: error = 2.8944514, gradient norm = 0.0001285 (50 iterations in 0.556s)\n",
      "[t-SNE] Iteration 550: error = 2.8709292, gradient norm = 0.0001083 (50 iterations in 0.556s)\n",
      "[t-SNE] Iteration 600: error = 2.8540053, gradient norm = 0.0000787 (50 iterations in 0.557s)\n",
      "[t-SNE] Iteration 650: error = 2.8412642, gradient norm = 0.0000641 (50 iterations in 0.560s)\n",
      "[t-SNE] Iteration 700: error = 2.8316090, gradient norm = 0.0000794 (50 iterations in 0.559s)\n",
      "[t-SNE] Iteration 750: error = 2.8241024, gradient norm = 0.0000508 (50 iterations in 0.558s)\n",
      "[t-SNE] Iteration 800: error = 2.8182821, gradient norm = 0.0000443 (50 iterations in 0.559s)\n",
      "[t-SNE] Iteration 850: error = 2.8136480, gradient norm = 0.0000425 (50 iterations in 0.560s)\n",
      "[t-SNE] Iteration 900: error = 2.8102064, gradient norm = 0.0000529 (50 iterations in 0.564s)\n",
      "[t-SNE] Iteration 950: error = 2.8080542, gradient norm = 0.0000438 (50 iterations in 0.564s)\n",
      "[t-SNE] Iteration 1000: error = 2.8065624, gradient norm = 0.0000342 (50 iterations in 0.561s)\n",
      "[t-SNE] KL divergence after 1000 iterations: 2.806562\n",
      "[t-SNE] Computed conditional probabilities for sample 1000 / 5629\n",
      "[t-SNE] Computed conditional probabilities for sample 2000 / 5629\n",
      "[t-SNE] Computed conditional probabilities for sample 3000 / 5629\n",
      "[t-SNE] Computed conditional probabilities for sample 4000 / 5629\n",
      "[t-SNE] Computed conditional probabilities for sample 5000 / 5629\n",
      "[t-SNE] Computed conditional probabilities for sample 5629 / 5629\n",
      "[t-SNE] Mean sigma: 0.177726\n",
      "Beginning preprocessing + Leiden\n",
      "Affmat shape: 5629\n"
     ]
    },
    {
     "name": "stderr",
     "output_type": "stream",
     "text": [
      "[Parallel(n_jobs=80)]: Using backend LokyBackend with 80 concurrent workers.\n",
      "[Parallel(n_jobs=80)]: Done  44 out of  50 | elapsed:   11.8s remaining:    1.6s\n"
     ]
    },
    {
     "name": "stdout",
     "output_type": "stream",
     "text": [
      "Quality: 0.5146911783369377\n",
      "Quality: 0.5185825404874348\n",
      "Quality: 0.5189832437522656\n",
      "Quality: 0.5197071106443812\n",
      "Quality: 0.5208747613401683\n"
     ]
    },
    {
     "name": "stderr",
     "output_type": "stream",
     "text": [
      "[Parallel(n_jobs=80)]: Done  50 out of  50 | elapsed:   13.8s finished\n"
     ]
    },
    {
     "name": "stdout",
     "output_type": "stream",
     "text": [
      "Got subclusters: Counter({0: 1151, 1: 1001, 2: 974, 3: 898, 4: 832, 5: 667, 6: 51, 7: 26, 8: 18, 9: 11})\n"
     ]
    },
    {
     "name": "stderr",
     "output_type": "stream",
     "text": [
      "[Parallel(n_jobs=80)]: Using backend LokyBackend with 80 concurrent workers.\n",
      "[Parallel(n_jobs=80)]: Done  62 out of  73 | elapsed:    0.0s remaining:    0.0s\n",
      "[Parallel(n_jobs=80)]: Done  73 out of  73 | elapsed:    0.0s finished\n"
     ]
    },
    {
     "name": "stdout",
     "output_type": "stream",
     "text": [
      "[t-SNE] Computing 72 nearest neighbors...\n",
      "[t-SNE] Indexed 73 samples in 0.001s...\n",
      "[t-SNE] Computed neighbors for 73 samples in 0.000s...\n",
      "[t-SNE] Computed conditional probabilities for sample 73 / 73\n",
      "[t-SNE] Mean sigma: 0.501002\n",
      "[t-SNE] Computed conditional probabilities in 0.003s\n",
      "[t-SNE] Iteration 50: error = 49.5214920, gradient norm = 0.5278010 (50 iterations in 0.021s)\n",
      "[t-SNE] Iteration 100: error = 49.5216103, gradient norm = 0.6063448 (50 iterations in 0.018s)\n",
      "[t-SNE] Iteration 150: error = 49.8675613, gradient norm = 0.5563790 (50 iterations in 0.018s)\n",
      "[t-SNE] Iteration 200: error = 50.1434746, gradient norm = 0.4048069 (50 iterations in 0.018s)\n",
      "[t-SNE] Iteration 250: error = 45.0502319, gradient norm = 0.5010481 (50 iterations in 0.018s)\n",
      "[t-SNE] KL divergence after 250 iterations with early exaggeration: 45.050232\n",
      "[t-SNE] Iteration 300: error = 0.7415750, gradient norm = 0.0030667 (50 iterations in 0.018s)\n",
      "[t-SNE] Iteration 350: error = 0.5872467, gradient norm = 0.0025552 (50 iterations in 0.018s)\n",
      "[t-SNE] Iteration 400: error = 0.8814804, gradient norm = 0.0020264 (50 iterations in 0.019s)\n",
      "[t-SNE] Iteration 450: error = 0.6795137, gradient norm = 0.0006811 (50 iterations in 0.018s)\n",
      "[t-SNE] Iteration 500: error = 0.5788202, gradient norm = 0.0004051 (50 iterations in 0.017s)\n",
      "[t-SNE] Iteration 550: error = 0.5295990, gradient norm = 0.0002758 (50 iterations in 0.018s)\n",
      "[t-SNE] Iteration 600: error = 0.5105093, gradient norm = 0.0002039 (50 iterations in 0.018s)\n",
      "[t-SNE] Iteration 650: error = 0.4795280, gradient norm = 0.0002000 (50 iterations in 0.018s)\n",
      "[t-SNE] Iteration 700: error = 0.4604014, gradient norm = 0.0001113 (50 iterations in 0.018s)\n",
      "[t-SNE] Iteration 750: error = 0.4561105, gradient norm = 0.0001273 (50 iterations in 0.018s)\n",
      "[t-SNE] Iteration 800: error = 0.4461388, gradient norm = 0.0001661 (50 iterations in 0.018s)\n",
      "[t-SNE] Iteration 850: error = 0.4306822, gradient norm = 0.0001663 (50 iterations in 0.018s)\n",
      "[t-SNE] Iteration 900: error = 0.4213780, gradient norm = 0.0002273 (50 iterations in 0.018s)\n",
      "[t-SNE] Iteration 950: error = 0.4135072, gradient norm = 0.0001263 (50 iterations in 0.018s)\n",
      "[t-SNE] Iteration 1000: error = 0.4103484, gradient norm = 0.0000624 (50 iterations in 0.013s)\n",
      "[t-SNE] KL divergence after 1000 iterations: 0.410348\n",
      "[t-SNE] Computed conditional probabilities for sample 73 / 73\n",
      "[t-SNE] Mean sigma: 0.501002\n",
      "Beginning preprocessing + Leiden\n",
      "Affmat shape: 73\n"
     ]
    },
    {
     "name": "stderr",
     "output_type": "stream",
     "text": [
      "[Parallel(n_jobs=80)]: Using backend LokyBackend with 80 concurrent workers.\n"
     ]
    },
    {
     "name": "stdout",
     "output_type": "stream",
     "text": [
      "Quality: 0.23841826418087406\n",
      "Got subclusters: Counter({0: 31, 1: 26, 2: 16})\n",
      "Preparing seqlet scorer\n",
      "Pattern length (and hence target seqlet size) is 25\n",
      "Subsampling subpattern 0\n",
      "Subsampling subpattern 1\n",
      "Subsampling subpattern 2\n",
      "Subsampling subpattern 3\n",
      "Subsampling subpattern 4\n",
      "Subsampling subpattern 5\n",
      "Prepare seqlet scorer\n",
      "Computing best alignments for all motifseqlets\n",
      "Launching nearest neighbors affmat calculation job\n",
      "MEMORY 5.848526848\n"
     ]
    },
    {
     "name": "stderr",
     "output_type": "stream",
     "text": [
      "[Parallel(n_jobs=80)]: Done  44 out of  50 | elapsed:    0.2s remaining:    0.0s\n",
      "[Parallel(n_jobs=80)]: Done  50 out of  50 | elapsed:    0.2s finished\n"
     ]
    },
    {
     "name": "stdout",
     "output_type": "stream",
     "text": [
      "Parallel runs completed\n",
      "MEMORY 5.85220096\n",
      "Job completed in: 0.47 s\n",
      "MEMORY 5.85334784\n",
      "Launching nearest neighbors affmat calculation job\n",
      "MEMORY 5.853986816\n",
      "Parallel runs completed\n",
      "MEMORY 5.862100992\n",
      "Job completed in: 0.46 s\n",
      "MEMORY 5.862068224\n",
      "On seqlets 0 to 779 out of 779\n"
     ]
    },
    {
     "name": "stderr",
     "output_type": "stream",
     "text": [
      "100%|███████████████████████████████████████████| 13/13 [00:06<00:00,  2.07it/s]\n"
     ]
    },
    {
     "name": "stdout",
     "output_type": "stream",
     "text": [
      "Accuracy: 1.0\n",
      "Accuracy: 1.0\n",
      "Mapping affinity to distmat\n",
      "Symmetrizing nearest neighbors\n",
      "Computing betas for density adaptation\n",
      "Computing normalizing denominators\n",
      "Computing density-adapted nn affmat\n",
      "Beginning preprocessing + Leiden\n",
      "initclusters length: 779\n",
      "Affmat shape: 779\n"
     ]
    },
    {
     "name": "stderr",
     "output_type": "stream",
     "text": [
      "[Parallel(n_jobs=80)]: Using backend LokyBackend with 80 concurrent workers.\n"
     ]
    },
    {
     "name": "stdout",
     "output_type": "stream",
     "text": [
      "Quality: 0.10819003339640808\n",
      "Quality: 0.10850088332212095\n"
     ]
    },
    {
     "name": "stderr",
     "output_type": "stream",
     "text": [
      "[Parallel(n_jobs=80)]: Done  44 out of  50 | elapsed:    1.0s remaining:    0.1s\n",
      "[Parallel(n_jobs=80)]: Done  50 out of  50 | elapsed:    1.0s finished\n"
     ]
    },
    {
     "name": "stdout",
     "output_type": "stream",
     "text": [
      "Number of reclustered idxs: 5\n",
      "{(4, 0), (0, 0), (1, 1), (2, 0), (3, 0)}\n",
      "Preparing modularity scorer\n",
      "Accuracy: 0.9563543003851092\n",
      "Computing windowed sums on original\n",
      "Generating null dist\n",
      "peak(mu)= 0.0026692801835379205\n",
      "Computing threshold\n",
      "Subsampling!\n",
      "For increasing = True , the minimum IR precision was 0.3273063727617407 occurring at 4.568710210151039e-08 implying a frac_neg of 0.4865608346930467\n",
      "To be conservative, adjusted frac neg is 0.95\n",
      "For increasing = False , the minimum IR precision was 0.4119079233759387 occurring at -5.404581315815449e-08 implying a frac_neg of 0.7004139993527773\n",
      "To be conservative, adjusted frac neg is 0.95\n",
      "Thresholds from null dist were -0.0993662653490901  and  0.2703489763662219 with frac passing 0.057309\n",
      "Final raw thresholds are -0.0993662653490901  and  0.2703489763662219\n",
      "Final transformed thresholds are -0.8674532386757442  and  0.9531135542246333\n"
     ]
    },
    {
     "data": {
      "image/png": "[encoded data removed]",
      "text/plain": [
       "<Figure size 432x288 with 2 Axes>"
      ]
     },
     "metadata": {
      "needs_background": "light"
     },
     "output_type": "display_data"
    },
    {
     "name": "stdout",
     "output_type": "stream",
     "text": [
      "Only returning positive coords!\n",
      "Got 64075 coords\n",
      "Starting hit scoring...\n",
      "\tScoring batch 1/33\n",
      "Computing windowed sums on original\n",
      "Only returning positive coords!\n",
      "Got 3814 coords\n",
      "Launching nearest neighbors affmat calculation job\n",
      "MEMORY 6.313578496\n",
      "Parallel runs completed\n",
      "MEMORY 6.320467968\n",
      "Job completed in: 8.2 s\n",
      "MEMORY 6.320549888\n",
      "Launching nearest neighbors affmat calculation job\n",
      "MEMORY 6.320480256\n",
      "Parallel runs completed\n",
      "MEMORY 6.325956608\n",
      "Job completed in: 8.19 s\n",
      "MEMORY 6.325915648\n",
      "On seqlets 0 to 3814 out of 3814\n"
     ]
    },
    {
     "name": "stderr",
     "output_type": "stream",
     "text": [
      "100%|███████████████████████████████████████████| 13/13 [00:11<00:00,  1.17it/s]\n"
     ]
    },
    {
     "name": "stdout",
     "output_type": "stream",
     "text": [
      "Launching nearest neighbors affmat calculation job\n",
      "MEMORY 6.34298368\n",
      "Parallel runs completed\n",
      "MEMORY 6.345613312\n",
      "Job completed in: 3.84 s\n",
      "MEMORY 6.345015296\n",
      "Launching nearest neighbors affmat calculation job\n",
      "MEMORY 6.34417152\n",
      "Parallel runs completed\n",
      "MEMORY 6.34585088\n",
      "Job completed in: 3.78 s\n",
      "MEMORY 6.345736192\n",
      "On seqlets 0 to 3814 out of 3814\n"
     ]
    },
    {
     "name": "stderr",
     "output_type": "stream",
     "text": [
      "100%|█████████████████████████████████████████████| 2/2 [00:00<00:00,  6.79it/s]\n"
     ]
    },
    {
     "name": "stdout",
     "output_type": "stream",
     "text": [
      "Removed 0 duplicates\n",
      "\tScoring batch 2/33\n",
      "Computing windowed sums on original\n",
      "Only returning positive coords!\n",
      "Got 3065 coords\n",
      "Launching nearest neighbors affmat calculation job\n",
      "MEMORY 6.357008384\n",
      "Parallel runs completed\n",
      "MEMORY 6.358003712\n",
      "Job completed in: 6.69 s\n",
      "MEMORY 6.35764736\n",
      "Launching nearest neighbors affmat calculation job\n",
      "MEMORY 6.357200896\n",
      "Parallel runs completed\n",
      "MEMORY 6.361903104\n",
      "Job completed in: 6.75 s\n",
      "MEMORY 6.361821184\n",
      "On seqlets 0 to 3065 out of 3065\n"
     ]
    },
    {
     "name": "stderr",
     "output_type": "stream",
     "text": [
      "100%|███████████████████████████████████████████| 13/13 [00:14<00:00,  1.08s/it]\n"
     ]
    },
    {
     "name": "stdout",
     "output_type": "stream",
     "text": [
      "Launching nearest neighbors affmat calculation job\n",
      "MEMORY 6.370177024\n",
      "Parallel runs completed\n",
      "MEMORY 6.371885056\n",
      "Job completed in: 3.18 s\n",
      "MEMORY 6.371729408\n",
      "Launching nearest neighbors affmat calculation job\n",
      "MEMORY 6.37124608\n",
      "Parallel runs completed\n",
      "MEMORY 6.371893248\n",
      "Job completed in: 3.07 s\n",
      "MEMORY 6.37177856\n",
      "On seqlets 0 to 3065 out of 3065\n"
     ]
    },
    {
     "name": "stderr",
     "output_type": "stream",
     "text": [
      "100%|█████████████████████████████████████████████| 2/2 [00:00<00:00,  8.13it/s]\n"
     ]
    },
    {
     "name": "stdout",
     "output_type": "stream",
     "text": [
      "Removed 0 duplicates\n",
      "\tScoring batch 3/33\n",
      "Computing windowed sums on original\n",
      "Only returning positive coords!\n",
      "Got 2861 coords\n",
      "Launching nearest neighbors affmat calculation job\n",
      "MEMORY 6.370910208\n",
      "Parallel runs completed\n",
      "MEMORY 6.376607744\n",
      "Job completed in: 6.22 s\n",
      "MEMORY 6.376484864\n",
      "Launching nearest neighbors affmat calculation job\n",
      "MEMORY 6.376046592\n",
      "Parallel runs completed\n",
      "MEMORY 6.3806464\n",
      "Job completed in: 6.19 s\n",
      "MEMORY 6.380568576\n",
      "On seqlets 0 to 2861 out of 2861\n"
     ]
    },
    {
     "name": "stderr",
     "output_type": "stream",
     "text": [
      "100%|███████████████████████████████████████████| 13/13 [00:12<00:00,  1.06it/s]\n"
     ]
    },
    {
     "name": "stdout",
     "output_type": "stream",
     "text": [
      "Launching nearest neighbors affmat calculation job\n",
      "MEMORY 6.380060672\n",
      "Parallel runs completed\n",
      "MEMORY 6.380691456\n",
      "Job completed in: 2.98 s\n",
      "MEMORY 6.380634112\n",
      "Launching nearest neighbors affmat calculation job\n",
      "MEMORY 6.380060672\n",
      "Parallel runs completed\n",
      "MEMORY 6.381723648\n",
      "Job completed in: 2.82 s\n",
      "MEMORY 6.381625344\n",
      "On seqlets 0 to 2861 out of 2861\n"
     ]
    },
    {
     "name": "stderr",
     "output_type": "stream",
     "text": [
      "100%|█████████████████████████████████████████████| 2/2 [00:00<00:00,  8.93it/s]\n"
     ]
    },
    {
     "name": "stdout",
     "output_type": "stream",
     "text": [
      "Removed 1 duplicates\n",
      "\tScoring batch 4/33\n",
      "Computing windowed sums on original\n",
      "Only returning positive coords!\n",
      "Got 2622 coords\n",
      "Launching nearest neighbors affmat calculation job\n",
      "MEMORY 6.382845952\n",
      "Parallel runs completed\n",
      "MEMORY 6.386868224\n",
      "Job completed in: 5.69 s\n",
      "MEMORY 6.3867904\n",
      "Launching nearest neighbors affmat calculation job\n",
      "MEMORY 6.3863808\n",
      "Parallel runs completed\n",
      "MEMORY 6.39094784\n",
      "Job completed in: 5.85 s\n",
      "MEMORY 6.390882304\n",
      "On seqlets 0 to 2622 out of 2622\n"
     ]
    },
    {
     "name": "stderr",
     "output_type": "stream",
     "text": [
      "100%|███████████████████████████████████████████| 13/13 [00:09<00:00,  1.31it/s]\n"
     ]
    },
    {
     "name": "stdout",
     "output_type": "stream",
     "text": [
      "Launching nearest neighbors affmat calculation job\n",
      "MEMORY 6.39029248\n",
      "Parallel runs completed\n",
      "MEMORY 6.392025088\n",
      "Job completed in: 2.7 s\n",
      "MEMORY 6.391934976\n",
      "Launching nearest neighbors affmat calculation job\n",
      "MEMORY 6.391369728\n",
      "Parallel runs completed\n",
      "MEMORY 6.3931392\n",
      "Job completed in: 2.71 s\n",
      "MEMORY 6.392991744\n",
      "On seqlets 0 to 2622 out of 2622\n"
     ]
    },
    {
     "name": "stderr",
     "output_type": "stream",
     "text": [
      "100%|█████████████████████████████████████████████| 2/2 [00:00<00:00,  9.73it/s]\n"
     ]
    },
    {
     "name": "stdout",
     "output_type": "stream",
     "text": [
      "Removed 1 duplicates\n",
      "\tScoring batch 5/33\n",
      "Computing windowed sums on original\n",
      "Only returning positive coords!\n",
      "Got 2591 coords\n",
      "Launching nearest neighbors affmat calculation job\n",
      "MEMORY 6.393278464\n",
      "Parallel runs completed\n",
      "MEMORY 6.398193664\n",
      "Job completed in: 5.69 s\n",
      "MEMORY 6.398087168\n",
      "Launching nearest neighbors affmat calculation job\n",
      "MEMORY 6.397538304\n",
      "Parallel runs completed\n",
      "MEMORY 6.402072576\n",
      "Job completed in: 5.72 s\n",
      "MEMORY 6.4019456\n",
      "On seqlets 0 to 2591 out of 2591\n"
     ]
    },
    {
     "name": "stderr",
     "output_type": "stream",
     "text": [
      "100%|███████████████████████████████████████████| 13/13 [00:09<00:00,  1.33it/s]\n"
     ]
    },
    {
     "name": "stdout",
     "output_type": "stream",
     "text": [
      "Launching nearest neighbors affmat calculation job\n",
      "MEMORY 6.40145408\n",
      "Parallel runs completed\n",
      "MEMORY 6.402056192\n",
      "Job completed in: 2.59 s\n",
      "MEMORY 6.401978368\n",
      "Launching nearest neighbors affmat calculation job\n",
      "MEMORY 6.40145408\n",
      "Parallel runs completed\n",
      "MEMORY 6.40210944\n",
      "Job completed in: 2.71 s\n",
      "MEMORY 6.40206848\n",
      "On seqlets 0 to 2591 out of 2591\n"
     ]
    },
    {
     "name": "stderr",
     "output_type": "stream",
     "text": [
      "100%|█████████████████████████████████████████████| 2/2 [00:00<00:00,  9.94it/s]\n"
     ]
    },
    {
     "name": "stdout",
     "output_type": "stream",
     "text": [
      "Removed 2 duplicates\n",
      "\tScoring batch 6/33\n",
      "Computing windowed sums on original\n",
      "Only returning positive coords!\n",
      "Got 2440 coords\n",
      "Launching nearest neighbors affmat calculation job\n",
      "MEMORY 6.402486272\n",
      "Parallel runs completed\n",
      "MEMORY 6.407921664\n",
      "Job completed in: 6.25 s\n",
      "MEMORY 6.40774144\n",
      "Launching nearest neighbors affmat calculation job\n",
      "MEMORY 6.407380992\n",
      "Parallel runs completed\n",
      "MEMORY 6.408044544\n",
      "Job completed in: 5.32 s\n",
      "MEMORY 6.40796672\n",
      "On seqlets 0 to 2440 out of 2440\n"
     ]
    },
    {
     "name": "stderr",
     "output_type": "stream",
     "text": [
      "100%|███████████████████████████████████████████| 13/13 [00:08<00:00,  1.59it/s]\n"
     ]
    },
    {
     "name": "stdout",
     "output_type": "stream",
     "text": [
      "Launching nearest neighbors affmat calculation job\n",
      "MEMORY 6.407544832\n",
      "Parallel runs completed\n",
      "MEMORY 6.409138176\n",
      "Job completed in: 2.27 s\n",
      "MEMORY 6.40903168\n",
      "Launching nearest neighbors affmat calculation job\n",
      "MEMORY 6.408482816\n",
      "Parallel runs completed\n",
      "MEMORY 6.410108928\n",
      "Job completed in: 2.37 s\n",
      "MEMORY 6.409867264\n",
      "On seqlets 0 to 2440 out of 2440\n"
     ]
    },
    {
     "name": "stderr",
     "output_type": "stream",
     "text": [
      "100%|█████████████████████████████████████████████| 2/2 [00:00<00:00,  8.40it/s]\n"
     ]
    },
    {
     "name": "stdout",
     "output_type": "stream",
     "text": [
      "Removed 0 duplicates\n",
      "\tScoring batch 7/33\n",
      "Computing windowed sums on original\n",
      "Only returning positive coords!\n",
      "Got 2478 coords\n",
      "Launching nearest neighbors affmat calculation job\n",
      "MEMORY 6.410801152\n",
      "Parallel runs completed\n",
      "MEMORY 6.416105472\n",
      "Job completed in: 5.43 s\n",
      "MEMORY 6.416039936\n",
      "Launching nearest neighbors affmat calculation job\n",
      "MEMORY 6.415548416\n",
      "Parallel runs completed\n",
      "MEMORY 6.42000896\n",
      "Job completed in: 5.44 s\n",
      "MEMORY 6.419955712\n",
      "On seqlets 0 to 2478 out of 2478\n"
     ]
    },
    {
     "name": "stderr",
     "output_type": "stream",
     "text": [
      "100%|███████████████████████████████████████████| 13/13 [00:08<00:00,  1.49it/s]\n"
     ]
    },
    {
     "name": "stdout",
     "output_type": "stream",
     "text": [
      "Launching nearest neighbors affmat calculation job\n",
      "MEMORY 6.419918848\n",
      "Parallel runs completed\n",
      "MEMORY 6.420570112\n",
      "Job completed in: 2.52 s\n",
      "MEMORY 6.420529152\n",
      "Launching nearest neighbors affmat calculation job\n",
      "MEMORY 6.419922944\n",
      "Parallel runs completed\n",
      "MEMORY 6.42164736\n",
      "Job completed in: 2.53 s\n",
      "MEMORY 6.421499904\n",
      "On seqlets 0 to 2478 out of 2478\n"
     ]
    },
    {
     "name": "stderr",
     "output_type": "stream",
     "text": [
      "100%|█████████████████████████████████████████████| 2/2 [00:00<00:00, 10.71it/s]\n"
     ]
    },
    {
     "name": "stdout",
     "output_type": "stream",
     "text": [
      "Removed 0 duplicates\n",
      "\tScoring batch 8/33\n",
      "Computing windowed sums on original\n",
      "Only returning positive coords!\n",
      "Got 2241 coords\n",
      "Launching nearest neighbors affmat calculation job\n",
      "MEMORY 6.422306816\n",
      "Parallel runs completed\n",
      "MEMORY 6.42336768\n",
      "Job completed in: 4.99 s\n",
      "MEMORY 6.423302144\n",
      "Launching nearest neighbors affmat calculation job\n",
      "MEMORY 6.422908928\n",
      "Parallel runs completed\n",
      "MEMORY 6.428475392\n",
      "Job completed in: 5.02 s\n",
      "MEMORY 6.428360704\n",
      "On seqlets 0 to 2241 out of 2241\n"
     ]
    },
    {
     "name": "stderr",
     "output_type": "stream",
     "text": [
      "100%|███████████████████████████████████████████| 13/13 [00:11<00:00,  1.16it/s]\n"
     ]
    },
    {
     "name": "stdout",
     "output_type": "stream",
     "text": [
      "Launching nearest neighbors affmat calculation job\n",
      "MEMORY 6.42781184\n",
      "Parallel runs completed\n",
      "MEMORY 6.429159424\n",
      "Job completed in: 2.45 s\n",
      "MEMORY 6.429077504\n",
      "Launching nearest neighbors affmat calculation job\n",
      "MEMORY 6.428553216\n",
      "Parallel runs completed\n",
      "MEMORY 6.429241344\n",
      "Job completed in: 2.34 s\n",
      "MEMORY 6.429184\n",
      "On seqlets 0 to 2241 out of 2241\n"
     ]
    },
    {
     "name": "stderr",
     "output_type": "stream",
     "text": [
      "100%|█████████████████████████████████████████████| 2/2 [00:00<00:00, 11.75it/s]\n"
     ]
    },
    {
     "name": "stdout",
     "output_type": "stream",
     "text": [
      "Removed 0 duplicates\n",
      "\tScoring batch 9/33\n",
      "Computing windowed sums on original\n",
      "Only returning positive coords!\n",
      "Got 2277 coords\n",
      "Launching nearest neighbors affmat calculation job\n",
      "MEMORY 6.429990912\n",
      "Parallel runs completed\n",
      "MEMORY 6.430838784\n",
      "Job completed in: 5.03 s\n",
      "MEMORY 6.43072\n",
      "Launching nearest neighbors affmat calculation job\n",
      "MEMORY 6.430154752\n",
      "Parallel runs completed\n",
      "MEMORY 6.431387648\n",
      "Job completed in: 5.02 s\n",
      "MEMORY 6.431281152\n",
      "On seqlets 0 to 2277 out of 2277\n"
     ]
    },
    {
     "name": "stderr",
     "output_type": "stream",
     "text": [
      "100%|███████████████████████████████████████████| 13/13 [00:11<00:00,  1.14it/s]\n"
     ]
    },
    {
     "name": "stdout",
     "output_type": "stream",
     "text": [
      "Launching nearest neighbors affmat calculation job\n",
      "MEMORY 6.430777344\n",
      "Parallel runs completed\n",
      "MEMORY 6.432370688\n",
      "Job completed in: 2.44 s\n",
      "MEMORY 6.432280576\n",
      "Launching nearest neighbors affmat calculation job\n",
      "MEMORY 6.431707136\n",
      "Parallel runs completed\n",
      "MEMORY 6.432313344\n",
      "Job completed in: 2.29 s\n",
      "MEMORY 6.432247808\n",
      "On seqlets 0 to 2277 out of 2277\n"
     ]
    },
    {
     "name": "stderr",
     "output_type": "stream",
     "text": [
      "100%|█████████████████████████████████████████████| 2/2 [00:00<00:00, 11.49it/s]\n"
     ]
    },
    {
     "name": "stdout",
     "output_type": "stream",
     "text": [
      "Removed 0 duplicates\n",
      "\tScoring batch 10/33\n",
      "Computing windowed sums on original\n",
      "Only returning positive coords!\n",
      "Got 2244 coords\n",
      "Launching nearest neighbors affmat calculation job\n",
      "MEMORY 6.432985088\n",
      "Parallel runs completed\n",
      "MEMORY 6.436253696\n",
      "Job completed in: 4.97 s\n",
      "MEMORY 6.436155392\n",
      "Launching nearest neighbors affmat calculation job\n",
      "MEMORY 6.435975168\n",
      "Parallel runs completed\n",
      "MEMORY 6.44042752\n",
      "Job completed in: 4.96 s\n",
      "MEMORY 6.440349696\n",
      "On seqlets 0 to 2244 out of 2244\n"
     ]
    },
    {
     "name": "stderr",
     "output_type": "stream",
     "text": [
      "100%|███████████████████████████████████████████| 13/13 [00:11<00:00,  1.15it/s]\n"
     ]
    },
    {
     "name": "stdout",
     "output_type": "stream",
     "text": [
      "Launching nearest neighbors affmat calculation job\n",
      "MEMORY 6.439686144\n",
      "Parallel runs completed\n",
      "MEMORY 6.441275392\n",
      "Job completed in: 2.32 s\n",
      "MEMORY 6.4411648\n",
      "Launching nearest neighbors affmat calculation job\n",
      "MEMORY 6.4406528\n",
      "Parallel runs completed\n",
      "MEMORY 6.442307584\n",
      "Job completed in: 2.29 s\n",
      "MEMORY 6.4421888\n",
      "On seqlets 0 to 2244 out of 2244\n"
     ]
    },
    {
     "name": "stderr",
     "output_type": "stream",
     "text": [
      "100%|█████████████████████████████████████████████| 2/2 [00:00<00:00, 11.61it/s]\n"
     ]
    },
    {
     "name": "stdout",
     "output_type": "stream",
     "text": [
      "Removed 1 duplicates\n",
      "\tScoring batch 11/33\n",
      "Computing windowed sums on original\n",
      "Only returning positive coords!\n",
      "Got 2263 coords\n",
      "Launching nearest neighbors affmat calculation job\n",
      "MEMORY 6.442876928\n",
      "Parallel runs completed\n",
      "MEMORY 6.447284224\n",
      "Job completed in: 4.99 s\n",
      "MEMORY 6.447161344\n",
      "Launching nearest neighbors affmat calculation job\n",
      "MEMORY 6.446751744\n",
      "Parallel runs completed\n",
      "MEMORY 6.450290688\n",
      "Job completed in: 4.96 s\n",
      "MEMORY 6.450188288\n",
      "On seqlets 0 to 2263 out of 2263\n"
     ]
    },
    {
     "name": "stderr",
     "output_type": "stream",
     "text": [
      "100%|███████████████████████████████████████████| 13/13 [00:10<00:00,  1.23it/s]\n"
     ]
    },
    {
     "name": "stdout",
     "output_type": "stream",
     "text": [
      "Launching nearest neighbors affmat calculation job\n",
      "MEMORY 6.449618944\n",
      "Parallel runs completed\n",
      "MEMORY 6.450282496\n",
      "Job completed in: 2.36 s\n",
      "MEMORY 6.450151424\n",
      "Launching nearest neighbors affmat calculation job\n",
      "MEMORY 6.449635328\n",
      "Parallel runs completed\n",
      "MEMORY 6.450241536\n",
      "Job completed in: 2.41 s\n",
      "MEMORY 6.450159616\n",
      "On seqlets 0 to 2263 out of 2263\n"
     ]
    },
    {
     "name": "stderr",
     "output_type": "stream",
     "text": [
      "100%|█████████████████████████████████████████████| 2/2 [00:00<00:00, 11.65it/s]\n"
     ]
    },
    {
     "name": "stdout",
     "output_type": "stream",
     "text": [
      "Removed 0 duplicates\n",
      "\tScoring batch 12/33\n",
      "Computing windowed sums on original\n",
      "Only returning positive coords!\n",
      "Got 2075 coords\n",
      "Launching nearest neighbors affmat calculation job\n",
      "MEMORY 6.450929664\n",
      "Parallel runs completed\n",
      "MEMORY 6.451605504\n",
      "Job completed in: 4.66 s\n",
      "MEMORY 6.451499008\n",
      "Launching nearest neighbors affmat calculation job\n",
      "MEMORY 6.451122176\n",
      "Parallel runs completed\n",
      "MEMORY 6.456602624\n",
      "Job completed in: 4.63 s\n",
      "MEMORY 6.456520704\n",
      "On seqlets 0 to 2075 out of 2075\n"
     ]
    },
    {
     "name": "stderr",
     "output_type": "stream",
     "text": [
      "100%|███████████████████████████████████████████| 13/13 [00:09<00:00,  1.37it/s]"
     ]
    },
    {
     "name": "stdout",
     "output_type": "stream",
     "text": [
      "Launching nearest neighbors affmat calculation job\n",
      "MEMORY 6.455963648\n"
     ]
    },
    {
     "name": "stderr",
     "output_type": "stream",
     "text": [
      "\n"
     ]
    },
    {
     "name": "stdout",
     "output_type": "stream",
     "text": [
      "Parallel runs completed\n",
      "MEMORY 6.456651776\n",
      "Job completed in: 2.15 s\n",
      "MEMORY 6.456573952\n",
      "Launching nearest neighbors affmat calculation job\n",
      "MEMORY 6.456242176\n",
      "Parallel runs completed\n",
      "MEMORY 6.4567296\n",
      "Job completed in: 2.13 s\n",
      "MEMORY 6.45660672\n",
      "On seqlets 0 to 2075 out of 2075\n"
     ]
    },
    {
     "name": "stderr",
     "output_type": "stream",
     "text": [
      "100%|█████████████████████████████████████████████| 2/2 [00:00<00:00, 12.65it/s]\n"
     ]
    },
    {
     "name": "stdout",
     "output_type": "stream",
     "text": [
      "Removed 0 duplicates\n",
      "\tScoring batch 13/33\n",
      "Computing windowed sums on original\n",
      "Only returning positive coords!\n",
      "Got 2106 coords\n",
      "Launching nearest neighbors affmat calculation job\n",
      "MEMORY 6.456963072\n",
      "Parallel runs completed\n",
      "MEMORY 6.4585728\n",
      "Job completed in: 4.73 s\n",
      "MEMORY 6.458564608\n",
      "Launching nearest neighbors affmat calculation job\n",
      "MEMORY 6.458175488\n",
      "Parallel runs completed\n",
      "MEMORY 6.462353408\n",
      "Job completed in: 4.6 s\n",
      "MEMORY 6.462271488\n",
      "On seqlets 0 to 2106 out of 2106\n"
     ]
    },
    {
     "name": "stderr",
     "output_type": "stream",
     "text": [
      "100%|███████████████████████████████████████████| 13/13 [00:07<00:00,  1.76it/s]\n"
     ]
    },
    {
     "name": "stdout",
     "output_type": "stream",
     "text": [
      "Launching nearest neighbors affmat calculation job\n",
      "MEMORY 6.46170624\n",
      "Parallel runs completed\n",
      "MEMORY 6.46326272\n",
      "Job completed in: 2.08 s\n",
      "MEMORY 6.463176704\n",
      "Launching nearest neighbors affmat calculation job\n",
      "MEMORY 6.462640128\n",
      "Parallel runs completed\n",
      "MEMORY 6.463320064\n",
      "Job completed in: 2.21 s\n",
      "MEMORY 6.463238144\n",
      "On seqlets 0 to 2106 out of 2106\n"
     ]
    },
    {
     "name": "stderr",
     "output_type": "stream",
     "text": [
      "100%|█████████████████████████████████████████████| 2/2 [00:00<00:00, 12.42it/s]\n"
     ]
    },
    {
     "name": "stdout",
     "output_type": "stream",
     "text": [
      "Removed 0 duplicates\n",
      "\tScoring batch 14/33\n",
      "Computing windowed sums on original\n",
      "Only returning positive coords!\n",
      "Got 1964 coords\n",
      "Launching nearest neighbors affmat calculation job\n",
      "MEMORY 6.472241152\n",
      "Parallel runs completed\n",
      "MEMORY 6.473232384\n",
      "Job completed in: 4.4 s\n",
      "MEMORY 6.473109504\n",
      "Launching nearest neighbors affmat calculation job\n",
      "MEMORY 6.472732672\n",
      "Parallel runs completed\n",
      "MEMORY 6.475747328\n",
      "Job completed in: 4.35 s\n",
      "MEMORY 6.475665408\n",
      "On seqlets 0 to 1964 out of 1964\n"
     ]
    },
    {
     "name": "stderr",
     "output_type": "stream",
     "text": [
      "100%|███████████████████████████████████████████| 13/13 [00:08<00:00,  1.51it/s]"
     ]
    },
    {
     "name": "stdout",
     "output_type": "stream",
     "text": [
      "Launching nearest neighbors affmat calculation job\n",
      "MEMORY 6.475104256\n"
     ]
    },
    {
     "name": "stderr",
     "output_type": "stream",
     "text": [
      "\n"
     ]
    },
    {
     "name": "stdout",
     "output_type": "stream",
     "text": [
      "Parallel runs completed\n",
      "MEMORY 6.475808768\n",
      "Job completed in: 2.06 s\n",
      "MEMORY 6.47573504\n",
      "Launching nearest neighbors affmat calculation job\n",
      "MEMORY 6.475137024\n",
      "Parallel runs completed\n",
      "MEMORY 6.475767808\n",
      "Job completed in: 2.07 s\n",
      "MEMORY 6.475636736\n",
      "On seqlets 0 to 1964 out of 1964\n"
     ]
    },
    {
     "name": "stderr",
     "output_type": "stream",
     "text": [
      "100%|█████████████████████████████████████████████| 2/2 [00:00<00:00, 13.30it/s]\n"
     ]
    },
    {
     "name": "stdout",
     "output_type": "stream",
     "text": [
      "Removed 1 duplicates\n",
      "\tScoring batch 15/33\n",
      "Computing windowed sums on original\n",
      "Only returning positive coords!\n",
      "Got 2011 coords\n",
      "Launching nearest neighbors affmat calculation job\n",
      "MEMORY 6.475370496\n",
      "Parallel runs completed\n",
      "MEMORY 6.480965632\n",
      "Job completed in: 4.52 s\n",
      "MEMORY 6.480891904\n",
      "Launching nearest neighbors affmat calculation job\n",
      "MEMORY 6.48042496\n",
      "Parallel runs completed\n",
      "MEMORY 6.480695296\n",
      "Job completed in: 4.54 s\n",
      "MEMORY 6.480613376\n",
      "On seqlets 0 to 2011 out of 2011\n"
     ]
    },
    {
     "name": "stderr",
     "output_type": "stream",
     "text": [
      "100%|███████████████████████████████████████████| 13/13 [00:09<00:00,  1.44it/s]"
     ]
    },
    {
     "name": "stdout",
     "output_type": "stream",
     "text": [
      "Launching nearest neighbors affmat calculation job\n",
      "MEMORY 6.480048128\n"
     ]
    },
    {
     "name": "stderr",
     "output_type": "stream",
     "text": [
      "\n"
     ]
    },
    {
     "name": "stdout",
     "output_type": "stream",
     "text": [
      "Parallel runs completed\n",
      "MEMORY 6.48169472\n",
      "Job completed in: 2.09 s\n",
      "MEMORY 6.481580032\n",
      "Launching nearest neighbors affmat calculation job\n",
      "MEMORY 6.48105984\n",
      "Parallel runs completed\n",
      "MEMORY 6.48165376\n",
      "Job completed in: 2.06 s\n",
      "MEMORY 6.481559552\n",
      "On seqlets 0 to 2011 out of 2011\n"
     ]
    },
    {
     "name": "stderr",
     "output_type": "stream",
     "text": [
      "100%|█████████████████████████████████████████████| 2/2 [00:00<00:00, 12.88it/s]\n"
     ]
    },
    {
     "name": "stdout",
     "output_type": "stream",
     "text": [
      "Removed 0 duplicates\n",
      "\tScoring batch 16/33\n",
      "Computing windowed sums on original\n",
      "Only returning positive coords!\n",
      "Got 1858 coords\n",
      "Launching nearest neighbors affmat calculation job\n",
      "MEMORY 6.489042944\n",
      "Parallel runs completed\n",
      "MEMORY 6.489726976\n",
      "Job completed in: 4.17 s\n",
      "MEMORY 6.489677824\n",
      "Launching nearest neighbors affmat calculation job\n",
      "MEMORY 6.489268224\n",
      "Parallel runs completed\n",
      "MEMORY 6.4940032\n",
      "Job completed in: 4.17 s\n",
      "MEMORY 6.493945856\n",
      "On seqlets 0 to 1858 out of 1858\n"
     ]
    },
    {
     "name": "stderr",
     "output_type": "stream",
     "text": [
      "100%|███████████████████████████████████████████| 13/13 [00:07<00:00,  1.71it/s]"
     ]
    },
    {
     "name": "stdout",
     "output_type": "stream",
     "text": [
      "Launching nearest neighbors affmat calculation job\n",
      "MEMORY 6.49332736\n"
     ]
    },
    {
     "name": "stderr",
     "output_type": "stream",
     "text": [
      "\n"
     ]
    },
    {
     "name": "stdout",
     "output_type": "stream",
     "text": [
      "Parallel runs completed\n",
      "MEMORY 6.494961664\n",
      "Job completed in: 1.96 s\n",
      "MEMORY 6.494879744\n",
      "Launching nearest neighbors affmat calculation job\n",
      "MEMORY 6.494318592\n",
      "Parallel runs completed\n",
      "MEMORY 6.494990336\n",
      "Job completed in: 2.03 s\n",
      "MEMORY 6.494916608\n",
      "On seqlets 0 to 1858 out of 1858\n"
     ]
    },
    {
     "name": "stderr",
     "output_type": "stream",
     "text": [
      "100%|█████████████████████████████████████████████| 2/2 [00:00<00:00, 14.06it/s]\n"
     ]
    },
    {
     "name": "stdout",
     "output_type": "stream",
     "text": [
      "Removed 0 duplicates\n",
      "\tScoring batch 17/33\n",
      "Computing windowed sums on original\n",
      "Only returning positive coords!\n",
      "Got 1904 coords\n",
      "Launching nearest neighbors affmat calculation job\n",
      "MEMORY 6.494318592\n",
      "Parallel runs completed\n",
      "MEMORY 6.495186944\n",
      "Job completed in: 4.28 s\n",
      "MEMORY 6.495121408\n",
      "Launching nearest neighbors affmat calculation job\n",
      "MEMORY 6.494654464\n",
      "Parallel runs completed\n",
      "MEMORY 6.499192832\n",
      "Job completed in: 4.3 s\n",
      "MEMORY 6.499110912\n",
      "On seqlets 0 to 1904 out of 1904\n"
     ]
    },
    {
     "name": "stderr",
     "output_type": "stream",
     "text": [
      "100%|███████████████████████████████████████████| 13/13 [00:08<00:00,  1.62it/s]"
     ]
    },
    {
     "name": "stdout",
     "output_type": "stream",
     "text": [
      "Launching nearest neighbors affmat calculation job\n",
      "MEMORY 6.498553856\n"
     ]
    },
    {
     "name": "stderr",
     "output_type": "stream",
     "text": [
      "\n"
     ]
    },
    {
     "name": "stdout",
     "output_type": "stream",
     "text": [
      "Parallel runs completed\n",
      "MEMORY 6.499192832\n",
      "Job completed in: 2.11 s\n",
      "MEMORY 6.499078144\n",
      "Launching nearest neighbors affmat calculation job\n",
      "MEMORY 6.498701312\n",
      "Parallel runs completed\n",
      "MEMORY 6.499274752\n",
      "Job completed in: 2.04 s\n",
      "MEMORY 6.49918464\n",
      "On seqlets 0 to 1904 out of 1904\n"
     ]
    },
    {
     "name": "stderr",
     "output_type": "stream",
     "text": [
      "100%|█████████████████████████████████████████████| 2/2 [00:00<00:00, 13.62it/s]\n"
     ]
    },
    {
     "name": "stdout",
     "output_type": "stream",
     "text": [
      "Removed 1 duplicates\n",
      "\tScoring batch 18/33\n",
      "Computing windowed sums on original\n",
      "Only returning positive coords!\n",
      "Got 1813 coords\n",
      "Launching nearest neighbors affmat calculation job\n",
      "MEMORY 6.498553856\n",
      "Parallel runs completed\n",
      "MEMORY 6.49947136\n",
      "Job completed in: 4.04 s\n",
      "MEMORY 6.499405824\n",
      "Launching nearest neighbors affmat calculation job\n",
      "MEMORY 6.49897984\n",
      "Parallel runs completed\n",
      "MEMORY 6.500569088\n",
      "Job completed in: 4.14 s\n",
      "MEMORY 6.500429824\n",
      "On seqlets 0 to 1813 out of 1813\n"
     ]
    },
    {
     "name": "stderr",
     "output_type": "stream",
     "text": [
      "100%|███████████████████████████████████████████| 13/13 [00:05<00:00,  2.23it/s]"
     ]
    },
    {
     "name": "stdout",
     "output_type": "stream",
     "text": [
      "Launching nearest neighbors affmat calculation job\n",
      "MEMORY 6.499913728\n"
     ]
    },
    {
     "name": "stderr",
     "output_type": "stream",
     "text": [
      "\n"
     ]
    },
    {
     "name": "stdout",
     "output_type": "stream",
     "text": [
      "Parallel runs completed\n",
      "MEMORY 6.500564992\n",
      "Job completed in: 1.9 s\n",
      "MEMORY 6.5004544\n",
      "Launching nearest neighbors affmat calculation job\n",
      "MEMORY 6.499991552\n",
      "Parallel runs completed\n",
      "MEMORY 6.501523456\n",
      "Job completed in: 1.84 s\n",
      "MEMORY 6.50141696\n",
      "On seqlets 0 to 1813 out of 1813\n"
     ]
    },
    {
     "name": "stderr",
     "output_type": "stream",
     "text": [
      "100%|█████████████████████████████████████████████| 2/2 [00:00<00:00, 14.47it/s]\n"
     ]
    },
    {
     "name": "stdout",
     "output_type": "stream",
     "text": [
      "Removed 0 duplicates\n",
      "\tScoring batch 19/33\n",
      "Computing windowed sums on original\n",
      "Only returning positive coords!\n",
      "Got 1712 coords\n",
      "Launching nearest neighbors affmat calculation job\n",
      "MEMORY 6.500872192\n",
      "Parallel runs completed\n",
      "MEMORY 6.5053696\n",
      "Job completed in: 3.87 s\n",
      "MEMORY 6.505254912\n",
      "Launching nearest neighbors affmat calculation job\n",
      "MEMORY 6.505058304\n",
      "Parallel runs completed\n",
      "MEMORY 6.509051904\n",
      "Job completed in: 3.74 s\n",
      "MEMORY 6.5089536\n",
      "On seqlets 0 to 1712 out of 1712\n"
     ]
    },
    {
     "name": "stderr",
     "output_type": "stream",
     "text": [
      "100%|███████████████████████████████████████████| 13/13 [00:08<00:00,  1.53it/s]"
     ]
    },
    {
     "name": "stdout",
     "output_type": "stream",
     "text": [
      "Launching nearest neighbors affmat calculation job\n",
      "MEMORY 6.508417024\n"
     ]
    },
    {
     "name": "stderr",
     "output_type": "stream",
     "text": [
      "\n"
     ]
    },
    {
     "name": "stdout",
     "output_type": "stream",
     "text": [
      "Parallel runs completed\n",
      "MEMORY 6.509043712\n",
      "Job completed in: 1.84 s\n",
      "MEMORY 6.508941312\n",
      "Launching nearest neighbors affmat calculation job\n",
      "MEMORY 6.50852352\n",
      "Parallel runs completed\n",
      "MEMORY 6.509072384\n",
      "Job completed in: 1.83 s\n",
      "MEMORY 6.5089536\n",
      "On seqlets 0 to 1712 out of 1712\n"
     ]
    },
    {
     "name": "stderr",
     "output_type": "stream",
     "text": [
      "100%|█████████████████████████████████████████████| 2/2 [00:00<00:00, 15.41it/s]\n"
     ]
    },
    {
     "name": "stdout",
     "output_type": "stream",
     "text": [
      "Removed 0 duplicates\n",
      "\tScoring batch 20/33\n",
      "Computing windowed sums on original\n",
      "Only returning positive coords!\n",
      "Got 1712 coords\n",
      "Launching nearest neighbors affmat calculation job\n",
      "MEMORY 6.508417024\n",
      "Parallel runs completed\n",
      "MEMORY 6.509223936\n",
      "Job completed in: 3.63 s\n",
      "MEMORY 6.509101056\n",
      "Launching nearest neighbors affmat calculation job\n",
      "MEMORY 6.508552192\n",
      "Parallel runs completed\n",
      "MEMORY 6.509223936\n",
      "Job completed in: 3.75 s\n",
      "MEMORY 6.509142016\n",
      "On seqlets 0 to 1712 out of 1712\n"
     ]
    },
    {
     "name": "stderr",
     "output_type": "stream",
     "text": [
      "100%|███████████████████████████████████████████| 13/13 [00:10<00:00,  1.23it/s]"
     ]
    },
    {
     "name": "stdout",
     "output_type": "stream",
     "text": [
      "Launching nearest neighbors affmat calculation job\n",
      "MEMORY 6.508527616\n"
     ]
    },
    {
     "name": "stderr",
     "output_type": "stream",
     "text": [
      "\n"
     ]
    },
    {
     "name": "stdout",
     "output_type": "stream",
     "text": [
      "Parallel runs completed\n",
      "MEMORY 6.50919936\n",
      "Job completed in: 1.84 s\n",
      "MEMORY 6.50911744\n",
      "Launching nearest neighbors affmat calculation job\n",
      "MEMORY 6.508679168\n",
      "Parallel runs completed\n",
      "MEMORY 6.509809664\n",
      "Job completed in: 1.93 s\n",
      "MEMORY 6.509727744\n",
      "On seqlets 0 to 1712 out of 1712\n"
     ]
    },
    {
     "name": "stderr",
     "output_type": "stream",
     "text": [
      "100%|█████████████████████████████████████████████| 2/2 [00:00<00:00, 15.43it/s]\n"
     ]
    },
    {
     "name": "stdout",
     "output_type": "stream",
     "text": [
      "Removed 1 duplicates\n",
      "\tScoring batch 21/33\n",
      "Computing windowed sums on original\n",
      "Only returning positive coords!\n",
      "Got 1639 coords\n",
      "Launching nearest neighbors affmat calculation job\n",
      "MEMORY 6.509113344\n",
      "Parallel runs completed\n",
      "MEMORY 6.509830144\n",
      "Job completed in: 3.79 s\n",
      "MEMORY 6.50973184\n",
      "Launching nearest neighbors affmat calculation job\n",
      "MEMORY 6.509379584\n",
      "Parallel runs completed\n",
      "MEMORY 6.513115136\n",
      "Job completed in: 3.71 s\n",
      "MEMORY 6.513025024\n",
      "On seqlets 0 to 1639 out of 1639\n"
     ]
    },
    {
     "name": "stderr",
     "output_type": "stream",
     "text": [
      "100%|███████████████████████████████████████████| 13/13 [00:10<00:00,  1.27it/s]"
     ]
    },
    {
     "name": "stdout",
     "output_type": "stream",
     "text": [
      "Launching nearest neighbors affmat calculation job\n",
      "MEMORY 6.512472064\n"
     ]
    },
    {
     "name": "stderr",
     "output_type": "stream",
     "text": [
      "\n"
     ]
    },
    {
     "name": "stdout",
     "output_type": "stream",
     "text": [
      "Parallel runs completed\n",
      "MEMORY 6.51403264\n",
      "Job completed in: 1.79 s\n",
      "MEMORY 6.51390976\n",
      "Launching nearest neighbors affmat calculation job\n",
      "MEMORY 6.513475584\n",
      "Parallel runs completed\n",
      "MEMORY 6.514139136\n",
      "Job completed in: 1.81 s\n",
      "MEMORY 6.51390976\n",
      "On seqlets 0 to 1639 out of 1639\n"
     ]
    },
    {
     "name": "stderr",
     "output_type": "stream",
     "text": [
      "100%|█████████████████████████████████████████████| 2/2 [00:00<00:00, 16.31it/s]\n"
     ]
    },
    {
     "name": "stdout",
     "output_type": "stream",
     "text": [
      "Removed 0 duplicates\n",
      "\tScoring batch 22/33\n",
      "Computing windowed sums on original\n",
      "Only returning positive coords!\n",
      "Got 1609 coords\n",
      "Launching nearest neighbors affmat calculation job\n",
      "MEMORY 6.513393664\n",
      "Parallel runs completed\n",
      "MEMORY 6.514839552\n",
      "Job completed in: 3.68 s\n",
      "MEMORY 6.514741248\n",
      "Launching nearest neighbors affmat calculation job\n",
      "MEMORY 6.514364416\n",
      "Parallel runs completed\n",
      "MEMORY 6.515011584\n",
      "Job completed in: 3.65 s\n",
      "MEMORY 6.514929664\n",
      "On seqlets 0 to 1609 out of 1609\n"
     ]
    },
    {
     "name": "stderr",
     "output_type": "stream",
     "text": [
      "100%|███████████████████████████████████████████| 13/13 [00:09<00:00,  1.34it/s]"
     ]
    },
    {
     "name": "stdout",
     "output_type": "stream",
     "text": [
      "Launching nearest neighbors affmat calculation job\n",
      "MEMORY 6.514356224\n"
     ]
    },
    {
     "name": "stderr",
     "output_type": "stream",
     "text": [
      "\n"
     ]
    },
    {
     "name": "stdout",
     "output_type": "stream",
     "text": [
      "Parallel runs completed\n",
      "MEMORY 6.5159168\n",
      "Job completed in: 1.75 s\n",
      "MEMORY 6.515781632\n",
      "Launching nearest neighbors affmat calculation job\n",
      "MEMORY 6.515331072\n",
      "Parallel runs completed\n",
      "MEMORY 6.515970048\n",
      "Job completed in: 1.8 s\n",
      "MEMORY 6.515871744\n",
      "On seqlets 0 to 1609 out of 1609\n"
     ]
    },
    {
     "name": "stderr",
     "output_type": "stream",
     "text": [
      "100%|█████████████████████████████████████████████| 2/2 [00:00<00:00, 16.60it/s]\n"
     ]
    },
    {
     "name": "stdout",
     "output_type": "stream",
     "text": [
      "Removed 0 duplicates\n",
      "\tScoring batch 23/33\n",
      "Computing windowed sums on original\n",
      "Only returning positive coords!\n",
      "Got 1596 coords\n",
      "Launching nearest neighbors affmat calculation job\n",
      "MEMORY 6.51524096\n",
      "Parallel runs completed\n",
      "MEMORY 6.51618304\n",
      "Job completed in: 3.68 s\n",
      "MEMORY 6.51610112\n",
      "Launching nearest neighbors affmat calculation job\n",
      "MEMORY 6.51569152\n",
      "Parallel runs completed\n",
      "MEMORY 6.519414784\n",
      "Job completed in: 3.62 s\n",
      "MEMORY 6.51935744\n",
      "On seqlets 0 to 1596 out of 1596\n"
     ]
    },
    {
     "name": "stderr",
     "output_type": "stream",
     "text": [
      "100%|███████████████████████████████████████████| 13/13 [00:08<00:00,  1.58it/s]"
     ]
    },
    {
     "name": "stdout",
     "output_type": "stream",
     "text": [
      "Launching nearest neighbors affmat calculation job\n",
      "MEMORY 6.518747136\n"
     ]
    },
    {
     "name": "stderr",
     "output_type": "stream",
     "text": [
      "\n"
     ]
    },
    {
     "name": "stdout",
     "output_type": "stream",
     "text": [
      "Parallel runs completed\n",
      "MEMORY 6.519394304\n",
      "Job completed in: 1.76 s\n",
      "MEMORY 6.519263232\n",
      "Launching nearest neighbors affmat calculation job\n",
      "MEMORY 6.51892736\n",
      "Parallel runs completed\n",
      "MEMORY 6.519566336\n",
      "Job completed in: 1.79 s\n",
      "MEMORY 6.519279616\n",
      "On seqlets 0 to 1596 out of 1596\n"
     ]
    },
    {
     "name": "stderr",
     "output_type": "stream",
     "text": [
      "100%|█████████████████████████████████████████████| 2/2 [00:00<00:00, 17.19it/s]\n"
     ]
    },
    {
     "name": "stdout",
     "output_type": "stream",
     "text": [
      "Removed 0 duplicates\n",
      "\tScoring batch 24/33\n",
      "Computing windowed sums on original\n",
      "Only returning positive coords!\n",
      "Got 1558 coords\n",
      "Launching nearest neighbors affmat calculation job\n",
      "MEMORY 6.518747136\n",
      "Parallel runs completed\n",
      "MEMORY 6.522150912\n",
      "Job completed in: 3.5 s\n",
      "MEMORY 6.522073088\n",
      "Launching nearest neighbors affmat calculation job\n",
      "MEMORY 6.521786368\n",
      "Parallel runs completed\n",
      "MEMORY 6.52222464\n",
      "Job completed in: 3.61 s\n",
      "MEMORY 6.522134528\n",
      "On seqlets 0 to 1558 out of 1558\n"
     ]
    },
    {
     "name": "stderr",
     "output_type": "stream",
     "text": [
      "100%|███████████████████████████████████████████| 13/13 [00:08<00:00,  1.61it/s]"
     ]
    },
    {
     "name": "stdout",
     "output_type": "stream",
     "text": [
      "Launching nearest neighbors affmat calculation job\n",
      "MEMORY 6.52156928\n"
     ]
    },
    {
     "name": "stderr",
     "output_type": "stream",
     "text": [
      "\n"
     ]
    },
    {
     "name": "stdout",
     "output_type": "stream",
     "text": [
      "Parallel runs completed\n",
      "MEMORY 6.522191872\n",
      "Job completed in: 1.71 s\n",
      "MEMORY 6.522085376\n",
      "Launching nearest neighbors affmat calculation job\n",
      "MEMORY 6.521741312\n",
      "Parallel runs completed\n",
      "MEMORY 6.523318272\n",
      "Job completed in: 1.7 s\n",
      "MEMORY 6.523142144\n",
      "On seqlets 0 to 1558 out of 1558\n"
     ]
    },
    {
     "name": "stderr",
     "output_type": "stream",
     "text": [
      "100%|█████████████████████████████████████████████| 2/2 [00:00<00:00, 17.06it/s]\n"
     ]
    },
    {
     "name": "stdout",
     "output_type": "stream",
     "text": [
      "Removed 0 duplicates\n",
      "\tScoring batch 25/33\n",
      "Computing windowed sums on original\n",
      "Only returning positive coords!\n",
      "Got 1436 coords\n",
      "Launching nearest neighbors affmat calculation job\n",
      "MEMORY 6.52253184\n",
      "Parallel runs completed\n",
      "MEMORY 6.526418944\n",
      "Job completed in: 3.26 s\n",
      "MEMORY 6.5263616\n",
      "Launching nearest neighbors affmat calculation job\n",
      "MEMORY 6.526050304\n",
      "Parallel runs completed\n",
      "MEMORY 6.526435328\n",
      "Job completed in: 3.37 s\n",
      "MEMORY 6.526369792\n",
      "On seqlets 0 to 1436 out of 1436\n"
     ]
    },
    {
     "name": "stderr",
     "output_type": "stream",
     "text": [
      "100%|███████████████████████████████████████████| 13/13 [00:08<00:00,  1.56it/s]"
     ]
    },
    {
     "name": "stdout",
     "output_type": "stream",
     "text": [
      "Launching nearest neighbors affmat calculation job\n",
      "MEMORY 6.5257472\n"
     ]
    },
    {
     "name": "stderr",
     "output_type": "stream",
     "text": [
      "\n"
     ]
    },
    {
     "name": "stdout",
     "output_type": "stream",
     "text": [
      "Parallel runs completed\n",
      "MEMORY 6.526373888\n",
      "Job completed in: 1.6 s\n",
      "MEMORY 6.526296064\n",
      "Launching nearest neighbors affmat calculation job\n",
      "MEMORY 6.526058496\n",
      "Parallel runs completed\n",
      "MEMORY 6.527557632\n",
      "Job completed in: 1.6 s\n",
      "MEMORY 6.527451136\n",
      "On seqlets 0 to 1436 out of 1436\n"
     ]
    },
    {
     "name": "stderr",
     "output_type": "stream",
     "text": [
      "100%|█████████████████████████████████████████████| 2/2 [00:00<00:00, 18.43it/s]\n"
     ]
    },
    {
     "name": "stdout",
     "output_type": "stream",
     "text": [
      "Removed 0 duplicates\n",
      "\tScoring batch 26/33\n",
      "Computing windowed sums on original\n",
      "Only returning positive coords!\n",
      "Got 1460 coords\n",
      "Launching nearest neighbors affmat calculation job\n",
      "MEMORY 6.526726144\n",
      "Parallel runs completed\n",
      "MEMORY 6.530146304\n",
      "Job completed in: 3.34 s\n",
      "MEMORY 6.529990656\n",
      "Launching nearest neighbors affmat calculation job\n",
      "MEMORY 6.529736704\n",
      "Parallel runs completed\n",
      "MEMORY 6.533668864\n",
      "Job completed in: 3.33 s\n",
      "MEMORY 6.5335296\n",
      "On seqlets 0 to 1460 out of 1460\n"
     ]
    },
    {
     "name": "stderr",
     "output_type": "stream",
     "text": [
      "100%|███████████████████████████████████████████| 13/13 [00:08<00:00,  1.52it/s]"
     ]
    },
    {
     "name": "stdout",
     "output_type": "stream",
     "text": [
      "Launching nearest neighbors affmat calculation job\n",
      "MEMORY 6.53303808\n"
     ]
    },
    {
     "name": "stderr",
     "output_type": "stream",
     "text": [
      "\n"
     ]
    },
    {
     "name": "stdout",
     "output_type": "stream",
     "text": [
      "Parallel runs completed\n",
      "MEMORY 6.533648384\n",
      "Job completed in: 1.62 s\n",
      "MEMORY 6.533558272\n",
      "Launching nearest neighbors affmat calculation job\n",
      "MEMORY 6.533267456\n",
      "Parallel runs completed\n",
      "MEMORY 6.534762496\n",
      "Job completed in: 1.63 s\n",
      "MEMORY 6.534656\n",
      "On seqlets 0 to 1460 out of 1460\n"
     ]
    },
    {
     "name": "stderr",
     "output_type": "stream",
     "text": [
      "100%|█████████████████████████████████████████████| 2/2 [00:00<00:00, 18.16it/s]\n"
     ]
    },
    {
     "name": "stdout",
     "output_type": "stream",
     "text": [
      "Removed 0 duplicates\n",
      "\tScoring batch 27/33\n",
      "Computing windowed sums on original\n",
      "Only returning positive coords!\n",
      "Got 1406 coords\n",
      "Launching nearest neighbors affmat calculation job\n",
      "MEMORY 6.533992448\n",
      "Parallel runs completed\n",
      "MEMORY 6.538498048\n",
      "Job completed in: 3.25 s\n",
      "MEMORY 6.538448896\n",
      "Launching nearest neighbors affmat calculation job\n",
      "MEMORY 6.538104832\n",
      "Parallel runs completed\n",
      "MEMORY 6.538481664\n",
      "Job completed in: 3.27 s\n",
      "MEMORY 6.5383424\n",
      "On seqlets 0 to 1406 out of 1406\n"
     ]
    },
    {
     "name": "stderr",
     "output_type": "stream",
     "text": [
      "100%|███████████████████████████████████████████| 13/13 [00:07<00:00,  1.63it/s]"
     ]
    },
    {
     "name": "stdout",
     "output_type": "stream",
     "text": [
      "Launching nearest neighbors affmat calculation job\n",
      "MEMORY 6.537826304\n"
     ]
    },
    {
     "name": "stderr",
     "output_type": "stream",
     "text": [
      "\n"
     ]
    },
    {
     "name": "stdout",
     "output_type": "stream",
     "text": [
      "Parallel runs completed\n",
      "MEMORY 6.539276288\n",
      "Job completed in: 1.64 s\n",
      "MEMORY 6.539169792\n",
      "Launching nearest neighbors affmat calculation job\n",
      "MEMORY 6.538809344\n",
      "Parallel runs completed\n",
      "MEMORY 6.539390976\n",
      "Job completed in: 1.61 s\n",
      "MEMORY 6.539292672\n",
      "On seqlets 0 to 1406 out of 1406\n"
     ]
    },
    {
     "name": "stderr",
     "output_type": "stream",
     "text": [
      "100%|█████████████████████████████████████████████| 2/2 [00:00<00:00, 18.84it/s]\n"
     ]
    },
    {
     "name": "stdout",
     "output_type": "stream",
     "text": [
      "Removed 0 duplicates\n",
      "\tScoring batch 28/33\n",
      "Computing windowed sums on original\n",
      "Only returning positive coords!\n",
      "Got 1447 coords\n",
      "Launching nearest neighbors affmat calculation job\n",
      "MEMORY 6.538686464\n",
      "Parallel runs completed\n",
      "MEMORY 6.543450112\n",
      "Job completed in: 3.36 s\n",
      "MEMORY 6.543368192\n",
      "Launching nearest neighbors affmat calculation job\n",
      "MEMORY 6.54303232\n",
      "Parallel runs completed\n",
      "MEMORY 6.543495168\n",
      "Job completed in: 3.37 s\n",
      "MEMORY 6.54338048\n",
      "On seqlets 0 to 1447 out of 1447\n"
     ]
    },
    {
     "name": "stderr",
     "output_type": "stream",
     "text": [
      "100%|███████████████████████████████████████████| 13/13 [00:08<00:00,  1.57it/s]"
     ]
    },
    {
     "name": "stdout",
     "output_type": "stream",
     "text": [
      "Launching nearest neighbors affmat calculation job\n",
      "MEMORY 6.54280704\n"
     ]
    },
    {
     "name": "stderr",
     "output_type": "stream",
     "text": [
      "\n"
     ]
    },
    {
     "name": "stdout",
     "output_type": "stream",
     "text": [
      "Parallel runs completed\n",
      "MEMORY 6.543486976\n",
      "Job completed in: 1.65 s\n",
      "MEMORY 6.543355904\n",
      "Launching nearest neighbors affmat calculation job\n",
      "MEMORY 6.542872576\n",
      "Parallel runs completed\n",
      "MEMORY 6.543495168\n",
      "Job completed in: 1.65 s\n",
      "MEMORY 6.543446016\n",
      "On seqlets 0 to 1447 out of 1447\n"
     ]
    },
    {
     "name": "stderr",
     "output_type": "stream",
     "text": [
      "100%|█████████████████████████████████████████████| 2/2 [00:00<00:00, 18.22it/s]\n"
     ]
    },
    {
     "name": "stdout",
     "output_type": "stream",
     "text": [
      "Removed 1 duplicates\n",
      "\tScoring batch 29/33\n",
      "Computing windowed sums on original\n",
      "Only returning positive coords!\n",
      "Got 1330 coords\n",
      "Launching nearest neighbors affmat calculation job\n",
      "MEMORY 6.54280704\n",
      "Parallel runs completed\n",
      "MEMORY 6.5434624\n",
      "Job completed in: 3.1 s\n",
      "MEMORY 6.543405056\n",
      "Launching nearest neighbors affmat calculation job\n",
      "MEMORY 6.543003648\n",
      "Parallel runs completed\n",
      "MEMORY 6.544941056\n",
      "Job completed in: 3.11 s\n",
      "MEMORY 6.544850944\n",
      "On seqlets 0 to 1330 out of 1330\n"
     ]
    },
    {
     "name": "stderr",
     "output_type": "stream",
     "text": [
      "100%|███████████████████████████████████████████| 13/13 [00:07<00:00,  1.76it/s]"
     ]
    },
    {
     "name": "stdout",
     "output_type": "stream",
     "text": [
      "Launching nearest neighbors affmat calculation job\n",
      "MEMORY 6.544285696\n"
     ]
    },
    {
     "name": "stderr",
     "output_type": "stream",
     "text": [
      "\n"
     ]
    },
    {
     "name": "stdout",
     "output_type": "stream",
     "text": [
      "Parallel runs completed\n",
      "MEMORY 6.544891904\n",
      "Job completed in: 1.5 s\n",
      "MEMORY 6.544842752\n",
      "Launching nearest neighbors affmat calculation job\n",
      "MEMORY 6.544494592\n",
      "Parallel runs completed\n",
      "MEMORY 6.54592\n",
      "Job completed in: 1.5 s\n",
      "MEMORY 6.545850368\n",
      "On seqlets 0 to 1330 out of 1330\n"
     ]
    },
    {
     "name": "stderr",
     "output_type": "stream",
     "text": [
      "100%|█████████████████████████████████████████████| 2/2 [00:00<00:00, 20.55it/s]\n"
     ]
    },
    {
     "name": "stdout",
     "output_type": "stream",
     "text": [
      "Removed 0 duplicates\n",
      "\tScoring batch 30/33\n",
      "Computing windowed sums on original\n",
      "Only returning positive coords!\n",
      "Got 1224 coords\n",
      "Launching nearest neighbors affmat calculation job\n",
      "MEMORY 6.545195008\n",
      "Parallel runs completed\n",
      "MEMORY 6.550806528\n",
      "Job completed in: 2.9 s\n",
      "MEMORY 6.550716416\n",
      "Launching nearest neighbors affmat calculation job\n",
      "MEMORY 6.550454272\n",
      "Parallel runs completed\n",
      "MEMORY 6.555779072\n",
      "Job completed in: 2.88 s\n",
      "MEMORY 6.555680768\n",
      "On seqlets 0 to 1224 out of 1224\n"
     ]
    },
    {
     "name": "stderr",
     "output_type": "stream",
     "text": [
      "100%|███████████████████████████████████████████| 13/13 [00:06<00:00,  2.03it/s]"
     ]
    },
    {
     "name": "stdout",
     "output_type": "stream",
     "text": [
      "Launching nearest neighbors affmat calculation job\n",
      "MEMORY 6.555090944\n"
     ]
    },
    {
     "name": "stderr",
     "output_type": "stream",
     "text": [
      "\n"
     ]
    },
    {
     "name": "stdout",
     "output_type": "stream",
     "text": [
      "Parallel runs completed\n",
      "MEMORY 6.55661056\n",
      "Job completed in: 1.41 s\n",
      "MEMORY 6.55648768\n",
      "Launching nearest neighbors affmat calculation job\n",
      "MEMORY 6.556135424\n",
      "Parallel runs completed\n",
      "MEMORY 6.556749824\n",
      "Job completed in: 1.42 s\n",
      "MEMORY 6.556561408\n",
      "On seqlets 0 to 1224 out of 1224\n"
     ]
    },
    {
     "name": "stderr",
     "output_type": "stream",
     "text": [
      "100%|█████████████████████████████████████████████| 2/2 [00:00<00:00, 21.95it/s]\n"
     ]
    },
    {
     "name": "stdout",
     "output_type": "stream",
     "text": [
      "Removed 0 duplicates\n",
      "\tScoring batch 31/33\n",
      "Computing windowed sums on original\n",
      "Only returning positive coords!\n",
      "Got 1243 coords\n",
      "Launching nearest neighbors affmat calculation job\n",
      "MEMORY 6.555979776\n",
      "Parallel runs completed\n",
      "MEMORY 6.560739328\n",
      "Job completed in: 2.88 s\n",
      "MEMORY 6.560632832\n",
      "Launching nearest neighbors affmat calculation job\n",
      "MEMORY 6.560313344\n",
      "Parallel runs completed\n",
      "MEMORY 6.564012032\n",
      "Job completed in: 2.87 s\n",
      "MEMORY 6.56388096\n",
      "On seqlets 0 to 1243 out of 1243\n"
     ]
    },
    {
     "name": "stderr",
     "output_type": "stream",
     "text": [
      "100%|███████████████████████████████████████████| 13/13 [00:06<00:00,  1.99it/s]"
     ]
    },
    {
     "name": "stdout",
     "output_type": "stream",
     "text": [
      "Launching nearest neighbors affmat calculation job\n",
      "MEMORY 6.563373056\n"
     ]
    },
    {
     "name": "stderr",
     "output_type": "stream",
     "text": [
      "\n"
     ]
    },
    {
     "name": "stdout",
     "output_type": "stream",
     "text": [
      "Parallel runs completed\n",
      "MEMORY 6.564012032\n",
      "Job completed in: 1.42 s\n",
      "MEMORY 6.563938304\n",
      "Launching nearest neighbors affmat calculation job\n",
      "MEMORY 6.563590144\n",
      "Parallel runs completed\n",
      "MEMORY 6.56408576\n",
      "Job completed in: 1.4 s\n",
      "MEMORY 6.564020224\n",
      "On seqlets 0 to 1243 out of 1243\n"
     ]
    },
    {
     "name": "stderr",
     "output_type": "stream",
     "text": [
      "100%|█████████████████████████████████████████████| 2/2 [00:00<00:00, 21.49it/s]\n"
     ]
    },
    {
     "name": "stdout",
     "output_type": "stream",
     "text": [
      "Removed 1 duplicates\n",
      "\tScoring batch 32/33\n",
      "Computing windowed sums on original\n",
      "Only returning positive coords!\n",
      "Got 1215 coords\n",
      "Launching nearest neighbors affmat calculation job\n",
      "MEMORY 6.563373056\n",
      "Parallel runs completed\n",
      "MEMORY 6.565650432\n",
      "Job completed in: 2.86 s\n",
      "MEMORY 6.565552128\n",
      "Launching nearest neighbors affmat calculation job\n",
      "MEMORY 6.565187584\n",
      "Parallel runs completed\n",
      "MEMORY 6.567358464\n",
      "Job completed in: 2.87 s\n",
      "MEMORY 6.56730112\n",
      "On seqlets 0 to 1215 out of 1215\n"
     ]
    },
    {
     "name": "stderr",
     "output_type": "stream",
     "text": [
      "100%|███████████████████████████████████████████| 13/13 [00:06<00:00,  2.09it/s]"
     ]
    },
    {
     "name": "stdout",
     "output_type": "stream",
     "text": [
      "Launching nearest neighbors affmat calculation job\n",
      "MEMORY 6.566670336\n"
     ]
    },
    {
     "name": "stderr",
     "output_type": "stream",
     "text": [
      "\n"
     ]
    },
    {
     "name": "stdout",
     "output_type": "stream",
     "text": [
      "Parallel runs completed\n",
      "MEMORY 6.56734208\n",
      "Job completed in: 1.45 s\n",
      "MEMORY 6.567284736\n",
      "Launching nearest neighbors affmat calculation job\n",
      "MEMORY 6.566957056\n",
      "Parallel runs completed\n",
      "MEMORY 6.567424\n",
      "Job completed in: 1.39 s\n",
      "MEMORY 6.567346176\n",
      "On seqlets 0 to 1215 out of 1215\n"
     ]
    },
    {
     "name": "stderr",
     "output_type": "stream",
     "text": [
      "100%|█████████████████████████████████████████████| 2/2 [00:00<00:00, 21.91it/s]\n"
     ]
    },
    {
     "name": "stdout",
     "output_type": "stream",
     "text": [
      "Removed 0 duplicates\n",
      "\tScoring batch 33/33\n",
      "Computing windowed sums on original\n",
      "Only returning positive coords!\n",
      "Got 861 coords\n",
      "Launching nearest neighbors affmat calculation job\n",
      "MEMORY 6.566670336\n",
      "Parallel runs completed\n",
      "MEMORY 6.567350272\n",
      "Job completed in: 2.12 s\n",
      "MEMORY 6.567268352\n",
      "Launching nearest neighbors affmat calculation job\n",
      "MEMORY 6.56697344\n",
      "Parallel runs completed\n",
      "MEMORY 6.567374848\n",
      "Job completed in: 2.12 s\n",
      "MEMORY 6.567243776\n",
      "On seqlets 0 to 861 out of 861\n"
     ]
    },
    {
     "name": "stderr",
     "output_type": "stream",
     "text": [
      "100%|███████████████████████████████████████████| 13/13 [00:04<00:00,  2.61it/s]"
     ]
    },
    {
     "name": "stdout",
     "output_type": "stream",
     "text": [
      "Launching nearest neighbors affmat calculation job\n",
      "MEMORY 6.566670336\n"
     ]
    },
    {
     "name": "stderr",
     "output_type": "stream",
     "text": [
      "\n"
     ]
    },
    {
     "name": "stdout",
     "output_type": "stream",
     "text": [
      "Parallel runs completed\n",
      "MEMORY 6.56728064\n",
      "Job completed in: 1.08 s\n",
      "MEMORY 6.567215104\n",
      "Launching nearest neighbors affmat calculation job\n",
      "MEMORY 6.566948864\n",
      "Parallel runs completed\n",
      "MEMORY 6.567550976\n",
      "Job completed in: 1.08 s\n",
      "MEMORY 6.567481344\n",
      "On seqlets 0 to 861 out of 861\n"
     ]
    },
    {
     "name": "stderr",
     "output_type": "stream",
     "text": [
      "100%|█████████████████████████████████████████████| 2/2 [00:00<00:00, 31.27it/s]\n"
     ]
    },
    {
     "name": "stdout",
     "output_type": "stream",
     "text": [
      "Removed 0 duplicates\n",
      "Cleaning up matches...\n",
      "0:17:33.537353\n"
     ]
    }
   ],
   "source": [
    "# takes 2-4 hours.\n",
    "# testing FOSL2 chip-seq\n",
    "start = datetime.now()\n",
    "tfmodisco_hit_scoring.main(TFM_SHAP_PATH, TFM_TFM_PATH, TFM_PEAKS_PATH, \n",
    "                           '/home/katie/bp_repo/reports/tfm_hits/FOSL2/chipseq_pls_help/',\n",
    "                           hyp_score_key, input_length, 400)\n",
    "\n",
    "print(datetime.now() - start)"
   ]
  },
  {
   "cell_type": "code",
   "execution_count": null,
   "metadata": {},
   "outputs": [],
   "source": [
    "pd.read_hdf('/tmp/transform_score_track_data.pandas'"
   ]
  },
  {
   "cell_type": "code",
   "execution_count": null,
   "metadata": {},
   "outputs": [],
   "source": [
    "list(h5py.File('/tmp/transform_score_track_data.pandas','r'))"
   ]
  },
  {
   "cell_type": "code",
   "execution_count": null,
   "metadata": {},
   "outputs": [],
   "source": [
    "window_sums_rows = pd.read_hdf('/tmp/transform_score_track_data.pandas','window_sums_rows')\n",
    "\n",
    "# window_sums_rows is a np array created in the value_provider.py script in the modisco package \n",
    "# you can see in the traceback that we loop through window_sums_rows and\n",
    "# for each window_sums_row, we call transform() on the positive values - which breaks when there are no\n",
    "# positive values, like in the case of 3 of the rows of CTCF chip-seq (see below)\n",
    "\n",
    "np.where(np.all(window_sums_rows < 0, axis=1))  # finds the rows where every value is negative"
   ]
  }
 ],
 "metadata": {
  "kernelspec": {
   "display_name": "Python 3 (ipykernel)",
   "language": "python",
   "name": "python3"
  },
  "language_info": {
   "codemirror_mode": {
    "name": "ipython",
    "version": 3
   },
   "file_extension": ".py",
   "mimetype": "text/x-python",
   "name": "python",
   "nbconvert_exporter": "python",
   "pygments_lexer": "ipython3",
   "version": "3.9.7"
  }
 },
 "nbformat": 4,
 "nbformat_minor": 4
}
