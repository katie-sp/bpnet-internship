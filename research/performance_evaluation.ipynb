{
 "cells": [
  {
   "cell_type": "markdown",
   "metadata": {},
   "source": [
    "## Evaluating single- and multi-task profile model in PyTorch with Katie's data loading\n",
    "\n",
    "**Author:** Alex Tseng (amtseng@stanford.edu) -- Modified by Katie Spivakovsky"
   ]
  },
  {
   "cell_type": "code",
   "execution_count": 1,
   "metadata": {},
   "outputs": [
    {
     "name": "stdout",
     "output_type": "stream",
     "text": [
      "env: CUDA_VISIBLE_DEVICES=1\n"
     ]
    }
   ],
   "source": [
    "# modify this for your own machine\n",
    "%env CUDA_VISIBLE_DEVICES = 1\n",
    "%config Completer.use_jedi = False\n",
    "\n",
    "from importlib import reload\n",
    "import pandas as pd\n",
    "import sys\n",
    "sys.path.append('/home/katie/bp_repo/multitask_profile_model_SPI_GATA/')\n",
    "import all_functions\n",
    "from all_functions import *"
   ]
  },
  {
   "cell_type": "code",
   "execution_count": 2,
   "metadata": {},
   "outputs": [],
   "source": [
    "ctcf = pd.read_csv('/home/katie/bp_repo/research/data/cutnrun/temp/fragment_lengths/CTCF_frag_lengths.txt',header=None)[0]\n",
    "ctcf = np.array(ctcf).reshape((-1,1))\n",
    "fosl = pd.read_csv('/home/katie/bp_repo/research/data/cutnrun/temp/fragment_lengths/FOSL2_frag_lengths.txt',header=None)[0]\n",
    "fosl = np.array(fosl).reshape((-1,1))"
   ]
  },
  {
   "cell_type": "code",
   "execution_count": 3,
   "metadata": {},
   "outputs": [
    {
     "data": {
      "text/plain": [
       "(39478628, 1)"
      ]
     },
     "execution_count": 3,
     "metadata": {},
     "output_type": "execute_result"
    }
   ],
   "source": [
    "ctcf.shape"
   ]
  },
  {
   "cell_type": "code",
   "execution_count": 10,
   "metadata": {},
   "outputs": [
    {
     "data": {
      "text/plain": [
       "(22967252, 1)"
      ]
     },
     "execution_count": 10,
     "metadata": {},
     "output_type": "execute_result"
    }
   ],
   "source": [
    "fosl.shape"
   ]
  },
  {
   "cell_type": "code",
   "execution_count": 6,
   "metadata": {},
   "outputs": [
    {
     "data": {
      "text/plain": [
       "array([8309680])"
      ]
     },
     "execution_count": 6,
     "metadata": {},
     "output_type": "execute_result"
    }
   ],
   "source": [
    "sum(ctcf <= 120)"
   ]
  },
  {
   "cell_type": "code",
   "execution_count": 7,
   "metadata": {},
   "outputs": [
    {
     "data": {
      "text/plain": [
       "array([27456078])"
      ]
     },
     "execution_count": 7,
     "metadata": {},
     "output_type": "execute_result"
    }
   ],
   "source": [
    "sum(ctcf >= 150)"
   ]
  },
  {
   "cell_type": "code",
   "execution_count": 12,
   "metadata": {},
   "outputs": [
    {
     "data": {
      "text/plain": [
       "3.3041077394075344"
      ]
     },
     "execution_count": 12,
     "metadata": {},
     "output_type": "execute_result"
    }
   ],
   "source": [
    "27456078/8309680"
   ]
  },
  {
   "cell_type": "code",
   "execution_count": 8,
   "metadata": {},
   "outputs": [
    {
     "data": {
      "text/plain": [
       "array([7775720])"
      ]
     },
     "execution_count": 8,
     "metadata": {},
     "output_type": "execute_result"
    }
   ],
   "source": [
    "sum(fosl <= 120)"
   ]
  },
  {
   "cell_type": "code",
   "execution_count": 9,
   "metadata": {},
   "outputs": [
    {
     "data": {
      "text/plain": [
       "array([13602654])"
      ]
     },
     "execution_count": 9,
     "metadata": {},
     "output_type": "execute_result"
    }
   ],
   "source": [
    "sum(fosl >= 150)"
   ]
  },
  {
   "cell_type": "code",
   "execution_count": 13,
   "metadata": {},
   "outputs": [
    {
     "data": {
      "text/plain": [
       "1.749375491915861"
      ]
     },
     "execution_count": 13,
     "metadata": {},
     "output_type": "execute_result"
    }
   ],
   "source": [
    "13602654 / 7775720"
   ]
  },
  {
   "cell_type": "code",
   "execution_count": 2,
   "metadata": {},
   "outputs": [],
   "source": [
    "set_num_epochs(10)"
   ]
  },
  {
   "cell_type": "code",
   "execution_count": 3,
   "metadata": {},
   "outputs": [],
   "source": [
    "set_tasks_path('/home/katie/bp_repo/research/data/cutnrun/')"
   ]
  },
  {
   "cell_type": "code",
   "execution_count": 4,
   "metadata": {},
   "outputs": [
    {
     "data": {
      "text/plain": [
       "'/home/katie/bp_repo/research/data/cutnrun/'"
      ]
     },
     "execution_count": 4,
     "metadata": {},
     "output_type": "execute_result"
    }
   ],
   "source": [
    "get_tasks_path()"
   ]
  },
  {
   "cell_type": "code",
   "execution_count": 5,
   "metadata": {},
   "outputs": [],
   "source": [
    "import datetime"
   ]
  },
  {
   "cell_type": "code",
   "execution_count": 8,
   "metadata": {},
   "outputs": [
    {
     "data": {
      "text/plain": [
       "\u001b[0;31mSignature:\u001b[0m\n",
       "\u001b[0mevaluate\u001b[0m\u001b[0;34m(\u001b[0m\u001b[0;34m\u001b[0m\n",
       "\u001b[0;34m\u001b[0m    \u001b[0mtrain_tasks\u001b[0m\u001b[0;34m,\u001b[0m\u001b[0;34m\u001b[0m\n",
       "\u001b[0;34m\u001b[0m    \u001b[0mval_tasks\u001b[0m\u001b[0;34m,\u001b[0m\u001b[0;34m\u001b[0m\n",
       "\u001b[0;34m\u001b[0m    \u001b[0mtest_tasks\u001b[0m\u001b[0;34m,\u001b[0m\u001b[0;34m\u001b[0m\n",
       "\u001b[0;34m\u001b[0m    \u001b[0mnum_tasks\u001b[0m\u001b[0;34m,\u001b[0m\u001b[0;34m\u001b[0m\n",
       "\u001b[0;34m\u001b[0m    \u001b[0massay\u001b[0m\u001b[0;34m,\u001b[0m\u001b[0;34m\u001b[0m\n",
       "\u001b[0;34m\u001b[0m    \u001b[0mcontrols\u001b[0m\u001b[0;34m=\u001b[0m\u001b[0;32mTrue\u001b[0m\u001b[0;34m,\u001b[0m\u001b[0;34m\u001b[0m\n",
       "\u001b[0;34m\u001b[0m    \u001b[0mepoch_metrics\u001b[0m\u001b[0;34m=\u001b[0m\u001b[0;32mFalse\u001b[0m\u001b[0;34m,\u001b[0m\u001b[0;34m\u001b[0m\n",
       "\u001b[0;34m\u001b[0m    \u001b[0minitialize_state_dict\u001b[0m\u001b[0;34m=\u001b[0m\u001b[0;32mNone\u001b[0m\u001b[0;34m,\u001b[0m\u001b[0;34m\u001b[0m\n",
       "\u001b[0;34m\u001b[0m    \u001b[0mtrain_dset\u001b[0m\u001b[0;34m=\u001b[0m\u001b[0;32mNone\u001b[0m\u001b[0;34m,\u001b[0m\u001b[0;34m\u001b[0m\n",
       "\u001b[0;34m\u001b[0m    \u001b[0mval_dset\u001b[0m\u001b[0;34m=\u001b[0m\u001b[0;32mNone\u001b[0m\u001b[0;34m,\u001b[0m\u001b[0;34m\u001b[0m\n",
       "\u001b[0;34m\u001b[0m    \u001b[0mtest_dset\u001b[0m\u001b[0;34m=\u001b[0m\u001b[0;32mNone\u001b[0m\u001b[0;34m,\u001b[0m\u001b[0;34m\u001b[0m\n",
       "\u001b[0;34m\u001b[0m    \u001b[0mtrain_loader\u001b[0m\u001b[0;34m=\u001b[0m\u001b[0;32mNone\u001b[0m\u001b[0;34m,\u001b[0m\u001b[0;34m\u001b[0m\n",
       "\u001b[0;34m\u001b[0m    \u001b[0mval_loader\u001b[0m\u001b[0;34m=\u001b[0m\u001b[0;32mNone\u001b[0m\u001b[0;34m,\u001b[0m\u001b[0;34m\u001b[0m\n",
       "\u001b[0;34m\u001b[0m    \u001b[0mtest_loader\u001b[0m\u001b[0;34m=\u001b[0m\u001b[0;32mNone\u001b[0m\u001b[0;34m,\u001b[0m\u001b[0;34m\u001b[0m\n",
       "\u001b[0;34m\u001b[0m    \u001b[0mstatuses\u001b[0m\u001b[0;34m=\u001b[0m\u001b[0;32mNone\u001b[0m\u001b[0;34m,\u001b[0m\u001b[0;34m\u001b[0m\n",
       "\u001b[0;34m\u001b[0m    \u001b[0mmodel_task_statuses\u001b[0m\u001b[0;34m=\u001b[0m\u001b[0;32mNone\u001b[0m\u001b[0;34m,\u001b[0m\u001b[0;34m\u001b[0m\n",
       "\u001b[0;34m\u001b[0m    \u001b[0mmodel_save_path\u001b[0m\u001b[0;34m=\u001b[0m\u001b[0;32mNone\u001b[0m\u001b[0;34m,\u001b[0m\u001b[0;34m\u001b[0m\n",
       "\u001b[0;34m\u001b[0m\u001b[0;34m)\u001b[0m\u001b[0;34m\u001b[0m\u001b[0;34m\u001b[0m\u001b[0m\n",
       "\u001b[0;31mDocstring:\u001b[0m\n",
       "Given tasks, return a list with the loss (after each epoch) and performance metrics\n",
       "Args:\n",
       "train_tasks: list of task names, e.g. ['SPI1', 'GATA2']\n",
       "val_tasks: same as train_tasks\n",
       "test_tasks: same as train_tasks\n",
       "num_tasks: number of tasks (kinda redundant info, I may just remove this later)\n",
       "assay (str): either 'cutnrun' or 'chip-seq' (or some variation in those spellings)\n",
       "controls: whether or not to use controls\n",
       "epoch_metrics: whether or not to compute metrics after each epoch\n",
       "initialize_state_dict: path to state_dict if you want to initialize model with specific weights\n",
       "\n",
       "Optional (but must include all if you include one):\n",
       "train_dset: train dataset\n",
       "val_dset: val dataset\n",
       "test_dset: test dataset\n",
       "train_loader: train loader\n",
       "val_loader: val loader\n",
       "test_loader: test loader\n",
       "statuses: list of statuses\n",
       "model_task_statuses: list of model task statuses (usually list of tasks)\n",
       "\n",
       "Other optional:\n",
       "model_save_path: (str) where to save trained model\n",
       "\u001b[0;31mFile:\u001b[0m      ~/bp_repo/multitask_profile_model_SPI_GATA/all_functions.py\n",
       "\u001b[0;31mType:\u001b[0m      function\n"
      ]
     },
     "metadata": {},
     "output_type": "display_data"
    }
   ],
   "source": [
    "evaluate?"
   ]
  },
  {
   "cell_type": "code",
   "execution_count": 25,
   "metadata": {},
   "outputs": [
    {
     "name": "stdout",
     "output_type": "stream",
     "text": [
      "FOSL2_120 BED path: /home/katie/bp_repo/research/data/cutnrun/FOSL2/FOSL2.bed\n",
      "FOSL2_150 BED path: /home/katie/bp_repo/research/data/cutnrun/FOSL2/FOSL2.bed\n",
      "Negative FOSL2 BigWig: /home/katie/bp_repo/research/data/cutnrun/FOSL2/FOSL2_merged_maxfl120_neg.bw\n",
      "Positive FOSL2 BigWig: /home/katie/bp_repo/research/data/cutnrun/FOSL2/FOSL2_merged_maxfl120_pos.bw\n",
      "Negative FOSL2 BigWig: /home/katie/bp_repo/research/data/cutnrun/FOSL2/FOSL2_merged_minfl150_neg.bw\n",
      "Positive FOSL2 BigWig: /home/katie/bp_repo/research/data/cutnrun/FOSL2/FOSL2_merged_minfl150_pos.bw\n",
      "Negative FOSL2 BigWig: /home/katie/bp_repo/research/data/cutnrun/FOSL2/FOSL2_merged_maxfl120_neg.bw\n",
      "Positive FOSL2 BigWig: /home/katie/bp_repo/research/data/cutnrun/FOSL2/FOSL2_merged_maxfl120_pos.bw\n",
      "Negative FOSL2 BigWig: /home/katie/bp_repo/research/data/cutnrun/FOSL2/FOSL2_merged_minfl150_neg.bw\n",
      "Positive FOSL2 BigWig: /home/katie/bp_repo/research/data/cutnrun/FOSL2/FOSL2_merged_minfl150_pos.bw\n",
      "Negative FOSL2 BigWig: /home/katie/bp_repo/research/data/cutnrun/FOSL2/FOSL2_merged_maxfl120_neg.bw\n",
      "Positive FOSL2 BigWig: /home/katie/bp_repo/research/data/cutnrun/FOSL2/FOSL2_merged_maxfl120_pos.bw\n",
      "Negative FOSL2 BigWig: /home/katie/bp_repo/research/data/cutnrun/FOSL2/FOSL2_merged_minfl150_neg.bw\n",
      "Positive FOSL2 BigWig: /home/katie/bp_repo/research/data/cutnrun/FOSL2/FOSL2_merged_minfl150_pos.bw\n",
      "FOSL2_120 BED path: /home/katie/bp_repo/research/data/cutnrun/FOSL2/FOSL2.bed\n",
      "FOSL2_150 BED path: /home/katie/bp_repo/research/data/cutnrun/FOSL2/FOSL2.bed\n",
      "Negative FOSL2 BigWig: /home/katie/bp_repo/research/data/cutnrun/FOSL2/FOSL2_merged_maxfl120_neg.bw\n",
      "Positive FOSL2 BigWig: /home/katie/bp_repo/research/data/cutnrun/FOSL2/FOSL2_merged_maxfl120_pos.bw\n",
      "Negative FOSL2 BigWig: /home/katie/bp_repo/research/data/cutnrun/FOSL2/FOSL2_merged_minfl150_neg.bw\n",
      "Positive FOSL2 BigWig: /home/katie/bp_repo/research/data/cutnrun/FOSL2/FOSL2_merged_minfl150_pos.bw\n",
      "Negative FOSL2 BigWig: /home/katie/bp_repo/research/data/cutnrun/FOSL2/FOSL2_merged_maxfl120_neg.bw\n",
      "Positive FOSL2 BigWig: /home/katie/bp_repo/research/data/cutnrun/FOSL2/FOSL2_merged_maxfl120_pos.bw\n",
      "Negative FOSL2 BigWig: /home/katie/bp_repo/research/data/cutnrun/FOSL2/FOSL2_merged_minfl150_neg.bw\n",
      "Positive FOSL2 BigWig: /home/katie/bp_repo/research/data/cutnrun/FOSL2/FOSL2_merged_minfl150_pos.bw\n",
      "Negative FOSL2 BigWig: /home/katie/bp_repo/research/data/cutnrun/FOSL2/FOSL2_merged_maxfl120_neg.bw\n",
      "Positive FOSL2 BigWig: /home/katie/bp_repo/research/data/cutnrun/FOSL2/FOSL2_merged_maxfl120_pos.bw\n",
      "Negative FOSL2 BigWig: /home/katie/bp_repo/research/data/cutnrun/FOSL2/FOSL2_merged_minfl150_neg.bw\n",
      "Positive FOSL2 BigWig: /home/katie/bp_repo/research/data/cutnrun/FOSL2/FOSL2_merged_minfl150_pos.bw\n",
      "FOSL2_120 BED path: /home/katie/bp_repo/research/data/cutnrun/FOSL2/FOSL2.bed\n",
      "FOSL2_150 BED path: /home/katie/bp_repo/research/data/cutnrun/FOSL2/FOSL2.bed\n",
      "FOSL2_120 BED path: /home/katie/bp_repo/research/data/cutnrun/FOSL2/FOSL2.bed\n",
      "FOSL2_150 BED path: /home/katie/bp_repo/research/data/cutnrun/FOSL2/FOSL2.bed\n",
      "FOSL2_120 BED path: /home/katie/bp_repo/research/data/cutnrun/FOSL2/FOSL2.bed\n",
      "FOSL2_150 BED path: /home/katie/bp_repo/research/data/cutnrun/FOSL2/FOSL2.bed\n",
      "FOSL2_120 BED path: /home/katie/bp_repo/research/data/cutnrun/FOSL2/FOSL2.bed\n",
      "FOSL2_150 BED path: /home/katie/bp_repo/research/data/cutnrun/FOSL2/FOSL2.bed\n"
     ]
    },
    {
     "data": {
      "application/vnd.jupyter.widget-view+json": {
       "model_id": "91c514a87f5f45179f862b397df387a5",
       "version_major": 2,
       "version_minor": 0
      },
      "text/plain": [
       "\tLoss: ----:   0%|          | 0/577 [00:00<?, ?it/s]"
      ]
     },
     "metadata": {},
     "output_type": "display_data"
    },
    {
     "data": {
      "application/vnd.jupyter.widget-view+json": {
       "model_id": "3c99228f9b2d4eb49ffa44f2f93e7d04",
       "version_major": 2,
       "version_minor": 0
      },
      "text/plain": [
       "\tLoss: ----:   0%|          | 0/73 [00:00<?, ?it/s]"
      ]
     },
     "metadata": {},
     "output_type": "display_data"
    },
    {
     "data": {
      "application/vnd.jupyter.widget-view+json": {
       "model_id": "559b16d4c21b459cb9a04a3879d76f6a",
       "version_major": 2,
       "version_minor": 0
      },
      "text/plain": [
       "\tLoss: ----:   0%|          | 0/577 [00:00<?, ?it/s]"
      ]
     },
     "metadata": {},
     "output_type": "display_data"
    },
    {
     "data": {
      "application/vnd.jupyter.widget-view+json": {
       "model_id": "090722ff0dc14f3da82eeb4b58a68c58",
       "version_major": 2,
       "version_minor": 0
      },
      "text/plain": [
       "\tLoss: ----:   0%|          | 0/73 [00:00<?, ?it/s]"
      ]
     },
     "metadata": {},
     "output_type": "display_data"
    },
    {
     "data": {
      "application/vnd.jupyter.widget-view+json": {
       "model_id": "6cf65614ce004d7abbf51a5d0f257a4d",
       "version_major": 2,
       "version_minor": 0
      },
      "text/plain": [
       "\tLoss: ----:   0%|          | 0/577 [00:00<?, ?it/s]"
      ]
     },
     "metadata": {},
     "output_type": "display_data"
    },
    {
     "data": {
      "application/vnd.jupyter.widget-view+json": {
       "model_id": "4dbfb0f5e5914fa89c93a0db0008a85f",
       "version_major": 2,
       "version_minor": 0
      },
      "text/plain": [
       "\tLoss: ----:   0%|          | 0/73 [00:00<?, ?it/s]"
      ]
     },
     "metadata": {},
     "output_type": "display_data"
    },
    {
     "data": {
      "application/vnd.jupyter.widget-view+json": {
       "model_id": "0ff6db541a7d4bb7be3f570f483798e0",
       "version_major": 2,
       "version_minor": 0
      },
      "text/plain": [
       "\tLoss: ----:   0%|          | 0/577 [00:00<?, ?it/s]"
      ]
     },
     "metadata": {},
     "output_type": "display_data"
    },
    {
     "data": {
      "application/vnd.jupyter.widget-view+json": {
       "model_id": "0abc6ba9c74e435f952bfdd2709db4ae",
       "version_major": 2,
       "version_minor": 0
      },
      "text/plain": [
       "\tLoss: ----:   0%|          | 0/73 [00:00<?, ?it/s]"
      ]
     },
     "metadata": {},
     "output_type": "display_data"
    },
    {
     "data": {
      "application/vnd.jupyter.widget-view+json": {
       "model_id": "062458552a6a43ccacc87a86d342f44e",
       "version_major": 2,
       "version_minor": 0
      },
      "text/plain": [
       "\tLoss: ----:   0%|          | 0/577 [00:00<?, ?it/s]"
      ]
     },
     "metadata": {},
     "output_type": "display_data"
    },
    {
     "data": {
      "application/vnd.jupyter.widget-view+json": {
       "model_id": "4c60d25b1349473180fc018984d040e9",
       "version_major": 2,
       "version_minor": 0
      },
      "text/plain": [
       "\tLoss: ----:   0%|          | 0/73 [00:00<?, ?it/s]"
      ]
     },
     "metadata": {},
     "output_type": "display_data"
    },
    {
     "data": {
      "application/vnd.jupyter.widget-view+json": {
       "model_id": "110107ad92f7491facfc5f85f8b52a30",
       "version_major": 2,
       "version_minor": 0
      },
      "text/plain": [
       "\tLoss: ----:   0%|          | 0/577 [00:00<?, ?it/s]"
      ]
     },
     "metadata": {},
     "output_type": "display_data"
    },
    {
     "data": {
      "application/vnd.jupyter.widget-view+json": {
       "model_id": "a0ef7c8069524a67ac6eddb32446e56a",
       "version_major": 2,
       "version_minor": 0
      },
      "text/plain": [
       "\tLoss: ----:   0%|          | 0/73 [00:00<?, ?it/s]"
      ]
     },
     "metadata": {},
     "output_type": "display_data"
    },
    {
     "data": {
      "application/vnd.jupyter.widget-view+json": {
       "model_id": "428da23b3399426c9bbb199cf0f57499",
       "version_major": 2,
       "version_minor": 0
      },
      "text/plain": [
       "\tLoss: ----:   0%|          | 0/577 [00:00<?, ?it/s]"
      ]
     },
     "metadata": {},
     "output_type": "display_data"
    },
    {
     "data": {
      "application/vnd.jupyter.widget-view+json": {
       "model_id": "da8ad633f3b746d381f073c44abd06b0",
       "version_major": 2,
       "version_minor": 0
      },
      "text/plain": [
       "\tLoss: ----:   0%|          | 0/73 [00:00<?, ?it/s]"
      ]
     },
     "metadata": {},
     "output_type": "display_data"
    },
    {
     "data": {
      "application/vnd.jupyter.widget-view+json": {
       "model_id": "7c9c1d788fe640e386d1822b68d57665",
       "version_major": 2,
       "version_minor": 0
      },
      "text/plain": [
       "\tLoss: ----:   0%|          | 0/577 [00:00<?, ?it/s]"
      ]
     },
     "metadata": {},
     "output_type": "display_data"
    },
    {
     "data": {
      "application/vnd.jupyter.widget-view+json": {
       "model_id": "3c0ade8dd2bb40ed92d7c34c2bf9c9d8",
       "version_major": 2,
       "version_minor": 0
      },
      "text/plain": [
       "\tLoss: ----:   0%|          | 0/73 [00:00<?, ?it/s]"
      ]
     },
     "metadata": {},
     "output_type": "display_data"
    },
    {
     "data": {
      "application/vnd.jupyter.widget-view+json": {
       "model_id": "b98ced6fcdce4fe1b1580bbb4b15e2a3",
       "version_major": 2,
       "version_minor": 0
      },
      "text/plain": [
       "\tLoss: ----:   0%|          | 0/577 [00:00<?, ?it/s]"
      ]
     },
     "metadata": {},
     "output_type": "display_data"
    },
    {
     "data": {
      "application/vnd.jupyter.widget-view+json": {
       "model_id": "b86ef4d2efc348919b613db9ea547c3d",
       "version_major": 2,
       "version_minor": 0
      },
      "text/plain": [
       "\tLoss: ----:   0%|          | 0/73 [00:00<?, ?it/s]"
      ]
     },
     "metadata": {},
     "output_type": "display_data"
    },
    {
     "data": {
      "application/vnd.jupyter.widget-view+json": {
       "model_id": "8351bf3f1c6344449fa4fb4686ed5822",
       "version_major": 2,
       "version_minor": 0
      },
      "text/plain": [
       "\tLoss: ----:   0%|          | 0/577 [00:00<?, ?it/s]"
      ]
     },
     "metadata": {},
     "output_type": "display_data"
    },
    {
     "data": {
      "application/vnd.jupyter.widget-view+json": {
       "model_id": "03915d9c73104575b0b4b24f185aa4e8",
       "version_major": 2,
       "version_minor": 0
      },
      "text/plain": [
       "\tLoss: ----:   0%|          | 0/73 [00:00<?, ?it/s]"
      ]
     },
     "metadata": {},
     "output_type": "display_data"
    },
    {
     "data": {
      "application/vnd.jupyter.widget-view+json": {
       "model_id": "2087c09175054eb0ae636e0a0fd5c390",
       "version_major": 2,
       "version_minor": 0
      },
      "text/plain": [
       "  0%|          | 0/64 [00:00<?, ?it/s]"
      ]
     },
     "metadata": {},
     "output_type": "display_data"
    },
    {
     "name": "stdout",
     "output_type": "stream",
     "text": [
      "\t\tComputing profile NLL and cross entropy... 1s\n",
      "\t\tComputing profile JSD... 3s\n",
      "\t\tComputing profile correlations/MSE... 13s\n",
      "\t\tSeparating tasks and computing count correlations/MSE... 0s\n"
     ]
    },
    {
     "data": {
      "text/plain": [
       "datetime.timedelta(seconds=550, microseconds=514544)"
      ]
     },
     "execution_count": 25,
     "metadata": {},
     "output_type": "execute_result"
    }
   ],
   "source": [
    "start = datetime.datetime.now()\n",
    "tasks = ['FOSL2_120','FOSL2_150']\n",
    "METRICS, LOSSES = evaluate(tasks, tasks, tasks, 2, 'cutnrun', False,\n",
    "                           statuses=statuses, model_task_statuses=model_task_statuses,\n",
    "                          model_save_path='/home/katie/bp_repo/research/trained_models/FOSL2_10_epochs_cutnrun_multi_task_AUG8.model')\n",
    "datetime.datetime.now() - start"
   ]
  },
  {
   "cell_type": "code",
   "execution_count": 6,
   "metadata": {},
   "outputs": [],
   "source": [
    "ctcf_cutnrun_train = DataLoader(['CTCF_120'],'cutnrun',False,\n",
    "           '/home/katie/bp_repo/research/data/cutnrun/', ['train','val','test'])"
   ]
  },
  {
   "cell_type": "code",
   "execution_count": 10,
   "metadata": {},
   "outputs": [],
   "source": [
    "ctcf_cutnrun_train = DataLoader(['CTCF_150'],'cutnrun',False,\n",
    "           '/home/katie/bp_repo/research/data/cutnrun/', ['train','val','test'])"
   ]
  },
  {
   "cell_type": "code",
   "execution_count": null,
   "metadata": {},
   "outputs": [],
   "source": [
    "model_task_statuses, statuses = loader.make_statuses()"
   ]
  },
  {
   "cell_type": "code",
   "execution_count": null,
   "metadata": {},
   "outputs": [],
   "source": [
    "## ChIP-seq"
   ]
  },
  {
   "cell_type": "code",
   "execution_count": null,
   "metadata": {},
   "outputs": [],
   "source": [
    "tasks_path = 'data/chip-seq/'\n",
    "set_tasks_path(tasks_path)"
   ]
  },
  {
   "cell_type": "code",
   "execution_count": null,
   "metadata": {},
   "outputs": [],
   "source": [
    "## CUT&RUN"
   ]
  },
  {
   "cell_type": "code",
   "execution_count": 9,
   "metadata": {},
   "outputs": [],
   "source": [
    "tasks_path = 'data/cutnrun/'\n",
    "set_tasks_path(tasks_path)"
   ]
  },
  {
   "cell_type": "code",
   "execution_count": 16,
   "metadata": {},
   "outputs": [],
   "source": [
    "fosl_cutnrun_multitask_loader = DataLoader(['FOSL2_120','FOSL2_150'], 'cutnrun',\n",
    "                                   False, '/home/katie/bp_repo/research/data/cutnrun/', ['full'])"
   ]
  },
  {
   "cell_type": "code",
   "execution_count": 17,
   "metadata": {},
   "outputs": [
    {
     "name": "stdout",
     "output_type": "stream",
     "text": [
      "FOSL2_120 BED path: /home/katie/bp_repo/research/data/cutnrun/FOSL2/FOSL2.bed\n",
      "FOSL2_150 BED path: /home/katie/bp_repo/research/data/cutnrun/FOSL2/FOSL2.bed\n",
      "Negative FOSL2 BigWig: /home/katie/bp_repo/research/data/cutnrun/FOSL2/FOSL2_merged_maxfl120_neg.bw\n",
      "Positive FOSL2 BigWig: /home/katie/bp_repo/research/data/cutnrun/FOSL2/FOSL2_merged_maxfl120_pos.bw\n",
      "Negative FOSL2 BigWig: /home/katie/bp_repo/research/data/cutnrun/FOSL2/FOSL2_merged_minfl150_neg.bw\n",
      "Positive FOSL2 BigWig: /home/katie/bp_repo/research/data/cutnrun/FOSL2/FOSL2_merged_minfl150_pos.bw\n"
     ]
    }
   ],
   "source": [
    "fosl_cutnrun_multitask = fosl_cutnrun_multitask_loader.make_loaders()"
   ]
  },
  {
   "cell_type": "code",
   "execution_count": 19,
   "metadata": {},
   "outputs": [
    {
     "name": "stdout",
     "output_type": "stream",
     "text": [
      "FOSL2_120 BED path: /home/katie/bp_repo/research/data/cutnrun/FOSL2/FOSL2.bed\n",
      "FOSL2_150 BED path: /home/katie/bp_repo/research/data/cutnrun/FOSL2/FOSL2.bed\n"
     ]
    }
   ],
   "source": [
    "model_task_statuses, statuses = fosl_cutnrun_multitask_loader.make_statuses()\n",
    "statuses = statuses['full']"
   ]
  },
  {
   "cell_type": "code",
   "execution_count": null,
   "metadata": {},
   "outputs": [],
   "source": [
    "# chip-seq no controls\n",
    "dl_dict = {'CTCF': [ctcf_chip_seq_no_controls_loader, \n",
    "                    ctcf_chip_seq_no_controls_train_loader, \n",
    "                    ctcf_chip_seq_no_controls_test_loader],\n",
    "           'FOSL2': [fosl_chip_seq_no_controls_loader,\n",
    "                     fosl_chip_seq_no_controls_train_loader,\n",
    "                     fosl_chip_seq_no_controls_test_loader]}"
   ]
  },
  {
   "cell_type": "code",
   "execution_count": null,
   "metadata": {},
   "outputs": [],
   "source": [
    "# chip-seq with controls\n",
    "dl_dict = {'CTCF': [ctcf_chip_seq_loader, \n",
    "                    ctcf_chip_seq_train_loader, \n",
    "                    ctcf_chip_seq_test_loader],\n",
    "           'FOSL2': [fosl_chip_seq_loader,\n",
    "                     fosl_chip_seq_train_loader,\n",
    "                     fosl_chip_seq_test_loader]}"
   ]
  },
  {
   "cell_type": "code",
   "execution_count": null,
   "metadata": {},
   "outputs": [],
   "source": [
    "# cutnrun (no controls, duh)\n",
    "dl_dict = {'CTCF': [ctcf_cutnrun_loader, \n",
    "                    ctcf_cutnrun_train_loader, \n",
    "                    ctcf_cutnrun_test_loader],\n",
    "           'FOSL2': [fosl_cutnrun_loader,\n",
    "                     fosl_cutnrun_train_loader,\n",
    "                     fosl_cutnrun_test_loader]}"
   ]
  },
  {
   "cell_type": "code",
   "execution_count": null,
   "metadata": {},
   "outputs": [],
   "source": [
    "r1 = ['Epoch 1', 'Epoch 2', 'Epoch 3', 'Epoch 4', 'Epoch 5', 'Epoch 6', 'Epoch 7', 'Epoch 8', 'Epoch 9', 'Epoch 10']\n",
    "r2 = ['Full', 'Train', 'Test']\n",
    "r3 = ['profile NLL','profile cross entropy','profile JSD',\n",
    "            'profile Pearson','profile Spearman','profile MSE',\n",
    "            'count Pearson','count Spearman','count MSE']\n",
    "rows_metrics = pd.MultiIndex.from_product((r1, r2, r3))\n",
    "\n",
    "r1 = ['Epoch 1', 'Epoch 2', 'Epoch 3', 'Epoch 4', 'Epoch 5', 'Epoch 6', 'Epoch 7', 'Epoch 8', 'Epoch 9', 'Epoch 10']\n",
    "r2 = ['Train loss', 'Valid loss']\n",
    "rows_losses = pd.MultiIndex.from_product((r1, r2))\n",
    "\n",
    "cols = [('ChIP-seq',    'control',  'CTCF'),\n",
    "        ('ChIP-seq',    'control', 'FOSL2'),\n",
    "        ('ChIP-seq', 'no control',  'CTCF'),\n",
    "        ('ChIP-seq', 'no control', 'FOSL2'),\n",
    "        ( 'CUT&RUN', 'no control',  'CTCF'),\n",
    "        ( 'CUT&RUN', 'no control', 'FOSL2')]\n",
    "cols = pd.MultiIndex.from_tuples(cols)\n",
    "\n",
    "metrics = pd.DataFrame(index=rows_metrics, columns=cols)\n",
    "losses = pd.DataFrame(index=rows_losses, columns=cols)"
   ]
  },
  {
   "cell_type": "code",
   "execution_count": null,
   "metadata": {},
   "outputs": [],
   "source": [
    "chipseq_1 = {}"
   ]
  },
  {
   "cell_type": "code",
   "execution_count": null,
   "metadata": {
    "tags": []
   },
   "outputs": [],
   "source": [
    "for task in ['CTCF', 'FOSL2']:\n",
    "    assert get_tasks_path() == 'data/chip-seq/'\n",
    "    #assert get_tasks_path() == 'data/cutnrun/'\n",
    "    set_dataloaders(*dl_dict[task])\n",
    "    METRICS, LOSS_LIST = evaluate([task], [task], [task], 1, controls=False, epoch_metrics=True, \n",
    "      model_save_path=f'/home/katie/bp_repo/research/trained_models/{task}_1_epoch_chip_seq_AUG2.model')\n",
    "    chipseq_1[(task, 'metrics')], chipseq_1[(task, 'losses')] = METRICS, LOSS_LIST"
   ]
  },
  {
   "cell_type": "code",
   "execution_count": null,
   "metadata": {
    "tags": []
   },
   "outputs": [],
   "source": [
    "metrics.to_pickle('/home/katie/bp_repo/research/metrics/AUG1.pickle')\n",
    "metrics.to_csv('/home/katie/bp_repo/research/metrics/AUG1.csv')"
   ]
  },
  {
   "cell_type": "code",
   "execution_count": null,
   "metadata": {},
   "outputs": [],
   "source": [
    "########################################"
   ]
  },
  {
   "cell_type": "code",
   "execution_count": null,
   "metadata": {
    "tags": []
   },
   "outputs": [],
   "source": [
    "## multi-task evaluation for CUT&RUN data\n",
    "\n",
    "# initialize metrics DataFrame\n",
    "row_names = ['Train task', 'Valid task', 'Test task',\n",
    "            'Train epoch 1 loss', 'Valid epoch 1 loss','Train epoch 2 loss',\n",
    "            'Valid epoch 2 loss','Train epoch 3 loss','Valid epoch 3 loss',\n",
    "            'Train epoch 4 loss','Valid epoch 4 loss','Train epoch 5 loss',\n",
    "            'Valid epoch 5 loss','Train epoch 6 loss','Valid epoch 6 loss',\n",
    "            'Train epoch 7 loss','Valid epoch 7 loss','Train epoch 8 loss',\n",
    "            'Valid epoch 8 loss','Train epoch 9 loss','Valid epoch 9 loss',\n",
    "            'Train epoch 10 loss','Valid epoch 10 loss',\n",
    "            'Test profile NLL','Test profile cross entropy','Test profile JSD',\n",
    "            'Test profile Pearson','Test profile Spearman','Test profile MSE',\n",
    "            'Test count Pearson','Test count Spearman','Test count MSE']\n",
    "\n",
    "metrics = pd.DataFrame(data=row_names,columns=['Metrics'])\n",
    "\n",
    "# the \"SPI1_copy\" and \"GATA2_copy\" tasks are there for a control - you train a\n",
    "# multi-task model but the data is redundant, so you should get metrics similar\n",
    "# to the single-task version\n",
    "train_tasks = [ ['SPI1', 'SPI1_copy'], ['GATA2', 'GATA2_copy'], ['SPI1','GATA2'] ]\n",
    "val_tasks = [ ['SPI1', 'SPI1_copy'], ['GATA2', 'GATA2_copy'], ['SPI1','GATA2'] ]\n",
    "test_tasks = [['SPI1', 'GATA2']]\n",
    "\n",
    "num_permutations = len(train_tasks) * len(val_tasks) * len(test_tasks)\n",
    "\n",
    "for train_task in train_tasks:\n",
    "    for val_task in val_tasks:\n",
    "        for test_task in test_tasks:\n",
    "            combined_loss_and_metrics = evaluate(train_task, val_task, test_task, 2,\n",
    "  model_save_path=f'/home/katie/bp_repo/multitask_profile_model_example/trained_models/train_{train_task[0]}_{train_task[1]}_val_{val_task[0]}_{val_task[1]}.model')\n",
    "            metrics.insert( 1, str(num_permutations), combined_loss_and_metrics )\n",
    "            num_permutations -= 1\n",
    "            \n",
    "metrics.set_index('Metrics',inplace=True)\n",
    "\n",
    "# save as csv! to load it in, can use pd.read_csv(path)\n",
    "metrics.to_csv('/home/katie/bp_repo/multitask_profile_model_example/performance_metrics/multi_task_metrics_ATTEMPT2.csv')"
   ]
  }
 ],
 "metadata": {
  "kernelspec": {
   "display_name": "Python 3 (ipykernel)",
   "language": "python",
   "name": "python3"
  },
  "language_info": {
   "codemirror_mode": {
    "name": "ipython",
    "version": 3
   },
   "file_extension": ".py",
   "mimetype": "text/x-python",
   "name": "python",
   "nbconvert_exporter": "python",
   "pygments_lexer": "ipython3",
   "version": "3.9.7"
  }
 },
 "nbformat": 4,
 "nbformat_minor": 4
}
