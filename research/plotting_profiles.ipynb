{
 "cells": [
  {
   "cell_type": "markdown",
   "metadata": {},
   "source": [
    "## Notebook for plotting profiles from pre-trained models and using DeepSHAP and TF-MoDISco to compute and visualize importance scores"
   ]
  },
  {
   "cell_type": "code",
   "execution_count": 1,
   "metadata": {},
   "outputs": [
    {
     "name": "stdout",
     "output_type": "stream",
     "text": [
      "env: CUDA_VISIBLE_DEVICES=0\n"
     ]
    }
   ],
   "source": [
    "# modify this for your own machine\n",
    "%env CUDA_VISIBLE_DEVICES = 0\n",
    "%config Completer.use_jedi = False"
   ]
  },
  {
   "cell_type": "code",
   "execution_count": 2,
   "metadata": {},
   "outputs": [],
   "source": [
    "import sys\n",
    "# append paths pointing to data directory on your machine\n",
    "sys.path.append('/home/katie/bp_repo/research/')\n",
    "sys.path.append('/home/katie/bp_repo/multitask_profile_model_SPI_GATA/')\n",
    "\n",
    "import os\n",
    "import copy\n",
    "\n",
    "# experimental\n",
    "os.environ['TF_XLA_FLAGS'] = '--tf_xla_enable_xla_devices'\n",
    "# without this: time for tf-modisco on CTCF chip-seq is: 24 mins 43 seconds\n",
    "# with this: time for tf-modisco on CTCF chip-seq is: 20 mins 33 seconds and  1 hr 40 mins for full dataset\n",
    "# with this: time for tf-modisco on FOSL2 chip-seq is: 5 mins 45 seconds and 30 mins for full dataset\n",
    "\n",
    "import torch\n",
    "import numpy as np\n",
    "import pandas as pd\n",
    "import matplotlib.pyplot as plt\n",
    "import pyfaidx\n",
    "import pyBigWig\n",
    "import tqdm\n",
    "import glob\n",
    "\n",
    "import profile_models\n",
    "from profile_models import place_tensor\n",
    "import profile_performance\n",
    "\n",
    "import all_functions \n",
    "from all_functions import *\n",
    "\n",
    "# modify this for your own directory\n",
    "os.chdir('/home/katie/bp_repo/research/')\n",
    "\n",
    "device = torch.device(\"cuda\") if torch.cuda.is_available() \\\n",
    "        else torch.device(\"cpu\")"
   ]
  },
  {
   "cell_type": "markdown",
   "metadata": {},
   "source": [
    "# Loading in pre-trained models"
   ]
  },
  {
   "cell_type": "markdown",
   "metadata": {},
   "source": [
    "### ChIP-seq"
   ]
  },
  {
   "cell_type": "code",
   "execution_count": null,
   "metadata": {},
   "outputs": [],
   "source": [
    "CTCF_10_epochs_chip_seq_AUG1 = ModelLoader(True, 1, '/home/katie/bp_repo/research/trained_models/CTCF_10_epochs_chip_seq_AUG1.model').load_model()"
   ]
  },
  {
   "cell_type": "code",
   "execution_count": null,
   "metadata": {},
   "outputs": [],
   "source": [
    "FOSL2_10_epochs_chip_seq_AUG1 = ModelLoader(True, 1, '/home/katie/bp_repo/research/trained_models/FOSL2_10_epochs_chip_seq_AUG1.model').load_model()"
   ]
  },
  {
   "cell_type": "markdown",
   "metadata": {},
   "source": [
    "### CUT&RUN"
   ]
  },
  {
   "cell_type": "code",
   "execution_count": null,
   "metadata": {},
   "outputs": [],
   "source": [
    "CTCF_10_epochs_cutnrun_single_task_maxfl120_AUG5 = \\\n",
    "ModelLoader(False, 1, '/home/katie/bp_repo/research/trained_models/CTCF_10_epochs_cutnrun_single_task_maxfl120_AUG5.model').load_model()"
   ]
  },
  {
   "cell_type": "code",
   "execution_count": null,
   "metadata": {},
   "outputs": [],
   "source": [
    "CTCF_10_epochs_cutnrun_single_task_minfl150_AUG5 = \\\n",
    "ModelLoader(False, 1, '/home/katie/bp_repo/research/trained_models/CTCF_10_epochs_cutnrun_single_task_minfl150_AUG5.model').load_model()"
   ]
  },
  {
   "cell_type": "code",
   "execution_count": null,
   "metadata": {},
   "outputs": [],
   "source": [
    "CTCF_10_epochs_cutnrun_multi_task_AUG5 = \\\n",
    "ModelLoader(False, 2, '/home/katie/bp_repo/research/trained_models/CTCF_10_epochs_cutnrun_multi_task_AUG5.model').load_model()"
   ]
  },
  {
   "cell_type": "code",
   "execution_count": null,
   "metadata": {},
   "outputs": [],
   "source": [
    "CTCF_10_epochs_cutnrun_single_task_AUG2 = \\\n",
    "ModelLoader(False, path='/home/katie/bp_repo/research/trained_models/CTCF_10_epochs_cutnrun_single_task_AUG2.model').load_model()"
   ]
  },
  {
   "cell_type": "code",
   "execution_count": null,
   "metadata": {},
   "outputs": [],
   "source": [
    "FOSL2_10_epochs_cutnrun_single_task_AUG1 = \\\n",
    "ModelLoader(False, path='/home/katie/bp_repo/research/trained_models/FOSL2_10_epochs_cutnrun_single_task_AUG1.model').load_model()"
   ]
  },
  {
   "cell_type": "code",
   "execution_count": null,
   "metadata": {},
   "outputs": [],
   "source": [
    "FOSL2_10_epochs_cutnrun_multi_task_AUG8 = \\\n",
    "ModelLoader(False, 2, '/home/katie/bp_repo/research/trained_models/FOSL2_10_epochs_cutnrun_multi_task_AUG8.model').load_model()"
   ]
  },
  {
   "cell_type": "markdown",
   "metadata": {},
   "source": [
    "# Dataloading"
   ]
  },
  {
   "cell_type": "markdown",
   "metadata": {},
   "source": [
    "### ChIP-seq"
   ]
  },
  {
   "cell_type": "code",
   "execution_count": null,
   "metadata": {},
   "outputs": [],
   "source": [
    "tasks_path = '/home/katie/bp_repo/research/data/chip-seq/'\n",
    "set_tasks_path(tasks_path)"
   ]
  },
  {
   "cell_type": "code",
   "execution_count": null,
   "metadata": {},
   "outputs": [],
   "source": [
    "ctcf_chipseq_full =  DataLoader(['CTCF'], 'chip-seq', True, tasks_path, ['full'], jitter=False).make_loaders()['full']"
   ]
  },
  {
   "cell_type": "code",
   "execution_count": null,
   "metadata": {},
   "outputs": [],
   "source": [
    "fosl2_chipseq_full =  DataLoader(['FOSL2'], 'chip-seq', True, tasks_path, ['full'], jitter=False).make_loaders()['full']"
   ]
  },
  {
   "cell_type": "markdown",
   "metadata": {},
   "source": [
    "### CUT&RUN "
   ]
  },
  {
   "cell_type": "code",
   "execution_count": null,
   "metadata": {},
   "outputs": [],
   "source": [
    "tasks_path = '/home/katie/bp_repo/research/data/cutnrun/'\n",
    "set_tasks_path(tasks_path)"
   ]
  },
  {
   "cell_type": "code",
   "execution_count": null,
   "metadata": {},
   "outputs": [],
   "source": [
    "ctcf_cutnrun_maxfl120 = DataLoader(['CTCF_120'], 'cutnrun', False, tasks_path, ['full'], jitter=False).make_loaders()['full']"
   ]
  },
  {
   "cell_type": "code",
   "execution_count": null,
   "metadata": {},
   "outputs": [],
   "source": [
    "ctcf_cutnrun_minfl150 = DataLoader(['CTCF_150'], 'cutnrun', False, tasks_path, ['full'], jitter=False).make_loaders()['full']"
   ]
  },
  {
   "cell_type": "code",
   "execution_count": null,
   "metadata": {
    "tags": []
   },
   "outputs": [],
   "source": [
    "ctcf_cutnrun_multitask = DataLoader(['CTCF_120','CTCF_150'], 'cutnrun', False, tasks_path, ['full'], jitter=False).make_loaders()['full']"
   ]
  },
  {
   "cell_type": "code",
   "execution_count": null,
   "metadata": {},
   "outputs": [],
   "source": [
    "ctcf_cutnrun_full = DataLoader(['CTCF'],'cutnrun',False,get_tasks_path(), ['full'], jitter=False).make_loaders()['full']"
   ]
  },
  {
   "cell_type": "code",
   "execution_count": null,
   "metadata": {},
   "outputs": [],
   "source": [
    "fosl_cutnrun_full = DataLoader(['FOSL2'],'cutnrun',False,get_tasks_path(), ['full'], jitter=False).make_loaders()['full']"
   ]
  },
  {
   "cell_type": "code",
   "execution_count": null,
   "metadata": {},
   "outputs": [],
   "source": [
    "fosl_cutnrun_maxfl120 = DataLoader(['FOSL2_120'], 'cutnrun', False, tasks_path, ['full'], jitter=False).make_loaders()['full']"
   ]
  },
  {
   "cell_type": "code",
   "execution_count": null,
   "metadata": {},
   "outputs": [],
   "source": [
    "fosl_cutnrun_minfl150 = DataLoader(['FOSL2_150'], 'cutnrun', False, tasks_path, ['full'], jitter=False).make_loaders()['full']"
   ]
  },
  {
   "cell_type": "code",
   "execution_count": null,
   "metadata": {},
   "outputs": [],
   "source": [
    "fosl_cutnrun_multitask = DataLoader(['FOSL2_120','FOSL2_150'], 'cutnrun', False, tasks_path, ['full'], jitter=False).make_loaders()['full']"
   ]
  },
  {
   "cell_type": "markdown",
   "metadata": {},
   "source": [
    "# Performance evaluation"
   ]
  },
  {
   "cell_type": "code",
   "execution_count": null,
   "metadata": {},
   "outputs": [],
   "source": [
    "import plotting_helper\n",
    "from plotting_helper import *"
   ]
  },
  {
   "cell_type": "code",
   "execution_count": null,
   "metadata": {
    "tags": []
   },
   "outputs": [],
   "source": [
    "preds = get_predictions(ctcf_chipseq_full, CTCF_10_epochs_chip_seq_AUG1)\n",
    "save_preds(ctcf_chipseq_full, CTCF_10_epochs_chip_seq_AUG1, \\\n",
    "           '/home/katie/bp_repo/research/preds/ctcf_chipseq_full_10_epochs_sep5')"
   ]
  },
  {
   "cell_type": "code",
   "execution_count": null,
   "metadata": {},
   "outputs": [],
   "source": [
    "model_task_stats, stats = DataLoader(['CTCF_120','CTCF_150'], 'cutnrun', False, tasks_path, ['test'], jitter=False).make_statuses()\n",
    "stats = stats['test']"
   ]
  },
  {
   "cell_type": "code",
   "execution_count": null,
   "metadata": {},
   "outputs": [],
   "source": [
    "model_task_statuses, statuses = DataLoader(['CTCF_120','CTCF_150'], 'cutnrun', False, tasks_path, ['full'], jitter=False).make_statuses()"
   ]
  },
  {
   "cell_type": "code",
   "execution_count": null,
   "metadata": {},
   "outputs": [],
   "source": [
    "# Model is single-task ProfilePredictorWithoutControls trained for 10 epochs on FOSL2 CUT&RUN\n",
    "calculate_metrics(ctcf_cutnrun_maxfl120, CTCF_10_epochs_cutnrun_multi_task_AUG5, statuses, model_task_statuses)"
   ]
  },
  {
   "cell_type": "code",
   "execution_count": null,
   "metadata": {},
   "outputs": [],
   "source": [
    "plot_kwargs = {'tasks':['CTCF'], \n",
    "               'loaders':[ctcf_chipseq_full], \n",
    "               'models':[CTCF_10_epochs_chip_seq_AUG1], \n",
    "               'normalize':False}\n",
    "plotter = ProfilePlotter(**plot_kwargs)\n",
    "\n",
    "rng = np.random.RandomState(20210405)\n",
    "loader_len = 2 * len(ctcf_chipseq_full.dataset.coords)\n",
    "example_inds = rng.choice(loader_len, size=min(5, loader_len), replace=False)\n",
    "for index in example_inds:\n",
    "    plotter.plot_task(task='CTCF',index=index,separate_figs=True,titles=True)#,\n",
    "                                    #save_path=f'/home/katie/bp_repo/wiki-images/2021-07-08-GATA2-{index}-sep.png')"
   ]
  },
  {
   "cell_type": "code",
   "execution_count": null,
   "metadata": {
    "tags": []
   },
   "outputs": [],
   "source": [
    "plot_kwargs = {'tasks':['CTCF_150'], \n",
    "               'loaders':[ctcf_cutnrun_minfl150_test], \n",
    "               'models':[CTCF_10_epochs_cutnrun_single_task_minfl150_AUG5], \n",
    "               'normalize':True}\n",
    "plotter = ProfilePlotter(**plot_kwargs)\n",
    "\n",
    "rng = np.random.RandomState(20210405)\n",
    "loader_len = 2 * len(ctcf_cutnrun_minfl150_test.dataset.coords)\n",
    "example_inds = rng.choice(loader_len, size=min(5, loader_len), replace=False)\n",
    "for index in example_inds:\n",
    "    plotter.plot_task(task='CTCF_150',index=index,separate_figs=True,titles=True)#,\n",
    "                                    #save_path=f'/home/katie/bp_repo/wiki-images/2021-07-08-GATA2-{index}-sep.png')"
   ]
  },
  {
   "cell_type": "code",
   "execution_count": null,
   "metadata": {},
   "outputs": [],
   "source": [
    "plot_kwargs = {'tasks':['CTCF_multi'], \n",
    "               'loaders':[ctcf_cutnrun], \n",
    "               'models':[CTCF_10_epochs_cutnrun_single_task_maxfl120_AUG5], \n",
    "               'normalize':True}\n",
    "plotter = ProfilePlotter(**plot_kwargs)\n",
    "\n",
    "rng = np.random.RandomState(20210405)\n",
    "loader_len = 2 * len(ctcf_cutnrun_maxfl120_test.dataset.coords)\n",
    "example_inds = rng.choice(loader_len, size=min(5, loader_len), replace=False)\n",
    "for index in example_inds:\n",
    "    plotter.plot_task(task='CTCF_120',index=index,separate_figs=True,titles=True)#,\n",
    "                                    #save_path=f'/home/katie/bp_repo/wiki-images/2021-07-08-GATA2-{index}-sep.png')"
   ]
  },
  {
   "cell_type": "markdown",
   "metadata": {},
   "source": [
    "# SHAP and TF-MoDISco"
   ]
  },
  {
   "cell_type": "code",
   "execution_count": null,
   "metadata": {},
   "outputs": [],
   "source": [
    "sys.path.append('/home/katie/bp_repo/')\n",
    "sys.path.append('/home/katie/bp_repo/shap_modisco_scripts/')\n",
    "sys.path.append('/home/katie/bp_repo/shap/')\n",
    "\n",
    "## IF YOU NEED TO INSTALL ALEX'S VERSION OF SHAP\n",
    "#!git clone https://github.com/amtseng/shap /home/katie/bp_repo/shap\n",
    "#!pip install /home/katie/bp_repo/shap\n",
    "\n",
    "import viz_sequence\n",
    "import compute_shap\n",
    "from importlib import reload\n",
    "\n",
    "import modisco\n",
    "import h5py\n",
    "\n",
    "import shap_modisco_helper\n",
    "from shap_modisco_helper import *\n",
    "\n",
    "import viz_tf_modisco_results\n",
    "from viz_tf_modisco_results import *\n",
    "\n",
    "from datetime import datetime"
   ]
  },
  {
   "cell_type": "code",
   "execution_count": null,
   "metadata": {},
   "outputs": [],
   "source": [
    "start = datetime.now()\n",
    "make_shap_scores('/home/katie/bp_repo/research/trained_models/CTCF_10_epochs_chip_seq_AUG1.model',\n",
    "                'profile', ctcf_chipseq_full, 2114, 1, '/home/katie/bp_repo/modisco_results/CTCF/shap_scores_chipseq_full_sep5',\n",
    "                '/home/katie/bp_repo/multitask_profile_model_SPI_GATA/data/genomes/hg38.fasta',\n",
    "                '/home/katie/bp_repo/research/data/hg38.chrom.sizes', controls='matched')\n",
    "end = datetime.now()\n",
    "end-start"
   ]
  },
  {
   "cell_type": "code",
   "execution_count": null,
   "metadata": {
    "tags": []
   },
   "outputs": [],
   "source": [
    "# better to run this with bigger GPU\n",
    "start = datetime.now()\n",
    "run_tf_modisco('/home/katie/bp_repo/modisco_results/FOSL2/shap_scores_cutnrun_multitask_minfl150',\n",
    "    '/home/katie/bp_repo/modisco_results/FOSL2/tfmodisco_results_cutnrun_multitask_minfl150',\n",
    "    '/home/katie/bp_repo/modisco_results/FOSL2/seqlets_cutnrun_multitask_minfl150', 400)\n",
    "end = datetime.now() \n",
    "end - start"
   ]
  },
  {
   "cell_type": "code",
   "execution_count": null,
   "metadata": {
    "tags": []
   },
   "outputs": [],
   "source": [
    "# better to run this with bigger GPU - CURRENT\n",
    "start = datetime.now()\n",
    "run_tf_modisco('/home/katie/bp_repo/modisco_results/CTCF/shap_scores_chipseq_full_sep25',\n",
    "    '/home/katie/bp_repo/modisco_results/CTCF/tfmodisco_results_chipseq_full_sep25',\n",
    "    '/home/katie/bp_repo/modisco_results/CTCF/seqlets_chipseq_full_sep25', 400)\n",
    "end = datetime.now() \n",
    "end - start"
   ]
  },
  {
   "cell_type": "code",
   "execution_count": null,
   "metadata": {},
   "outputs": [],
   "source": [
    "# NEXT UP\n",
    "start = datetime.now()\n",
    "run_tf_modisco('/home/katie/bp_repo/modisco_results/FOSL2/shap_scores_chipseq_full_sep25',\n",
    "    '/home/katie/bp_repo/modisco_results/FOSL2/tfmodisco_results_chipseq_full_sep25',\n",
    "    '/home/katie/bp_repo/modisco_results/FOSL2/seqlets_chipseq_full_sep25', 400)\n",
    "end = datetime.now() \n",
    "end - start"
   ]
  },
  {
   "cell_type": "markdown",
   "metadata": {},
   "source": [
    "### TF-MoDISco result visualization"
   ]
  },
  {
   "cell_type": "code",
   "execution_count": null,
   "metadata": {},
   "outputs": [],
   "source": [
    "# Multi-task model trained on CTCF CUT&RUN - tasks are maxfl120 and minfl150\n",
    "# SHAP scores/tf-modisco computed only for maxfl120 task\n",
    "# expected motif: CCACCAGGGGG (approximately)\n",
    "viz_motif('/home/katie/bp_repo/modisco_results/CTCF/tfmodisco_results_cutnrun_multitask_maxfl120')"
   ]
  },
  {
   "cell_type": "code",
   "execution_count": null,
   "metadata": {},
   "outputs": [],
   "source": [
    "# Multi-task model trained on CTCF CUT&RUN - tasks are maxfl120 and minfl150\n",
    "# SHAP scores/tf-modisco computed only for minfl150 task\n",
    "# expected motif: CCACCAGGGGG (approximately)\n",
    "viz_motif('/home/katie/bp_repo/modisco_results/CTCF/tfmodisco_results_cutnrun_multitask_minfl150')"
   ]
  },
  {
   "cell_type": "code",
   "execution_count": null,
   "metadata": {},
   "outputs": [],
   "source": [
    "# Multi-task model trained on FOSL2 CUT&RUN - tasks are maxfl120 and minfl150\n",
    "# SHAP scores/tf-modisco computed only for maxfl120 task\n",
    "# expected motif: TGACTCA / TGAGTCA / TGACGTCA\n",
    "viz_motif('/home/katie/bp_repo/modisco_results/FOSL2/tfmodisco_results_cutnrun_multitask_maxfl120')"
   ]
  },
  {
   "cell_type": "code",
   "execution_count": null,
   "metadata": {},
   "outputs": [],
   "source": [
    "# Multi-task model trained on FOSL2 CUT&RUN - tasks are maxfl120 and minfl150\n",
    "# SHAP scores/tf-modisco computed only for minfl150 task\n",
    "# expected motif: TGACTCA / TGAGTCA / TGACGTCA\n",
    "viz_motif('/home/katie/bp_repo/modisco_results/FOSL2/tfmodisco_results_cutnrun_multitask_minfl150')"
   ]
  },
  {
   "cell_type": "code",
   "execution_count": null,
   "metadata": {},
   "outputs": [],
   "source": [
    "# Multi-task model trained on CTCF CUT&RUN\n",
    "# SHAP scores/tf-modisco computed only for maxfl120 task\n",
    "# expected motif: CCACCAGGGGG (approximately)\n",
    "viz_motif('/home/katie/bp_repo/modisco_results/CTCF/tfmodisco_results_cutnrun_multitask_maxfl120')"
   ]
  },
  {
   "cell_type": "code",
   "execution_count": null,
   "metadata": {
    "tags": []
   },
   "outputs": [],
   "source": [
    "# Multi-task model trained on CTCF CUT&RUN\n",
    "# SHAP scores/tf-modisco computed only for minfl150 task\n",
    "# expected motif: CCACCAGGGGG (approximately)\n",
    "viz_motif('/home/katie/bp_repo/modisco_results/CTCF/tfmodisco_results_cutnrun_multitask_minfl150')"
   ]
  },
  {
   "cell_type": "code",
   "execution_count": null,
   "metadata": {
    "tags": []
   },
   "outputs": [],
   "source": [
    "# Single-task model trained on CTCF CUT&RUN\n",
    "# SHAP scores/tf-modisco computed only for CTCF task\n",
    "# expected motif: CCACCAGGGGG (approximately)\n",
    "viz_motif('/home/katie/bp_repo/modisco_results/CTCF/tfmodisco_results_ctcf_full_cutnrun')"
   ]
  },
  {
   "cell_type": "code",
   "execution_count": null,
   "metadata": {
    "tags": []
   },
   "outputs": [],
   "source": [
    "# Single-task model trained on FOSL2 CUT&RUN\n",
    "# SHAP scores/tf-modisco computed only for FOSL2 task\n",
    "# expected motif: TGACTCA / TGAGTCA / TGACGTCA\n",
    "viz_motif('/home/katie/bp_repo/modisco_results/FOSL2/tfmodisco_results_fosl_full_cutnrun')"
   ]
  },
  {
   "cell_type": "code",
   "execution_count": null,
   "metadata": {},
   "outputs": [],
   "source": [
    "# Single-task model trained on CTCF ChIP-seq\n",
    "# SHAP scores/tf-modisco computed only for the CTCF task\n",
    "# expected motif: CCACCAGGGGG (approximately)\n",
    "viz_motif(tfm_results_path_ctcf_chip_seq)"
   ]
  },
  {
   "cell_type": "code",
   "execution_count": null,
   "metadata": {},
   "outputs": [],
   "source": [
    "# Single-task model trained on FOSL2 ChIP-seq\n",
    "# SHAP scores/tf-modisco computed only for the FOSL2 task\n",
    "# expected motif: TGACTCA / TGAGTCA / TGACGTCA\n",
    "viz_motif(tfm_results_path_fosl_chip_seq)"
   ]
  },
  {
   "cell_type": "markdown",
   "metadata": {},
   "source": [
    "## histogram plot of cut&run fragment lengths"
   ]
  },
  {
   "cell_type": "code",
   "execution_count": null,
   "metadata": {},
   "outputs": [],
   "source": [
    "import matplotlib.pyplot as plt\n",
    "import numpy as np\n",
    "import pickle\n",
    "import sklearn"
   ]
  },
  {
   "cell_type": "code",
   "execution_count": null,
   "metadata": {},
   "outputs": [],
   "source": [
    "di = pickle.load(open('frag_lengths_histogram.dict','rb'))\n",
    "\n",
    "with open('data/cutnrun/CTCF_frag_lengths.txt','r') as ff:\n",
    "    c = ff.readlines()\n",
    "with open('data/cutnrun/FOSL2_frag_lengths.txt','r') as ff:\n",
    "    d = ff.readlines()\n",
    "    \n",
    "c = [int(l.strip()) for l in c] # len 39478628\n",
    "d = [int(l.strip()) for l in d] # len 22967252\n",
    "\n",
    "histogram_dict = {}\n",
    "titles = ['CTCF fragment lengths', 'FOSL2 fragment lengths']\n",
    "\n",
    "histogram = plt.hist(np.array(c), bins=20)\n",
    "plt.xlabel('Fragment length')\n",
    "plt.ylabel('Number of fragments')\n",
    "plt.title(titles[0])\n",
    "histogram_dict[titles[0]] = plt.gcf\n",
    "\n",
    "#pickle.dump(histogram_dict, open('frag_lengths_histogram.dict','wb'))"
   ]
  },
  {
   "cell_type": "code",
   "execution_count": null,
   "metadata": {},
   "outputs": [],
   "source": [
    "with open('/home/katie/bp_repo/research/data/cutnrun/temp/fragment_lengths/CTCF_frag_lengths.txt','r') as ff:\n",
    "    ctcf = ff.readlines()\n",
    "with open('/home/katie/bp_repo/research/data/cutnrun/temp/fragment_lengths/FOSL2_frag_lengths.txt','r') as ff:\n",
    "    fosl = ff.readlines()\n",
    "    \n",
    "ctcf = [int(l.strip()) for l in ctcf] # len 39478628\n",
    "fosl = [int(l.strip()) for l in fosl] # len 22967252\n",
    "\n",
    "ctcf = np.array(ctcf).reshape((-1,1))\n",
    "fosl = np.array(ctcf).reshape((-1,1))"
   ]
  },
  {
   "cell_type": "code",
   "execution_count": null,
   "metadata": {},
   "outputs": [],
   "source": [
    "len(ctcf)"
   ]
  },
  {
   "cell_type": "code",
   "execution_count": null,
   "metadata": {},
   "outputs": [],
   "source": [
    "ctcf = np.array(ctcf).reshape((-1,1))\n",
    "fosl = np.array(ctcf).reshape((-1,1))"
   ]
  },
  {
   "cell_type": "code",
   "execution_count": null,
   "metadata": {},
   "outputs": [],
   "source": [
    "ctcf_cluster = sklearn.cluster.MiniBatchKMeans(n_clusters=3)"
   ]
  },
  {
   "cell_type": "code",
   "execution_count": null,
   "metadata": {},
   "outputs": [],
   "source": [
    "start = datetime.now()\n",
    "ctcf_cluster.fit(ctcf)\n",
    "print(datetime.now() - start)"
   ]
  },
  {
   "cell_type": "code",
   "execution_count": null,
   "metadata": {},
   "outputs": [],
   "source": [
    "ctcf_preds = ctcf_cluster.predict(ctcf)"
   ]
  },
  {
   "cell_type": "code",
   "execution_count": null,
   "metadata": {},
   "outputs": [],
   "source": [
    "sum(ctcf[:,0] > 400)"
   ]
  },
  {
   "cell_type": "code",
   "execution_count": null,
   "metadata": {},
   "outputs": [],
   "source": [
    "pd.value_counts(ctcf_preds)"
   ]
  },
  {
   "cell_type": "code",
   "execution_count": null,
   "metadata": {},
   "outputs": [],
   "source": [
    "ctcf_cluster.cluster_centers_"
   ]
  },
  {
   "cell_type": "code",
   "execution_count": null,
   "metadata": {},
   "outputs": [],
   "source": [
    "ctcf_preds_prob = ctcf_cluster."
   ]
  },
  {
   "cell_type": "code",
   "execution_count": null,
   "metadata": {},
   "outputs": [],
   "source": [
    "pd.Series(ctcf[:,0]).describe()"
   ]
  },
  {
   "cell_type": "code",
   "execution_count": null,
   "metadata": {},
   "outputs": [],
   "source": [
    "di['CTCF fragment lengths']"
   ]
  },
  {
   "cell_type": "code",
   "execution_count": null,
   "metadata": {},
   "outputs": [],
   "source": []
  }
 ],
 "metadata": {
  "kernelspec": {
   "display_name": "Python 3 (ipykernel)",
   "language": "python",
   "name": "python3"
  },
  "language_info": {
   "codemirror_mode": {
    "name": "ipython",
    "version": 3
   },
   "file_extension": ".py",
   "mimetype": "text/x-python",
   "name": "python",
   "nbconvert_exporter": "python",
   "pygments_lexer": "ipython3",
   "version": "3.9.7"
  }
 },
 "nbformat": 4,
 "nbformat_minor": 4
}
