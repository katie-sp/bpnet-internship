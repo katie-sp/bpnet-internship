{
 "cells": [
  {
   "cell_type": "code",
   "execution_count": 1,
   "id": "fc086422-7967-4da4-8f56-c6916ea267b2",
   "metadata": {},
   "outputs": [],
   "source": [
    "import json"
   ]
  },
  {
   "cell_type": "code",
   "execution_count": 49,
   "id": "faf3a7fc-3e44-4707-841f-74bbb4b5e94e",
   "metadata": {},
   "outputs": [],
   "source": [
    "def bb(name, url, **options):\n",
    "    ''' see https://epigenomegateway.readthedocs.io/en/latest/datahub.html '''\n",
    "    dicty = {'type': 'bigbed', \n",
    "             'name': name, \n",
    "             'url': url,\n",
    "             'showOnHubLoad': 'true'}\n",
    "    if len(options) != 0:\n",
    "        dicty['options'] = options\n",
    "    return dicty"
   ]
  },
  {
   "cell_type": "code",
   "execution_count": 50,
   "id": "63332844-6991-4e0b-a980-c5c6844880c3",
   "metadata": {},
   "outputs": [],
   "source": [
    "def bw(name, url, **options):\n",
    "    ''' see https://epigenomegateway.readthedocs.io/en/latest/datahub.html '''\n",
    "    dicty = {'type': 'bigwig', \n",
    "             'name': name, \n",
    "             'url': url,\n",
    "             'showOnHubLoad': 'true'}\n",
    "    if len(options) != 0:\n",
    "        dicty['options'] = options\n",
    "    return dicty"
   ]
  },
  {
   "cell_type": "code",
   "execution_count": 51,
   "id": "80b10a93-6328-4d69-b42c-f2139816cbe1",
   "metadata": {},
   "outputs": [
    {
     "data": {
      "text/plain": [
       "{'type': 'bigwig',\n",
       " 'name': 'pee',\n",
       " 'url': '.com',\n",
       " 'showOnHubLoad': 'true',\n",
       " 'options': {'color': 'yallow', 'length': 12}}"
      ]
     },
     "execution_count": 51,
     "metadata": {},
     "output_type": "execute_result"
    }
   ],
   "source": [
    "bw('pee', '.com', color='yallow', length=12)"
   ]
  },
  {
   "cell_type": "code",
   "execution_count": 52,
   "id": "62eddd36-0b5e-4bd2-bc99-afa8b79868e1",
   "metadata": {},
   "outputs": [],
   "source": [
    "data = [bb('CTCF ChIP-seq', 'http://interns1.net/katie_browser_session_jan2022/peaks/chip-seq/CTCF.bb')]\n",
    "outdir = '/home/katie/bp_repo/browser_session_files/interns1_web/jsons/ctcf_chipseq.json'"
   ]
  },
  {
   "cell_type": "code",
   "execution_count": 53,
   "id": "98184036-24f1-498a-bb03-a9bdc349b4a6",
   "metadata": {},
   "outputs": [],
   "source": [
    "with open(outdir, \"w\") as file:\n",
    "    json.dump(data, file)"
   ]
  },
  {
   "cell_type": "code",
   "execution_count": null,
   "id": "47b8b896-4a9f-4b56-9d6f-face0ad88ef7",
   "metadata": {},
   "outputs": [],
   "source": []
  }
 ],
 "metadata": {
  "kernelspec": {
   "display_name": "Python 3 (ipykernel)",
   "language": "python",
   "name": "python3"
  },
  "language_info": {
   "codemirror_mode": {
    "name": "ipython",
    "version": 3
   },
   "file_extension": ".py",
   "mimetype": "text/x-python",
   "name": "python",
   "nbconvert_exporter": "python",
   "pygments_lexer": "ipython3",
   "version": "3.9.7"
  }
 },
 "nbformat": 4,
 "nbformat_minor": 5
}
